{
  "cells": [
    {
      "cell_type": "markdown",
      "metadata": {
        "id": "hV7vGWCdnbic"
      },
      "source": [
        "# SOMENTE O ITEM 1 É OBRIGATÓRIO PARA APRESENTAÇÃO!"
      ]
    },
    {
      "cell_type": "markdown",
      "metadata": {
        "id": "p56witGjnbig"
      },
      "source": [
        "# História das Olimpíadas - Parte 2\n",
        "_(créditos ao prof. Rafael Moreira)_"
      ]
    },
    {
      "cell_type": "markdown",
      "metadata": {
        "id": "H5NQk3cvnbig"
      },
      "source": [
        "Você recentemente trabalhou (ou está trabalhando) em uma análise de dados históricos dos jogos olímpicos utilizando o Pandas para auxiliá-lo.\n",
        "\n",
        "Desde que você iniciou seus trabalhos nesse projeto, novas ferramentas bastante poderosas foram ensinadas! O seu papel agora será utilizar essas novas ferramentas para gerar algumas visualizações que tornarão certas informações muito mais claras.\n",
        "\n",
        "Utilize qualquer uma das bibliotecas estudadas (```matplotlib```, ```seaborn``` e ```plotly```) para realizar as atividades propostas. Não há problema em usar apenas uma para realizar todas as atividades, nem em utilizar cada uma delas em uma atividade diferente - siga suas preferências pessoais!\n",
        "\n",
        "Utilize os (muitos) parâmetros permitidos por cada função e/ou atributos dos objetos fornecidos pelas bibliotecas para criar uma identidade visual coesa para ser utilizada em todo o projeto. Use títulos, legendas e rótulos nos eixos para deixar os gráficos verdadeiramente informativos. E não se esqueça que a simples escolha das cores a serem utilizadas pode tornar os gráficos ainda mais interessantes!\n",
        "\n",
        "Você utilizará o mesmo dataset fornecido no projeto anterior. Não há problemas em reaproveitar códigos do projeto anterior para economizar tempo e focar seus esforços na geração dos gráficos.\n",
        "\n",
        "Para começar, importe o Pandas e carregue o arquivo ```athlete_events.csv``` fornecido no projeto anterior."
      ]
    },
    {
      "cell_type": "markdown",
      "metadata": {},
      "source": [
        "<br><span style = 'color: red; font-size: 1.4em'> Regras deste notebook: </span>\n",
        "    <ol><span style = 'color: red; font-size: 1.1em'>\n",
        "        <li>Os markdowns estão em verde explicam o que foi feito </li> \n",
        "        <li>Os markdows Bracos são os enunciados e comentários do professor </li> \n",
        "        <li>O vermelho são as regras </li> \n",
        "    </span></ol>\n",
        "\n",
        "\n",
        "<span style = 'color: red; font-size: 1.4em'> Sorte aos que acompanham</span>"
      ]
    },
    {
      "cell_type": "markdown",
      "metadata": {},
      "source": [
        "<br><span style = 'color: green; font-size: 1.4em'>  Está primeira célula imortar os dados do csv contendo as infos dos atletas sob o nome ***df*** </span>"
      ]
    },
    {
      "cell_type": "code",
      "execution_count": 86,
      "metadata": {},
      "outputs": [],
      "source": [
        "import matplotlib.pyplot as plt \n",
        "\n",
        "%matplotlib inline"
      ]
    },
    {
      "cell_type": "code",
      "execution_count": 87,
      "metadata": {
        "id": "--SIDt3Snbih"
      },
      "outputs": [
        {
          "data": {
            "text/html": [
              "<div><div id=0bebce19-f677-4265-b676-04f091d76d48 style=\"display:none; background-color:#9D6CFF; color:white; width:200px; height:30px; padding-left:5px; border-radius:4px; flex-direction:row; justify-content:space-around; align-items:center;\" onmouseover=\"this.style.backgroundColor='#BA9BF8'\" onmouseout=\"this.style.backgroundColor='#9D6CFF'\" onclick=\"window.commands?.execute('create-mitosheet-from-dataframe-output');\">See Full Dataframe in Mito</div> <script> if (window.commands.hasCommand('create-mitosheet-from-dataframe-output')) document.getElementById('0bebce19-f677-4265-b676-04f091d76d48').style.display = 'flex' </script> <table border=\"1\" class=\"dataframe\">\n",
              "  <thead>\n",
              "    <tr style=\"text-align: right;\">\n",
              "      <th></th>\n",
              "      <th>ID</th>\n",
              "      <th>Name</th>\n",
              "      <th>Sex</th>\n",
              "      <th>Age</th>\n",
              "      <th>Height</th>\n",
              "      <th>Weight</th>\n",
              "      <th>Team</th>\n",
              "      <th>NOC</th>\n",
              "      <th>Games</th>\n",
              "      <th>Year</th>\n",
              "      <th>Season</th>\n",
              "      <th>City</th>\n",
              "      <th>Sport</th>\n",
              "      <th>Event</th>\n",
              "      <th>Medal</th>\n",
              "    </tr>\n",
              "  </thead>\n",
              "  <tbody>\n",
              "    <tr>\n",
              "      <th>0</th>\n",
              "      <td>1</td>\n",
              "      <td>A Dijiang</td>\n",
              "      <td>M</td>\n",
              "      <td>24.0</td>\n",
              "      <td>180.0</td>\n",
              "      <td>80.0</td>\n",
              "      <td>China</td>\n",
              "      <td>CHN</td>\n",
              "      <td>1992 Summer</td>\n",
              "      <td>1992</td>\n",
              "      <td>Summer</td>\n",
              "      <td>Barcelona</td>\n",
              "      <td>Basketball</td>\n",
              "      <td>Basketball Men's Basketball</td>\n",
              "      <td>NaN</td>\n",
              "    </tr>\n",
              "    <tr>\n",
              "      <th>1</th>\n",
              "      <td>2</td>\n",
              "      <td>A Lamusi</td>\n",
              "      <td>M</td>\n",
              "      <td>23.0</td>\n",
              "      <td>170.0</td>\n",
              "      <td>60.0</td>\n",
              "      <td>China</td>\n",
              "      <td>CHN</td>\n",
              "      <td>2012 Summer</td>\n",
              "      <td>2012</td>\n",
              "      <td>Summer</td>\n",
              "      <td>London</td>\n",
              "      <td>Judo</td>\n",
              "      <td>Judo Men's Extra-Lightweight</td>\n",
              "      <td>NaN</td>\n",
              "    </tr>\n",
              "    <tr>\n",
              "      <th>2</th>\n",
              "      <td>3</td>\n",
              "      <td>Gunnar Nielsen Aaby</td>\n",
              "      <td>M</td>\n",
              "      <td>24.0</td>\n",
              "      <td>NaN</td>\n",
              "      <td>NaN</td>\n",
              "      <td>Denmark</td>\n",
              "      <td>DEN</td>\n",
              "      <td>1920 Summer</td>\n",
              "      <td>1920</td>\n",
              "      <td>Summer</td>\n",
              "      <td>Antwerpen</td>\n",
              "      <td>Football</td>\n",
              "      <td>Football Men's Football</td>\n",
              "      <td>NaN</td>\n",
              "    </tr>\n",
              "    <tr>\n",
              "      <th>3</th>\n",
              "      <td>4</td>\n",
              "      <td>Edgar Lindenau Aabye</td>\n",
              "      <td>M</td>\n",
              "      <td>34.0</td>\n",
              "      <td>NaN</td>\n",
              "      <td>NaN</td>\n",
              "      <td>Denmark/Sweden</td>\n",
              "      <td>DEN</td>\n",
              "      <td>1900 Summer</td>\n",
              "      <td>1900</td>\n",
              "      <td>Summer</td>\n",
              "      <td>Paris</td>\n",
              "      <td>Tug-Of-War</td>\n",
              "      <td>Tug-Of-War Men's Tug-Of-War</td>\n",
              "      <td>Gold</td>\n",
              "    </tr>\n",
              "    <tr>\n",
              "      <th>4</th>\n",
              "      <td>5</td>\n",
              "      <td>Christine Jacoba Aaftink</td>\n",
              "      <td>F</td>\n",
              "      <td>21.0</td>\n",
              "      <td>185.0</td>\n",
              "      <td>82.0</td>\n",
              "      <td>Netherlands</td>\n",
              "      <td>NED</td>\n",
              "      <td>1988 Winter</td>\n",
              "      <td>1988</td>\n",
              "      <td>Winter</td>\n",
              "      <td>Calgary</td>\n",
              "      <td>Speed Skating</td>\n",
              "      <td>Speed Skating Women's 500 metres</td>\n",
              "      <td>NaN</td>\n",
              "    </tr>\n",
              "    <tr>\n",
              "      <th>...</th>\n",
              "      <td>...</td>\n",
              "      <td>...</td>\n",
              "      <td>...</td>\n",
              "      <td>...</td>\n",
              "      <td>...</td>\n",
              "      <td>...</td>\n",
              "      <td>...</td>\n",
              "      <td>...</td>\n",
              "      <td>...</td>\n",
              "      <td>...</td>\n",
              "      <td>...</td>\n",
              "      <td>...</td>\n",
              "      <td>...</td>\n",
              "      <td>...</td>\n",
              "      <td>...</td>\n",
              "    </tr>\n",
              "    <tr>\n",
              "      <th>271111</th>\n",
              "      <td>135569</td>\n",
              "      <td>Andrzej ya</td>\n",
              "      <td>M</td>\n",
              "      <td>29.0</td>\n",
              "      <td>179.0</td>\n",
              "      <td>89.0</td>\n",
              "      <td>Poland-1</td>\n",
              "      <td>POL</td>\n",
              "      <td>1976 Winter</td>\n",
              "      <td>1976</td>\n",
              "      <td>Winter</td>\n",
              "      <td>Innsbruck</td>\n",
              "      <td>Luge</td>\n",
              "      <td>Luge Mixed (Men)'s Doubles</td>\n",
              "      <td>NaN</td>\n",
              "    </tr>\n",
              "    <tr>\n",
              "      <th>271112</th>\n",
              "      <td>135570</td>\n",
              "      <td>Piotr ya</td>\n",
              "      <td>M</td>\n",
              "      <td>27.0</td>\n",
              "      <td>176.0</td>\n",
              "      <td>59.0</td>\n",
              "      <td>Poland</td>\n",
              "      <td>POL</td>\n",
              "      <td>2014 Winter</td>\n",
              "      <td>2014</td>\n",
              "      <td>Winter</td>\n",
              "      <td>Sochi</td>\n",
              "      <td>Ski Jumping</td>\n",
              "      <td>Ski Jumping Men's Large Hill, Individual</td>\n",
              "      <td>NaN</td>\n",
              "    </tr>\n",
              "    <tr>\n",
              "      <th>271113</th>\n",
              "      <td>135570</td>\n",
              "      <td>Piotr ya</td>\n",
              "      <td>M</td>\n",
              "      <td>27.0</td>\n",
              "      <td>176.0</td>\n",
              "      <td>59.0</td>\n",
              "      <td>Poland</td>\n",
              "      <td>POL</td>\n",
              "      <td>2014 Winter</td>\n",
              "      <td>2014</td>\n",
              "      <td>Winter</td>\n",
              "      <td>Sochi</td>\n",
              "      <td>Ski Jumping</td>\n",
              "      <td>Ski Jumping Men's Large Hill, Team</td>\n",
              "      <td>NaN</td>\n",
              "    </tr>\n",
              "    <tr>\n",
              "      <th>271114</th>\n",
              "      <td>135571</td>\n",
              "      <td>Tomasz Ireneusz ya</td>\n",
              "      <td>M</td>\n",
              "      <td>30.0</td>\n",
              "      <td>185.0</td>\n",
              "      <td>96.0</td>\n",
              "      <td>Poland</td>\n",
              "      <td>POL</td>\n",
              "      <td>1998 Winter</td>\n",
              "      <td>1998</td>\n",
              "      <td>Winter</td>\n",
              "      <td>Nagano</td>\n",
              "      <td>Bobsleigh</td>\n",
              "      <td>Bobsleigh Men's Four</td>\n",
              "      <td>NaN</td>\n",
              "    </tr>\n",
              "    <tr>\n",
              "      <th>271115</th>\n",
              "      <td>135571</td>\n",
              "      <td>Tomasz Ireneusz ya</td>\n",
              "      <td>M</td>\n",
              "      <td>34.0</td>\n",
              "      <td>185.0</td>\n",
              "      <td>96.0</td>\n",
              "      <td>Poland</td>\n",
              "      <td>POL</td>\n",
              "      <td>2002 Winter</td>\n",
              "      <td>2002</td>\n",
              "      <td>Winter</td>\n",
              "      <td>Salt Lake City</td>\n",
              "      <td>Bobsleigh</td>\n",
              "      <td>Bobsleigh Men's Four</td>\n",
              "      <td>NaN</td>\n",
              "    </tr>\n",
              "  </tbody>\n",
              "</table></div>"
            ],
            "text/plain": [
              "            ID                      Name Sex   Age  Height  Weight  \\\n",
              "0            1                 A Dijiang   M  24.0   180.0    80.0   \n",
              "1            2                  A Lamusi   M  23.0   170.0    60.0   \n",
              "2            3       Gunnar Nielsen Aaby   M  24.0     NaN     NaN   \n",
              "3            4      Edgar Lindenau Aabye   M  34.0     NaN     NaN   \n",
              "4            5  Christine Jacoba Aaftink   F  21.0   185.0    82.0   \n",
              "...        ...                       ...  ..   ...     ...     ...   \n",
              "271111  135569                Andrzej ya   M  29.0   179.0    89.0   \n",
              "271112  135570                  Piotr ya   M  27.0   176.0    59.0   \n",
              "271113  135570                  Piotr ya   M  27.0   176.0    59.0   \n",
              "271114  135571        Tomasz Ireneusz ya   M  30.0   185.0    96.0   \n",
              "271115  135571        Tomasz Ireneusz ya   M  34.0   185.0    96.0   \n",
              "\n",
              "                  Team  NOC        Games  Year  Season            City  \\\n",
              "0                China  CHN  1992 Summer  1992  Summer       Barcelona   \n",
              "1                China  CHN  2012 Summer  2012  Summer          London   \n",
              "2              Denmark  DEN  1920 Summer  1920  Summer       Antwerpen   \n",
              "3       Denmark/Sweden  DEN  1900 Summer  1900  Summer           Paris   \n",
              "4          Netherlands  NED  1988 Winter  1988  Winter         Calgary   \n",
              "...                ...  ...          ...   ...     ...             ...   \n",
              "271111        Poland-1  POL  1976 Winter  1976  Winter       Innsbruck   \n",
              "271112          Poland  POL  2014 Winter  2014  Winter           Sochi   \n",
              "271113          Poland  POL  2014 Winter  2014  Winter           Sochi   \n",
              "271114          Poland  POL  1998 Winter  1998  Winter          Nagano   \n",
              "271115          Poland  POL  2002 Winter  2002  Winter  Salt Lake City   \n",
              "\n",
              "                Sport                                     Event Medal  \n",
              "0          Basketball               Basketball Men's Basketball   NaN  \n",
              "1                Judo              Judo Men's Extra-Lightweight   NaN  \n",
              "2            Football                   Football Men's Football   NaN  \n",
              "3          Tug-Of-War               Tug-Of-War Men's Tug-Of-War  Gold  \n",
              "4       Speed Skating          Speed Skating Women's 500 metres   NaN  \n",
              "...               ...                                       ...   ...  \n",
              "271111           Luge                Luge Mixed (Men)'s Doubles   NaN  \n",
              "271112    Ski Jumping  Ski Jumping Men's Large Hill, Individual   NaN  \n",
              "271113    Ski Jumping        Ski Jumping Men's Large Hill, Team   NaN  \n",
              "271114      Bobsleigh                      Bobsleigh Men's Four   NaN  \n",
              "271115      Bobsleigh                      Bobsleigh Men's Four   NaN  \n",
              "\n",
              "[271116 rows x 15 columns]"
            ]
          },
          "execution_count": 87,
          "metadata": {},
          "output_type": "execute_result"
        }
      ],
      "source": [
        "import pandas as pd \n",
        "df = pd.read_csv('athlete_events.csv')\n",
        "df"
      ]
    },
    {
      "cell_type": "markdown",
      "metadata": {
        "id": "xwouD3xJnbii"
      },
      "source": [
        "## 1. O Brasil nas Olimpíadas\n",
        "\n",
        "Vamos começar filtrando novamente os dados que iremos trabalhar. Crie um DataFrame contendo apenas informações sobre atletas **medalhistas** brasileiros."
      ]
    },
    {
      "cell_type": "markdown",
      "metadata": {},
      "source": [
        "<br><span style = 'color: green; font-size: 1.4em'> &nbsp;&nbsp;&nbsp; O dataframe **df** será filtrado pelas seguintes condições: </span>\n",
        "    <ul><span style = 'color: green; font-size: 1.2em'>\n",
        "        <li>Medalhistas Olímpicos( tirar as entradas com NA na coluna medalha)</li> \n",
        "        <li>Brasileiros (NOC = 'BRA')</li> \n",
        "    </span></ul>\n",
        "\n",
        "\n",
        "<span style = 'color: green; font-size: 1.4em'>&nbsp;&nbsp;&nbsp; O dataframe resultante terá nome de **df_brasil_med**</span>"
      ]
    },
    {
      "cell_type": "code",
      "execution_count": 2,
      "metadata": {
        "id": "c1fjo0Ywnbii"
      },
      "outputs": [
        {
          "data": {
            "text/html": [
              "<div><div id=96b76e9c-e36b-471c-a53b-eec9d805d657 style=\"display:none; background-color:#9D6CFF; color:white; width:200px; height:30px; padding-left:5px; border-radius:4px; flex-direction:row; justify-content:space-around; align-items:center;\" onmouseover=\"this.style.backgroundColor='#BA9BF8'\" onmouseout=\"this.style.backgroundColor='#9D6CFF'\" onclick=\"window.commands?.execute('create-mitosheet-from-dataframe-output');\">See Full Dataframe in Mito</div> <script> if (window.commands.hasCommand('create-mitosheet-from-dataframe-output')) document.getElementById('96b76e9c-e36b-471c-a53b-eec9d805d657').style.display = 'flex' </script> <table border=\"1\" class=\"dataframe\">\n",
              "  <thead>\n",
              "    <tr style=\"text-align: right;\">\n",
              "      <th></th>\n",
              "      <th>ID</th>\n",
              "      <th>Name</th>\n",
              "      <th>Sex</th>\n",
              "      <th>Age</th>\n",
              "      <th>Height</th>\n",
              "      <th>Weight</th>\n",
              "      <th>Team</th>\n",
              "      <th>NOC</th>\n",
              "      <th>Games</th>\n",
              "      <th>Year</th>\n",
              "      <th>Season</th>\n",
              "      <th>City</th>\n",
              "      <th>Sport</th>\n",
              "      <th>Event</th>\n",
              "      <th>Medal</th>\n",
              "    </tr>\n",
              "  </thead>\n",
              "  <tbody>\n",
              "    <tr>\n",
              "      <th>1651</th>\n",
              "      <td>918</td>\n",
              "      <td>Ademir Roque Kaefer</td>\n",
              "      <td>M</td>\n",
              "      <td>24.0</td>\n",
              "      <td>179.0</td>\n",
              "      <td>74.0</td>\n",
              "      <td>Brazil</td>\n",
              "      <td>BRA</td>\n",
              "      <td>1984 Summer</td>\n",
              "      <td>1984</td>\n",
              "      <td>Summer</td>\n",
              "      <td>Los Angeles</td>\n",
              "      <td>Football</td>\n",
              "      <td>Football Men's Football</td>\n",
              "      <td>Silver</td>\n",
              "    </tr>\n",
              "    <tr>\n",
              "      <th>1652</th>\n",
              "      <td>918</td>\n",
              "      <td>Ademir Roque Kaefer</td>\n",
              "      <td>M</td>\n",
              "      <td>28.0</td>\n",
              "      <td>179.0</td>\n",
              "      <td>74.0</td>\n",
              "      <td>Brazil</td>\n",
              "      <td>BRA</td>\n",
              "      <td>1988 Summer</td>\n",
              "      <td>1988</td>\n",
              "      <td>Summer</td>\n",
              "      <td>Seoul</td>\n",
              "      <td>Football</td>\n",
              "      <td>Football Men's Football</td>\n",
              "      <td>Silver</td>\n",
              "    </tr>\n",
              "    <tr>\n",
              "      <th>1668</th>\n",
              "      <td>925</td>\n",
              "      <td>Adenzia Aparecida Ferreira da Silva</td>\n",
              "      <td>F</td>\n",
              "      <td>25.0</td>\n",
              "      <td>187.0</td>\n",
              "      <td>65.0</td>\n",
              "      <td>Brazil</td>\n",
              "      <td>BRA</td>\n",
              "      <td>2012 Summer</td>\n",
              "      <td>2012</td>\n",
              "      <td>Summer</td>\n",
              "      <td>London</td>\n",
              "      <td>Volleyball</td>\n",
              "      <td>Volleyball Women's Volleyball</td>\n",
              "      <td>Gold</td>\n",
              "    </tr>\n",
              "    <tr>\n",
              "      <th>1733</th>\n",
              "      <td>966</td>\n",
              "      <td>Daniel Adler</td>\n",
              "      <td>M</td>\n",
              "      <td>26.0</td>\n",
              "      <td>180.0</td>\n",
              "      <td>72.0</td>\n",
              "      <td>Brazil</td>\n",
              "      <td>BRA</td>\n",
              "      <td>1984 Summer</td>\n",
              "      <td>1984</td>\n",
              "      <td>Summer</td>\n",
              "      <td>Los Angeles</td>\n",
              "      <td>Sailing</td>\n",
              "      <td>Sailing Mixed Three Person Keelboat</td>\n",
              "      <td>Silver</td>\n",
              "    </tr>\n",
              "    <tr>\n",
              "      <th>1856</th>\n",
              "      <td>1020</td>\n",
              "      <td>Adriana Aparecida dos Santos</td>\n",
              "      <td>F</td>\n",
              "      <td>25.0</td>\n",
              "      <td>180.0</td>\n",
              "      <td>61.0</td>\n",
              "      <td>Brazil</td>\n",
              "      <td>BRA</td>\n",
              "      <td>1996 Summer</td>\n",
              "      <td>1996</td>\n",
              "      <td>Summer</td>\n",
              "      <td>Atlanta</td>\n",
              "      <td>Basketball</td>\n",
              "      <td>Basketball Women's Basketball</td>\n",
              "      <td>Silver</td>\n",
              "    </tr>\n",
              "    <tr>\n",
              "      <th>...</th>\n",
              "      <td>...</td>\n",
              "      <td>...</td>\n",
              "      <td>...</td>\n",
              "      <td>...</td>\n",
              "      <td>...</td>\n",
              "      <td>...</td>\n",
              "      <td>...</td>\n",
              "      <td>...</td>\n",
              "      <td>...</td>\n",
              "      <td>...</td>\n",
              "      <td>...</td>\n",
              "      <td>...</td>\n",
              "      <td>...</td>\n",
              "      <td>...</td>\n",
              "      <td>...</td>\n",
              "    </tr>\n",
              "    <tr>\n",
              "      <th>267709</th>\n",
              "      <td>133931</td>\n",
              "      <td>Arthur Nabarrete Zanetti</td>\n",
              "      <td>M</td>\n",
              "      <td>26.0</td>\n",
              "      <td>156.0</td>\n",
              "      <td>61.0</td>\n",
              "      <td>Brazil</td>\n",
              "      <td>BRA</td>\n",
              "      <td>2016 Summer</td>\n",
              "      <td>2016</td>\n",
              "      <td>Summer</td>\n",
              "      <td>Rio de Janeiro</td>\n",
              "      <td>Gymnastics</td>\n",
              "      <td>Gymnastics Men's Rings</td>\n",
              "      <td>Silver</td>\n",
              "    </tr>\n",
              "    <tr>\n",
              "      <th>268211</th>\n",
              "      <td>134186</td>\n",
              "      <td>Jos Elias \"Z Elias\" Moedim Jnior</td>\n",
              "      <td>M</td>\n",
              "      <td>19.0</td>\n",
              "      <td>178.0</td>\n",
              "      <td>75.0</td>\n",
              "      <td>Brazil</td>\n",
              "      <td>BRA</td>\n",
              "      <td>1996 Summer</td>\n",
              "      <td>1996</td>\n",
              "      <td>Summer</td>\n",
              "      <td>Atlanta</td>\n",
              "      <td>Football</td>\n",
              "      <td>Football Men's Football</td>\n",
              "      <td>Bronze</td>\n",
              "    </tr>\n",
              "    <tr>\n",
              "      <th>268218</th>\n",
              "      <td>134190</td>\n",
              "      <td>Jos Marco \"Z Marco\" Nobrega Ferreira de Melo</td>\n",
              "      <td>M</td>\n",
              "      <td>29.0</td>\n",
              "      <td>190.0</td>\n",
              "      <td>86.0</td>\n",
              "      <td>Brazil-1</td>\n",
              "      <td>BRA</td>\n",
              "      <td>2000 Summer</td>\n",
              "      <td>2000</td>\n",
              "      <td>Summer</td>\n",
              "      <td>Sydney</td>\n",
              "      <td>Beach Volleyball</td>\n",
              "      <td>Beach Volleyball Men's Beach Volleyball</td>\n",
              "      <td>Silver</td>\n",
              "    </tr>\n",
              "    <tr>\n",
              "      <th>268219</th>\n",
              "      <td>134191</td>\n",
              "      <td>Jos Marcelo \"Z Maria\" Ferreira</td>\n",
              "      <td>M</td>\n",
              "      <td>22.0</td>\n",
              "      <td>175.0</td>\n",
              "      <td>71.0</td>\n",
              "      <td>Brazil</td>\n",
              "      <td>BRA</td>\n",
              "      <td>1996 Summer</td>\n",
              "      <td>1996</td>\n",
              "      <td>Summer</td>\n",
              "      <td>Atlanta</td>\n",
              "      <td>Football</td>\n",
              "      <td>Football Men's Football</td>\n",
              "      <td>Bronze</td>\n",
              "    </tr>\n",
              "    <tr>\n",
              "      <th>268247</th>\n",
              "      <td>134211</td>\n",
              "      <td>Jos Carlos Cracco Neto</td>\n",
              "      <td>M</td>\n",
              "      <td>22.0</td>\n",
              "      <td>170.0</td>\n",
              "      <td>69.0</td>\n",
              "      <td>Brazil</td>\n",
              "      <td>BRA</td>\n",
              "      <td>2016 Summer</td>\n",
              "      <td>2016</td>\n",
              "      <td>Summer</td>\n",
              "      <td>Rio de Janeiro</td>\n",
              "      <td>Football</td>\n",
              "      <td>Football Men's Football</td>\n",
              "      <td>Gold</td>\n",
              "    </tr>\n",
              "  </tbody>\n",
              "</table></div>"
            ],
            "text/plain": [
              "            ID                                          Name Sex   Age  \\\n",
              "1651       918                           Ademir Roque Kaefer   M  24.0   \n",
              "1652       918                           Ademir Roque Kaefer   M  28.0   \n",
              "1668       925           Adenzia Aparecida Ferreira da Silva   F  25.0   \n",
              "1733       966                                  Daniel Adler   M  26.0   \n",
              "1856      1020                  Adriana Aparecida dos Santos   F  25.0   \n",
              "...        ...                                           ...  ..   ...   \n",
              "267709  133931                      Arthur Nabarrete Zanetti   M  26.0   \n",
              "268211  134186              Jos Elias \"Z Elias\" Moedim Jnior   M  19.0   \n",
              "268218  134190  Jos Marco \"Z Marco\" Nobrega Ferreira de Melo   M  29.0   \n",
              "268219  134191                Jos Marcelo \"Z Maria\" Ferreira   M  22.0   \n",
              "268247  134211                        Jos Carlos Cracco Neto   M  22.0   \n",
              "\n",
              "        Height  Weight      Team  NOC        Games  Year  Season  \\\n",
              "1651     179.0    74.0    Brazil  BRA  1984 Summer  1984  Summer   \n",
              "1652     179.0    74.0    Brazil  BRA  1988 Summer  1988  Summer   \n",
              "1668     187.0    65.0    Brazil  BRA  2012 Summer  2012  Summer   \n",
              "1733     180.0    72.0    Brazil  BRA  1984 Summer  1984  Summer   \n",
              "1856     180.0    61.0    Brazil  BRA  1996 Summer  1996  Summer   \n",
              "...        ...     ...       ...  ...          ...   ...     ...   \n",
              "267709   156.0    61.0    Brazil  BRA  2016 Summer  2016  Summer   \n",
              "268211   178.0    75.0    Brazil  BRA  1996 Summer  1996  Summer   \n",
              "268218   190.0    86.0  Brazil-1  BRA  2000 Summer  2000  Summer   \n",
              "268219   175.0    71.0    Brazil  BRA  1996 Summer  1996  Summer   \n",
              "268247   170.0    69.0    Brazil  BRA  2016 Summer  2016  Summer   \n",
              "\n",
              "                  City             Sport  \\\n",
              "1651       Los Angeles          Football   \n",
              "1652             Seoul          Football   \n",
              "1668            London        Volleyball   \n",
              "1733       Los Angeles           Sailing   \n",
              "1856           Atlanta        Basketball   \n",
              "...                ...               ...   \n",
              "267709  Rio de Janeiro        Gymnastics   \n",
              "268211         Atlanta          Football   \n",
              "268218          Sydney  Beach Volleyball   \n",
              "268219         Atlanta          Football   \n",
              "268247  Rio de Janeiro          Football   \n",
              "\n",
              "                                          Event   Medal  \n",
              "1651                    Football Men's Football  Silver  \n",
              "1652                    Football Men's Football  Silver  \n",
              "1668              Volleyball Women's Volleyball    Gold  \n",
              "1733        Sailing Mixed Three Person Keelboat  Silver  \n",
              "1856              Basketball Women's Basketball  Silver  \n",
              "...                                         ...     ...  \n",
              "267709                   Gymnastics Men's Rings  Silver  \n",
              "268211                  Football Men's Football  Bronze  \n",
              "268218  Beach Volleyball Men's Beach Volleyball  Silver  \n",
              "268219                  Football Men's Football  Bronze  \n",
              "268247                  Football Men's Football    Gold  \n",
              "\n",
              "[475 rows x 15 columns]"
            ]
          },
          "execution_count": 2,
          "metadata": {},
          "output_type": "execute_result"
        }
      ],
      "source": [
        "df_brasil_med = df[(df.NOC == 'BRA') & (~df['Medal'].isna())]\n",
        "\n",
        "df_brasil_med"
      ]
    },
    {
      "cell_type": "markdown",
      "metadata": {
        "id": "ULlpG0LQnbii"
      },
      "source": [
        "Vamos caracterizar fisicamente nossos medalhistas, verificando se há alguma correlação entre o desempenho em certos esportes e o tipo físico dos atletas. \n",
        "\n",
        "Gere um gráfico de barras contendo os diferentes esportes no eixo X e a altura dos atletas no eixo Y. Utilize barras lado-a-lado para separar atletas do sexo masculino e feminino."
      ]
    },
    {
      "cell_type": "markdown",
      "metadata": {},
      "source": [
        " Os valores que aparecerem com NA na tabela resultante serão substituidos por valor 0. Tem esportes sem ganhadores olímpicos para ambos os sexos. Ainda foi feita uma troca no nomes das colunas para termos uma comunicação mais efetiva.O gráfico resultante mostra a relação entre altura e os ganhadores brasileiros olímpicos por sexo "
      ]
    },
    {
      "cell_type": "code",
      "execution_count": 3,
      "metadata": {
        "id": "-mZWFMQsnbij"
      },
      "outputs": [
        {
          "data": {
            "text/html": [
              "<div><div id=9b2cb334-6e01-4234-8bc9-a943c5d8ff3b style=\"display:none; background-color:#9D6CFF; color:white; width:200px; height:30px; padding-left:5px; border-radius:4px; flex-direction:row; justify-content:space-around; align-items:center;\" onmouseover=\"this.style.backgroundColor='#BA9BF8'\" onmouseout=\"this.style.backgroundColor='#9D6CFF'\" onclick=\"window.commands?.execute('create-mitosheet-from-dataframe-output');\">See Full Dataframe in Mito</div> <script> if (window.commands.hasCommand('create-mitosheet-from-dataframe-output')) document.getElementById('9b2cb334-6e01-4234-8bc9-a943c5d8ff3b').style.display = 'flex' </script> <table border=\"1\" class=\"dataframe\">\n",
              "  <thead>\n",
              "    <tr style=\"text-align: right;\">\n",
              "      <th>Sex</th>\n",
              "      <th>Mulher</th>\n",
              "      <th>Homem</th>\n",
              "    </tr>\n",
              "    <tr>\n",
              "      <th>Sport</th>\n",
              "      <th></th>\n",
              "      <th></th>\n",
              "    </tr>\n",
              "  </thead>\n",
              "  <tbody>\n",
              "    <tr>\n",
              "      <th>Athletics</th>\n",
              "      <td>173.0000</td>\n",
              "      <td>181.320000</td>\n",
              "    </tr>\n",
              "    <tr>\n",
              "      <th>Basketball</th>\n",
              "      <td>183.3750</td>\n",
              "      <td>187.592593</td>\n",
              "    </tr>\n",
              "    <tr>\n",
              "      <th>Beach Volleyball</th>\n",
              "      <td>175.0000</td>\n",
              "      <td>195.583333</td>\n",
              "    </tr>\n",
              "    <tr>\n",
              "      <th>Boxing</th>\n",
              "      <td>167.0000</td>\n",
              "      <td>170.750000</td>\n",
              "    </tr>\n",
              "    <tr>\n",
              "      <th>Canoeing</th>\n",
              "      <td>0.0000</td>\n",
              "      <td>175.000000</td>\n",
              "    </tr>\n",
              "    <tr>\n",
              "      <th>...</th>\n",
              "      <td>...</td>\n",
              "      <td>...</td>\n",
              "    </tr>\n",
              "    <tr>\n",
              "      <th>Sailing</th>\n",
              "      <td>170.5000</td>\n",
              "      <td>183.066667</td>\n",
              "    </tr>\n",
              "    <tr>\n",
              "      <th>Shooting</th>\n",
              "      <td>0.0000</td>\n",
              "      <td>175.000000</td>\n",
              "    </tr>\n",
              "    <tr>\n",
              "      <th>Swimming</th>\n",
              "      <td>165.0000</td>\n",
              "      <td>190.444444</td>\n",
              "    </tr>\n",
              "    <tr>\n",
              "      <th>Taekwondo</th>\n",
              "      <td>178.0000</td>\n",
              "      <td>190.000000</td>\n",
              "    </tr>\n",
              "    <tr>\n",
              "      <th>Volleyball</th>\n",
              "      <td>183.4375</td>\n",
              "      <td>195.361111</td>\n",
              "    </tr>\n",
              "  </tbody>\n",
              "</table></div>"
            ],
            "text/plain": [
              "Sex                    Mulher       Homem\n",
              "Sport                                    \n",
              "Athletics          173.000000  181.320000\n",
              "Basketball         183.375000  187.592593\n",
              "Beach Volleyball   175.000000  195.583333\n",
              "Boxing             167.000000  170.750000\n",
              "Canoeing             0.000000  175.000000\n",
              "Equestrianism        0.000000  179.666667\n",
              "Football           166.971429  178.989691\n",
              "Gymnastics           0.000000  162.750000\n",
              "Judo               168.200000  179.312500\n",
              "Modern Pentathlon  166.000000    0.000000\n",
              "Sailing            170.500000  183.066667\n",
              "Shooting             0.000000  175.000000\n",
              "Swimming           165.000000  190.444444\n",
              "Taekwondo          178.000000  190.000000\n",
              "Volleyball         183.437500  195.361111"
            ]
          },
          "execution_count": 3,
          "metadata": {},
          "output_type": "execute_result"
        }
      ],
      "source": [
        "\n",
        "#Aqui é criada a tabela com os valores médios de altura e sexo \n",
        "#dos ganhadores olímpicos \n",
        "df_teste_altura_sexo = df_brasil_med.groupby(['Sex', 'Sport'])['Height'].mean()\n",
        "df_teste_altura_sexo = df_teste_altura_sexo.unstack('Sex')\n",
        "\n",
        "df_teste_altura_sexo.fillna(0, inplace = True)\n",
        "df_teste_altura_sexo.rename(columns = {'F': 'Mulher','M': 'Homem'}, inplace = True)\n",
        "df_teste_altura_sexo"
      ]
    },
    {
      "cell_type": "code",
      "execution_count": 4,
      "metadata": {},
      "outputs": [
        {
          "data": {
            "image/svg+xml": "<svg class=\"main-svg\" xmlns=\"http://www.w3.org/2000/svg\" xmlns:xlink=\"http://www.w3.org/1999/xlink\" width=\"700\" height=\"400\" style=\"\" viewBox=\"0 0 700 400\"><rect x=\"0\" y=\"0\" width=\"700\" height=\"400\" style=\"fill: rgb(255, 255, 255); fill-opacity: 1;\"/><defs id=\"defs-9dc9ce\"><g class=\"clips\"><clipPath id=\"clip9dc9cexyplot\" class=\"plotclip\"><rect width=\"506\" height=\"192\"/></clipPath><clipPath class=\"axesclip\" id=\"clip9dc9cex\"><rect x=\"80\" y=\"0\" width=\"506\" height=\"400\"/></clipPath><clipPath class=\"axesclip\" id=\"clip9dc9cey\"><rect x=\"0\" y=\"100\" width=\"700\" height=\"192\"/></clipPath><clipPath class=\"axesclip\" id=\"clip9dc9cexy\"><rect x=\"80\" y=\"100\" width=\"506\" height=\"192\"/></clipPath></g><g class=\"gradients\"/><g class=\"patterns\"/></defs><g class=\"bglayer\"><rect class=\"bg\" x=\"80\" y=\"100\" width=\"506\" height=\"192\" style=\"fill: rgb(229, 236, 246); fill-opacity: 1; stroke-width: 0;\"/></g><g class=\"layer-below\"><g class=\"imagelayer\"/><g class=\"shapelayer\"/></g><g class=\"cartesianlayer\"><g class=\"subplot xy\"><g class=\"layer-subplot\"><g class=\"shapelayer\"/><g class=\"imagelayer\"/></g><g class=\"gridlayer\"><g class=\"x\"/><g class=\"y\"><path class=\"ygrid crisp\" transform=\"translate(0,245.37)\" d=\"M80,0h506\" style=\"stroke: rgb(255, 255, 255); stroke-opacity: 1; stroke-width: 1px;\"/><path class=\"ygrid crisp\" transform=\"translate(0,198.74)\" d=\"M80,0h506\" style=\"stroke: rgb(255, 255, 255); stroke-opacity: 1; stroke-width: 1px;\"/><path class=\"ygrid crisp\" transform=\"translate(0,152.11)\" d=\"M80,0h506\" style=\"stroke: rgb(255, 255, 255); stroke-opacity: 1; stroke-width: 1px;\"/><path class=\"ygrid crisp\" transform=\"translate(0,105.48)\" d=\"M80,0h506\" style=\"stroke: rgb(255, 255, 255); stroke-opacity: 1; stroke-width: 1px;\"/></g></g><g class=\"zerolinelayer\"><path class=\"yzl zl crisp\" transform=\"translate(0,292)\" d=\"M80,0h506\" style=\"stroke: rgb(255, 255, 255); stroke-opacity: 1; stroke-width: 2px;\"/></g><path class=\"xlines-below\"/><path class=\"ylines-below\"/><g class=\"overlines-below\"/><g class=\"xaxislayer-below\"/><g class=\"yaxislayer-below\"/><g class=\"overaxes-below\"/><g class=\"plot\" transform=\"translate(80,100)\" clip-path=\"url(#clip9dc9cexyplot)\"><g class=\"barlayer mlayer\"><g class=\"trace bars\" style=\"opacity: 1;\"><g class=\"points\"><g class=\"point\"><path d=\"M3.37,192V30.66H16.87V192Z\" style=\"vector-effect: non-scaling-stroke; opacity: 1; stroke-width: 0.5px; fill: rgb(99, 110, 250); fill-opacity: 1; stroke: rgb(229, 236, 246); stroke-opacity: 1;\"/></g><g class=\"point\"><path d=\"M37.11,192V20.99H50.6V192Z\" style=\"vector-effect: non-scaling-stroke; opacity: 1; stroke-width: 0.5px; fill: rgb(99, 110, 250); fill-opacity: 1; stroke: rgb(229, 236, 246); stroke-opacity: 1;\"/></g><g class=\"point\"><path d=\"M70.84,192V28.8H84.33V192Z\" style=\"vector-effect: non-scaling-stroke; opacity: 1; stroke-width: 0.5px; fill: rgb(99, 110, 250); fill-opacity: 1; stroke: rgb(229, 236, 246); stroke-opacity: 1;\"/></g><g class=\"point\"><path d=\"M104.57,192V36.26H118.07V192Z\" style=\"vector-effect: non-scaling-stroke; opacity: 1; stroke-width: 0.5px; fill: rgb(99, 110, 250); fill-opacity: 1; stroke: rgb(229, 236, 246); stroke-opacity: 1;\"/></g><g class=\"point\"><path d=\"M138.31,192V192H151.8V192Z\" style=\"vector-effect: non-scaling-stroke; opacity: 1; stroke-width: 0.5px; fill: rgb(99, 110, 250); fill-opacity: 1; stroke: rgb(229, 236, 246); stroke-opacity: 1;\"/></g><g class=\"point\"><path d=\"M172.04,192V192H185.53V192Z\" style=\"vector-effect: non-scaling-stroke; opacity: 1; stroke-width: 0.5px; fill: rgb(99, 110, 250); fill-opacity: 1; stroke: rgb(229, 236, 246); stroke-opacity: 1;\"/></g><g class=\"point\"><path d=\"M205.77,192V36.28H219.27V192Z\" style=\"vector-effect: non-scaling-stroke; opacity: 1; stroke-width: 0.5px; fill: rgb(99, 110, 250); fill-opacity: 1; stroke: rgb(229, 236, 246); stroke-opacity: 1;\"/></g><g class=\"point\"><path d=\"M239.51,192V192H253V192Z\" style=\"vector-effect: non-scaling-stroke; opacity: 1; stroke-width: 0.5px; fill: rgb(99, 110, 250); fill-opacity: 1; stroke: rgb(229, 236, 246); stroke-opacity: 1;\"/></g><g class=\"point\"><path d=\"M273.24,192V35.14H286.73V192Z\" style=\"vector-effect: non-scaling-stroke; opacity: 1; stroke-width: 0.5px; fill: rgb(99, 110, 250); fill-opacity: 1; stroke: rgb(229, 236, 246); stroke-opacity: 1;\"/></g><g class=\"point\"><path d=\"M306.97,192V37.19H320.47V192Z\" style=\"vector-effect: non-scaling-stroke; opacity: 1; stroke-width: 0.5px; fill: rgb(99, 110, 250); fill-opacity: 1; stroke: rgb(229, 236, 246); stroke-opacity: 1;\"/></g><g class=\"point\"><path d=\"M340.71,192V32.99H354.2V192Z\" style=\"vector-effect: non-scaling-stroke; opacity: 1; stroke-width: 0.5px; fill: rgb(99, 110, 250); fill-opacity: 1; stroke: rgb(229, 236, 246); stroke-opacity: 1;\"/></g><g class=\"point\"><path d=\"M374.44,192V192H387.93V192Z\" style=\"vector-effect: non-scaling-stroke; opacity: 1; stroke-width: 0.5px; fill: rgb(99, 110, 250); fill-opacity: 1; stroke: rgb(229, 236, 246); stroke-opacity: 1;\"/></g><g class=\"point\"><path d=\"M408.17,192V38.12H421.67V192Z\" style=\"vector-effect: non-scaling-stroke; opacity: 1; stroke-width: 0.5px; fill: rgb(99, 110, 250); fill-opacity: 1; stroke: rgb(229, 236, 246); stroke-opacity: 1;\"/></g><g class=\"point\"><path d=\"M441.91,192V26H455.4V192Z\" style=\"vector-effect: non-scaling-stroke; opacity: 1; stroke-width: 0.5px; fill: rgb(99, 110, 250); fill-opacity: 1; stroke: rgb(229, 236, 246); stroke-opacity: 1;\"/></g><g class=\"point\"><path d=\"M475.64,192V20.93H489.13V192Z\" style=\"vector-effect: non-scaling-stroke; opacity: 1; stroke-width: 0.5px; fill: rgb(99, 110, 250); fill-opacity: 1; stroke: rgb(229, 236, 246); stroke-opacity: 1;\"/></g></g></g><g class=\"trace bars\" style=\"opacity: 1;\"><g class=\"points\"><g class=\"point\"><path d=\"M16.87,192V22.9H30.36V192Z\" style=\"vector-effect: non-scaling-stroke; opacity: 1; stroke-width: 0.5px; fill: rgb(239, 85, 59); fill-opacity: 1; stroke: rgb(229, 236, 246); stroke-opacity: 1;\"/></g><g class=\"point\"><path d=\"M50.6,192V17.05H64.09V192Z\" style=\"vector-effect: non-scaling-stroke; opacity: 1; stroke-width: 0.5px; fill: rgb(239, 85, 59); fill-opacity: 1; stroke: rgb(229, 236, 246); stroke-opacity: 1;\"/></g><g class=\"point\"><path d=\"M84.33,192V9.6H97.83V192Z\" style=\"vector-effect: non-scaling-stroke; opacity: 1; stroke-width: 0.5px; fill: rgb(239, 85, 59); fill-opacity: 1; stroke: rgb(229, 236, 246); stroke-opacity: 1;\"/></g><g class=\"point\"><path d=\"M118.07,192V32.76H131.56V192Z\" style=\"vector-effect: non-scaling-stroke; opacity: 1; stroke-width: 0.5px; fill: rgb(239, 85, 59); fill-opacity: 1; stroke: rgb(229, 236, 246); stroke-opacity: 1;\"/></g><g class=\"point\"><path d=\"M151.8,192V28.8H165.29V192Z\" style=\"vector-effect: non-scaling-stroke; opacity: 1; stroke-width: 0.5px; fill: rgb(239, 85, 59); fill-opacity: 1; stroke: rgb(229, 236, 246); stroke-opacity: 1;\"/></g><g class=\"point\"><path d=\"M185.53,192V24.44H199.03V192Z\" style=\"vector-effect: non-scaling-stroke; opacity: 1; stroke-width: 0.5px; fill: rgb(239, 85, 59); fill-opacity: 1; stroke: rgb(229, 236, 246); stroke-opacity: 1;\"/></g><g class=\"point\"><path d=\"M219.27,192V25.08H232.76V192Z\" style=\"vector-effect: non-scaling-stroke; opacity: 1; stroke-width: 0.5px; fill: rgb(239, 85, 59); fill-opacity: 1; stroke: rgb(229, 236, 246); stroke-opacity: 1;\"/></g><g class=\"point\"><path d=\"M253,192V40.22H266.49V192Z\" style=\"vector-effect: non-scaling-stroke; opacity: 1; stroke-width: 0.5px; fill: rgb(239, 85, 59); fill-opacity: 1; stroke: rgb(229, 236, 246); stroke-opacity: 1;\"/></g><g class=\"point\"><path d=\"M286.73,192V24.77H300.23V192Z\" style=\"vector-effect: non-scaling-stroke; opacity: 1; stroke-width: 0.5px; fill: rgb(239, 85, 59); fill-opacity: 1; stroke: rgb(229, 236, 246); stroke-opacity: 1;\"/></g><g class=\"point\"><path d=\"M320.47,192V192H333.96V192Z\" style=\"vector-effect: non-scaling-stroke; opacity: 1; stroke-width: 0.5px; fill: rgb(239, 85, 59); fill-opacity: 1; stroke: rgb(229, 236, 246); stroke-opacity: 1;\"/></g><g class=\"point\"><path d=\"M354.2,192V21.27H367.69V192Z\" style=\"vector-effect: non-scaling-stroke; opacity: 1; stroke-width: 0.5px; fill: rgb(239, 85, 59); fill-opacity: 1; stroke: rgb(229, 236, 246); stroke-opacity: 1;\"/></g><g class=\"point\"><path d=\"M387.93,192V28.8H401.43V192Z\" style=\"vector-effect: non-scaling-stroke; opacity: 1; stroke-width: 0.5px; fill: rgb(239, 85, 59); fill-opacity: 1; stroke: rgb(229, 236, 246); stroke-opacity: 1;\"/></g><g class=\"point\"><path d=\"M421.67,192V14.39H435.16V192Z\" style=\"vector-effect: non-scaling-stroke; opacity: 1; stroke-width: 0.5px; fill: rgb(239, 85, 59); fill-opacity: 1; stroke: rgb(229, 236, 246); stroke-opacity: 1;\"/></g><g class=\"point\"><path d=\"M455.4,192V14.81H468.89V192Z\" style=\"vector-effect: non-scaling-stroke; opacity: 1; stroke-width: 0.5px; fill: rgb(239, 85, 59); fill-opacity: 1; stroke: rgb(229, 236, 246); stroke-opacity: 1;\"/></g><g class=\"point\"><path d=\"M489.13,192V9.81H502.63V192Z\" style=\"vector-effect: non-scaling-stroke; opacity: 1; stroke-width: 0.5px; fill: rgb(239, 85, 59); fill-opacity: 1; stroke: rgb(229, 236, 246); stroke-opacity: 1;\"/></g></g></g></g></g><g class=\"overplot\"/><path class=\"xlines-above crisp\" d=\"M0,0\" style=\"fill: none;\"/><path class=\"ylines-above crisp\" d=\"M0,0\" style=\"fill: none;\"/><g class=\"overlines-above\"/><g class=\"xaxislayer-above\"><g class=\"xtick\"><text text-anchor=\"start\" x=\"0\" y=\"305\" transform=\"translate(96.87,0) rotate(30,0,299)\" style=\"font-family: 'Open Sans', verdana, arial, sans-serif; font-size: 12px; fill: rgb(42, 63, 95); fill-opacity: 1; white-space: pre; opacity: 1;\">Athletics</text></g><g class=\"xtick\"><text text-anchor=\"start\" x=\"0\" y=\"305\" transform=\"translate(130.6,0) rotate(30,0,299)\" style=\"font-family: 'Open Sans', verdana, arial, sans-serif; font-size: 12px; fill: rgb(42, 63, 95); fill-opacity: 1; white-space: pre; opacity: 1;\">Basketball</text></g><g class=\"xtick\"><text text-anchor=\"start\" x=\"0\" y=\"305\" transform=\"translate(164.32999999999998,0) rotate(30,0,299)\" style=\"font-family: 'Open Sans', verdana, arial, sans-serif; font-size: 12px; fill: rgb(42, 63, 95); fill-opacity: 1; white-space: pre; opacity: 1;\">Beach Volleyball</text></g><g class=\"xtick\"><text text-anchor=\"start\" x=\"0\" y=\"305\" transform=\"translate(198.07,0) rotate(30,0,299)\" style=\"font-family: 'Open Sans', verdana, arial, sans-serif; font-size: 12px; fill: rgb(42, 63, 95); fill-opacity: 1; white-space: pre; opacity: 1;\">Boxing</text></g><g class=\"xtick\"><text text-anchor=\"start\" x=\"0\" y=\"305\" transform=\"translate(231.8,0) rotate(30,0,299)\" style=\"font-family: 'Open Sans', verdana, arial, sans-serif; font-size: 12px; fill: rgb(42, 63, 95); fill-opacity: 1; white-space: pre; opacity: 1;\">Canoeing</text></g><g class=\"xtick\"><text text-anchor=\"start\" x=\"0\" y=\"305\" transform=\"translate(265.53,0) rotate(30,0,299)\" style=\"font-family: 'Open Sans', verdana, arial, sans-serif; font-size: 12px; fill: rgb(42, 63, 95); fill-opacity: 1; white-space: pre; opacity: 1;\">Equestrianism</text></g><g class=\"xtick\"><text text-anchor=\"start\" x=\"0\" y=\"305\" transform=\"translate(299.27,0) rotate(30,0,299)\" style=\"font-family: 'Open Sans', verdana, arial, sans-serif; font-size: 12px; fill: rgb(42, 63, 95); fill-opacity: 1; white-space: pre; opacity: 1;\">Football</text></g><g class=\"xtick\"><text text-anchor=\"start\" x=\"0\" y=\"305\" transform=\"translate(333,0) rotate(30,0,299)\" style=\"font-family: 'Open Sans', verdana, arial, sans-serif; font-size: 12px; fill: rgb(42, 63, 95); fill-opacity: 1; white-space: pre; opacity: 1;\">Gymnastics</text></g><g class=\"xtick\"><text text-anchor=\"start\" x=\"0\" y=\"305\" transform=\"translate(366.73,0) rotate(30,0,299)\" style=\"font-family: 'Open Sans', verdana, arial, sans-serif; font-size: 12px; fill: rgb(42, 63, 95); fill-opacity: 1; white-space: pre; opacity: 1;\">Judo</text></g><g class=\"xtick\"><text text-anchor=\"start\" x=\"0\" y=\"305\" transform=\"translate(400.47,0) rotate(30,0,299)\" style=\"font-family: 'Open Sans', verdana, arial, sans-serif; font-size: 12px; fill: rgb(42, 63, 95); fill-opacity: 1; white-space: pre; opacity: 1;\">Modern Pentathlon</text></g><g class=\"xtick\"><text text-anchor=\"start\" x=\"0\" y=\"305\" transform=\"translate(434.2,0) rotate(30,0,299)\" style=\"font-family: 'Open Sans', verdana, arial, sans-serif; font-size: 12px; fill: rgb(42, 63, 95); fill-opacity: 1; white-space: pre; opacity: 1;\">Sailing</text></g><g class=\"xtick\"><text text-anchor=\"start\" x=\"0\" y=\"305\" transform=\"translate(467.93,0) rotate(30,0,299)\" style=\"font-family: 'Open Sans', verdana, arial, sans-serif; font-size: 12px; fill: rgb(42, 63, 95); fill-opacity: 1; white-space: pre; opacity: 1;\">Shooting</text></g><g class=\"xtick\"><text text-anchor=\"start\" x=\"0\" y=\"305\" transform=\"translate(501.67,0) rotate(30,0,299)\" style=\"font-family: 'Open Sans', verdana, arial, sans-serif; font-size: 12px; fill: rgb(42, 63, 95); fill-opacity: 1; white-space: pre; opacity: 1;\">Swimming</text></g><g class=\"xtick\"><text text-anchor=\"start\" x=\"0\" y=\"305\" transform=\"translate(535.4,0) rotate(30,0,299)\" style=\"font-family: 'Open Sans', verdana, arial, sans-serif; font-size: 12px; fill: rgb(42, 63, 95); fill-opacity: 1; white-space: pre; opacity: 1;\">Taekwondo</text></g><g class=\"xtick\"><text text-anchor=\"start\" x=\"0\" y=\"305\" transform=\"translate(569.13,0) rotate(30,0,299)\" style=\"font-family: 'Open Sans', verdana, arial, sans-serif; font-size: 12px; fill: rgb(42, 63, 95); fill-opacity: 1; white-space: pre; opacity: 1;\">Volleyball</text></g></g><g class=\"yaxislayer-above\"><g class=\"ytick\"><text text-anchor=\"end\" x=\"79\" y=\"4.199999999999999\" transform=\"translate(0,292)\" style=\"font-family: 'Open Sans', verdana, arial, sans-serif; font-size: 12px; fill: rgb(42, 63, 95); fill-opacity: 1; white-space: pre; opacity: 1;\">0</text></g><g class=\"ytick\"><text text-anchor=\"end\" x=\"79\" y=\"4.199999999999999\" style=\"font-family: 'Open Sans', verdana, arial, sans-serif; font-size: 12px; fill: rgb(42, 63, 95); fill-opacity: 1; white-space: pre; opacity: 1;\" transform=\"translate(0,245.37)\">50</text></g><g class=\"ytick\"><text text-anchor=\"end\" x=\"79\" y=\"4.199999999999999\" style=\"font-family: 'Open Sans', verdana, arial, sans-serif; font-size: 12px; fill: rgb(42, 63, 95); fill-opacity: 1; white-space: pre; opacity: 1;\" transform=\"translate(0,198.74)\">100</text></g><g class=\"ytick\"><text text-anchor=\"end\" x=\"79\" y=\"4.199999999999999\" style=\"font-family: 'Open Sans', verdana, arial, sans-serif; font-size: 12px; fill: rgb(42, 63, 95); fill-opacity: 1; white-space: pre; opacity: 1;\" transform=\"translate(0,152.11)\">150</text></g><g class=\"ytick\"><text text-anchor=\"end\" x=\"79\" y=\"4.199999999999999\" style=\"font-family: 'Open Sans', verdana, arial, sans-serif; font-size: 12px; fill: rgb(42, 63, 95); fill-opacity: 1; white-space: pre; opacity: 1;\" transform=\"translate(0,105.48)\">200</text></g></g><g class=\"overaxes-above\"/></g></g><g class=\"polarlayer\"/><g class=\"ternarylayer\"/><g class=\"geolayer\"/><g class=\"funnelarealayer\"/><g class=\"pielayer\"/><g class=\"iciclelayer\"/><g class=\"treemaplayer\"/><g class=\"sunburstlayer\"/><g class=\"glimages\"/><defs id=\"topdefs-9dc9ce\"><g class=\"clips\"/><clipPath id=\"legend9dc9ce\"><rect width=\"92\" height=\"67\" x=\"0\" y=\"0\"/></clipPath></defs><g class=\"layer-above\"><g class=\"imagelayer\"/><g class=\"shapelayer\"/></g><g class=\"infolayer\"><g class=\"legend\" pointer-events=\"all\" transform=\"translate(596.12,100)\"><rect class=\"bg\" shape-rendering=\"crispEdges\" style=\"stroke: rgb(68, 68, 68); stroke-opacity: 1; fill: rgb(255, 255, 255); fill-opacity: 1; stroke-width: 0px;\" width=\"92\" height=\"67\" x=\"0\" y=\"0\"/><g class=\"scrollbox\" transform=\"\" clip-path=\"url(#legend9dc9ce)\"><text class=\"legendtitletext\" text-anchor=\"start\" x=\"2\" y=\"18.2\" style=\"font-family: 'Open Sans', verdana, arial, sans-serif; font-size: 14px; fill: rgb(42, 63, 95); fill-opacity: 1; white-space: pre;\">Sexo</text><g class=\"groups\" transform=\"\"><g class=\"traces\" transform=\"translate(0,32.7)\" style=\"opacity: 1;\"><text class=\"legendtext\" text-anchor=\"start\" x=\"40\" y=\"4.680000000000001\" style=\"font-family: 'Open Sans', verdana, arial, sans-serif; font-size: 12px; fill: rgb(42, 63, 95); fill-opacity: 1; white-space: pre;\">Mulher</text><g class=\"layers\" style=\"opacity: 1;\"><g class=\"legendfill\"/><g class=\"legendlines\"/><g class=\"legendsymbols\"><g class=\"legendpoints\"><path class=\"legendundefined\" d=\"M6,6H-6V-6H6Z\" transform=\"translate(20,0)\" style=\"stroke-width: 0.5px; fill: rgb(99, 110, 250); fill-opacity: 1; stroke: rgb(229, 236, 246); stroke-opacity: 1;\"/></g></g></g><rect class=\"legendtoggle\" x=\"0\" y=\"-9.5\" width=\"86.796875\" height=\"19\" style=\"fill: rgb(0, 0, 0); fill-opacity: 0;\"/></g></g><g class=\"groups\" transform=\"\"><g class=\"traces\" transform=\"translate(0,51.7)\" style=\"opacity: 1;\"><text class=\"legendtext\" text-anchor=\"start\" x=\"40\" y=\"4.680000000000001\" style=\"font-family: 'Open Sans', verdana, arial, sans-serif; font-size: 12px; fill: rgb(42, 63, 95); fill-opacity: 1; white-space: pre;\">Homem</text><g class=\"layers\" style=\"opacity: 1;\"><g class=\"legendfill\"/><g class=\"legendlines\"/><g class=\"legendsymbols\"><g class=\"legendpoints\"><path class=\"legendundefined\" d=\"M6,6H-6V-6H6Z\" transform=\"translate(20,0)\" style=\"stroke-width: 0.5px; fill: rgb(239, 85, 59); fill-opacity: 1; stroke: rgb(229, 236, 246); stroke-opacity: 1;\"/></g></g></g><rect class=\"legendtoggle\" x=\"0\" y=\"-9.5\" width=\"86.796875\" height=\"19\" style=\"fill: rgb(0, 0, 0); fill-opacity: 0;\"/></g></g></g><rect class=\"scrollbar\" rx=\"20\" ry=\"3\" width=\"0\" height=\"0\" style=\"fill: rgb(128, 139, 164); fill-opacity: 1;\" x=\"0\" y=\"0\"/></g><g class=\"g-gtitle\"><text class=\"gtitle\" x=\"35\" y=\"50\" text-anchor=\"start\" dy=\"0em\" style=\"font-family: 'Open Sans', verdana, arial, sans-serif; font-size: 17px; fill: rgb(42, 63, 95); opacity: 1; font-weight: normal; white-space: pre;\">A comparação entre as alturas médias dos atletas medalhistas  olímpicos por altura média e gênero</text></g><g class=\"g-xtitle\"><text class=\"xtitle\" x=\"333\" y=\"387.848828125\" text-anchor=\"middle\" style=\"font-family: 'Open Sans', verdana, arial, sans-serif; font-size: 14px; fill: rgb(42, 63, 95); opacity: 1; font-weight: normal; white-space: pre;\">Sport</text></g><g class=\"g-ytitle\"><text class=\"ytitle\" transform=\"rotate(-90,31.309375000000003,196)\" x=\"31.309375000000003\" y=\"196\" text-anchor=\"middle\" style=\"font-family: 'Open Sans', verdana, arial, sans-serif; font-size: 14px; fill: rgb(42, 63, 95); opacity: 1; font-weight: normal; white-space: pre;\">Altura média (cm)</text></g></g></svg>"
          },
          "metadata": {},
          "output_type": "display_data"
        }
      ],
      "source": [
        "#Essa célula é responsável por gerar o gráfico\n",
        "import plotly.express as px\n",
        "df = px.data.tips()\n",
        "fig = px.bar(df_teste_altura_sexo, x=df_teste_altura_sexo.index, y = df_teste_altura_sexo.columns ,\n",
        "             barmode='group',\n",
        "             labels = {'value': 'Altura média (cm)',\n",
        "             'Sex': 'Sexo',},\n",
        "             height=400,\n",
        "             title ='A comparação entre as alturas médias dos atletas medalhistas  olímpicos por altura média e gênero' )\n",
        "\n",
        "fig.show(renderer='svg')"
      ]
    },
    {
      "cell_type": "markdown",
      "metadata": {
        "id": "jdkF3xYrnbij"
      },
      "source": [
        "Agora gere um gráfico semelhante ilustrando o peso dos atletas."
      ]
    },
    {
      "cell_type": "markdown",
      "metadata": {},
      "source": [
        "<br><span style = 'color: green; font-size: 1.4em'> &nbsp;&nbsp;&nbsp;&nbsp;&nbsp;&nbsp;&nbsp;&nbsp; Os valores que aparecerem com NA na tabela resultante serão substituidos por valor 0. Tem esportes sem ganhadores olímpicos para ambos os sexos. Ainda foi feita uma troca no nomes das colunas para termos uma comunicação mais efetiva. O gráfico resultante mostra a relação entre peso e os ganhadores brasileiros olímpicos </span>"
      ]
    },
    {
      "cell_type": "code",
      "execution_count": 5,
      "metadata": {
        "id": "MbEXAcU0nbij"
      },
      "outputs": [
        {
          "data": {
            "text/html": [
              "<div><div id=8d378c66-afbd-4a90-851b-e05296c04e94 style=\"display:none; background-color:#9D6CFF; color:white; width:200px; height:30px; padding-left:5px; border-radius:4px; flex-direction:row; justify-content:space-around; align-items:center;\" onmouseover=\"this.style.backgroundColor='#BA9BF8'\" onmouseout=\"this.style.backgroundColor='#9D6CFF'\" onclick=\"window.commands?.execute('create-mitosheet-from-dataframe-output');\">See Full Dataframe in Mito</div> <script> if (window.commands.hasCommand('create-mitosheet-from-dataframe-output')) document.getElementById('8d378c66-afbd-4a90-851b-e05296c04e94').style.display = 'flex' </script> <table border=\"1\" class=\"dataframe\">\n",
              "  <thead>\n",
              "    <tr style=\"text-align: right;\">\n",
              "      <th>Sex</th>\n",
              "      <th>Mulher</th>\n",
              "      <th>Homem</th>\n",
              "    </tr>\n",
              "    <tr>\n",
              "      <th>Sport</th>\n",
              "      <th></th>\n",
              "      <th></th>\n",
              "    </tr>\n",
              "  </thead>\n",
              "  <tbody>\n",
              "    <tr>\n",
              "      <th>Athletics</th>\n",
              "      <td>61.000000</td>\n",
              "      <td>75.120000</td>\n",
              "    </tr>\n",
              "    <tr>\n",
              "      <th>Basketball</th>\n",
              "      <td>71.625000</td>\n",
              "      <td>85.954545</td>\n",
              "    </tr>\n",
              "    <tr>\n",
              "      <th>Beach Volleyball</th>\n",
              "      <td>64.076923</td>\n",
              "      <td>93.416667</td>\n",
              "    </tr>\n",
              "    <tr>\n",
              "      <th>Boxing</th>\n",
              "      <td>60.000000</td>\n",
              "      <td>65.000000</td>\n",
              "    </tr>\n",
              "    <tr>\n",
              "      <th>Canoeing</th>\n",
              "      <td>0.000000</td>\n",
              "      <td>83.250000</td>\n",
              "    </tr>\n",
              "    <tr>\n",
              "      <th>...</th>\n",
              "      <td>...</td>\n",
              "      <td>...</td>\n",
              "    </tr>\n",
              "    <tr>\n",
              "      <th>Sailing</th>\n",
              "      <td>63.250000</td>\n",
              "      <td>82.700000</td>\n",
              "    </tr>\n",
              "    <tr>\n",
              "      <th>Shooting</th>\n",
              "      <td>0.000000</td>\n",
              "      <td>69.000000</td>\n",
              "    </tr>\n",
              "    <tr>\n",
              "      <th>Swimming</th>\n",
              "      <td>52.000000</td>\n",
              "      <td>83.294118</td>\n",
              "    </tr>\n",
              "    <tr>\n",
              "      <th>Taekwondo</th>\n",
              "      <td>69.000000</td>\n",
              "      <td>90.000000</td>\n",
              "    </tr>\n",
              "    <tr>\n",
              "      <th>Volleyball</th>\n",
              "      <td>71.020833</td>\n",
              "      <td>87.930556</td>\n",
              "    </tr>\n",
              "  </tbody>\n",
              "</table></div>"
            ],
            "text/plain": [
              "Sex                   Mulher      Homem\n",
              "Sport                                  \n",
              "Athletics          61.000000  75.120000\n",
              "Basketball         71.625000  85.954545\n",
              "Beach Volleyball   64.076923  93.416667\n",
              "Boxing             60.000000  65.000000\n",
              "Canoeing            0.000000  83.250000\n",
              "Equestrianism       0.000000  75.000000\n",
              "Football           60.742857  73.322917\n",
              "Gymnastics          0.000000  63.750000\n",
              "Judo               63.600000  93.375000\n",
              "Modern Pentathlon  55.000000   0.000000\n",
              "Sailing            63.250000  82.700000\n",
              "Shooting            0.000000  69.000000\n",
              "Swimming           52.000000  83.294118\n",
              "Taekwondo          69.000000  90.000000\n",
              "Volleyball         71.020833  87.930556"
            ]
          },
          "execution_count": 5,
          "metadata": {},
          "output_type": "execute_result"
        }
      ],
      "source": [
        "df_teste_peso_sexo = df_brasil_med.groupby(['Sex', 'Sport'])['Weight'].mean()\n",
        "df_teste_peso_sexo = df_teste_peso_sexo.unstack('Sex')\n",
        "\n",
        "df_teste_peso_sexo.fillna(0, inplace = True)\n",
        "df_teste_peso_sexo.rename(columns = {'F': 'Mulher','M': 'Homem'}, inplace = True)\n",
        "df_teste_peso_sexo"
      ]
    },
    {
      "cell_type": "code",
      "execution_count": 6,
      "metadata": {},
      "outputs": [
        {
          "data": {
            "image/svg+xml": "<svg class=\"main-svg\" xmlns=\"http://www.w3.org/2000/svg\" xmlns:xlink=\"http://www.w3.org/1999/xlink\" width=\"700\" height=\"500\" style=\"\" viewBox=\"0 0 700 500\"><rect x=\"0\" y=\"0\" width=\"700\" height=\"500\" style=\"fill: rgb(255, 255, 255); fill-opacity: 1;\"/><defs id=\"defs-e7c248\"><g class=\"clips\"><clipPath id=\"clipe7c248xyplot\" class=\"plotclip\"><rect width=\"506\" height=\"292\"/></clipPath><clipPath class=\"axesclip\" id=\"clipe7c248x\"><rect x=\"80\" y=\"0\" width=\"506\" height=\"500\"/></clipPath><clipPath class=\"axesclip\" id=\"clipe7c248y\"><rect x=\"0\" y=\"100\" width=\"700\" height=\"292\"/></clipPath><clipPath class=\"axesclip\" id=\"clipe7c248xy\"><rect x=\"80\" y=\"100\" width=\"506\" height=\"292\"/></clipPath></g><g class=\"gradients\"/><g class=\"patterns\"/></defs><g class=\"bglayer\"><rect class=\"bg\" x=\"80\" y=\"100\" width=\"506\" height=\"292\" style=\"fill: rgb(229, 236, 246); fill-opacity: 1; stroke-width: 0;\"/></g><g class=\"layer-below\"><g class=\"imagelayer\"/><g class=\"shapelayer\"/></g><g class=\"cartesianlayer\"><g class=\"subplot xy\"><g class=\"layer-subplot\"><g class=\"shapelayer\"/><g class=\"imagelayer\"/></g><g class=\"gridlayer\"><g class=\"x\"/><g class=\"y\"><path class=\"ygrid crisp\" transform=\"translate(0,332.61)\" d=\"M80,0h506\" style=\"stroke: rgb(255, 255, 255); stroke-opacity: 1; stroke-width: 1px;\"/><path class=\"ygrid crisp\" transform=\"translate(0,273.22)\" d=\"M80,0h506\" style=\"stroke: rgb(255, 255, 255); stroke-opacity: 1; stroke-width: 1px;\"/><path class=\"ygrid crisp\" transform=\"translate(0,213.82999999999998)\" d=\"M80,0h506\" style=\"stroke: rgb(255, 255, 255); stroke-opacity: 1; stroke-width: 1px;\"/><path class=\"ygrid crisp\" transform=\"translate(0,154.44)\" d=\"M80,0h506\" style=\"stroke: rgb(255, 255, 255); stroke-opacity: 1; stroke-width: 1px;\"/></g></g><g class=\"zerolinelayer\"><path class=\"yzl zl crisp\" transform=\"translate(0,392)\" d=\"M80,0h506\" style=\"stroke: rgb(255, 255, 255); stroke-opacity: 1; stroke-width: 2px;\"/></g><path class=\"xlines-below\"/><path class=\"ylines-below\"/><g class=\"overlines-below\"/><g class=\"xaxislayer-below\"/><g class=\"yaxislayer-below\"/><g class=\"overaxes-below\"/><g class=\"plot\" transform=\"translate(80,100)\" clip-path=\"url(#clipe7c248xyplot)\"><g class=\"barlayer mlayer\"><g class=\"trace bars\" style=\"opacity: 1;\"><g class=\"points\"><g class=\"point\"><path d=\"M3.37,292V110.86H16.87V292Z\" style=\"vector-effect: non-scaling-stroke; opacity: 1; stroke-width: 0.5px; fill: rgb(99, 110, 250); fill-opacity: 1; stroke: rgb(229, 236, 246); stroke-opacity: 1;\"/></g><g class=\"point\"><path d=\"M37.11,292V79.31H50.6V292Z\" style=\"vector-effect: non-scaling-stroke; opacity: 1; stroke-width: 0.5px; fill: rgb(99, 110, 250); fill-opacity: 1; stroke: rgb(229, 236, 246); stroke-opacity: 1;\"/></g><g class=\"point\"><path d=\"M70.84,292V101.72H84.33V292Z\" style=\"vector-effect: non-scaling-stroke; opacity: 1; stroke-width: 0.5px; fill: rgb(99, 110, 250); fill-opacity: 1; stroke: rgb(229, 236, 246); stroke-opacity: 1;\"/></g><g class=\"point\"><path d=\"M104.57,292V113.83H118.07V292Z\" style=\"vector-effect: non-scaling-stroke; opacity: 1; stroke-width: 0.5px; fill: rgb(99, 110, 250); fill-opacity: 1; stroke: rgb(229, 236, 246); stroke-opacity: 1;\"/></g><g class=\"point\"><path d=\"M138.31,292V292H151.8V292Z\" style=\"vector-effect: non-scaling-stroke; opacity: 1; stroke-width: 0.5px; fill: rgb(99, 110, 250); fill-opacity: 1; stroke: rgb(229, 236, 246); stroke-opacity: 1;\"/></g><g class=\"point\"><path d=\"M172.04,292V292H185.53V292Z\" style=\"vector-effect: non-scaling-stroke; opacity: 1; stroke-width: 0.5px; fill: rgb(99, 110, 250); fill-opacity: 1; stroke: rgb(229, 236, 246); stroke-opacity: 1;\"/></g><g class=\"point\"><path d=\"M205.77,292V111.62H219.27V292Z\" style=\"vector-effect: non-scaling-stroke; opacity: 1; stroke-width: 0.5px; fill: rgb(99, 110, 250); fill-opacity: 1; stroke: rgb(229, 236, 246); stroke-opacity: 1;\"/></g><g class=\"point\"><path d=\"M239.51,292V292H253V292Z\" style=\"vector-effect: non-scaling-stroke; opacity: 1; stroke-width: 0.5px; fill: rgb(99, 110, 250); fill-opacity: 1; stroke: rgb(229, 236, 246); stroke-opacity: 1;\"/></g><g class=\"point\"><path d=\"M273.24,292V103.14H286.73V292Z\" style=\"vector-effect: non-scaling-stroke; opacity: 1; stroke-width: 0.5px; fill: rgb(99, 110, 250); fill-opacity: 1; stroke: rgb(229, 236, 246); stroke-opacity: 1;\"/></g><g class=\"point\"><path d=\"M306.97,292V128.68H320.47V292Z\" style=\"vector-effect: non-scaling-stroke; opacity: 1; stroke-width: 0.5px; fill: rgb(99, 110, 250); fill-opacity: 1; stroke: rgb(229, 236, 246); stroke-opacity: 1;\"/></g><g class=\"point\"><path d=\"M340.71,292V104.18H354.2V292Z\" style=\"vector-effect: non-scaling-stroke; opacity: 1; stroke-width: 0.5px; fill: rgb(99, 110, 250); fill-opacity: 1; stroke: rgb(229, 236, 246); stroke-opacity: 1;\"/></g><g class=\"point\"><path d=\"M374.44,292V292H387.93V292Z\" style=\"vector-effect: non-scaling-stroke; opacity: 1; stroke-width: 0.5px; fill: rgb(99, 110, 250); fill-opacity: 1; stroke: rgb(229, 236, 246); stroke-opacity: 1;\"/></g><g class=\"point\"><path d=\"M408.17,292V137.59H421.67V292Z\" style=\"vector-effect: non-scaling-stroke; opacity: 1; stroke-width: 0.5px; fill: rgb(99, 110, 250); fill-opacity: 1; stroke: rgb(229, 236, 246); stroke-opacity: 1;\"/></g><g class=\"point\"><path d=\"M441.91,292V87.11H455.4V292Z\" style=\"vector-effect: non-scaling-stroke; opacity: 1; stroke-width: 0.5px; fill: rgb(99, 110, 250); fill-opacity: 1; stroke: rgb(229, 236, 246); stroke-opacity: 1;\"/></g><g class=\"point\"><path d=\"M475.64,292V81.1H489.13V292Z\" style=\"vector-effect: non-scaling-stroke; opacity: 1; stroke-width: 0.5px; fill: rgb(99, 110, 250); fill-opacity: 1; stroke: rgb(229, 236, 246); stroke-opacity: 1;\"/></g></g></g><g class=\"trace bars\" style=\"opacity: 1;\"><g class=\"points\"><g class=\"point\"><path d=\"M16.87,292V68.93H30.36V292Z\" style=\"vector-effect: non-scaling-stroke; opacity: 1; stroke-width: 0.5px; fill: rgb(239, 85, 59); fill-opacity: 1; stroke: rgb(229, 236, 246); stroke-opacity: 1;\"/></g><g class=\"point\"><path d=\"M50.6,292V36.76H64.09V292Z\" style=\"vector-effect: non-scaling-stroke; opacity: 1; stroke-width: 0.5px; fill: rgb(239, 85, 59); fill-opacity: 1; stroke: rgb(229, 236, 246); stroke-opacity: 1;\"/></g><g class=\"point\"><path d=\"M84.33,292V14.6H97.83V292Z\" style=\"vector-effect: non-scaling-stroke; opacity: 1; stroke-width: 0.5px; fill: rgb(239, 85, 59); fill-opacity: 1; stroke: rgb(229, 236, 246); stroke-opacity: 1;\"/></g><g class=\"point\"><path d=\"M118.07,292V98.98H131.56V292Z\" style=\"vector-effect: non-scaling-stroke; opacity: 1; stroke-width: 0.5px; fill: rgb(239, 85, 59); fill-opacity: 1; stroke: rgb(229, 236, 246); stroke-opacity: 1;\"/></g><g class=\"point\"><path d=\"M151.8,292V44.79H165.29V292Z\" style=\"vector-effect: non-scaling-stroke; opacity: 1; stroke-width: 0.5px; fill: rgb(239, 85, 59); fill-opacity: 1; stroke: rgb(229, 236, 246); stroke-opacity: 1;\"/></g><g class=\"point\"><path d=\"M185.53,292V69.29H199.03V292Z\" style=\"vector-effect: non-scaling-stroke; opacity: 1; stroke-width: 0.5px; fill: rgb(239, 85, 59); fill-opacity: 1; stroke: rgb(229, 236, 246); stroke-opacity: 1;\"/></g><g class=\"point\"><path d=\"M219.27,292V74.27H232.76V292Z\" style=\"vector-effect: non-scaling-stroke; opacity: 1; stroke-width: 0.5px; fill: rgb(239, 85, 59); fill-opacity: 1; stroke: rgb(229, 236, 246); stroke-opacity: 1;\"/></g><g class=\"point\"><path d=\"M253,292V102.69H266.49V292Z\" style=\"vector-effect: non-scaling-stroke; opacity: 1; stroke-width: 0.5px; fill: rgb(239, 85, 59); fill-opacity: 1; stroke: rgb(229, 236, 246); stroke-opacity: 1;\"/></g><g class=\"point\"><path d=\"M286.73,292V14.72H300.23V292Z\" style=\"vector-effect: non-scaling-stroke; opacity: 1; stroke-width: 0.5px; fill: rgb(239, 85, 59); fill-opacity: 1; stroke: rgb(229, 236, 246); stroke-opacity: 1;\"/></g><g class=\"point\"><path d=\"M320.47,292V292H333.96V292Z\" style=\"vector-effect: non-scaling-stroke; opacity: 1; stroke-width: 0.5px; fill: rgb(239, 85, 59); fill-opacity: 1; stroke: rgb(229, 236, 246); stroke-opacity: 1;\"/></g><g class=\"point\"><path d=\"M354.2,292V46.42H367.69V292Z\" style=\"vector-effect: non-scaling-stroke; opacity: 1; stroke-width: 0.5px; fill: rgb(239, 85, 59); fill-opacity: 1; stroke: rgb(229, 236, 246); stroke-opacity: 1;\"/></g><g class=\"point\"><path d=\"M387.93,292V87.11H401.43V292Z\" style=\"vector-effect: non-scaling-stroke; opacity: 1; stroke-width: 0.5px; fill: rgb(239, 85, 59); fill-opacity: 1; stroke: rgb(229, 236, 246); stroke-opacity: 1;\"/></g><g class=\"point\"><path d=\"M421.67,292V44.66H435.16V292Z\" style=\"vector-effect: non-scaling-stroke; opacity: 1; stroke-width: 0.5px; fill: rgb(239, 85, 59); fill-opacity: 1; stroke: rgb(229, 236, 246); stroke-opacity: 1;\"/></g><g class=\"point\"><path d=\"M455.4,292V24.75H468.89V292Z\" style=\"vector-effect: non-scaling-stroke; opacity: 1; stroke-width: 0.5px; fill: rgb(239, 85, 59); fill-opacity: 1; stroke: rgb(229, 236, 246); stroke-opacity: 1;\"/></g><g class=\"point\"><path d=\"M489.13,292V30.89H502.63V292Z\" style=\"vector-effect: non-scaling-stroke; opacity: 1; stroke-width: 0.5px; fill: rgb(239, 85, 59); fill-opacity: 1; stroke: rgb(229, 236, 246); stroke-opacity: 1;\"/></g></g></g></g></g><g class=\"overplot\"/><path class=\"xlines-above crisp\" d=\"M0,0\" style=\"fill: none;\"/><path class=\"ylines-above crisp\" d=\"M0,0\" style=\"fill: none;\"/><g class=\"overlines-above\"/><g class=\"xaxislayer-above\"><g class=\"xtick\"><text text-anchor=\"start\" x=\"0\" y=\"405\" transform=\"translate(96.87,0) rotate(30,0,399)\" style=\"font-family: 'Open Sans', verdana, arial, sans-serif; font-size: 12px; fill: rgb(42, 63, 95); fill-opacity: 1; white-space: pre; opacity: 1;\">Athletics</text></g><g class=\"xtick\"><text text-anchor=\"start\" x=\"0\" y=\"405\" transform=\"translate(130.6,0) rotate(30,0,399)\" style=\"font-family: 'Open Sans', verdana, arial, sans-serif; font-size: 12px; fill: rgb(42, 63, 95); fill-opacity: 1; white-space: pre; opacity: 1;\">Basketball</text></g><g class=\"xtick\"><text text-anchor=\"start\" x=\"0\" y=\"405\" transform=\"translate(164.32999999999998,0) rotate(30,0,399)\" style=\"font-family: 'Open Sans', verdana, arial, sans-serif; font-size: 12px; fill: rgb(42, 63, 95); fill-opacity: 1; white-space: pre; opacity: 1;\">Beach Volleyball</text></g><g class=\"xtick\"><text text-anchor=\"start\" x=\"0\" y=\"405\" transform=\"translate(198.07,0) rotate(30,0,399)\" style=\"font-family: 'Open Sans', verdana, arial, sans-serif; font-size: 12px; fill: rgb(42, 63, 95); fill-opacity: 1; white-space: pre; opacity: 1;\">Boxing</text></g><g class=\"xtick\"><text text-anchor=\"start\" x=\"0\" y=\"405\" transform=\"translate(231.8,0) rotate(30,0,399)\" style=\"font-family: 'Open Sans', verdana, arial, sans-serif; font-size: 12px; fill: rgb(42, 63, 95); fill-opacity: 1; white-space: pre; opacity: 1;\">Canoeing</text></g><g class=\"xtick\"><text text-anchor=\"start\" x=\"0\" y=\"405\" transform=\"translate(265.53,0) rotate(30,0,399)\" style=\"font-family: 'Open Sans', verdana, arial, sans-serif; font-size: 12px; fill: rgb(42, 63, 95); fill-opacity: 1; white-space: pre; opacity: 1;\">Equestrianism</text></g><g class=\"xtick\"><text text-anchor=\"start\" x=\"0\" y=\"405\" transform=\"translate(299.27,0) rotate(30,0,399)\" style=\"font-family: 'Open Sans', verdana, arial, sans-serif; font-size: 12px; fill: rgb(42, 63, 95); fill-opacity: 1; white-space: pre; opacity: 1;\">Football</text></g><g class=\"xtick\"><text text-anchor=\"start\" x=\"0\" y=\"405\" transform=\"translate(333,0) rotate(30,0,399)\" style=\"font-family: 'Open Sans', verdana, arial, sans-serif; font-size: 12px; fill: rgb(42, 63, 95); fill-opacity: 1; white-space: pre; opacity: 1;\">Gymnastics</text></g><g class=\"xtick\"><text text-anchor=\"start\" x=\"0\" y=\"405\" transform=\"translate(366.73,0) rotate(30,0,399)\" style=\"font-family: 'Open Sans', verdana, arial, sans-serif; font-size: 12px; fill: rgb(42, 63, 95); fill-opacity: 1; white-space: pre; opacity: 1;\">Judo</text></g><g class=\"xtick\"><text text-anchor=\"start\" x=\"0\" y=\"405\" transform=\"translate(400.47,0) rotate(30,0,399)\" style=\"font-family: 'Open Sans', verdana, arial, sans-serif; font-size: 12px; fill: rgb(42, 63, 95); fill-opacity: 1; white-space: pre; opacity: 1;\">Modern Pentathlon</text></g><g class=\"xtick\"><text text-anchor=\"start\" x=\"0\" y=\"405\" transform=\"translate(434.2,0) rotate(30,0,399)\" style=\"font-family: 'Open Sans', verdana, arial, sans-serif; font-size: 12px; fill: rgb(42, 63, 95); fill-opacity: 1; white-space: pre; opacity: 1;\">Sailing</text></g><g class=\"xtick\"><text text-anchor=\"start\" x=\"0\" y=\"405\" transform=\"translate(467.93,0) rotate(30,0,399)\" style=\"font-family: 'Open Sans', verdana, arial, sans-serif; font-size: 12px; fill: rgb(42, 63, 95); fill-opacity: 1; white-space: pre; opacity: 1;\">Shooting</text></g><g class=\"xtick\"><text text-anchor=\"start\" x=\"0\" y=\"405\" transform=\"translate(501.67,0) rotate(30,0,399)\" style=\"font-family: 'Open Sans', verdana, arial, sans-serif; font-size: 12px; fill: rgb(42, 63, 95); fill-opacity: 1; white-space: pre; opacity: 1;\">Swimming</text></g><g class=\"xtick\"><text text-anchor=\"start\" x=\"0\" y=\"405\" transform=\"translate(535.4,0) rotate(30,0,399)\" style=\"font-family: 'Open Sans', verdana, arial, sans-serif; font-size: 12px; fill: rgb(42, 63, 95); fill-opacity: 1; white-space: pre; opacity: 1;\">Taekwondo</text></g><g class=\"xtick\"><text text-anchor=\"start\" x=\"0\" y=\"405\" transform=\"translate(569.13,0) rotate(30,0,399)\" style=\"font-family: 'Open Sans', verdana, arial, sans-serif; font-size: 12px; fill: rgb(42, 63, 95); fill-opacity: 1; white-space: pre; opacity: 1;\">Volleyball</text></g></g><g class=\"yaxislayer-above\"><g class=\"ytick\"><text text-anchor=\"end\" x=\"79\" y=\"4.199999999999999\" transform=\"translate(0,392)\" style=\"font-family: 'Open Sans', verdana, arial, sans-serif; font-size: 12px; fill: rgb(42, 63, 95); fill-opacity: 1; white-space: pre; opacity: 1;\">0</text></g><g class=\"ytick\"><text text-anchor=\"end\" x=\"79\" y=\"4.199999999999999\" style=\"font-family: 'Open Sans', verdana, arial, sans-serif; font-size: 12px; fill: rgb(42, 63, 95); fill-opacity: 1; white-space: pre; opacity: 1;\" transform=\"translate(0,332.61)\">20</text></g><g class=\"ytick\"><text text-anchor=\"end\" x=\"79\" y=\"4.199999999999999\" style=\"font-family: 'Open Sans', verdana, arial, sans-serif; font-size: 12px; fill: rgb(42, 63, 95); fill-opacity: 1; white-space: pre; opacity: 1;\" transform=\"translate(0,273.22)\">40</text></g><g class=\"ytick\"><text text-anchor=\"end\" x=\"79\" y=\"4.199999999999999\" style=\"font-family: 'Open Sans', verdana, arial, sans-serif; font-size: 12px; fill: rgb(42, 63, 95); fill-opacity: 1; white-space: pre; opacity: 1;\" transform=\"translate(0,213.82999999999998)\">60</text></g><g class=\"ytick\"><text text-anchor=\"end\" x=\"79\" y=\"4.199999999999999\" style=\"font-family: 'Open Sans', verdana, arial, sans-serif; font-size: 12px; fill: rgb(42, 63, 95); fill-opacity: 1; white-space: pre; opacity: 1;\" transform=\"translate(0,154.44)\">80</text></g></g><g class=\"overaxes-above\"/></g></g><g class=\"polarlayer\"/><g class=\"ternarylayer\"/><g class=\"geolayer\"/><g class=\"funnelarealayer\"/><g class=\"pielayer\"/><g class=\"iciclelayer\"/><g class=\"treemaplayer\"/><g class=\"sunburstlayer\"/><g class=\"glimages\"/><defs id=\"topdefs-e7c248\"><g class=\"clips\"/><clipPath id=\"legende7c248\"><rect width=\"92\" height=\"67\" x=\"0\" y=\"0\"/></clipPath></defs><g class=\"layer-above\"><g class=\"imagelayer\"/><g class=\"shapelayer\"/></g><g class=\"infolayer\"><g class=\"legend\" pointer-events=\"all\" transform=\"translate(596.12,100)\"><rect class=\"bg\" shape-rendering=\"crispEdges\" width=\"92\" height=\"67\" x=\"0\" y=\"0\" style=\"stroke: rgb(68, 68, 68); stroke-opacity: 1; fill: rgb(255, 255, 255); fill-opacity: 1; stroke-width: 0px;\"/><g class=\"scrollbox\" transform=\"\" clip-path=\"url(#legende7c248)\"><text class=\"legendtitletext\" text-anchor=\"start\" x=\"2\" y=\"18.2\" style=\"font-family: 'Open Sans', verdana, arial, sans-serif; font-size: 14px; fill: rgb(42, 63, 95); fill-opacity: 1; white-space: pre;\">Sexo</text><g class=\"groups\" transform=\"\"><g class=\"traces\" transform=\"translate(0,32.7)\" style=\"opacity: 1;\"><text class=\"legendtext\" text-anchor=\"start\" x=\"40\" y=\"4.680000000000001\" style=\"font-family: 'Open Sans', verdana, arial, sans-serif; font-size: 12px; fill: rgb(42, 63, 95); fill-opacity: 1; white-space: pre;\">Mulher</text><g class=\"layers\" style=\"opacity: 1;\"><g class=\"legendfill\"/><g class=\"legendlines\"/><g class=\"legendsymbols\"><g class=\"legendpoints\"><path class=\"legendundefined\" d=\"M6,6H-6V-6H6Z\" transform=\"translate(20,0)\" style=\"stroke-width: 0.5px; fill: rgb(99, 110, 250); fill-opacity: 1; stroke: rgb(229, 236, 246); stroke-opacity: 1;\"/></g></g></g><rect class=\"legendtoggle\" x=\"0\" y=\"-9.5\" width=\"86.796875\" height=\"19\" style=\"fill: rgb(0, 0, 0); fill-opacity: 0;\"/></g></g><g class=\"groups\" transform=\"\"><g class=\"traces\" transform=\"translate(0,51.7)\" style=\"opacity: 1;\"><text class=\"legendtext\" text-anchor=\"start\" x=\"40\" y=\"4.680000000000001\" style=\"font-family: 'Open Sans', verdana, arial, sans-serif; font-size: 12px; fill: rgb(42, 63, 95); fill-opacity: 1; white-space: pre;\">Homem</text><g class=\"layers\" style=\"opacity: 1;\"><g class=\"legendfill\"/><g class=\"legendlines\"/><g class=\"legendsymbols\"><g class=\"legendpoints\"><path class=\"legendundefined\" d=\"M6,6H-6V-6H6Z\" transform=\"translate(20,0)\" style=\"stroke-width: 0.5px; fill: rgb(239, 85, 59); fill-opacity: 1; stroke: rgb(229, 236, 246); stroke-opacity: 1;\"/></g></g></g><rect class=\"legendtoggle\" x=\"0\" y=\"-9.5\" width=\"86.796875\" height=\"19\" style=\"fill: rgb(0, 0, 0); fill-opacity: 0;\"/></g></g></g><rect class=\"scrollbar\" rx=\"20\" ry=\"3\" width=\"0\" height=\"0\" x=\"0\" y=\"0\" style=\"fill: rgb(128, 139, 164); fill-opacity: 1;\"/></g><g class=\"g-gtitle\"><text class=\"gtitle\" x=\"35\" y=\"50\" text-anchor=\"start\" dy=\"0em\" style=\"font-family: 'Open Sans', verdana, arial, sans-serif; font-size: 17px; fill: rgb(42, 63, 95); opacity: 1; font-weight: normal; white-space: pre;\">A comparação entre as pesos médios dos atletas medalhistas olímpicos por altura média e gênero</text></g><g class=\"g-xtitle\"><text class=\"xtitle\" x=\"333\" y=\"487.848828125\" text-anchor=\"middle\" style=\"font-family: 'Open Sans', verdana, arial, sans-serif; font-size: 14px; fill: rgb(42, 63, 95); opacity: 1; font-weight: normal; white-space: pre;\">Sport</text></g><g class=\"g-ytitle\"><text class=\"ytitle\" transform=\"rotate(-90,38.934375,246)\" x=\"38.934375\" y=\"246\" text-anchor=\"middle\" style=\"font-family: 'Open Sans', verdana, arial, sans-serif; font-size: 14px; fill: rgb(42, 63, 95); opacity: 1; font-weight: normal; white-space: pre;\">Peso médio (cm)</text></g></g></svg>"
          },
          "metadata": {},
          "output_type": "display_data"
        }
      ],
      "source": [
        "import plotly.express as px\n",
        "df = px.data.tips()\n",
        "\n",
        "titulo ='A comparação entre as pesos médios dos atletas medalhistas olímpicos por altura média e gênero'\n",
        "\n",
        "\n",
        "fig = px.bar(df_teste_peso_sexo, x=df_teste_peso_sexo.index, y = df_teste_peso_sexo.columns,\n",
        "             barmode='group',\n",
        "             labels = {'value': 'Peso médio (cm)',\n",
        "             'Sex': 'Sexo',},\n",
        "             title = titulo)\n",
        "\n",
        "fig.show('svg')"
      ]
    },
    {
      "cell_type": "markdown",
      "metadata": {
        "id": "rYSSCby-nbij"
      },
      "source": [
        "Vamos analisar agora as medalhas que nossos atletas trouxeram para casa.\n",
        "\n",
        "Encontre os maiores medalhistas brasileiros em **total de medalhas**. Em seguida, faça um gráfico de barras empilhadas. No eixo X coloque o nome dos atletas, e no eixo Y coloque o número de medalhas. Utilize as barras empilhadas para mostrar, respectivamente, as medalhas de bronze, prata e ouro de cada atleta."
      ]
    },
    {
      "cell_type": "markdown",
      "metadata": {},
      "source": [
        "<br><span style = 'color: green; font-size: 1.4em'> &nbsp;&nbsp;&nbsp;&nbsp;&nbsp;&nbsp;&nbsp;&nbsp; O dataset df_brasil_med vai ser alterado para adicionar as colunas Bronze, Silver e Gold e o número 1 indica que o atleta ganhou a respectivel medalha. A coluna **_medal_** foi tirada e assim fica mais fácil a apresentação no plotly  </span>"
      ]
    },
    {
      "cell_type": "code",
      "execution_count": 7,
      "metadata": {
        "id": "HYRRGrdVnbik"
      },
      "outputs": [
        {
          "data": {
            "text/html": [
              "<div><div id=79bd6e08-2a66-4a89-be0d-967a4057b6d1 style=\"display:none; background-color:#9D6CFF; color:white; width:200px; height:30px; padding-left:5px; border-radius:4px; flex-direction:row; justify-content:space-around; align-items:center;\" onmouseover=\"this.style.backgroundColor='#BA9BF8'\" onmouseout=\"this.style.backgroundColor='#9D6CFF'\" onclick=\"window.commands?.execute('create-mitosheet-from-dataframe-output');\">See Full Dataframe in Mito</div> <script> if (window.commands.hasCommand('create-mitosheet-from-dataframe-output')) document.getElementById('79bd6e08-2a66-4a89-be0d-967a4057b6d1').style.display = 'flex' </script> <table border=\"1\" class=\"dataframe\">\n",
              "  <thead>\n",
              "    <tr style=\"text-align: right;\">\n",
              "      <th></th>\n",
              "      <th>Name</th>\n",
              "      <th>Bronze</th>\n",
              "      <th>Gold</th>\n",
              "      <th>Silver</th>\n",
              "    </tr>\n",
              "  </thead>\n",
              "  <tbody>\n",
              "    <tr>\n",
              "      <th>0</th>\n",
              "      <td>Ademir Roque Kaefer</td>\n",
              "      <td>0.0</td>\n",
              "      <td>0.0</td>\n",
              "      <td>2.0</td>\n",
              "    </tr>\n",
              "    <tr>\n",
              "      <th>1</th>\n",
              "      <td>Adenzia Aparecida Ferreira da Silva</td>\n",
              "      <td>0.0</td>\n",
              "      <td>1.0</td>\n",
              "      <td>0.0</td>\n",
              "    </tr>\n",
              "    <tr>\n",
              "      <th>2</th>\n",
              "      <td>Adhemar Ferreira da Silva</td>\n",
              "      <td>0.0</td>\n",
              "      <td>2.0</td>\n",
              "      <td>0.0</td>\n",
              "    </tr>\n",
              "    <tr>\n",
              "      <th>3</th>\n",
              "      <td>Adriana \"Adrianinha\" Moiss Pinto</td>\n",
              "      <td>1.0</td>\n",
              "      <td>0.0</td>\n",
              "      <td>0.0</td>\n",
              "    </tr>\n",
              "    <tr>\n",
              "      <th>4</th>\n",
              "      <td>Adriana Aparecida dos Santos</td>\n",
              "      <td>1.0</td>\n",
              "      <td>0.0</td>\n",
              "      <td>1.0</td>\n",
              "    </tr>\n",
              "    <tr>\n",
              "      <th>...</th>\n",
              "      <td>...</td>\n",
              "      <td>...</td>\n",
              "      <td>...</td>\n",
              "      <td>...</td>\n",
              "    </tr>\n",
              "    <tr>\n",
              "      <th>355</th>\n",
              "      <td>der Francis Carbonera</td>\n",
              "      <td>0.0</td>\n",
              "      <td>1.0</td>\n",
              "      <td>0.0</td>\n",
              "    </tr>\n",
              "    <tr>\n",
              "      <th>356</th>\n",
              "      <td>gatha Bednarczuk Rippel</td>\n",
              "      <td>0.0</td>\n",
              "      <td>0.0</td>\n",
              "      <td>1.0</td>\n",
              "    </tr>\n",
              "    <tr>\n",
              "      <th>357</th>\n",
              "      <td>nderson Lus de Abreu Oliveira</td>\n",
              "      <td>1.0</td>\n",
              "      <td>0.0</td>\n",
              "      <td>0.0</td>\n",
              "    </tr>\n",
              "    <tr>\n",
              "      <th>358</th>\n",
              "      <td>rika Cristiano dos Santos</td>\n",
              "      <td>0.0</td>\n",
              "      <td>0.0</td>\n",
              "      <td>1.0</td>\n",
              "    </tr>\n",
              "    <tr>\n",
              "      <th>359</th>\n",
              "      <td>rika Kelly \"Kiki\" Pereira Coimbra</td>\n",
              "      <td>1.0</td>\n",
              "      <td>0.0</td>\n",
              "      <td>0.0</td>\n",
              "    </tr>\n",
              "  </tbody>\n",
              "</table></div>"
            ],
            "text/plain": [
              "                                    Name  Bronze  Gold  Silver\n",
              "0                    Ademir Roque Kaefer     0.0   0.0     2.0\n",
              "1    Adenzia Aparecida Ferreira da Silva     0.0   1.0     0.0\n",
              "2              Adhemar Ferreira da Silva     0.0   2.0     0.0\n",
              "3       Adriana \"Adrianinha\" Moiss Pinto     1.0   0.0     0.0\n",
              "4           Adriana Aparecida dos Santos     1.0   0.0     1.0\n",
              "..                                   ...     ...   ...     ...\n",
              "355                der Francis Carbonera     0.0   1.0     0.0\n",
              "356              gatha Bednarczuk Rippel     0.0   0.0     1.0\n",
              "357        nderson Lus de Abreu Oliveira     1.0   0.0     0.0\n",
              "358            rika Cristiano dos Santos     0.0   0.0     1.0\n",
              "359    rika Kelly \"Kiki\" Pereira Coimbra     1.0   0.0     0.0\n",
              "\n",
              "[360 rows x 4 columns]"
            ]
          },
          "execution_count": 7,
          "metadata": {},
          "output_type": "execute_result"
        }
      ],
      "source": [
        "\n",
        "df_brasil_med_medalha = df_brasil_med.groupby(['Name'])['Medal'].value_counts()\n",
        "\n",
        "df_brasil_med_medalhas_plot = df_brasil_med_medalha.unstack('Medal').fillna(0).reset_index()\n",
        "\n",
        "df_brasil_med_medalhas_plot.columns.names = ['']\n",
        "\n",
        "df_brasil_med_medalhas_plot"
      ]
    },
    {
      "cell_type": "markdown",
      "metadata": {},
      "source": [
        "<br><span style = 'color: green; font-size: 1.4em'> &nbsp;&nbsp;&nbsp;&nbsp;&nbsp;&nbsp;&nbsp;&nbsp; O bar plot com os valores da medalhas por cada atleta </span>"
      ]
    },
    {
      "cell_type": "code",
      "execution_count": 8,
      "metadata": {},
      "outputs": [
        {
          "data": {
            "text/html": [
              "<div><div id=1a752bb6-9803-40db-b188-b056b80bb9b5 style=\"display:none; background-color:#9D6CFF; color:white; width:200px; height:30px; padding-left:5px; border-radius:4px; flex-direction:row; justify-content:space-around; align-items:center;\" onmouseover=\"this.style.backgroundColor='#BA9BF8'\" onmouseout=\"this.style.backgroundColor='#9D6CFF'\" onclick=\"window.commands?.execute('create-mitosheet-from-dataframe-output');\">See Full Dataframe in Mito</div> <script> if (window.commands.hasCommand('create-mitosheet-from-dataframe-output')) document.getElementById('1a752bb6-9803-40db-b188-b056b80bb9b5').style.display = 'flex' </script> <table border=\"1\" class=\"dataframe\">\n",
              "  <thead>\n",
              "    <tr style=\"text-align: right;\">\n",
              "      <th></th>\n",
              "      <th>Name</th>\n",
              "      <th>Medal</th>\n",
              "      <th>Total de Medalhas</th>\n",
              "    </tr>\n",
              "  </thead>\n",
              "  <tbody>\n",
              "    <tr>\n",
              "      <th>2</th>\n",
              "      <td>Adhemar Ferreira da Silva</td>\n",
              "      <td>Gold</td>\n",
              "      <td>2</td>\n",
              "    </tr>\n",
              "    <tr>\n",
              "      <th>131</th>\n",
              "      <td>Fabiana \"Fabi\" Alvim de Oliveira</td>\n",
              "      <td>Gold</td>\n",
              "      <td>2</td>\n",
              "    </tr>\n",
              "    <tr>\n",
              "      <th>132</th>\n",
              "      <td>Fabiana Marcelino Claudino</td>\n",
              "      <td>Gold</td>\n",
              "      <td>2</td>\n",
              "    </tr>\n",
              "    <tr>\n",
              "      <th>158</th>\n",
              "      <td>Giovane Farinazzo Gvio</td>\n",
              "      <td>Gold</td>\n",
              "      <td>2</td>\n",
              "    </tr>\n",
              "    <tr>\n",
              "      <th>185</th>\n",
              "      <td>Jaqueline Maria \"Jaque\" Pereira de Carvalho Endres</td>\n",
              "      <td>Gold</td>\n",
              "      <td>2</td>\n",
              "    </tr>\n",
              "    <tr>\n",
              "      <th>...</th>\n",
              "      <td>...</td>\n",
              "      <td>...</td>\n",
              "      <td>...</td>\n",
              "    </tr>\n",
              "    <tr>\n",
              "      <th>403</th>\n",
              "      <td>Wlter Carmona</td>\n",
              "      <td>Bronze</td>\n",
              "      <td>1</td>\n",
              "    </tr>\n",
              "    <tr>\n",
              "      <th>405</th>\n",
              "      <td>Yamaguchi Falco Florentino</td>\n",
              "      <td>Bronze</td>\n",
              "      <td>1</td>\n",
              "    </tr>\n",
              "    <tr>\n",
              "      <th>406</th>\n",
              "      <td>Yane Mrcia Campos da Fonseca Marques</td>\n",
              "      <td>Bronze</td>\n",
              "      <td>1</td>\n",
              "    </tr>\n",
              "    <tr>\n",
              "      <th>410</th>\n",
              "      <td>nderson Lus de Abreu Oliveira</td>\n",
              "      <td>Bronze</td>\n",
              "      <td>1</td>\n",
              "    </tr>\n",
              "    <tr>\n",
              "      <th>412</th>\n",
              "      <td>rika Kelly \"Kiki\" Pereira Coimbra</td>\n",
              "      <td>Bronze</td>\n",
              "      <td>1</td>\n",
              "    </tr>\n",
              "  </tbody>\n",
              "</table></div>"
            ],
            "text/plain": [
              "                                                  Name   Medal  \\\n",
              "2                            Adhemar Ferreira da Silva    Gold   \n",
              "131                   Fabiana \"Fabi\" Alvim de Oliveira    Gold   \n",
              "132                         Fabiana Marcelino Claudino    Gold   \n",
              "158                             Giovane Farinazzo Gvio    Gold   \n",
              "185  Jaqueline Maria \"Jaque\" Pereira de Carvalho En...    Gold   \n",
              "..                                                 ...     ...   \n",
              "403                                      Wlter Carmona  Bronze   \n",
              "405                         Yamaguchi Falco Florentino  Bronze   \n",
              "406               Yane Mrcia Campos da Fonseca Marques  Bronze   \n",
              "410                      nderson Lus de Abreu Oliveira  Bronze   \n",
              "412                  rika Kelly \"Kiki\" Pereira Coimbra  Bronze   \n",
              "\n",
              "     Total de Medalhas  \n",
              "2                    2  \n",
              "131                  2  \n",
              "132                  2  \n",
              "158                  2  \n",
              "185                  2  \n",
              "..                 ...  \n",
              "403                  1  \n",
              "405                  1  \n",
              "406                  1  \n",
              "410                  1  \n",
              "412                  1  \n",
              "\n",
              "[413 rows x 3 columns]"
            ]
          },
          "execution_count": 8,
          "metadata": {},
          "output_type": "execute_result"
        }
      ],
      "source": [
        "import plotly.express as px\n",
        "df_brasil_med_medalha = df_brasil_med.groupby(['Name','Medal']).size().reset_index()\n",
        "\n",
        "\n",
        "df_brasil_med_medalha.rename(columns={df_brasil_med_medalha.columns[2]:\"Total de Medalhas\"},\n",
        "                            inplace = True)\n",
        "\n",
        "df_brasil_med_medalha.Medal = pd.Categorical(values=df_brasil_med_medalha.Medal, categories=['Bronze', 'Silver', 'Gold'], ordered=True)\n",
        "\n",
        "\n",
        "\n",
        "df_brasil_med_medalha.sort_values(by = ['Total de Medalhas','Medal'], \n",
        "                                        ascending = [False , False],\n",
        "                                        inplace = True)\n",
        "\n",
        "df_brasil_med_medalha"
      ]
    },
    {
      "cell_type": "code",
      "execution_count": 9,
      "metadata": {},
      "outputs": [
        {
          "data": {
            "image/svg+xml": "<svg class=\"main-svg\" xmlns=\"http://www.w3.org/2000/svg\" xmlns:xlink=\"http://www.w3.org/1999/xlink\" width=\"10000\" height=\"500\" style=\"\" viewBox=\"0 0 10000 500\"><rect x=\"0\" y=\"0\" width=\"10000\" height=\"500\" style=\"fill: rgb(255, 255, 255); fill-opacity: 1;\"/><defs id=\"defs-4a353f\"><g class=\"clips\"><clipPath id=\"clip4a353fxyplot\" class=\"plotclip\"><rect width=\"9602\" height=\"64\"/></clipPath><clipPath class=\"axesclip\" id=\"clip4a353fx\"><rect x=\"80\" y=\"0\" width=\"9602\" height=\"500\"/></clipPath><clipPath class=\"axesclip\" id=\"clip4a353fy\"><rect x=\"0\" y=\"96\" width=\"10000\" height=\"64\"/></clipPath><clipPath class=\"axesclip\" id=\"clip4a353fxy\"><rect x=\"80\" y=\"96\" width=\"9602\" height=\"64\"/></clipPath></g><g class=\"gradients\"/><g class=\"patterns\"/></defs><g class=\"bglayer\"><rect class=\"bg\" x=\"80\" y=\"96\" width=\"9602\" height=\"64\" style=\"fill: rgb(229, 236, 246); fill-opacity: 1; stroke-width: 0;\"/></g><g class=\"layer-below\"><g class=\"imagelayer\"/><g class=\"shapelayer\"/></g><g class=\"cartesianlayer\"><g class=\"subplot xy\"><g class=\"layer-subplot\"><g class=\"shapelayer\"/><g class=\"imagelayer\"/></g><g class=\"gridlayer\"><g class=\"x\"/><g class=\"y\"><path class=\"ygrid crisp\" transform=\"translate(0,135.68)\" d=\"M80,0h9602\" style=\"stroke: rgb(255, 255, 255); stroke-opacity: 1; stroke-width: 1px;\"/><path class=\"ygrid crisp\" transform=\"translate(0,111.36)\" d=\"M80,0h9602\" style=\"stroke: rgb(255, 255, 255); stroke-opacity: 1; stroke-width: 1px;\"/></g></g><g class=\"zerolinelayer\"><path class=\"yzl zl crisp\" transform=\"translate(0,160)\" d=\"M80,0h9602\" style=\"stroke: rgb(255, 255, 255); stroke-opacity: 1; stroke-width: 2px;\"/></g><path class=\"xlines-below\"/><path class=\"ylines-below\"/><g class=\"overlines-below\"/><g class=\"xaxislayer-below\"/><g class=\"yaxislayer-below\"/><g class=\"overaxes-below\"/><g class=\"plot\" transform=\"translate(80,96)\" clip-path=\"url(#clip4a353fxyplot)\"><g class=\"barlayer mlayer\"><g class=\"trace bars\" style=\"opacity: 1;\"><g class=\"points\"><g class=\"point\"><path d=\"M2.67,64V39.68H24.01V64Z\" style=\"vector-effect: non-scaling-stroke; opacity: 1; stroke-width: 0.5px; fill: rgb(255, 215, 0); fill-opacity: 1; stroke: rgb(229, 236, 246); stroke-opacity: 1;\"/></g><g class=\"point\"><path d=\"M29.34,64V39.68H50.68V64Z\" style=\"vector-effect: non-scaling-stroke; opacity: 1; stroke-width: 0.5px; fill: rgb(255, 215, 0); fill-opacity: 1; stroke: rgb(229, 236, 246); stroke-opacity: 1;\"/></g><g class=\"point\"><path d=\"M56.01,64V39.68H77.35V64Z\" style=\"vector-effect: non-scaling-stroke; opacity: 1; stroke-width: 0.5px; fill: rgb(255, 215, 0); fill-opacity: 1; stroke: rgb(229, 236, 246); stroke-opacity: 1;\"/></g><g class=\"point\"><path d=\"M82.68,64V39.68H104.02V64Z\" style=\"vector-effect: non-scaling-stroke; opacity: 1; stroke-width: 0.5px; fill: rgb(255, 215, 0); fill-opacity: 1; stroke: rgb(229, 236, 246); stroke-opacity: 1;\"/></g><g class=\"point\"><path d=\"M109.36,64V39.68H130.69V64Z\" style=\"vector-effect: non-scaling-stroke; opacity: 1; stroke-width: 0.5px; fill: rgb(255, 215, 0); fill-opacity: 1; stroke: rgb(229, 236, 246); stroke-opacity: 1;\"/></g><g class=\"point\"><path d=\"M136.03,64V39.68H157.37V64Z\" style=\"vector-effect: non-scaling-stroke; opacity: 1; stroke-width: 0.5px; fill: rgb(255, 215, 0); fill-opacity: 1; stroke: rgb(229, 236, 246); stroke-opacity: 1;\"/></g><g class=\"point\"><path d=\"M162.7,64V39.68H184.04V64Z\" style=\"vector-effect: non-scaling-stroke; opacity: 1; stroke-width: 0.5px; fill: rgb(255, 215, 0); fill-opacity: 1; stroke: rgb(229, 236, 246); stroke-opacity: 1;\"/></g><g class=\"point\"><path d=\"M189.37,64V39.68H210.71V64Z\" style=\"vector-effect: non-scaling-stroke; opacity: 1; stroke-width: 0.5px; fill: rgb(255, 215, 0); fill-opacity: 1; stroke: rgb(229, 236, 246); stroke-opacity: 1;\"/></g><g class=\"point\"><path d=\"M216.05,64V39.68H237.38V64Z\" style=\"vector-effect: non-scaling-stroke; opacity: 1; stroke-width: 0.5px; fill: rgb(255, 215, 0); fill-opacity: 1; stroke: rgb(229, 236, 246); stroke-opacity: 1;\"/></g><g class=\"point\"><path d=\"M242.72,64V39.68H264.06V64Z\" style=\"vector-effect: non-scaling-stroke; opacity: 1; stroke-width: 0.5px; fill: rgb(255, 215, 0); fill-opacity: 1; stroke: rgb(229, 236, 246); stroke-opacity: 1;\"/></g><g class=\"point\"><path d=\"M269.39,64V39.68H290.73V64Z\" style=\"vector-effect: non-scaling-stroke; opacity: 1; stroke-width: 0.5px; fill: rgb(255, 215, 0); fill-opacity: 1; stroke: rgb(229, 236, 246); stroke-opacity: 1;\"/></g><g class=\"point\"><path d=\"M296.06,64V39.68H317.4V64Z\" style=\"vector-effect: non-scaling-stroke; opacity: 1; stroke-width: 0.5px; fill: rgb(255, 215, 0); fill-opacity: 1; stroke: rgb(229, 236, 246); stroke-opacity: 1;\"/></g><g class=\"point\"><path d=\"M322.73,64V39.68H344.07V64Z\" style=\"vector-effect: non-scaling-stroke; opacity: 1; stroke-width: 0.5px; fill: rgb(255, 215, 0); fill-opacity: 1; stroke: rgb(229, 236, 246); stroke-opacity: 1;\"/></g><g class=\"point\"><path d=\"M349.41,64V51.84H370.74V64Z\" style=\"vector-effect: non-scaling-stroke; opacity: 1; stroke-width: 0.5px; fill: rgb(255, 215, 0); fill-opacity: 1; stroke: rgb(229, 236, 246); stroke-opacity: 1;\"/></g><g class=\"point\"><path d=\"M376.08,64V51.84H397.42V64Z\" style=\"vector-effect: non-scaling-stroke; opacity: 1; stroke-width: 0.5px; fill: rgb(255, 215, 0); fill-opacity: 1; stroke: rgb(229, 236, 246); stroke-opacity: 1;\"/></g><g class=\"point\"><path d=\"M402.75,64V51.84H424.09V64Z\" style=\"vector-effect: non-scaling-stroke; opacity: 1; stroke-width: 0.5px; fill: rgb(255, 215, 0); fill-opacity: 1; stroke: rgb(229, 236, 246); stroke-opacity: 1;\"/></g><g class=\"point\"><path d=\"M429.42,64V51.84H450.76V64Z\" style=\"vector-effect: non-scaling-stroke; opacity: 1; stroke-width: 0.5px; fill: rgb(255, 215, 0); fill-opacity: 1; stroke: rgb(229, 236, 246); stroke-opacity: 1;\"/></g><g class=\"point\"><path d=\"M456.1,64V51.84H477.43V64Z\" style=\"vector-effect: non-scaling-stroke; opacity: 1; stroke-width: 0.5px; fill: rgb(255, 215, 0); fill-opacity: 1; stroke: rgb(229, 236, 246); stroke-opacity: 1;\"/></g><g class=\"point\"><path d=\"M482.77,64V51.84H504.11V64Z\" style=\"vector-effect: non-scaling-stroke; opacity: 1; stroke-width: 0.5px; fill: rgb(255, 215, 0); fill-opacity: 1; stroke: rgb(229, 236, 246); stroke-opacity: 1;\"/></g><g class=\"point\"><path d=\"M509.44,64V51.84H530.78V64Z\" style=\"vector-effect: non-scaling-stroke; opacity: 1; stroke-width: 0.5px; fill: rgb(255, 215, 0); fill-opacity: 1; stroke: rgb(229, 236, 246); stroke-opacity: 1;\"/></g><g class=\"point\"><path d=\"M536.11,64V51.84H557.45V64Z\" style=\"vector-effect: non-scaling-stroke; opacity: 1; stroke-width: 0.5px; fill: rgb(255, 215, 0); fill-opacity: 1; stroke: rgb(229, 236, 246); stroke-opacity: 1;\"/></g><g class=\"point\"><path d=\"M562.78,64V51.84H584.12V64Z\" style=\"vector-effect: non-scaling-stroke; opacity: 1; stroke-width: 0.5px; fill: rgb(255, 215, 0); fill-opacity: 1; stroke: rgb(229, 236, 246); stroke-opacity: 1;\"/></g><g class=\"point\"><path d=\"M589.46,64V51.84H610.79V64Z\" style=\"vector-effect: non-scaling-stroke; opacity: 1; stroke-width: 0.5px; fill: rgb(255, 215, 0); fill-opacity: 1; stroke: rgb(229, 236, 246); stroke-opacity: 1;\"/></g><g class=\"point\"><path d=\"M616.13,64V51.84H637.47V64Z\" style=\"vector-effect: non-scaling-stroke; opacity: 1; stroke-width: 0.5px; fill: rgb(255, 215, 0); fill-opacity: 1; stroke: rgb(229, 236, 246); stroke-opacity: 1;\"/></g><g class=\"point\"><path d=\"M642.8,64V51.84H664.14V64Z\" style=\"vector-effect: non-scaling-stroke; opacity: 1; stroke-width: 0.5px; fill: rgb(255, 215, 0); fill-opacity: 1; stroke: rgb(229, 236, 246); stroke-opacity: 1;\"/></g><g class=\"point\"><path d=\"M669.47,64V51.84H690.81V64Z\" style=\"vector-effect: non-scaling-stroke; opacity: 1; stroke-width: 0.5px; fill: rgb(255, 215, 0); fill-opacity: 1; stroke: rgb(229, 236, 246); stroke-opacity: 1;\"/></g><g class=\"point\"><path d=\"M696.15,64V51.84H717.48V64Z\" style=\"vector-effect: non-scaling-stroke; opacity: 1; stroke-width: 0.5px; fill: rgb(255, 215, 0); fill-opacity: 1; stroke: rgb(229, 236, 246); stroke-opacity: 1;\"/></g><g class=\"point\"><path d=\"M722.82,64V51.84H744.16V64Z\" style=\"vector-effect: non-scaling-stroke; opacity: 1; stroke-width: 0.5px; fill: rgb(255, 215, 0); fill-opacity: 1; stroke: rgb(229, 236, 246); stroke-opacity: 1;\"/></g><g class=\"point\"><path d=\"M749.49,64V51.84H770.83V64Z\" style=\"vector-effect: non-scaling-stroke; opacity: 1; stroke-width: 0.5px; fill: rgb(255, 215, 0); fill-opacity: 1; stroke: rgb(229, 236, 246); stroke-opacity: 1;\"/></g><g class=\"point\"><path d=\"M776.16,64V51.84H797.5V64Z\" style=\"vector-effect: non-scaling-stroke; opacity: 1; stroke-width: 0.5px; fill: rgb(255, 215, 0); fill-opacity: 1; stroke: rgb(229, 236, 246); stroke-opacity: 1;\"/></g><g class=\"point\"><path d=\"M802.83,64V51.84H824.17V64Z\" style=\"vector-effect: non-scaling-stroke; opacity: 1; stroke-width: 0.5px; fill: rgb(255, 215, 0); fill-opacity: 1; stroke: rgb(229, 236, 246); stroke-opacity: 1;\"/></g><g class=\"point\"><path d=\"M829.51,64V51.84H850.84V64Z\" style=\"vector-effect: non-scaling-stroke; opacity: 1; stroke-width: 0.5px; fill: rgb(255, 215, 0); fill-opacity: 1; stroke: rgb(229, 236, 246); stroke-opacity: 1;\"/></g><g class=\"point\"><path d=\"M856.18,64V51.84H877.52V64Z\" style=\"vector-effect: non-scaling-stroke; opacity: 1; stroke-width: 0.5px; fill: rgb(255, 215, 0); fill-opacity: 1; stroke: rgb(229, 236, 246); stroke-opacity: 1;\"/></g><g class=\"point\"><path d=\"M882.85,64V51.84H904.19V64Z\" style=\"vector-effect: non-scaling-stroke; opacity: 1; stroke-width: 0.5px; fill: rgb(255, 215, 0); fill-opacity: 1; stroke: rgb(229, 236, 246); stroke-opacity: 1;\"/></g><g class=\"point\"><path d=\"M909.52,64V51.84H930.86V64Z\" style=\"vector-effect: non-scaling-stroke; opacity: 1; stroke-width: 0.5px; fill: rgb(255, 215, 0); fill-opacity: 1; stroke: rgb(229, 236, 246); stroke-opacity: 1;\"/></g><g class=\"point\"><path d=\"M936.2,64V51.84H957.53V64Z\" style=\"vector-effect: non-scaling-stroke; opacity: 1; stroke-width: 0.5px; fill: rgb(255, 215, 0); fill-opacity: 1; stroke: rgb(229, 236, 246); stroke-opacity: 1;\"/></g><g class=\"point\"><path d=\"M962.87,64V51.84H984.21V64Z\" style=\"vector-effect: non-scaling-stroke; opacity: 1; stroke-width: 0.5px; fill: rgb(255, 215, 0); fill-opacity: 1; stroke: rgb(229, 236, 246); stroke-opacity: 1;\"/></g><g class=\"point\"><path d=\"M989.54,64V51.84H1010.88V64Z\" style=\"vector-effect: non-scaling-stroke; opacity: 1; stroke-width: 0.5px; fill: rgb(255, 215, 0); fill-opacity: 1; stroke: rgb(229, 236, 246); stroke-opacity: 1;\"/></g><g class=\"point\"><path d=\"M1016.21,64V51.84H1037.55V64Z\" style=\"vector-effect: non-scaling-stroke; opacity: 1; stroke-width: 0.5px; fill: rgb(255, 215, 0); fill-opacity: 1; stroke: rgb(229, 236, 246); stroke-opacity: 1;\"/></g><g class=\"point\"><path d=\"M1042.88,64V51.84H1064.22V64Z\" style=\"vector-effect: non-scaling-stroke; opacity: 1; stroke-width: 0.5px; fill: rgb(255, 215, 0); fill-opacity: 1; stroke: rgb(229, 236, 246); stroke-opacity: 1;\"/></g><g class=\"point\"><path d=\"M1069.56,64V51.84H1090.89V64Z\" style=\"vector-effect: non-scaling-stroke; opacity: 1; stroke-width: 0.5px; fill: rgb(255, 215, 0); fill-opacity: 1; stroke: rgb(229, 236, 246); stroke-opacity: 1;\"/></g><g class=\"point\"><path d=\"M1096.23,64V51.84H1117.57V64Z\" style=\"vector-effect: non-scaling-stroke; opacity: 1; stroke-width: 0.5px; fill: rgb(255, 215, 0); fill-opacity: 1; stroke: rgb(229, 236, 246); stroke-opacity: 1;\"/></g><g class=\"point\"><path d=\"M1122.9,64V51.84H1144.24V64Z\" style=\"vector-effect: non-scaling-stroke; opacity: 1; stroke-width: 0.5px; fill: rgb(255, 215, 0); fill-opacity: 1; stroke: rgb(229, 236, 246); stroke-opacity: 1;\"/></g><g class=\"point\"><path d=\"M1149.57,64V51.84H1170.91V64Z\" style=\"vector-effect: non-scaling-stroke; opacity: 1; stroke-width: 0.5px; fill: rgb(255, 215, 0); fill-opacity: 1; stroke: rgb(229, 236, 246); stroke-opacity: 1;\"/></g><g class=\"point\"><path d=\"M1176.25,64V51.84H1197.58V64Z\" style=\"vector-effect: non-scaling-stroke; opacity: 1; stroke-width: 0.5px; fill: rgb(255, 215, 0); fill-opacity: 1; stroke: rgb(229, 236, 246); stroke-opacity: 1;\"/></g><g class=\"point\"><path d=\"M1202.92,64V51.84H1224.26V64Z\" style=\"vector-effect: non-scaling-stroke; opacity: 1; stroke-width: 0.5px; fill: rgb(255, 215, 0); fill-opacity: 1; stroke: rgb(229, 236, 246); stroke-opacity: 1;\"/></g><g class=\"point\"><path d=\"M1229.59,64V51.84H1250.93V64Z\" style=\"vector-effect: non-scaling-stroke; opacity: 1; stroke-width: 0.5px; fill: rgb(255, 215, 0); fill-opacity: 1; stroke: rgb(229, 236, 246); stroke-opacity: 1;\"/></g><g class=\"point\"><path d=\"M1256.26,64V51.84H1277.6V64Z\" style=\"vector-effect: non-scaling-stroke; opacity: 1; stroke-width: 0.5px; fill: rgb(255, 215, 0); fill-opacity: 1; stroke: rgb(229, 236, 246); stroke-opacity: 1;\"/></g><g class=\"point\"><path d=\"M1282.93,64V51.84H1304.27V64Z\" style=\"vector-effect: non-scaling-stroke; opacity: 1; stroke-width: 0.5px; fill: rgb(255, 215, 0); fill-opacity: 1; stroke: rgb(229, 236, 246); stroke-opacity: 1;\"/></g><g class=\"point\"><path d=\"M1309.61,64V51.84H1330.94V64Z\" style=\"vector-effect: non-scaling-stroke; opacity: 1; stroke-width: 0.5px; fill: rgb(255, 215, 0); fill-opacity: 1; stroke: rgb(229, 236, 246); stroke-opacity: 1;\"/></g><g class=\"point\"><path d=\"M1336.28,64V51.84H1357.62V64Z\" style=\"vector-effect: non-scaling-stroke; opacity: 1; stroke-width: 0.5px; fill: rgb(255, 215, 0); fill-opacity: 1; stroke: rgb(229, 236, 246); stroke-opacity: 1;\"/></g><g class=\"point\"><path d=\"M1362.95,64V51.84H1384.29V64Z\" style=\"vector-effect: non-scaling-stroke; opacity: 1; stroke-width: 0.5px; fill: rgb(255, 215, 0); fill-opacity: 1; stroke: rgb(229, 236, 246); stroke-opacity: 1;\"/></g><g class=\"point\"><path d=\"M1389.62,64V51.84H1410.96V64Z\" style=\"vector-effect: non-scaling-stroke; opacity: 1; stroke-width: 0.5px; fill: rgb(255, 215, 0); fill-opacity: 1; stroke: rgb(229, 236, 246); stroke-opacity: 1;\"/></g><g class=\"point\"><path d=\"M1416.3,64V51.84H1437.63V64Z\" style=\"vector-effect: non-scaling-stroke; opacity: 1; stroke-width: 0.5px; fill: rgb(255, 215, 0); fill-opacity: 1; stroke: rgb(229, 236, 246); stroke-opacity: 1;\"/></g><g class=\"point\"><path d=\"M1442.97,64V51.84H1464.31V64Z\" style=\"vector-effect: non-scaling-stroke; opacity: 1; stroke-width: 0.5px; fill: rgb(255, 215, 0); fill-opacity: 1; stroke: rgb(229, 236, 246); stroke-opacity: 1;\"/></g><g class=\"point\"><path d=\"M1469.64,64V51.84H1490.98V64Z\" style=\"vector-effect: non-scaling-stroke; opacity: 1; stroke-width: 0.5px; fill: rgb(255, 215, 0); fill-opacity: 1; stroke: rgb(229, 236, 246); stroke-opacity: 1;\"/></g><g class=\"point\"><path d=\"M1496.31,64V51.84H1517.65V64Z\" style=\"vector-effect: non-scaling-stroke; opacity: 1; stroke-width: 0.5px; fill: rgb(255, 215, 0); fill-opacity: 1; stroke: rgb(229, 236, 246); stroke-opacity: 1;\"/></g><g class=\"point\"><path d=\"M1522.98,64V51.84H1544.32V64Z\" style=\"vector-effect: non-scaling-stroke; opacity: 1; stroke-width: 0.5px; fill: rgb(255, 215, 0); fill-opacity: 1; stroke: rgb(229, 236, 246); stroke-opacity: 1;\"/></g><g class=\"point\"><path d=\"M1549.66,64V51.84H1570.99V64Z\" style=\"vector-effect: non-scaling-stroke; opacity: 1; stroke-width: 0.5px; fill: rgb(255, 215, 0); fill-opacity: 1; stroke: rgb(229, 236, 246); stroke-opacity: 1;\"/></g><g class=\"point\"><path d=\"M1576.33,64V51.84H1597.67V64Z\" style=\"vector-effect: non-scaling-stroke; opacity: 1; stroke-width: 0.5px; fill: rgb(255, 215, 0); fill-opacity: 1; stroke: rgb(229, 236, 246); stroke-opacity: 1;\"/></g><g class=\"point\"><path d=\"M1603,64V51.84H1624.34V64Z\" style=\"vector-effect: non-scaling-stroke; opacity: 1; stroke-width: 0.5px; fill: rgb(255, 215, 0); fill-opacity: 1; stroke: rgb(229, 236, 246); stroke-opacity: 1;\"/></g><g class=\"point\"><path d=\"M1629.67,64V51.84H1651.01V64Z\" style=\"vector-effect: non-scaling-stroke; opacity: 1; stroke-width: 0.5px; fill: rgb(255, 215, 0); fill-opacity: 1; stroke: rgb(229, 236, 246); stroke-opacity: 1;\"/></g><g class=\"point\"><path d=\"M1656.35,64V51.84H1677.68V64Z\" style=\"vector-effect: non-scaling-stroke; opacity: 1; stroke-width: 0.5px; fill: rgb(255, 215, 0); fill-opacity: 1; stroke: rgb(229, 236, 246); stroke-opacity: 1;\"/></g><g class=\"point\"><path d=\"M1683.02,64V51.84H1704.36V64Z\" style=\"vector-effect: non-scaling-stroke; opacity: 1; stroke-width: 0.5px; fill: rgb(255, 215, 0); fill-opacity: 1; stroke: rgb(229, 236, 246); stroke-opacity: 1;\"/></g><g class=\"point\"><path d=\"M1709.69,64V51.84H1731.03V64Z\" style=\"vector-effect: non-scaling-stroke; opacity: 1; stroke-width: 0.5px; fill: rgb(255, 215, 0); fill-opacity: 1; stroke: rgb(229, 236, 246); stroke-opacity: 1;\"/></g><g class=\"point\"><path d=\"M1736.36,64V51.84H1757.7V64Z\" style=\"vector-effect: non-scaling-stroke; opacity: 1; stroke-width: 0.5px; fill: rgb(255, 215, 0); fill-opacity: 1; stroke: rgb(229, 236, 246); stroke-opacity: 1;\"/></g><g class=\"point\"><path d=\"M1763.03,64V51.84H1784.37V64Z\" style=\"vector-effect: non-scaling-stroke; opacity: 1; stroke-width: 0.5px; fill: rgb(255, 215, 0); fill-opacity: 1; stroke: rgb(229, 236, 246); stroke-opacity: 1;\"/></g><g class=\"point\"><path d=\"M1789.71,64V51.84H1811.04V64Z\" style=\"vector-effect: non-scaling-stroke; opacity: 1; stroke-width: 0.5px; fill: rgb(255, 215, 0); fill-opacity: 1; stroke: rgb(229, 236, 246); stroke-opacity: 1;\"/></g><g class=\"point\"><path d=\"M1816.38,64V51.84H1837.72V64Z\" style=\"vector-effect: non-scaling-stroke; opacity: 1; stroke-width: 0.5px; fill: rgb(255, 215, 0); fill-opacity: 1; stroke: rgb(229, 236, 246); stroke-opacity: 1;\"/></g><g class=\"point\"><path d=\"M1843.05,64V51.84H1864.39V64Z\" style=\"vector-effect: non-scaling-stroke; opacity: 1; stroke-width: 0.5px; fill: rgb(255, 215, 0); fill-opacity: 1; stroke: rgb(229, 236, 246); stroke-opacity: 1;\"/></g><g class=\"point\"><path d=\"M1869.72,64V51.84H1891.06V64Z\" style=\"vector-effect: non-scaling-stroke; opacity: 1; stroke-width: 0.5px; fill: rgb(255, 215, 0); fill-opacity: 1; stroke: rgb(229, 236, 246); stroke-opacity: 1;\"/></g><g class=\"point\"><path d=\"M1896.39,64V51.84H1917.73V64Z\" style=\"vector-effect: non-scaling-stroke; opacity: 1; stroke-width: 0.5px; fill: rgb(255, 215, 0); fill-opacity: 1; stroke: rgb(229, 236, 246); stroke-opacity: 1;\"/></g><g class=\"point\"><path d=\"M1923.07,64V51.84H1944.4V64Z\" style=\"vector-effect: non-scaling-stroke; opacity: 1; stroke-width: 0.5px; fill: rgb(255, 215, 0); fill-opacity: 1; stroke: rgb(229, 236, 246); stroke-opacity: 1;\"/></g><g class=\"point\"><path d=\"M1949.74,64V51.84H1971.08V64Z\" style=\"vector-effect: non-scaling-stroke; opacity: 1; stroke-width: 0.5px; fill: rgb(255, 215, 0); fill-opacity: 1; stroke: rgb(229, 236, 246); stroke-opacity: 1;\"/></g><g class=\"point\"><path d=\"M1976.41,64V51.84H1997.75V64Z\" style=\"vector-effect: non-scaling-stroke; opacity: 1; stroke-width: 0.5px; fill: rgb(255, 215, 0); fill-opacity: 1; stroke: rgb(229, 236, 246); stroke-opacity: 1;\"/></g><g class=\"point\"><path d=\"M2003.08,64V51.84H2024.42V64Z\" style=\"vector-effect: non-scaling-stroke; opacity: 1; stroke-width: 0.5px; fill: rgb(255, 215, 0); fill-opacity: 1; stroke: rgb(229, 236, 246); stroke-opacity: 1;\"/></g><g class=\"point\"><path d=\"M2029.76,64V51.84H2051.09V64Z\" style=\"vector-effect: non-scaling-stroke; opacity: 1; stroke-width: 0.5px; fill: rgb(255, 215, 0); fill-opacity: 1; stroke: rgb(229, 236, 246); stroke-opacity: 1;\"/></g><g class=\"point\"><path d=\"M2056.43,64V51.84H2077.77V64Z\" style=\"vector-effect: non-scaling-stroke; opacity: 1; stroke-width: 0.5px; fill: rgb(255, 215, 0); fill-opacity: 1; stroke: rgb(229, 236, 246); stroke-opacity: 1;\"/></g><g class=\"point\"><path d=\"M2083.1,64V51.84H2104.44V64Z\" style=\"vector-effect: non-scaling-stroke; opacity: 1; stroke-width: 0.5px; fill: rgb(255, 215, 0); fill-opacity: 1; stroke: rgb(229, 236, 246); stroke-opacity: 1;\"/></g><g class=\"point\"><path d=\"M2109.77,64V51.84H2131.11V64Z\" style=\"vector-effect: non-scaling-stroke; opacity: 1; stroke-width: 0.5px; fill: rgb(255, 215, 0); fill-opacity: 1; stroke: rgb(229, 236, 246); stroke-opacity: 1;\"/></g><g class=\"point\"><path d=\"M2136.44,64V51.84H2157.78V64Z\" style=\"vector-effect: non-scaling-stroke; opacity: 1; stroke-width: 0.5px; fill: rgb(255, 215, 0); fill-opacity: 1; stroke: rgb(229, 236, 246); stroke-opacity: 1;\"/></g><g class=\"point\"><path d=\"M2163.12,64V51.84H2184.46V64Z\" style=\"vector-effect: non-scaling-stroke; opacity: 1; stroke-width: 0.5px; fill: rgb(255, 215, 0); fill-opacity: 1; stroke: rgb(229, 236, 246); stroke-opacity: 1;\"/></g><g class=\"point\"><path d=\"M2189.79,64V51.84H2211.13V64Z\" style=\"vector-effect: non-scaling-stroke; opacity: 1; stroke-width: 0.5px; fill: rgb(255, 215, 0); fill-opacity: 1; stroke: rgb(229, 236, 246); stroke-opacity: 1;\"/></g><g class=\"point\"><path d=\"M2216.46,64V51.84H2237.8V64Z\" style=\"vector-effect: non-scaling-stroke; opacity: 1; stroke-width: 0.5px; fill: rgb(255, 215, 0); fill-opacity: 1; stroke: rgb(229, 236, 246); stroke-opacity: 1;\"/></g><g class=\"point\"><path d=\"M2243.13,64V51.84H2264.47V64Z\" style=\"vector-effect: non-scaling-stroke; opacity: 1; stroke-width: 0.5px; fill: rgb(255, 215, 0); fill-opacity: 1; stroke: rgb(229, 236, 246); stroke-opacity: 1;\"/></g><g class=\"point\"><path d=\"M2269.81,64V51.84H2291.14V64Z\" style=\"vector-effect: non-scaling-stroke; opacity: 1; stroke-width: 0.5px; fill: rgb(255, 215, 0); fill-opacity: 1; stroke: rgb(229, 236, 246); stroke-opacity: 1;\"/></g><g class=\"point\"><path d=\"M2296.48,64V51.84H2317.82V64Z\" style=\"vector-effect: non-scaling-stroke; opacity: 1; stroke-width: 0.5px; fill: rgb(255, 215, 0); fill-opacity: 1; stroke: rgb(229, 236, 246); stroke-opacity: 1;\"/></g><g class=\"point\"><path d=\"M2323.15,64V51.84H2344.49V64Z\" style=\"vector-effect: non-scaling-stroke; opacity: 1; stroke-width: 0.5px; fill: rgb(255, 215, 0); fill-opacity: 1; stroke: rgb(229, 236, 246); stroke-opacity: 1;\"/></g><g class=\"point\"><path d=\"M2349.82,64V51.84H2371.16V64Z\" style=\"vector-effect: non-scaling-stroke; opacity: 1; stroke-width: 0.5px; fill: rgb(255, 215, 0); fill-opacity: 1; stroke: rgb(229, 236, 246); stroke-opacity: 1;\"/></g><g class=\"point\"><path d=\"M2376.5,64V51.84H2397.83V64Z\" style=\"vector-effect: non-scaling-stroke; opacity: 1; stroke-width: 0.5px; fill: rgb(255, 215, 0); fill-opacity: 1; stroke: rgb(229, 236, 246); stroke-opacity: 1;\"/></g><g class=\"point\"><path d=\"M2403.17,64V51.84H2424.5V64Z\" style=\"vector-effect: non-scaling-stroke; opacity: 1; stroke-width: 0.5px; fill: rgb(255, 215, 0); fill-opacity: 1; stroke: rgb(229, 236, 246); stroke-opacity: 1;\"/></g><g class=\"point\"><path d=\"M2429.84,64V51.84H2451.18V64Z\" style=\"vector-effect: non-scaling-stroke; opacity: 1; stroke-width: 0.5px; fill: rgb(255, 215, 0); fill-opacity: 1; stroke: rgb(229, 236, 246); stroke-opacity: 1;\"/></g><g class=\"point\"><path d=\"M2456.51,64V51.84H2477.85V64Z\" style=\"vector-effect: non-scaling-stroke; opacity: 1; stroke-width: 0.5px; fill: rgb(255, 215, 0); fill-opacity: 1; stroke: rgb(229, 236, 246); stroke-opacity: 1;\"/></g><g class=\"point\"><path d=\"M2483.18,64V51.84H2504.52V64Z\" style=\"vector-effect: non-scaling-stroke; opacity: 1; stroke-width: 0.5px; fill: rgb(255, 215, 0); fill-opacity: 1; stroke: rgb(229, 236, 246); stroke-opacity: 1;\"/></g><g class=\"point\"><path d=\"M2509.86,64V51.84H2531.19V64Z\" style=\"vector-effect: non-scaling-stroke; opacity: 1; stroke-width: 0.5px; fill: rgb(255, 215, 0); fill-opacity: 1; stroke: rgb(229, 236, 246); stroke-opacity: 1;\"/></g><g class=\"point\"><path d=\"M2536.53,64V51.84H2557.87V64Z\" style=\"vector-effect: non-scaling-stroke; opacity: 1; stroke-width: 0.5px; fill: rgb(255, 215, 0); fill-opacity: 1; stroke: rgb(229, 236, 246); stroke-opacity: 1;\"/></g></g></g><g class=\"trace bars\" style=\"opacity: 1;\"><g class=\"points\"><g class=\"point\"><path d=\"M2563.2,64V39.68H2584.54V64Z\" style=\"vector-effect: non-scaling-stroke; opacity: 1; stroke-width: 0.5px; fill: rgb(192, 192, 192); fill-opacity: 1; stroke: rgb(229, 236, 246); stroke-opacity: 1;\"/></g><g class=\"point\"><path d=\"M2589.87,64V39.68H2611.21V64Z\" style=\"vector-effect: non-scaling-stroke; opacity: 1; stroke-width: 0.5px; fill: rgb(192, 192, 192); fill-opacity: 1; stroke: rgb(229, 236, 246); stroke-opacity: 1;\"/></g><g class=\"point\"><path d=\"M2616.54,64V39.68H2637.88V64Z\" style=\"vector-effect: non-scaling-stroke; opacity: 1; stroke-width: 0.5px; fill: rgb(192, 192, 192); fill-opacity: 1; stroke: rgb(229, 236, 246); stroke-opacity: 1;\"/></g><g class=\"point\"><path d=\"M2643.22,64V39.68H2664.56V64Z\" style=\"vector-effect: non-scaling-stroke; opacity: 1; stroke-width: 0.5px; fill: rgb(192, 192, 192); fill-opacity: 1; stroke: rgb(229, 236, 246); stroke-opacity: 1;\"/></g><g class=\"point\"><path d=\"M669.47,51.84V27.52H690.81V51.84Z\" style=\"vector-effect: non-scaling-stroke; opacity: 1; stroke-width: 0.5px; fill: rgb(192, 192, 192); fill-opacity: 1; stroke: rgb(229, 236, 246); stroke-opacity: 1;\"/></g><g class=\"point\"><path d=\"M2669.89,64V39.68H2691.23V64Z\" style=\"vector-effect: non-scaling-stroke; opacity: 1; stroke-width: 0.5px; fill: rgb(192, 192, 192); fill-opacity: 1; stroke: rgb(229, 236, 246); stroke-opacity: 1;\"/></g><g class=\"point\"><path d=\"M2696.56,64V39.68H2717.9V64Z\" style=\"vector-effect: non-scaling-stroke; opacity: 1; stroke-width: 0.5px; fill: rgb(192, 192, 192); fill-opacity: 1; stroke: rgb(229, 236, 246); stroke-opacity: 1;\"/></g><g class=\"point\"><path d=\"M802.83,51.84V27.52H824.17V51.84Z\" style=\"vector-effect: non-scaling-stroke; opacity: 1; stroke-width: 0.5px; fill: rgb(192, 192, 192); fill-opacity: 1; stroke: rgb(229, 236, 246); stroke-opacity: 1;\"/></g><g class=\"point\"><path d=\"M2723.23,64V39.68H2744.57V64Z\" style=\"vector-effect: non-scaling-stroke; opacity: 1; stroke-width: 0.5px; fill: rgb(192, 192, 192); fill-opacity: 1; stroke: rgb(229, 236, 246); stroke-opacity: 1;\"/></g><g class=\"point\"><path d=\"M1122.9,51.84V27.52H1144.24V51.84Z\" style=\"vector-effect: non-scaling-stroke; opacity: 1; stroke-width: 0.5px; fill: rgb(192, 192, 192); fill-opacity: 1; stroke: rgb(229, 236, 246); stroke-opacity: 1;\"/></g><g class=\"point\"><path d=\"M2749.91,64V39.68H2771.24V64Z\" style=\"vector-effect: non-scaling-stroke; opacity: 1; stroke-width: 0.5px; fill: rgb(192, 192, 192); fill-opacity: 1; stroke: rgb(229, 236, 246); stroke-opacity: 1;\"/></g><g class=\"point\"><path d=\"M2776.58,64V39.68H2797.92V64Z\" style=\"vector-effect: non-scaling-stroke; opacity: 1; stroke-width: 0.5px; fill: rgb(192, 192, 192); fill-opacity: 1; stroke: rgb(229, 236, 246); stroke-opacity: 1;\"/></g><g class=\"point\"><path d=\"M2803.25,64V39.68H2824.59V64Z\" style=\"vector-effect: non-scaling-stroke; opacity: 1; stroke-width: 0.5px; fill: rgb(192, 192, 192); fill-opacity: 1; stroke: rgb(229, 236, 246); stroke-opacity: 1;\"/></g><g class=\"point\"><path d=\"M2829.92,64V39.68H2851.26V64Z\" style=\"vector-effect: non-scaling-stroke; opacity: 1; stroke-width: 0.5px; fill: rgb(192, 192, 192); fill-opacity: 1; stroke: rgb(229, 236, 246); stroke-opacity: 1;\"/></g><g class=\"point\"><path d=\"M2856.6,64V39.68H2877.93V64Z\" style=\"vector-effect: non-scaling-stroke; opacity: 1; stroke-width: 0.5px; fill: rgb(192, 192, 192); fill-opacity: 1; stroke: rgb(229, 236, 246); stroke-opacity: 1;\"/></g><g class=\"point\"><path d=\"M2883.27,64V39.68H2904.6V64Z\" style=\"vector-effect: non-scaling-stroke; opacity: 1; stroke-width: 0.5px; fill: rgb(192, 192, 192); fill-opacity: 1; stroke: rgb(229, 236, 246); stroke-opacity: 1;\"/></g><g class=\"point\"><path d=\"M2909.94,64V39.68H2931.28V64Z\" style=\"vector-effect: non-scaling-stroke; opacity: 1; stroke-width: 0.5px; fill: rgb(192, 192, 192); fill-opacity: 1; stroke: rgb(229, 236, 246); stroke-opacity: 1;\"/></g><g class=\"point\"><path d=\"M216.05,39.68V15.36H237.38V39.68Z\" style=\"vector-effect: non-scaling-stroke; opacity: 1; stroke-width: 0.5px; fill: rgb(192, 192, 192); fill-opacity: 1; stroke: rgb(229, 236, 246); stroke-opacity: 1;\"/></g><g class=\"point\"><path d=\"M2029.76,51.84V27.52H2051.09V51.84Z\" style=\"vector-effect: non-scaling-stroke; opacity: 1; stroke-width: 0.5px; fill: rgb(192, 192, 192); fill-opacity: 1; stroke: rgb(229, 236, 246); stroke-opacity: 1;\"/></g><g class=\"point\"><path d=\"M2936.61,64V39.68H2957.95V64Z\" style=\"vector-effect: non-scaling-stroke; opacity: 1; stroke-width: 0.5px; fill: rgb(192, 192, 192); fill-opacity: 1; stroke: rgb(229, 236, 246); stroke-opacity: 1;\"/></g><g class=\"point\"><path d=\"M2963.28,64V39.68H2984.62V64Z\" style=\"vector-effect: non-scaling-stroke; opacity: 1; stroke-width: 0.5px; fill: rgb(192, 192, 192); fill-opacity: 1; stroke: rgb(229, 236, 246); stroke-opacity: 1;\"/></g><g class=\"point\"><path d=\"M269.39,39.68V15.36H290.73V39.68Z\" style=\"vector-effect: non-scaling-stroke; opacity: 1; stroke-width: 0.5px; fill: rgb(192, 192, 192); fill-opacity: 1; stroke: rgb(229, 236, 246); stroke-opacity: 1;\"/></g><g class=\"point\"><path d=\"M2989.96,64V39.68H3011.29V64Z\" style=\"vector-effect: non-scaling-stroke; opacity: 1; stroke-width: 0.5px; fill: rgb(192, 192, 192); fill-opacity: 1; stroke: rgb(229, 236, 246); stroke-opacity: 1;\"/></g><g class=\"point\"><path d=\"M3016.63,64V51.84H3037.97V64Z\" style=\"vector-effect: non-scaling-stroke; opacity: 1; stroke-width: 0.5px; fill: rgb(192, 192, 192); fill-opacity: 1; stroke: rgb(229, 236, 246); stroke-opacity: 1;\"/></g><g class=\"point\"><path d=\"M3043.3,64V51.84H3064.64V64Z\" style=\"vector-effect: non-scaling-stroke; opacity: 1; stroke-width: 0.5px; fill: rgb(192, 192, 192); fill-opacity: 1; stroke: rgb(229, 236, 246); stroke-opacity: 1;\"/></g><g class=\"point\"><path d=\"M3069.97,64V51.84H3091.31V64Z\" style=\"vector-effect: non-scaling-stroke; opacity: 1; stroke-width: 0.5px; fill: rgb(192, 192, 192); fill-opacity: 1; stroke: rgb(229, 236, 246); stroke-opacity: 1;\"/></g><g class=\"point\"><path d=\"M3096.65,64V51.84H3117.98V64Z\" style=\"vector-effect: non-scaling-stroke; opacity: 1; stroke-width: 0.5px; fill: rgb(192, 192, 192); fill-opacity: 1; stroke: rgb(229, 236, 246); stroke-opacity: 1;\"/></g><g class=\"point\"><path d=\"M3123.32,64V51.84H3144.66V64Z\" style=\"vector-effect: non-scaling-stroke; opacity: 1; stroke-width: 0.5px; fill: rgb(192, 192, 192); fill-opacity: 1; stroke: rgb(229, 236, 246); stroke-opacity: 1;\"/></g><g class=\"point\"><path d=\"M3149.99,64V51.84H3171.33V64Z\" style=\"vector-effect: non-scaling-stroke; opacity: 1; stroke-width: 0.5px; fill: rgb(192, 192, 192); fill-opacity: 1; stroke: rgb(229, 236, 246); stroke-opacity: 1;\"/></g><g class=\"point\"><path d=\"M3176.66,64V51.84H3198V64Z\" style=\"vector-effect: non-scaling-stroke; opacity: 1; stroke-width: 0.5px; fill: rgb(192, 192, 192); fill-opacity: 1; stroke: rgb(229, 236, 246); stroke-opacity: 1;\"/></g><g class=\"point\"><path d=\"M429.42,51.84V39.68H450.76V51.84Z\" style=\"vector-effect: non-scaling-stroke; opacity: 1; stroke-width: 0.5px; fill: rgb(192, 192, 192); fill-opacity: 1; stroke: rgb(229, 236, 246); stroke-opacity: 1;\"/></g><g class=\"point\"><path d=\"M3203.33,64V51.84H3224.67V64Z\" style=\"vector-effect: non-scaling-stroke; opacity: 1; stroke-width: 0.5px; fill: rgb(192, 192, 192); fill-opacity: 1; stroke: rgb(229, 236, 246); stroke-opacity: 1;\"/></g><g class=\"point\"><path d=\"M456.1,51.84V39.68H477.43V51.84Z\" style=\"vector-effect: non-scaling-stroke; opacity: 1; stroke-width: 0.5px; fill: rgb(192, 192, 192); fill-opacity: 1; stroke: rgb(229, 236, 246); stroke-opacity: 1;\"/></g><g class=\"point\"><path d=\"M482.77,51.84V39.68H504.11V51.84Z\" style=\"vector-effect: non-scaling-stroke; opacity: 1; stroke-width: 0.5px; fill: rgb(192, 192, 192); fill-opacity: 1; stroke: rgb(229, 236, 246); stroke-opacity: 1;\"/></g><g class=\"point\"><path d=\"M3230.01,64V51.84H3251.34V64Z\" style=\"vector-effect: non-scaling-stroke; opacity: 1; stroke-width: 0.5px; fill: rgb(192, 192, 192); fill-opacity: 1; stroke: rgb(229, 236, 246); stroke-opacity: 1;\"/></g><g class=\"point\"><path d=\"M3256.68,64V51.84H3278.02V64Z\" style=\"vector-effect: non-scaling-stroke; opacity: 1; stroke-width: 0.5px; fill: rgb(192, 192, 192); fill-opacity: 1; stroke: rgb(229, 236, 246); stroke-opacity: 1;\"/></g><g class=\"point\"><path d=\"M536.11,51.84V39.68H557.45V51.84Z\" style=\"vector-effect: non-scaling-stroke; opacity: 1; stroke-width: 0.5px; fill: rgb(192, 192, 192); fill-opacity: 1; stroke: rgb(229, 236, 246); stroke-opacity: 1;\"/></g><g class=\"point\"><path d=\"M562.78,51.84V39.68H584.12V51.84Z\" style=\"vector-effect: non-scaling-stroke; opacity: 1; stroke-width: 0.5px; fill: rgb(192, 192, 192); fill-opacity: 1; stroke: rgb(229, 236, 246); stroke-opacity: 1;\"/></g><g class=\"point\"><path d=\"M3283.35,64V51.84H3304.69V64Z\" style=\"vector-effect: non-scaling-stroke; opacity: 1; stroke-width: 0.5px; fill: rgb(192, 192, 192); fill-opacity: 1; stroke: rgb(229, 236, 246); stroke-opacity: 1;\"/></g><g class=\"point\"><path d=\"M3310.02,64V51.84H3331.36V64Z\" style=\"vector-effect: non-scaling-stroke; opacity: 1; stroke-width: 0.5px; fill: rgb(192, 192, 192); fill-opacity: 1; stroke: rgb(229, 236, 246); stroke-opacity: 1;\"/></g><g class=\"point\"><path d=\"M3336.7,64V51.84H3358.03V64Z\" style=\"vector-effect: non-scaling-stroke; opacity: 1; stroke-width: 0.5px; fill: rgb(192, 192, 192); fill-opacity: 1; stroke: rgb(229, 236, 246); stroke-opacity: 1;\"/></g><g class=\"point\"><path d=\"M3363.37,64V51.84H3384.7V64Z\" style=\"vector-effect: non-scaling-stroke; opacity: 1; stroke-width: 0.5px; fill: rgb(192, 192, 192); fill-opacity: 1; stroke: rgb(229, 236, 246); stroke-opacity: 1;\"/></g><g class=\"point\"><path d=\"M616.13,51.84V39.68H637.47V51.84Z\" style=\"vector-effect: non-scaling-stroke; opacity: 1; stroke-width: 0.5px; fill: rgb(192, 192, 192); fill-opacity: 1; stroke: rgb(229, 236, 246); stroke-opacity: 1;\"/></g><g class=\"point\"><path d=\"M3390.04,64V51.84H3411.38V64Z\" style=\"vector-effect: non-scaling-stroke; opacity: 1; stroke-width: 0.5px; fill: rgb(192, 192, 192); fill-opacity: 1; stroke: rgb(229, 236, 246); stroke-opacity: 1;\"/></g><g class=\"point\"><path d=\"M3416.71,64V51.84H3438.05V64Z\" style=\"vector-effect: non-scaling-stroke; opacity: 1; stroke-width: 0.5px; fill: rgb(192, 192, 192); fill-opacity: 1; stroke: rgb(229, 236, 246); stroke-opacity: 1;\"/></g><g class=\"point\"><path d=\"M3443.38,64V51.84H3464.72V64Z\" style=\"vector-effect: non-scaling-stroke; opacity: 1; stroke-width: 0.5px; fill: rgb(192, 192, 192); fill-opacity: 1; stroke: rgb(229, 236, 246); stroke-opacity: 1;\"/></g><g class=\"point\"><path d=\"M3470.06,64V51.84H3491.39V64Z\" style=\"vector-effect: non-scaling-stroke; opacity: 1; stroke-width: 0.5px; fill: rgb(192, 192, 192); fill-opacity: 1; stroke: rgb(229, 236, 246); stroke-opacity: 1;\"/></g><g class=\"point\"><path d=\"M3496.73,64V51.84H3518.07V64Z\" style=\"vector-effect: non-scaling-stroke; opacity: 1; stroke-width: 0.5px; fill: rgb(192, 192, 192); fill-opacity: 1; stroke: rgb(229, 236, 246); stroke-opacity: 1;\"/></g><g class=\"point\"><path d=\"M3523.4,64V51.84H3544.74V64Z\" style=\"vector-effect: non-scaling-stroke; opacity: 1; stroke-width: 0.5px; fill: rgb(192, 192, 192); fill-opacity: 1; stroke: rgb(229, 236, 246); stroke-opacity: 1;\"/></g><g class=\"point\"><path d=\"M3550.07,64V51.84H3571.41V64Z\" style=\"vector-effect: non-scaling-stroke; opacity: 1; stroke-width: 0.5px; fill: rgb(192, 192, 192); fill-opacity: 1; stroke: rgb(229, 236, 246); stroke-opacity: 1;\"/></g><g class=\"point\"><path d=\"M3576.75,64V51.84H3598.08V64Z\" style=\"vector-effect: non-scaling-stroke; opacity: 1; stroke-width: 0.5px; fill: rgb(192, 192, 192); fill-opacity: 1; stroke: rgb(229, 236, 246); stroke-opacity: 1;\"/></g><g class=\"point\"><path d=\"M3603.42,64V51.84H3624.76V64Z\" style=\"vector-effect: non-scaling-stroke; opacity: 1; stroke-width: 0.5px; fill: rgb(192, 192, 192); fill-opacity: 1; stroke: rgb(229, 236, 246); stroke-opacity: 1;\"/></g><g class=\"point\"><path d=\"M3630.09,64V51.84H3651.43V64Z\" style=\"vector-effect: non-scaling-stroke; opacity: 1; stroke-width: 0.5px; fill: rgb(192, 192, 192); fill-opacity: 1; stroke: rgb(229, 236, 246); stroke-opacity: 1;\"/></g><g class=\"point\"><path d=\"M3656.76,64V51.84H3678.1V64Z\" style=\"vector-effect: non-scaling-stroke; opacity: 1; stroke-width: 0.5px; fill: rgb(192, 192, 192); fill-opacity: 1; stroke: rgb(229, 236, 246); stroke-opacity: 1;\"/></g><g class=\"point\"><path d=\"M3683.43,64V51.84H3704.77V64Z\" style=\"vector-effect: non-scaling-stroke; opacity: 1; stroke-width: 0.5px; fill: rgb(192, 192, 192); fill-opacity: 1; stroke: rgb(229, 236, 246); stroke-opacity: 1;\"/></g><g class=\"point\"><path d=\"M3710.11,64V51.84H3731.44V64Z\" style=\"vector-effect: non-scaling-stroke; opacity: 1; stroke-width: 0.5px; fill: rgb(192, 192, 192); fill-opacity: 1; stroke: rgb(229, 236, 246); stroke-opacity: 1;\"/></g><g class=\"point\"><path d=\"M3736.78,64V51.84H3758.12V64Z\" style=\"vector-effect: non-scaling-stroke; opacity: 1; stroke-width: 0.5px; fill: rgb(192, 192, 192); fill-opacity: 1; stroke: rgb(229, 236, 246); stroke-opacity: 1;\"/></g><g class=\"point\"><path d=\"M3763.45,64V51.84H3784.79V64Z\" style=\"vector-effect: non-scaling-stroke; opacity: 1; stroke-width: 0.5px; fill: rgb(192, 192, 192); fill-opacity: 1; stroke: rgb(229, 236, 246); stroke-opacity: 1;\"/></g><g class=\"point\"><path d=\"M3790.12,64V51.84H3811.46V64Z\" style=\"vector-effect: non-scaling-stroke; opacity: 1; stroke-width: 0.5px; fill: rgb(192, 192, 192); fill-opacity: 1; stroke: rgb(229, 236, 246); stroke-opacity: 1;\"/></g><g class=\"point\"><path d=\"M3816.79,64V51.84H3838.13V64Z\" style=\"vector-effect: non-scaling-stroke; opacity: 1; stroke-width: 0.5px; fill: rgb(192, 192, 192); fill-opacity: 1; stroke: rgb(229, 236, 246); stroke-opacity: 1;\"/></g><g class=\"point\"><path d=\"M3843.47,64V51.84H3864.81V64Z\" style=\"vector-effect: non-scaling-stroke; opacity: 1; stroke-width: 0.5px; fill: rgb(192, 192, 192); fill-opacity: 1; stroke: rgb(229, 236, 246); stroke-opacity: 1;\"/></g><g class=\"point\"><path d=\"M3870.14,64V51.84H3891.48V64Z\" style=\"vector-effect: non-scaling-stroke; opacity: 1; stroke-width: 0.5px; fill: rgb(192, 192, 192); fill-opacity: 1; stroke: rgb(229, 236, 246); stroke-opacity: 1;\"/></g><g class=\"point\"><path d=\"M3896.81,64V51.84H3918.15V64Z\" style=\"vector-effect: non-scaling-stroke; opacity: 1; stroke-width: 0.5px; fill: rgb(192, 192, 192); fill-opacity: 1; stroke: rgb(229, 236, 246); stroke-opacity: 1;\"/></g><g class=\"point\"><path d=\"M3923.48,64V51.84H3944.82V64Z\" style=\"vector-effect: non-scaling-stroke; opacity: 1; stroke-width: 0.5px; fill: rgb(192, 192, 192); fill-opacity: 1; stroke: rgb(229, 236, 246); stroke-opacity: 1;\"/></g><g class=\"point\"><path d=\"M3950.16,64V51.84H3971.49V64Z\" style=\"vector-effect: non-scaling-stroke; opacity: 1; stroke-width: 0.5px; fill: rgb(192, 192, 192); fill-opacity: 1; stroke: rgb(229, 236, 246); stroke-opacity: 1;\"/></g><g class=\"point\"><path d=\"M3976.83,64V51.84H3998.17V64Z\" style=\"vector-effect: non-scaling-stroke; opacity: 1; stroke-width: 0.5px; fill: rgb(192, 192, 192); fill-opacity: 1; stroke: rgb(229, 236, 246); stroke-opacity: 1;\"/></g><g class=\"point\"><path d=\"M936.2,51.84V39.68H957.53V51.84Z\" style=\"vector-effect: non-scaling-stroke; opacity: 1; stroke-width: 0.5px; fill: rgb(192, 192, 192); fill-opacity: 1; stroke: rgb(229, 236, 246); stroke-opacity: 1;\"/></g><g class=\"point\"><path d=\"M4003.5,64V51.84H4024.84V64Z\" style=\"vector-effect: non-scaling-stroke; opacity: 1; stroke-width: 0.5px; fill: rgb(192, 192, 192); fill-opacity: 1; stroke: rgb(229, 236, 246); stroke-opacity: 1;\"/></g><g class=\"point\"><path d=\"M4030.17,64V51.84H4051.51V64Z\" style=\"vector-effect: non-scaling-stroke; opacity: 1; stroke-width: 0.5px; fill: rgb(192, 192, 192); fill-opacity: 1; stroke: rgb(229, 236, 246); stroke-opacity: 1;\"/></g><g class=\"point\"><path d=\"M4056.85,64V51.84H4078.18V64Z\" style=\"vector-effect: non-scaling-stroke; opacity: 1; stroke-width: 0.5px; fill: rgb(192, 192, 192); fill-opacity: 1; stroke: rgb(229, 236, 246); stroke-opacity: 1;\"/></g><g class=\"point\"><path d=\"M4083.52,64V51.84H4104.85V64Z\" style=\"vector-effect: non-scaling-stroke; opacity: 1; stroke-width: 0.5px; fill: rgb(192, 192, 192); fill-opacity: 1; stroke: rgb(229, 236, 246); stroke-opacity: 1;\"/></g><g class=\"point\"><path d=\"M4110.19,64V51.84H4131.53V64Z\" style=\"vector-effect: non-scaling-stroke; opacity: 1; stroke-width: 0.5px; fill: rgb(192, 192, 192); fill-opacity: 1; stroke: rgb(229, 236, 246); stroke-opacity: 1;\"/></g><g class=\"point\"><path d=\"M4136.86,64V51.84H4158.2V64Z\" style=\"vector-effect: non-scaling-stroke; opacity: 1; stroke-width: 0.5px; fill: rgb(192, 192, 192); fill-opacity: 1; stroke: rgb(229, 236, 246); stroke-opacity: 1;\"/></g><g class=\"point\"><path d=\"M4163.53,64V51.84H4184.87V64Z\" style=\"vector-effect: non-scaling-stroke; opacity: 1; stroke-width: 0.5px; fill: rgb(192, 192, 192); fill-opacity: 1; stroke: rgb(229, 236, 246); stroke-opacity: 1;\"/></g><g class=\"point\"><path d=\"M4190.21,64V51.84H4211.54V64Z\" style=\"vector-effect: non-scaling-stroke; opacity: 1; stroke-width: 0.5px; fill: rgb(192, 192, 192); fill-opacity: 1; stroke: rgb(229, 236, 246); stroke-opacity: 1;\"/></g><g class=\"point\"><path d=\"M4216.88,64V51.84H4238.22V64Z\" style=\"vector-effect: non-scaling-stroke; opacity: 1; stroke-width: 0.5px; fill: rgb(192, 192, 192); fill-opacity: 1; stroke: rgb(229, 236, 246); stroke-opacity: 1;\"/></g><g class=\"point\"><path d=\"M4243.55,64V51.84H4264.89V64Z\" style=\"vector-effect: non-scaling-stroke; opacity: 1; stroke-width: 0.5px; fill: rgb(192, 192, 192); fill-opacity: 1; stroke: rgb(229, 236, 246); stroke-opacity: 1;\"/></g><g class=\"point\"><path d=\"M4270.22,64V51.84H4291.56V64Z\" style=\"vector-effect: non-scaling-stroke; opacity: 1; stroke-width: 0.5px; fill: rgb(192, 192, 192); fill-opacity: 1; stroke: rgb(229, 236, 246); stroke-opacity: 1;\"/></g><g class=\"point\"><path d=\"M4296.89,64V51.84H4318.23V64Z\" style=\"vector-effect: non-scaling-stroke; opacity: 1; stroke-width: 0.5px; fill: rgb(192, 192, 192); fill-opacity: 1; stroke: rgb(229, 236, 246); stroke-opacity: 1;\"/></g><g class=\"point\"><path d=\"M4323.57,64V51.84H4344.91V64Z\" style=\"vector-effect: non-scaling-stroke; opacity: 1; stroke-width: 0.5px; fill: rgb(192, 192, 192); fill-opacity: 1; stroke: rgb(229, 236, 246); stroke-opacity: 1;\"/></g><g class=\"point\"><path d=\"M4350.24,64V51.84H4371.58V64Z\" style=\"vector-effect: non-scaling-stroke; opacity: 1; stroke-width: 0.5px; fill: rgb(192, 192, 192); fill-opacity: 1; stroke: rgb(229, 236, 246); stroke-opacity: 1;\"/></g><g class=\"point\"><path d=\"M1176.25,51.84V39.68H1197.58V51.84Z\" style=\"vector-effect: non-scaling-stroke; opacity: 1; stroke-width: 0.5px; fill: rgb(192, 192, 192); fill-opacity: 1; stroke: rgb(229, 236, 246); stroke-opacity: 1;\"/></g><g class=\"point\"><path d=\"M4376.91,64V51.84H4398.25V64Z\" style=\"vector-effect: non-scaling-stroke; opacity: 1; stroke-width: 0.5px; fill: rgb(192, 192, 192); fill-opacity: 1; stroke: rgb(229, 236, 246); stroke-opacity: 1;\"/></g><g class=\"point\"><path d=\"M4403.58,64V51.84H4424.92V64Z\" style=\"vector-effect: non-scaling-stroke; opacity: 1; stroke-width: 0.5px; fill: rgb(192, 192, 192); fill-opacity: 1; stroke: rgb(229, 236, 246); stroke-opacity: 1;\"/></g><g class=\"point\"><path d=\"M4430.26,64V51.84H4451.59V64Z\" style=\"vector-effect: non-scaling-stroke; opacity: 1; stroke-width: 0.5px; fill: rgb(192, 192, 192); fill-opacity: 1; stroke: rgb(229, 236, 246); stroke-opacity: 1;\"/></g><g class=\"point\"><path d=\"M1282.93,51.84V39.68H1304.27V51.84Z\" style=\"vector-effect: non-scaling-stroke; opacity: 1; stroke-width: 0.5px; fill: rgb(192, 192, 192); fill-opacity: 1; stroke: rgb(229, 236, 246); stroke-opacity: 1;\"/></g><g class=\"point\"><path d=\"M4456.93,64V51.84H4478.27V64Z\" style=\"vector-effect: non-scaling-stroke; opacity: 1; stroke-width: 0.5px; fill: rgb(192, 192, 192); fill-opacity: 1; stroke: rgb(229, 236, 246); stroke-opacity: 1;\"/></g><g class=\"point\"><path d=\"M4483.6,64V51.84H4504.94V64Z\" style=\"vector-effect: non-scaling-stroke; opacity: 1; stroke-width: 0.5px; fill: rgb(192, 192, 192); fill-opacity: 1; stroke: rgb(229, 236, 246); stroke-opacity: 1;\"/></g><g class=\"point\"><path d=\"M4510.27,64V51.84H4531.61V64Z\" style=\"vector-effect: non-scaling-stroke; opacity: 1; stroke-width: 0.5px; fill: rgb(192, 192, 192); fill-opacity: 1; stroke: rgb(229, 236, 246); stroke-opacity: 1;\"/></g><g class=\"point\"><path d=\"M4536.94,64V51.84H4558.28V64Z\" style=\"vector-effect: non-scaling-stroke; opacity: 1; stroke-width: 0.5px; fill: rgb(192, 192, 192); fill-opacity: 1; stroke: rgb(229, 236, 246); stroke-opacity: 1;\"/></g><g class=\"point\"><path d=\"M4563.62,64V51.84H4584.96V64Z\" style=\"vector-effect: non-scaling-stroke; opacity: 1; stroke-width: 0.5px; fill: rgb(192, 192, 192); fill-opacity: 1; stroke: rgb(229, 236, 246); stroke-opacity: 1;\"/></g><g class=\"point\"><path d=\"M4590.29,64V51.84H4611.63V64Z\" style=\"vector-effect: non-scaling-stroke; opacity: 1; stroke-width: 0.5px; fill: rgb(192, 192, 192); fill-opacity: 1; stroke: rgb(229, 236, 246); stroke-opacity: 1;\"/></g><g class=\"point\"><path d=\"M4616.96,64V51.84H4638.3V64Z\" style=\"vector-effect: non-scaling-stroke; opacity: 1; stroke-width: 0.5px; fill: rgb(192, 192, 192); fill-opacity: 1; stroke: rgb(229, 236, 246); stroke-opacity: 1;\"/></g><g class=\"point\"><path d=\"M4643.63,64V51.84H4664.97V64Z\" style=\"vector-effect: non-scaling-stroke; opacity: 1; stroke-width: 0.5px; fill: rgb(192, 192, 192); fill-opacity: 1; stroke: rgb(229, 236, 246); stroke-opacity: 1;\"/></g><g class=\"point\"><path d=\"M4670.31,64V51.84H4691.64V64Z\" style=\"vector-effect: non-scaling-stroke; opacity: 1; stroke-width: 0.5px; fill: rgb(192, 192, 192); fill-opacity: 1; stroke: rgb(229, 236, 246); stroke-opacity: 1;\"/></g><g class=\"point\"><path d=\"M4696.98,64V51.84H4718.32V64Z\" style=\"vector-effect: non-scaling-stroke; opacity: 1; stroke-width: 0.5px; fill: rgb(192, 192, 192); fill-opacity: 1; stroke: rgb(229, 236, 246); stroke-opacity: 1;\"/></g><g class=\"point\"><path d=\"M4723.65,64V51.84H4744.99V64Z\" style=\"vector-effect: non-scaling-stroke; opacity: 1; stroke-width: 0.5px; fill: rgb(192, 192, 192); fill-opacity: 1; stroke: rgb(229, 236, 246); stroke-opacity: 1;\"/></g><g class=\"point\"><path d=\"M4750.32,64V51.84H4771.66V64Z\" style=\"vector-effect: non-scaling-stroke; opacity: 1; stroke-width: 0.5px; fill: rgb(192, 192, 192); fill-opacity: 1; stroke: rgb(229, 236, 246); stroke-opacity: 1;\"/></g><g class=\"point\"><path d=\"M4776.99,64V51.84H4798.33V64Z\" style=\"vector-effect: non-scaling-stroke; opacity: 1; stroke-width: 0.5px; fill: rgb(192, 192, 192); fill-opacity: 1; stroke: rgb(229, 236, 246); stroke-opacity: 1;\"/></g><g class=\"point\"><path d=\"M4803.67,64V51.84H4825V64Z\" style=\"vector-effect: non-scaling-stroke; opacity: 1; stroke-width: 0.5px; fill: rgb(192, 192, 192); fill-opacity: 1; stroke: rgb(229, 236, 246); stroke-opacity: 1;\"/></g><g class=\"point\"><path d=\"M4830.34,64V51.84H4851.68V64Z\" style=\"vector-effect: non-scaling-stroke; opacity: 1; stroke-width: 0.5px; fill: rgb(192, 192, 192); fill-opacity: 1; stroke: rgb(229, 236, 246); stroke-opacity: 1;\"/></g><g class=\"point\"><path d=\"M4857.01,64V51.84H4878.35V64Z\" style=\"vector-effect: non-scaling-stroke; opacity: 1; stroke-width: 0.5px; fill: rgb(192, 192, 192); fill-opacity: 1; stroke: rgb(229, 236, 246); stroke-opacity: 1;\"/></g><g class=\"point\"><path d=\"M1469.64,51.84V39.68H1490.98V51.84Z\" style=\"vector-effect: non-scaling-stroke; opacity: 1; stroke-width: 0.5px; fill: rgb(192, 192, 192); fill-opacity: 1; stroke: rgb(229, 236, 246); stroke-opacity: 1;\"/></g><g class=\"point\"><path d=\"M4883.68,64V51.84H4905.02V64Z\" style=\"vector-effect: non-scaling-stroke; opacity: 1; stroke-width: 0.5px; fill: rgb(192, 192, 192); fill-opacity: 1; stroke: rgb(229, 236, 246); stroke-opacity: 1;\"/></g><g class=\"point\"><path d=\"M4910.36,64V51.84H4931.69V64Z\" style=\"vector-effect: non-scaling-stroke; opacity: 1; stroke-width: 0.5px; fill: rgb(192, 192, 192); fill-opacity: 1; stroke: rgb(229, 236, 246); stroke-opacity: 1;\"/></g><g class=\"point\"><path d=\"M4937.03,64V51.84H4958.37V64Z\" style=\"vector-effect: non-scaling-stroke; opacity: 1; stroke-width: 0.5px; fill: rgb(192, 192, 192); fill-opacity: 1; stroke: rgb(229, 236, 246); stroke-opacity: 1;\"/></g><g class=\"point\"><path d=\"M4963.7,64V51.84H4985.04V64Z\" style=\"vector-effect: non-scaling-stroke; opacity: 1; stroke-width: 0.5px; fill: rgb(192, 192, 192); fill-opacity: 1; stroke: rgb(229, 236, 246); stroke-opacity: 1;\"/></g><g class=\"point\"><path d=\"M4990.37,64V51.84H5011.71V64Z\" style=\"vector-effect: non-scaling-stroke; opacity: 1; stroke-width: 0.5px; fill: rgb(192, 192, 192); fill-opacity: 1; stroke: rgb(229, 236, 246); stroke-opacity: 1;\"/></g><g class=\"point\"><path d=\"M5017.04,64V51.84H5038.38V64Z\" style=\"vector-effect: non-scaling-stroke; opacity: 1; stroke-width: 0.5px; fill: rgb(192, 192, 192); fill-opacity: 1; stroke: rgb(229, 236, 246); stroke-opacity: 1;\"/></g><g class=\"point\"><path d=\"M5043.72,64V51.84H5065.05V64Z\" style=\"vector-effect: non-scaling-stroke; opacity: 1; stroke-width: 0.5px; fill: rgb(192, 192, 192); fill-opacity: 1; stroke: rgb(229, 236, 246); stroke-opacity: 1;\"/></g><g class=\"point\"><path d=\"M5070.39,64V51.84H5091.73V64Z\" style=\"vector-effect: non-scaling-stroke; opacity: 1; stroke-width: 0.5px; fill: rgb(192, 192, 192); fill-opacity: 1; stroke: rgb(229, 236, 246); stroke-opacity: 1;\"/></g><g class=\"point\"><path d=\"M5097.06,64V51.84H5118.4V64Z\" style=\"vector-effect: non-scaling-stroke; opacity: 1; stroke-width: 0.5px; fill: rgb(192, 192, 192); fill-opacity: 1; stroke: rgb(229, 236, 246); stroke-opacity: 1;\"/></g><g class=\"point\"><path d=\"M5123.73,64V51.84H5145.07V64Z\" style=\"vector-effect: non-scaling-stroke; opacity: 1; stroke-width: 0.5px; fill: rgb(192, 192, 192); fill-opacity: 1; stroke: rgb(229, 236, 246); stroke-opacity: 1;\"/></g><g class=\"point\"><path d=\"M5150.41,64V51.84H5171.74V64Z\" style=\"vector-effect: non-scaling-stroke; opacity: 1; stroke-width: 0.5px; fill: rgb(192, 192, 192); fill-opacity: 1; stroke: rgb(229, 236, 246); stroke-opacity: 1;\"/></g><g class=\"point\"><path d=\"M5177.08,64V51.84H5198.42V64Z\" style=\"vector-effect: non-scaling-stroke; opacity: 1; stroke-width: 0.5px; fill: rgb(192, 192, 192); fill-opacity: 1; stroke: rgb(229, 236, 246); stroke-opacity: 1;\"/></g><g class=\"point\"><path d=\"M5203.75,64V51.84H5225.09V64Z\" style=\"vector-effect: non-scaling-stroke; opacity: 1; stroke-width: 0.5px; fill: rgb(192, 192, 192); fill-opacity: 1; stroke: rgb(229, 236, 246); stroke-opacity: 1;\"/></g><g class=\"point\"><path d=\"M5230.42,64V51.84H5251.76V64Z\" style=\"vector-effect: non-scaling-stroke; opacity: 1; stroke-width: 0.5px; fill: rgb(192, 192, 192); fill-opacity: 1; stroke: rgb(229, 236, 246); stroke-opacity: 1;\"/></g><g class=\"point\"><path d=\"M1789.71,51.84V39.68H1811.04V51.84Z\" style=\"vector-effect: non-scaling-stroke; opacity: 1; stroke-width: 0.5px; fill: rgb(192, 192, 192); fill-opacity: 1; stroke: rgb(229, 236, 246); stroke-opacity: 1;\"/></g><g class=\"point\"><path d=\"M5257.09,64V51.84H5278.43V64Z\" style=\"vector-effect: non-scaling-stroke; opacity: 1; stroke-width: 0.5px; fill: rgb(192, 192, 192); fill-opacity: 1; stroke: rgb(229, 236, 246); stroke-opacity: 1;\"/></g><g class=\"point\"><path d=\"M5283.77,64V51.84H5305.11V64Z\" style=\"vector-effect: non-scaling-stroke; opacity: 1; stroke-width: 0.5px; fill: rgb(192, 192, 192); fill-opacity: 1; stroke: rgb(229, 236, 246); stroke-opacity: 1;\"/></g><g class=\"point\"><path d=\"M5310.44,64V51.84H5331.78V64Z\" style=\"vector-effect: non-scaling-stroke; opacity: 1; stroke-width: 0.5px; fill: rgb(192, 192, 192); fill-opacity: 1; stroke: rgb(229, 236, 246); stroke-opacity: 1;\"/></g><g class=\"point\"><path d=\"M5337.11,64V51.84H5358.45V64Z\" style=\"vector-effect: non-scaling-stroke; opacity: 1; stroke-width: 0.5px; fill: rgb(192, 192, 192); fill-opacity: 1; stroke: rgb(229, 236, 246); stroke-opacity: 1;\"/></g><g class=\"point\"><path d=\"M5363.78,64V51.84H5385.12V64Z\" style=\"vector-effect: non-scaling-stroke; opacity: 1; stroke-width: 0.5px; fill: rgb(192, 192, 192); fill-opacity: 1; stroke: rgb(229, 236, 246); stroke-opacity: 1;\"/></g><g class=\"point\"><path d=\"M5390.46,64V51.84H5411.79V64Z\" style=\"vector-effect: non-scaling-stroke; opacity: 1; stroke-width: 0.5px; fill: rgb(192, 192, 192); fill-opacity: 1; stroke: rgb(229, 236, 246); stroke-opacity: 1;\"/></g><g class=\"point\"><path d=\"M5417.13,64V51.84H5438.47V64Z\" style=\"vector-effect: non-scaling-stroke; opacity: 1; stroke-width: 0.5px; fill: rgb(192, 192, 192); fill-opacity: 1; stroke: rgb(229, 236, 246); stroke-opacity: 1;\"/></g><g class=\"point\"><path d=\"M1923.07,51.84V39.68H1944.4V51.84Z\" style=\"vector-effect: non-scaling-stroke; opacity: 1; stroke-width: 0.5px; fill: rgb(192, 192, 192); fill-opacity: 1; stroke: rgb(229, 236, 246); stroke-opacity: 1;\"/></g><g class=\"point\"><path d=\"M1949.74,51.84V39.68H1971.08V51.84Z\" style=\"vector-effect: non-scaling-stroke; opacity: 1; stroke-width: 0.5px; fill: rgb(192, 192, 192); fill-opacity: 1; stroke: rgb(229, 236, 246); stroke-opacity: 1;\"/></g><g class=\"point\"><path d=\"M5443.8,64V51.84H5465.14V64Z\" style=\"vector-effect: non-scaling-stroke; opacity: 1; stroke-width: 0.5px; fill: rgb(192, 192, 192); fill-opacity: 1; stroke: rgb(229, 236, 246); stroke-opacity: 1;\"/></g><g class=\"point\"><path d=\"M5470.47,64V51.84H5491.81V64Z\" style=\"vector-effect: non-scaling-stroke; opacity: 1; stroke-width: 0.5px; fill: rgb(192, 192, 192); fill-opacity: 1; stroke: rgb(229, 236, 246); stroke-opacity: 1;\"/></g><g class=\"point\"><path d=\"M5497.15,64V51.84H5518.48V64Z\" style=\"vector-effect: non-scaling-stroke; opacity: 1; stroke-width: 0.5px; fill: rgb(192, 192, 192); fill-opacity: 1; stroke: rgb(229, 236, 246); stroke-opacity: 1;\"/></g><g class=\"point\"><path d=\"M5523.82,64V51.84H5545.16V64Z\" style=\"vector-effect: non-scaling-stroke; opacity: 1; stroke-width: 0.5px; fill: rgb(192, 192, 192); fill-opacity: 1; stroke: rgb(229, 236, 246); stroke-opacity: 1;\"/></g><g class=\"point\"><path d=\"M5550.49,64V51.84H5571.83V64Z\" style=\"vector-effect: non-scaling-stroke; opacity: 1; stroke-width: 0.5px; fill: rgb(192, 192, 192); fill-opacity: 1; stroke: rgb(229, 236, 246); stroke-opacity: 1;\"/></g><g class=\"point\"><path d=\"M5577.16,64V51.84H5598.5V64Z\" style=\"vector-effect: non-scaling-stroke; opacity: 1; stroke-width: 0.5px; fill: rgb(192, 192, 192); fill-opacity: 1; stroke: rgb(229, 236, 246); stroke-opacity: 1;\"/></g><g class=\"point\"><path d=\"M5603.83,64V51.84H5625.17V64Z\" style=\"vector-effect: non-scaling-stroke; opacity: 1; stroke-width: 0.5px; fill: rgb(192, 192, 192); fill-opacity: 1; stroke: rgb(229, 236, 246); stroke-opacity: 1;\"/></g><g class=\"point\"><path d=\"M5630.51,64V51.84H5651.84V64Z\" style=\"vector-effect: non-scaling-stroke; opacity: 1; stroke-width: 0.5px; fill: rgb(192, 192, 192); fill-opacity: 1; stroke: rgb(229, 236, 246); stroke-opacity: 1;\"/></g><g class=\"point\"><path d=\"M5657.18,64V51.84H5678.52V64Z\" style=\"vector-effect: non-scaling-stroke; opacity: 1; stroke-width: 0.5px; fill: rgb(192, 192, 192); fill-opacity: 1; stroke: rgb(229, 236, 246); stroke-opacity: 1;\"/></g><g class=\"point\"><path d=\"M5683.85,64V51.84H5705.19V64Z\" style=\"vector-effect: non-scaling-stroke; opacity: 1; stroke-width: 0.5px; fill: rgb(192, 192, 192); fill-opacity: 1; stroke: rgb(229, 236, 246); stroke-opacity: 1;\"/></g><g class=\"point\"><path d=\"M5710.52,64V51.84H5731.86V64Z\" style=\"vector-effect: non-scaling-stroke; opacity: 1; stroke-width: 0.5px; fill: rgb(192, 192, 192); fill-opacity: 1; stroke: rgb(229, 236, 246); stroke-opacity: 1;\"/></g><g class=\"point\"><path d=\"M5737.19,64V51.84H5758.53V64Z\" style=\"vector-effect: non-scaling-stroke; opacity: 1; stroke-width: 0.5px; fill: rgb(192, 192, 192); fill-opacity: 1; stroke: rgb(229, 236, 246); stroke-opacity: 1;\"/></g><g class=\"point\"><path d=\"M5763.87,64V51.84H5785.21V64Z\" style=\"vector-effect: non-scaling-stroke; opacity: 1; stroke-width: 0.5px; fill: rgb(192, 192, 192); fill-opacity: 1; stroke: rgb(229, 236, 246); stroke-opacity: 1;\"/></g><g class=\"point\"><path d=\"M5790.54,64V51.84H5811.88V64Z\" style=\"vector-effect: non-scaling-stroke; opacity: 1; stroke-width: 0.5px; fill: rgb(192, 192, 192); fill-opacity: 1; stroke: rgb(229, 236, 246); stroke-opacity: 1;\"/></g><g class=\"point\"><path d=\"M5817.21,64V51.84H5838.55V64Z\" style=\"vector-effect: non-scaling-stroke; opacity: 1; stroke-width: 0.5px; fill: rgb(192, 192, 192); fill-opacity: 1; stroke: rgb(229, 236, 246); stroke-opacity: 1;\"/></g><g class=\"point\"><path d=\"M5843.88,64V51.84H5865.22V64Z\" style=\"vector-effect: non-scaling-stroke; opacity: 1; stroke-width: 0.5px; fill: rgb(192, 192, 192); fill-opacity: 1; stroke: rgb(229, 236, 246); stroke-opacity: 1;\"/></g><g class=\"point\"><path d=\"M5870.56,64V51.84H5891.89V64Z\" style=\"vector-effect: non-scaling-stroke; opacity: 1; stroke-width: 0.5px; fill: rgb(192, 192, 192); fill-opacity: 1; stroke: rgb(229, 236, 246); stroke-opacity: 1;\"/></g><g class=\"point\"><path d=\"M5897.23,64V51.84H5918.57V64Z\" style=\"vector-effect: non-scaling-stroke; opacity: 1; stroke-width: 0.5px; fill: rgb(192, 192, 192); fill-opacity: 1; stroke: rgb(229, 236, 246); stroke-opacity: 1;\"/></g><g class=\"point\"><path d=\"M5923.9,64V51.84H5945.24V64Z\" style=\"vector-effect: non-scaling-stroke; opacity: 1; stroke-width: 0.5px; fill: rgb(192, 192, 192); fill-opacity: 1; stroke: rgb(229, 236, 246); stroke-opacity: 1;\"/></g><g class=\"point\"><path d=\"M322.73,39.68V27.52H344.07V39.68Z\" style=\"vector-effect: non-scaling-stroke; opacity: 1; stroke-width: 0.5px; fill: rgb(192, 192, 192); fill-opacity: 1; stroke: rgb(229, 236, 246); stroke-opacity: 1;\"/></g><g class=\"point\"><path d=\"M5950.57,64V51.84H5971.91V64Z\" style=\"vector-effect: non-scaling-stroke; opacity: 1; stroke-width: 0.5px; fill: rgb(192, 192, 192); fill-opacity: 1; stroke: rgb(229, 236, 246); stroke-opacity: 1;\"/></g><g class=\"point\"><path d=\"M2403.17,51.84V39.68H2424.5V51.84Z\" style=\"vector-effect: non-scaling-stroke; opacity: 1; stroke-width: 0.5px; fill: rgb(192, 192, 192); fill-opacity: 1; stroke: rgb(229, 236, 246); stroke-opacity: 1;\"/></g><g class=\"point\"><path d=\"M5977.24,64V51.84H5998.58V64Z\" style=\"vector-effect: non-scaling-stroke; opacity: 1; stroke-width: 0.5px; fill: rgb(192, 192, 192); fill-opacity: 1; stroke: rgb(229, 236, 246); stroke-opacity: 1;\"/></g><g class=\"point\"><path d=\"M6003.92,64V51.84H6025.25V64Z\" style=\"vector-effect: non-scaling-stroke; opacity: 1; stroke-width: 0.5px; fill: rgb(192, 192, 192); fill-opacity: 1; stroke: rgb(229, 236, 246); stroke-opacity: 1;\"/></g><g class=\"point\"><path d=\"M6030.59,64V51.84H6051.93V64Z\" style=\"vector-effect: non-scaling-stroke; opacity: 1; stroke-width: 0.5px; fill: rgb(192, 192, 192); fill-opacity: 1; stroke: rgb(229, 236, 246); stroke-opacity: 1;\"/></g></g></g><g class=\"trace bars\" style=\"opacity: 1;\"><g class=\"points\"><g class=\"point\"><path d=\"M6057.26,64V39.68H6078.6V64Z\" style=\"vector-effect: non-scaling-stroke; opacity: 1; stroke-width: 0.5px; fill: rgb(210, 105, 30); fill-opacity: 1; stroke: rgb(229, 236, 246); stroke-opacity: 1;\"/></g><g class=\"point\"><path d=\"M6083.93,64V39.68H6105.27V64Z\" style=\"vector-effect: non-scaling-stroke; opacity: 1; stroke-width: 0.5px; fill: rgb(210, 105, 30); fill-opacity: 1; stroke: rgb(229, 236, 246); stroke-opacity: 1;\"/></g><g class=\"point\"><path d=\"M6110.61,64V39.68H6131.94V64Z\" style=\"vector-effect: non-scaling-stroke; opacity: 1; stroke-width: 0.5px; fill: rgb(210, 105, 30); fill-opacity: 1; stroke: rgb(229, 236, 246); stroke-opacity: 1;\"/></g><g class=\"point\"><path d=\"M6137.28,64V39.68H6158.62V64Z\" style=\"vector-effect: non-scaling-stroke; opacity: 1; stroke-width: 0.5px; fill: rgb(210, 105, 30); fill-opacity: 1; stroke: rgb(229, 236, 246); stroke-opacity: 1;\"/></g><g class=\"point\"><path d=\"M6163.95,64V39.68H6185.29V64Z\" style=\"vector-effect: non-scaling-stroke; opacity: 1; stroke-width: 0.5px; fill: rgb(210, 105, 30); fill-opacity: 1; stroke: rgb(229, 236, 246); stroke-opacity: 1;\"/></g><g class=\"point\"><path d=\"M6190.62,64V39.68H6211.96V64Z\" style=\"vector-effect: non-scaling-stroke; opacity: 1; stroke-width: 0.5px; fill: rgb(210, 105, 30); fill-opacity: 1; stroke: rgb(229, 236, 246); stroke-opacity: 1;\"/></g><g class=\"point\"><path d=\"M749.49,51.84V27.52H770.83V51.84Z\" style=\"vector-effect: non-scaling-stroke; opacity: 1; stroke-width: 0.5px; fill: rgb(210, 105, 30); fill-opacity: 1; stroke: rgb(229, 236, 246); stroke-opacity: 1;\"/></g><g class=\"point\"><path d=\"M6217.29,64V39.68H6238.63V64Z\" style=\"vector-effect: non-scaling-stroke; opacity: 1; stroke-width: 0.5px; fill: rgb(210, 105, 30); fill-opacity: 1; stroke: rgb(229, 236, 246); stroke-opacity: 1;\"/></g><g class=\"point\"><path d=\"M6243.97,64V39.68H6265.3V64Z\" style=\"vector-effect: non-scaling-stroke; opacity: 1; stroke-width: 0.5px; fill: rgb(210, 105, 30); fill-opacity: 1; stroke: rgb(229, 236, 246); stroke-opacity: 1;\"/></g><g class=\"point\"><path d=\"M2749.91,39.68V15.36H2771.24V39.68Z\" style=\"vector-effect: non-scaling-stroke; opacity: 1; stroke-width: 0.5px; fill: rgb(210, 105, 30); fill-opacity: 1; stroke: rgb(229, 236, 246); stroke-opacity: 1;\"/></g><g class=\"point\"><path d=\"M1202.92,51.84V27.52H1224.26V51.84Z\" style=\"vector-effect: non-scaling-stroke; opacity: 1; stroke-width: 0.5px; fill: rgb(210, 105, 30); fill-opacity: 1; stroke: rgb(229, 236, 246); stroke-opacity: 1;\"/></g><g class=\"point\"><path d=\"M6270.64,64V39.68H6291.98V64Z\" style=\"vector-effect: non-scaling-stroke; opacity: 1; stroke-width: 0.5px; fill: rgb(210, 105, 30); fill-opacity: 1; stroke: rgb(229, 236, 246); stroke-opacity: 1;\"/></g><g class=\"point\"><path d=\"M6297.31,64V39.68H6318.65V64Z\" style=\"vector-effect: non-scaling-stroke; opacity: 1; stroke-width: 0.5px; fill: rgb(210, 105, 30); fill-opacity: 1; stroke: rgb(229, 236, 246); stroke-opacity: 1;\"/></g><g class=\"point\"><path d=\"M6323.98,64V39.68H6345.32V64Z\" style=\"vector-effect: non-scaling-stroke; opacity: 1; stroke-width: 0.5px; fill: rgb(210, 105, 30); fill-opacity: 1; stroke: rgb(229, 236, 246); stroke-opacity: 1;\"/></g><g class=\"point\"><path d=\"M6350.66,64V39.68H6371.99V64Z\" style=\"vector-effect: non-scaling-stroke; opacity: 1; stroke-width: 0.5px; fill: rgb(210, 105, 30); fill-opacity: 1; stroke: rgb(229, 236, 246); stroke-opacity: 1;\"/></g><g class=\"point\"><path d=\"M6377.33,64V39.68H6398.67V64Z\" style=\"vector-effect: non-scaling-stroke; opacity: 1; stroke-width: 0.5px; fill: rgb(210, 105, 30); fill-opacity: 1; stroke: rgb(229, 236, 246); stroke-opacity: 1;\"/></g><g class=\"point\"><path d=\"M6404,64V39.68H6425.34V64Z\" style=\"vector-effect: non-scaling-stroke; opacity: 1; stroke-width: 0.5px; fill: rgb(210, 105, 30); fill-opacity: 1; stroke: rgb(229, 236, 246); stroke-opacity: 1;\"/></g><g class=\"point\"><path d=\"M6430.67,64V39.68H6452.01V64Z\" style=\"vector-effect: non-scaling-stroke; opacity: 1; stroke-width: 0.5px; fill: rgb(210, 105, 30); fill-opacity: 1; stroke: rgb(229, 236, 246); stroke-opacity: 1;\"/></g><g class=\"point\"><path d=\"M6457.34,64V39.68H6478.68V64Z\" style=\"vector-effect: non-scaling-stroke; opacity: 1; stroke-width: 0.5px; fill: rgb(210, 105, 30); fill-opacity: 1; stroke: rgb(229, 236, 246); stroke-opacity: 1;\"/></g><g class=\"point\"><path d=\"M6484.02,64V39.68H6505.36V64Z\" style=\"vector-effect: non-scaling-stroke; opacity: 1; stroke-width: 0.5px; fill: rgb(210, 105, 30); fill-opacity: 1; stroke: rgb(229, 236, 246); stroke-opacity: 1;\"/></g><g class=\"point\"><path d=\"M6510.69,64V39.68H6532.03V64Z\" style=\"vector-effect: non-scaling-stroke; opacity: 1; stroke-width: 0.5px; fill: rgb(210, 105, 30); fill-opacity: 1; stroke: rgb(229, 236, 246); stroke-opacity: 1;\"/></g><g class=\"point\"><path d=\"M2109.77,51.84V27.52H2131.11V51.84Z\" style=\"vector-effect: non-scaling-stroke; opacity: 1; stroke-width: 0.5px; fill: rgb(210, 105, 30); fill-opacity: 1; stroke: rgb(229, 236, 246); stroke-opacity: 1;\"/></g><g class=\"point\"><path d=\"M322.73,27.52V3.2H344.07V27.52Z\" style=\"vector-effect: non-scaling-stroke; opacity: 1; stroke-width: 0.5px; fill: rgb(210, 105, 30); fill-opacity: 1; stroke: rgb(229, 236, 246); stroke-opacity: 1;\"/></g><g class=\"point\"><path d=\"M6537.36,64V39.68H6558.7V64Z\" style=\"vector-effect: non-scaling-stroke; opacity: 1; stroke-width: 0.5px; fill: rgb(210, 105, 30); fill-opacity: 1; stroke: rgb(229, 236, 246); stroke-opacity: 1;\"/></g><g class=\"point\"><path d=\"M6564.03,64V39.68H6585.37V64Z\" style=\"vector-effect: non-scaling-stroke; opacity: 1; stroke-width: 0.5px; fill: rgb(210, 105, 30); fill-opacity: 1; stroke: rgb(229, 236, 246); stroke-opacity: 1;\"/></g><g class=\"point\"><path d=\"M6590.71,64V39.68H6612.04V64Z\" style=\"vector-effect: non-scaling-stroke; opacity: 1; stroke-width: 0.5px; fill: rgb(210, 105, 30); fill-opacity: 1; stroke: rgb(229, 236, 246); stroke-opacity: 1;\"/></g><g class=\"point\"><path d=\"M6617.38,64V51.84H6638.72V64Z\" style=\"vector-effect: non-scaling-stroke; opacity: 1; stroke-width: 0.5px; fill: rgb(210, 105, 30); fill-opacity: 1; stroke: rgb(229, 236, 246); stroke-opacity: 1;\"/></g><g class=\"point\"><path d=\"M3016.63,51.84V39.68H3037.97V51.84Z\" style=\"vector-effect: non-scaling-stroke; opacity: 1; stroke-width: 0.5px; fill: rgb(210, 105, 30); fill-opacity: 1; stroke: rgb(229, 236, 246); stroke-opacity: 1;\"/></g><g class=\"point\"><path d=\"M3043.3,51.84V39.68H3064.64V51.84Z\" style=\"vector-effect: non-scaling-stroke; opacity: 1; stroke-width: 0.5px; fill: rgb(210, 105, 30); fill-opacity: 1; stroke: rgb(229, 236, 246); stroke-opacity: 1;\"/></g><g class=\"point\"><path d=\"M6644.05,64V51.84H6665.39V64Z\" style=\"vector-effect: non-scaling-stroke; opacity: 1; stroke-width: 0.5px; fill: rgb(210, 105, 30); fill-opacity: 1; stroke: rgb(229, 236, 246); stroke-opacity: 1;\"/></g><g class=\"point\"><path d=\"M6670.72,64V51.84H6692.06V64Z\" style=\"vector-effect: non-scaling-stroke; opacity: 1; stroke-width: 0.5px; fill: rgb(210, 105, 30); fill-opacity: 1; stroke: rgb(229, 236, 246); stroke-opacity: 1;\"/></g><g class=\"point\"><path d=\"M3069.97,51.84V39.68H3091.31V51.84Z\" style=\"vector-effect: non-scaling-stroke; opacity: 1; stroke-width: 0.5px; fill: rgb(210, 105, 30); fill-opacity: 1; stroke: rgb(229, 236, 246); stroke-opacity: 1;\"/></g><g class=\"point\"><path d=\"M6697.4,64V51.84H6718.73V64Z\" style=\"vector-effect: non-scaling-stroke; opacity: 1; stroke-width: 0.5px; fill: rgb(210, 105, 30); fill-opacity: 1; stroke: rgb(229, 236, 246); stroke-opacity: 1;\"/></g><g class=\"point\"><path d=\"M6724.07,64V51.84H6745.41V64Z\" style=\"vector-effect: non-scaling-stroke; opacity: 1; stroke-width: 0.5px; fill: rgb(210, 105, 30); fill-opacity: 1; stroke: rgb(229, 236, 246); stroke-opacity: 1;\"/></g><g class=\"point\"><path d=\"M3096.65,51.84V39.68H3117.98V51.84Z\" style=\"vector-effect: non-scaling-stroke; opacity: 1; stroke-width: 0.5px; fill: rgb(210, 105, 30); fill-opacity: 1; stroke: rgb(229, 236, 246); stroke-opacity: 1;\"/></g><g class=\"point\"><path d=\"M6750.74,64V51.84H6772.08V64Z\" style=\"vector-effect: non-scaling-stroke; opacity: 1; stroke-width: 0.5px; fill: rgb(210, 105, 30); fill-opacity: 1; stroke: rgb(229, 236, 246); stroke-opacity: 1;\"/></g><g class=\"point\"><path d=\"M3149.99,51.84V39.68H3171.33V51.84Z\" style=\"vector-effect: non-scaling-stroke; opacity: 1; stroke-width: 0.5px; fill: rgb(210, 105, 30); fill-opacity: 1; stroke: rgb(229, 236, 246); stroke-opacity: 1;\"/></g><g class=\"point\"><path d=\"M6777.41,64V51.84H6798.75V64Z\" style=\"vector-effect: non-scaling-stroke; opacity: 1; stroke-width: 0.5px; fill: rgb(210, 105, 30); fill-opacity: 1; stroke: rgb(229, 236, 246); stroke-opacity: 1;\"/></g><g class=\"point\"><path d=\"M6804.08,64V51.84H6825.42V64Z\" style=\"vector-effect: non-scaling-stroke; opacity: 1; stroke-width: 0.5px; fill: rgb(210, 105, 30); fill-opacity: 1; stroke: rgb(229, 236, 246); stroke-opacity: 1;\"/></g><g class=\"point\"><path d=\"M6830.76,64V51.84H6852.09V64Z\" style=\"vector-effect: non-scaling-stroke; opacity: 1; stroke-width: 0.5px; fill: rgb(210, 105, 30); fill-opacity: 1; stroke: rgb(229, 236, 246); stroke-opacity: 1;\"/></g><g class=\"point\"><path d=\"M6857.43,64V51.84H6878.77V64Z\" style=\"vector-effect: non-scaling-stroke; opacity: 1; stroke-width: 0.5px; fill: rgb(210, 105, 30); fill-opacity: 1; stroke: rgb(229, 236, 246); stroke-opacity: 1;\"/></g><g class=\"point\"><path d=\"M6884.1,64V51.84H6905.44V64Z\" style=\"vector-effect: non-scaling-stroke; opacity: 1; stroke-width: 0.5px; fill: rgb(210, 105, 30); fill-opacity: 1; stroke: rgb(229, 236, 246); stroke-opacity: 1;\"/></g><g class=\"point\"><path d=\"M6910.77,64V51.84H6932.11V64Z\" style=\"vector-effect: non-scaling-stroke; opacity: 1; stroke-width: 0.5px; fill: rgb(210, 105, 30); fill-opacity: 1; stroke: rgb(229, 236, 246); stroke-opacity: 1;\"/></g><g class=\"point\"><path d=\"M6937.45,64V51.84H6958.78V64Z\" style=\"vector-effect: non-scaling-stroke; opacity: 1; stroke-width: 0.5px; fill: rgb(210, 105, 30); fill-opacity: 1; stroke: rgb(229, 236, 246); stroke-opacity: 1;\"/></g><g class=\"point\"><path d=\"M6964.12,64V51.84H6985.46V64Z\" style=\"vector-effect: non-scaling-stroke; opacity: 1; stroke-width: 0.5px; fill: rgb(210, 105, 30); fill-opacity: 1; stroke: rgb(229, 236, 246); stroke-opacity: 1;\"/></g><g class=\"point\"><path d=\"M3256.68,51.84V39.68H3278.02V51.84Z\" style=\"vector-effect: non-scaling-stroke; opacity: 1; stroke-width: 0.5px; fill: rgb(210, 105, 30); fill-opacity: 1; stroke: rgb(229, 236, 246); stroke-opacity: 1;\"/></g><g class=\"point\"><path d=\"M6990.79,64V51.84H7012.13V64Z\" style=\"vector-effect: non-scaling-stroke; opacity: 1; stroke-width: 0.5px; fill: rgb(210, 105, 30); fill-opacity: 1; stroke: rgb(229, 236, 246); stroke-opacity: 1;\"/></g><g class=\"point\"><path d=\"M7017.46,64V51.84H7038.8V64Z\" style=\"vector-effect: non-scaling-stroke; opacity: 1; stroke-width: 0.5px; fill: rgb(210, 105, 30); fill-opacity: 1; stroke: rgb(229, 236, 246); stroke-opacity: 1;\"/></g><g class=\"point\"><path d=\"M7044.13,64V51.84H7065.47V64Z\" style=\"vector-effect: non-scaling-stroke; opacity: 1; stroke-width: 0.5px; fill: rgb(210, 105, 30); fill-opacity: 1; stroke: rgb(229, 236, 246); stroke-opacity: 1;\"/></g><g class=\"point\"><path d=\"M642.8,51.84V39.68H664.14V51.84Z\" style=\"vector-effect: non-scaling-stroke; opacity: 1; stroke-width: 0.5px; fill: rgb(210, 105, 30); fill-opacity: 1; stroke: rgb(229, 236, 246); stroke-opacity: 1;\"/></g><g class=\"point\"><path d=\"M7070.81,64V51.84H7092.14V64Z\" style=\"vector-effect: non-scaling-stroke; opacity: 1; stroke-width: 0.5px; fill: rgb(210, 105, 30); fill-opacity: 1; stroke: rgb(229, 236, 246); stroke-opacity: 1;\"/></g><g class=\"point\"><path d=\"M7097.48,64V51.84H7118.82V64Z\" style=\"vector-effect: non-scaling-stroke; opacity: 1; stroke-width: 0.5px; fill: rgb(210, 105, 30); fill-opacity: 1; stroke: rgb(229, 236, 246); stroke-opacity: 1;\"/></g><g class=\"point\"><path d=\"M3523.4,51.84V39.68H3544.74V51.84Z\" style=\"vector-effect: non-scaling-stroke; opacity: 1; stroke-width: 0.5px; fill: rgb(210, 105, 30); fill-opacity: 1; stroke: rgb(229, 236, 246); stroke-opacity: 1;\"/></g><g class=\"point\"><path d=\"M7124.15,64V51.84H7145.49V64Z\" style=\"vector-effect: non-scaling-stroke; opacity: 1; stroke-width: 0.5px; fill: rgb(210, 105, 30); fill-opacity: 1; stroke: rgb(229, 236, 246); stroke-opacity: 1;\"/></g><g class=\"point\"><path d=\"M7150.82,64V51.84H7172.16V64Z\" style=\"vector-effect: non-scaling-stroke; opacity: 1; stroke-width: 0.5px; fill: rgb(210, 105, 30); fill-opacity: 1; stroke: rgb(229, 236, 246); stroke-opacity: 1;\"/></g><g class=\"point\"><path d=\"M7177.5,64V51.84H7198.83V64Z\" style=\"vector-effect: non-scaling-stroke; opacity: 1; stroke-width: 0.5px; fill: rgb(210, 105, 30); fill-opacity: 1; stroke: rgb(229, 236, 246); stroke-opacity: 1;\"/></g><g class=\"point\"><path d=\"M7204.17,64V51.84H7225.51V64Z\" style=\"vector-effect: non-scaling-stroke; opacity: 1; stroke-width: 0.5px; fill: rgb(210, 105, 30); fill-opacity: 1; stroke: rgb(229, 236, 246); stroke-opacity: 1;\"/></g><g class=\"point\"><path d=\"M7230.84,64V51.84H7252.18V64Z\" style=\"vector-effect: non-scaling-stroke; opacity: 1; stroke-width: 0.5px; fill: rgb(210, 105, 30); fill-opacity: 1; stroke: rgb(229, 236, 246); stroke-opacity: 1;\"/></g><g class=\"point\"><path d=\"M3736.78,51.84V39.68H3758.12V51.84Z\" style=\"vector-effect: non-scaling-stroke; opacity: 1; stroke-width: 0.5px; fill: rgb(210, 105, 30); fill-opacity: 1; stroke: rgb(229, 236, 246); stroke-opacity: 1;\"/></g><g class=\"point\"><path d=\"M7257.51,64V51.84H7278.85V64Z\" style=\"vector-effect: non-scaling-stroke; opacity: 1; stroke-width: 0.5px; fill: rgb(210, 105, 30); fill-opacity: 1; stroke: rgb(229, 236, 246); stroke-opacity: 1;\"/></g><g class=\"point\"><path d=\"M7284.18,64V51.84H7305.52V64Z\" style=\"vector-effect: non-scaling-stroke; opacity: 1; stroke-width: 0.5px; fill: rgb(210, 105, 30); fill-opacity: 1; stroke: rgb(229, 236, 246); stroke-opacity: 1;\"/></g><g class=\"point\"><path d=\"M7310.86,64V51.84H7332.19V64Z\" style=\"vector-effect: non-scaling-stroke; opacity: 1; stroke-width: 0.5px; fill: rgb(210, 105, 30); fill-opacity: 1; stroke: rgb(229, 236, 246); stroke-opacity: 1;\"/></g><g class=\"point\"><path d=\"M7337.53,64V51.84H7358.87V64Z\" style=\"vector-effect: non-scaling-stroke; opacity: 1; stroke-width: 0.5px; fill: rgb(210, 105, 30); fill-opacity: 1; stroke: rgb(229, 236, 246); stroke-opacity: 1;\"/></g><g class=\"point\"><path d=\"M3950.16,51.84V39.68H3971.49V51.84Z\" style=\"vector-effect: non-scaling-stroke; opacity: 1; stroke-width: 0.5px; fill: rgb(210, 105, 30); fill-opacity: 1; stroke: rgb(229, 236, 246); stroke-opacity: 1;\"/></g><g class=\"point\"><path d=\"M7364.2,64V51.84H7385.54V64Z\" style=\"vector-effect: non-scaling-stroke; opacity: 1; stroke-width: 0.5px; fill: rgb(210, 105, 30); fill-opacity: 1; stroke: rgb(229, 236, 246); stroke-opacity: 1;\"/></g><g class=\"point\"><path d=\"M7390.87,64V51.84H7412.21V64Z\" style=\"vector-effect: non-scaling-stroke; opacity: 1; stroke-width: 0.5px; fill: rgb(210, 105, 30); fill-opacity: 1; stroke: rgb(229, 236, 246); stroke-opacity: 1;\"/></g><g class=\"point\"><path d=\"M936.2,39.68V27.52H957.53V39.68Z\" style=\"vector-effect: non-scaling-stroke; opacity: 1; stroke-width: 0.5px; fill: rgb(210, 105, 30); fill-opacity: 1; stroke: rgb(229, 236, 246); stroke-opacity: 1;\"/></g><g class=\"point\"><path d=\"M7417.55,64V51.84H7438.88V64Z\" style=\"vector-effect: non-scaling-stroke; opacity: 1; stroke-width: 0.5px; fill: rgb(210, 105, 30); fill-opacity: 1; stroke: rgb(229, 236, 246); stroke-opacity: 1;\"/></g><g class=\"point\"><path d=\"M7444.22,64V51.84H7465.56V64Z\" style=\"vector-effect: non-scaling-stroke; opacity: 1; stroke-width: 0.5px; fill: rgb(210, 105, 30); fill-opacity: 1; stroke: rgb(229, 236, 246); stroke-opacity: 1;\"/></g><g class=\"point\"><path d=\"M7470.89,64V51.84H7492.23V64Z\" style=\"vector-effect: non-scaling-stroke; opacity: 1; stroke-width: 0.5px; fill: rgb(210, 105, 30); fill-opacity: 1; stroke: rgb(229, 236, 246); stroke-opacity: 1;\"/></g><g class=\"point\"><path d=\"M7497.56,64V51.84H7518.9V64Z\" style=\"vector-effect: non-scaling-stroke; opacity: 1; stroke-width: 0.5px; fill: rgb(210, 105, 30); fill-opacity: 1; stroke: rgb(229, 236, 246); stroke-opacity: 1;\"/></g><g class=\"point\"><path d=\"M7524.23,64V51.84H7545.57V64Z\" style=\"vector-effect: non-scaling-stroke; opacity: 1; stroke-width: 0.5px; fill: rgb(210, 105, 30); fill-opacity: 1; stroke: rgb(229, 236, 246); stroke-opacity: 1;\"/></g><g class=\"point\"><path d=\"M7550.91,64V51.84H7572.24V64Z\" style=\"vector-effect: non-scaling-stroke; opacity: 1; stroke-width: 0.5px; fill: rgb(210, 105, 30); fill-opacity: 1; stroke: rgb(229, 236, 246); stroke-opacity: 1;\"/></g><g class=\"point\"><path d=\"M7577.58,64V51.84H7598.92V64Z\" style=\"vector-effect: non-scaling-stroke; opacity: 1; stroke-width: 0.5px; fill: rgb(210, 105, 30); fill-opacity: 1; stroke: rgb(229, 236, 246); stroke-opacity: 1;\"/></g><g class=\"point\"><path d=\"M7604.25,64V51.84H7625.59V64Z\" style=\"vector-effect: non-scaling-stroke; opacity: 1; stroke-width: 0.5px; fill: rgb(210, 105, 30); fill-opacity: 1; stroke: rgb(229, 236, 246); stroke-opacity: 1;\"/></g><g class=\"point\"><path d=\"M7630.92,64V51.84H7652.26V64Z\" style=\"vector-effect: non-scaling-stroke; opacity: 1; stroke-width: 0.5px; fill: rgb(210, 105, 30); fill-opacity: 1; stroke: rgb(229, 236, 246); stroke-opacity: 1;\"/></g><g class=\"point\"><path d=\"M1149.57,51.84V39.68H1170.91V51.84Z\" style=\"vector-effect: non-scaling-stroke; opacity: 1; stroke-width: 0.5px; fill: rgb(210, 105, 30); fill-opacity: 1; stroke: rgb(229, 236, 246); stroke-opacity: 1;\"/></g><g class=\"point\"><path d=\"M7657.6,64V51.84H7678.93V64Z\" style=\"vector-effect: non-scaling-stroke; opacity: 1; stroke-width: 0.5px; fill: rgb(210, 105, 30); fill-opacity: 1; stroke: rgb(229, 236, 246); stroke-opacity: 1;\"/></g><g class=\"point\"><path d=\"M7684.27,64V51.84H7705.61V64Z\" style=\"vector-effect: non-scaling-stroke; opacity: 1; stroke-width: 0.5px; fill: rgb(210, 105, 30); fill-opacity: 1; stroke: rgb(229, 236, 246); stroke-opacity: 1;\"/></g><g class=\"point\"><path d=\"M7710.94,64V51.84H7732.28V64Z\" style=\"vector-effect: non-scaling-stroke; opacity: 1; stroke-width: 0.5px; fill: rgb(210, 105, 30); fill-opacity: 1; stroke: rgb(229, 236, 246); stroke-opacity: 1;\"/></g><g class=\"point\"><path d=\"M7737.61,64V51.84H7758.95V64Z\" style=\"vector-effect: non-scaling-stroke; opacity: 1; stroke-width: 0.5px; fill: rgb(210, 105, 30); fill-opacity: 1; stroke: rgb(229, 236, 246); stroke-opacity: 1;\"/></g><g class=\"point\"><path d=\"M7764.28,64V51.84H7785.62V64Z\" style=\"vector-effect: non-scaling-stroke; opacity: 1; stroke-width: 0.5px; fill: rgb(210, 105, 30); fill-opacity: 1; stroke: rgb(229, 236, 246); stroke-opacity: 1;\"/></g><g class=\"point\"><path d=\"M7790.96,64V51.84H7812.29V64Z\" style=\"vector-effect: non-scaling-stroke; opacity: 1; stroke-width: 0.5px; fill: rgb(210, 105, 30); fill-opacity: 1; stroke: rgb(229, 236, 246); stroke-opacity: 1;\"/></g><g class=\"point\"><path d=\"M7817.63,64V51.84H7838.97V64Z\" style=\"vector-effect: non-scaling-stroke; opacity: 1; stroke-width: 0.5px; fill: rgb(210, 105, 30); fill-opacity: 1; stroke: rgb(229, 236, 246); stroke-opacity: 1;\"/></g><g class=\"point\"><path d=\"M2776.58,39.68V27.52H2797.92V39.68Z\" style=\"vector-effect: non-scaling-stroke; opacity: 1; stroke-width: 0.5px; fill: rgb(210, 105, 30); fill-opacity: 1; stroke: rgb(229, 236, 246); stroke-opacity: 1;\"/></g><g class=\"point\"><path d=\"M4430.26,51.84V39.68H4451.59V51.84Z\" style=\"vector-effect: non-scaling-stroke; opacity: 1; stroke-width: 0.5px; fill: rgb(210, 105, 30); fill-opacity: 1; stroke: rgb(229, 236, 246); stroke-opacity: 1;\"/></g><g class=\"point\"><path d=\"M7844.3,64V51.84H7865.64V64Z\" style=\"vector-effect: non-scaling-stroke; opacity: 1; stroke-width: 0.5px; fill: rgb(210, 105, 30); fill-opacity: 1; stroke: rgb(229, 236, 246); stroke-opacity: 1;\"/></g><g class=\"point\"><path d=\"M7870.97,64V51.84H7892.31V64Z\" style=\"vector-effect: non-scaling-stroke; opacity: 1; stroke-width: 0.5px; fill: rgb(210, 105, 30); fill-opacity: 1; stroke: rgb(229, 236, 246); stroke-opacity: 1;\"/></g><g class=\"point\"><path d=\"M7897.65,64V51.84H7918.98V64Z\" style=\"vector-effect: non-scaling-stroke; opacity: 1; stroke-width: 0.5px; fill: rgb(210, 105, 30); fill-opacity: 1; stroke: rgb(229, 236, 246); stroke-opacity: 1;\"/></g><g class=\"point\"><path d=\"M7924.32,64V51.84H7945.66V64Z\" style=\"vector-effect: non-scaling-stroke; opacity: 1; stroke-width: 0.5px; fill: rgb(210, 105, 30); fill-opacity: 1; stroke: rgb(229, 236, 246); stroke-opacity: 1;\"/></g><g class=\"point\"><path d=\"M7950.99,64V51.84H7972.33V64Z\" style=\"vector-effect: non-scaling-stroke; opacity: 1; stroke-width: 0.5px; fill: rgb(210, 105, 30); fill-opacity: 1; stroke: rgb(229, 236, 246); stroke-opacity: 1;\"/></g><g class=\"point\"><path d=\"M7977.66,64V51.84H7999V64Z\" style=\"vector-effect: non-scaling-stroke; opacity: 1; stroke-width: 0.5px; fill: rgb(210, 105, 30); fill-opacity: 1; stroke: rgb(229, 236, 246); stroke-opacity: 1;\"/></g><g class=\"point\"><path d=\"M8004.33,64V51.84H8025.67V64Z\" style=\"vector-effect: non-scaling-stroke; opacity: 1; stroke-width: 0.5px; fill: rgb(210, 105, 30); fill-opacity: 1; stroke: rgb(229, 236, 246); stroke-opacity: 1;\"/></g><g class=\"point\"><path d=\"M8031.01,64V51.84H8052.34V64Z\" style=\"vector-effect: non-scaling-stroke; opacity: 1; stroke-width: 0.5px; fill: rgb(210, 105, 30); fill-opacity: 1; stroke: rgb(229, 236, 246); stroke-opacity: 1;\"/></g><g class=\"point\"><path d=\"M4670.31,51.84V39.68H4691.64V51.84Z\" style=\"vector-effect: non-scaling-stroke; opacity: 1; stroke-width: 0.5px; fill: rgb(210, 105, 30); fill-opacity: 1; stroke: rgb(229, 236, 246); stroke-opacity: 1;\"/></g><g class=\"point\"><path d=\"M8057.68,64V51.84H8079.02V64Z\" style=\"vector-effect: non-scaling-stroke; opacity: 1; stroke-width: 0.5px; fill: rgb(210, 105, 30); fill-opacity: 1; stroke: rgb(229, 236, 246); stroke-opacity: 1;\"/></g><g class=\"point\"><path d=\"M8084.35,64V51.84H8105.69V64Z\" style=\"vector-effect: non-scaling-stroke; opacity: 1; stroke-width: 0.5px; fill: rgb(210, 105, 30); fill-opacity: 1; stroke: rgb(229, 236, 246); stroke-opacity: 1;\"/></g><g class=\"point\"><path d=\"M8111.02,64V51.84H8132.36V64Z\" style=\"vector-effect: non-scaling-stroke; opacity: 1; stroke-width: 0.5px; fill: rgb(210, 105, 30); fill-opacity: 1; stroke: rgb(229, 236, 246); stroke-opacity: 1;\"/></g><g class=\"point\"><path d=\"M8137.7,64V51.84H8159.03V64Z\" style=\"vector-effect: non-scaling-stroke; opacity: 1; stroke-width: 0.5px; fill: rgb(210, 105, 30); fill-opacity: 1; stroke: rgb(229, 236, 246); stroke-opacity: 1;\"/></g><g class=\"point\"><path d=\"M8164.37,64V51.84H8185.71V64Z\" style=\"vector-effect: non-scaling-stroke; opacity: 1; stroke-width: 0.5px; fill: rgb(210, 105, 30); fill-opacity: 1; stroke: rgb(229, 236, 246); stroke-opacity: 1;\"/></g><g class=\"point\"><path d=\"M8191.04,64V51.84H8212.38V64Z\" style=\"vector-effect: non-scaling-stroke; opacity: 1; stroke-width: 0.5px; fill: rgb(210, 105, 30); fill-opacity: 1; stroke: rgb(229, 236, 246); stroke-opacity: 1;\"/></g><g class=\"point\"><path d=\"M8217.71,64V51.84H8239.05V64Z\" style=\"vector-effect: non-scaling-stroke; opacity: 1; stroke-width: 0.5px; fill: rgb(210, 105, 30); fill-opacity: 1; stroke: rgb(229, 236, 246); stroke-opacity: 1;\"/></g><g class=\"point\"><path d=\"M8244.38,64V51.84H8265.72V64Z\" style=\"vector-effect: non-scaling-stroke; opacity: 1; stroke-width: 0.5px; fill: rgb(210, 105, 30); fill-opacity: 1; stroke: rgb(229, 236, 246); stroke-opacity: 1;\"/></g><g class=\"point\"><path d=\"M8271.06,64V51.84H8292.39V64Z\" style=\"vector-effect: non-scaling-stroke; opacity: 1; stroke-width: 0.5px; fill: rgb(210, 105, 30); fill-opacity: 1; stroke: rgb(229, 236, 246); stroke-opacity: 1;\"/></g><g class=\"point\"><path d=\"M8297.73,64V51.84H8319.07V64Z\" style=\"vector-effect: non-scaling-stroke; opacity: 1; stroke-width: 0.5px; fill: rgb(210, 105, 30); fill-opacity: 1; stroke: rgb(229, 236, 246); stroke-opacity: 1;\"/></g><g class=\"point\"><path d=\"M8324.4,64V51.84H8345.74V64Z\" style=\"vector-effect: non-scaling-stroke; opacity: 1; stroke-width: 0.5px; fill: rgb(210, 105, 30); fill-opacity: 1; stroke: rgb(229, 236, 246); stroke-opacity: 1;\"/></g><g class=\"point\"><path d=\"M8351.07,64V51.84H8372.41V64Z\" style=\"vector-effect: non-scaling-stroke; opacity: 1; stroke-width: 0.5px; fill: rgb(210, 105, 30); fill-opacity: 1; stroke: rgb(229, 236, 246); stroke-opacity: 1;\"/></g><g class=\"point\"><path d=\"M8377.75,64V51.84H8399.08V64Z\" style=\"vector-effect: non-scaling-stroke; opacity: 1; stroke-width: 0.5px; fill: rgb(210, 105, 30); fill-opacity: 1; stroke: rgb(229, 236, 246); stroke-opacity: 1;\"/></g><g class=\"point\"><path d=\"M8404.42,64V51.84H8425.76V64Z\" style=\"vector-effect: non-scaling-stroke; opacity: 1; stroke-width: 0.5px; fill: rgb(210, 105, 30); fill-opacity: 1; stroke: rgb(229, 236, 246); stroke-opacity: 1;\"/></g><g class=\"point\"><path d=\"M136.03,39.68V27.52H157.37V39.68Z\" style=\"vector-effect: non-scaling-stroke; opacity: 1; stroke-width: 0.5px; fill: rgb(210, 105, 30); fill-opacity: 1; stroke: rgb(229, 236, 246); stroke-opacity: 1;\"/></g><g class=\"point\"><path d=\"M8431.09,64V51.84H8452.43V64Z\" style=\"vector-effect: non-scaling-stroke; opacity: 1; stroke-width: 0.5px; fill: rgb(210, 105, 30); fill-opacity: 1; stroke: rgb(229, 236, 246); stroke-opacity: 1;\"/></g><g class=\"point\"><path d=\"M4910.36,51.84V39.68H4931.69V51.84Z\" style=\"vector-effect: non-scaling-stroke; opacity: 1; stroke-width: 0.5px; fill: rgb(210, 105, 30); fill-opacity: 1; stroke: rgb(229, 236, 246); stroke-opacity: 1;\"/></g><g class=\"point\"><path d=\"M8457.76,64V51.84H8479.1V64Z\" style=\"vector-effect: non-scaling-stroke; opacity: 1; stroke-width: 0.5px; fill: rgb(210, 105, 30); fill-opacity: 1; stroke: rgb(229, 236, 246); stroke-opacity: 1;\"/></g><g class=\"point\"><path d=\"M8484.43,64V51.84H8505.77V64Z\" style=\"vector-effect: non-scaling-stroke; opacity: 1; stroke-width: 0.5px; fill: rgb(210, 105, 30); fill-opacity: 1; stroke: rgb(229, 236, 246); stroke-opacity: 1;\"/></g><g class=\"point\"><path d=\"M5017.04,51.84V39.68H5038.38V51.84Z\" style=\"vector-effect: non-scaling-stroke; opacity: 1; stroke-width: 0.5px; fill: rgb(210, 105, 30); fill-opacity: 1; stroke: rgb(229, 236, 246); stroke-opacity: 1;\"/></g><g class=\"point\"><path d=\"M8511.11,64V51.84H8532.44V64Z\" style=\"vector-effect: non-scaling-stroke; opacity: 1; stroke-width: 0.5px; fill: rgb(210, 105, 30); fill-opacity: 1; stroke: rgb(229, 236, 246); stroke-opacity: 1;\"/></g><g class=\"point\"><path d=\"M8537.78,64V51.84H8559.12V64Z\" style=\"vector-effect: non-scaling-stroke; opacity: 1; stroke-width: 0.5px; fill: rgb(210, 105, 30); fill-opacity: 1; stroke: rgb(229, 236, 246); stroke-opacity: 1;\"/></g><g class=\"point\"><path d=\"M8564.45,64V51.84H8585.79V64Z\" style=\"vector-effect: non-scaling-stroke; opacity: 1; stroke-width: 0.5px; fill: rgb(210, 105, 30); fill-opacity: 1; stroke: rgb(229, 236, 246); stroke-opacity: 1;\"/></g><g class=\"point\"><path d=\"M8591.12,64V51.84H8612.46V64Z\" style=\"vector-effect: non-scaling-stroke; opacity: 1; stroke-width: 0.5px; fill: rgb(210, 105, 30); fill-opacity: 1; stroke: rgb(229, 236, 246); stroke-opacity: 1;\"/></g><g class=\"point\"><path d=\"M8617.8,64V51.84H8639.13V64Z\" style=\"vector-effect: non-scaling-stroke; opacity: 1; stroke-width: 0.5px; fill: rgb(210, 105, 30); fill-opacity: 1; stroke: rgb(229, 236, 246); stroke-opacity: 1;\"/></g><g class=\"point\"><path d=\"M8644.47,64V51.84H8665.81V64Z\" style=\"vector-effect: non-scaling-stroke; opacity: 1; stroke-width: 0.5px; fill: rgb(210, 105, 30); fill-opacity: 1; stroke: rgb(229, 236, 246); stroke-opacity: 1;\"/></g><g class=\"point\"><path d=\"M8671.14,64V51.84H8692.48V64Z\" style=\"vector-effect: non-scaling-stroke; opacity: 1; stroke-width: 0.5px; fill: rgb(210, 105, 30); fill-opacity: 1; stroke: rgb(229, 236, 246); stroke-opacity: 1;\"/></g><g class=\"point\"><path d=\"M8697.81,64V51.84H8719.15V64Z\" style=\"vector-effect: non-scaling-stroke; opacity: 1; stroke-width: 0.5px; fill: rgb(210, 105, 30); fill-opacity: 1; stroke: rgb(229, 236, 246); stroke-opacity: 1;\"/></g><g class=\"point\"><path d=\"M8724.48,64V51.84H8745.82V64Z\" style=\"vector-effect: non-scaling-stroke; opacity: 1; stroke-width: 0.5px; fill: rgb(210, 105, 30); fill-opacity: 1; stroke: rgb(229, 236, 246); stroke-opacity: 1;\"/></g><g class=\"point\"><path d=\"M5257.09,51.84V39.68H5278.43V51.84Z\" style=\"vector-effect: non-scaling-stroke; opacity: 1; stroke-width: 0.5px; fill: rgb(210, 105, 30); fill-opacity: 1; stroke: rgb(229, 236, 246); stroke-opacity: 1;\"/></g><g class=\"point\"><path d=\"M8751.16,64V51.84H8772.49V64Z\" style=\"vector-effect: non-scaling-stroke; opacity: 1; stroke-width: 0.5px; fill: rgb(210, 105, 30); fill-opacity: 1; stroke: rgb(229, 236, 246); stroke-opacity: 1;\"/></g><g class=\"point\"><path d=\"M8777.83,64V51.84H8799.17V64Z\" style=\"vector-effect: non-scaling-stroke; opacity: 1; stroke-width: 0.5px; fill: rgb(210, 105, 30); fill-opacity: 1; stroke: rgb(229, 236, 246); stroke-opacity: 1;\"/></g><g class=\"point\"><path d=\"M8804.5,64V51.84H8825.84V64Z\" style=\"vector-effect: non-scaling-stroke; opacity: 1; stroke-width: 0.5px; fill: rgb(210, 105, 30); fill-opacity: 1; stroke: rgb(229, 236, 246); stroke-opacity: 1;\"/></g><g class=\"point\"><path d=\"M8831.17,64V51.84H8852.51V64Z\" style=\"vector-effect: non-scaling-stroke; opacity: 1; stroke-width: 0.5px; fill: rgb(210, 105, 30); fill-opacity: 1; stroke: rgb(229, 236, 246); stroke-opacity: 1;\"/></g><g class=\"point\"><path d=\"M8857.85,64V51.84H8879.18V64Z\" style=\"vector-effect: non-scaling-stroke; opacity: 1; stroke-width: 0.5px; fill: rgb(210, 105, 30); fill-opacity: 1; stroke: rgb(229, 236, 246); stroke-opacity: 1;\"/></g><g class=\"point\"><path d=\"M8884.52,64V51.84H8905.86V64Z\" style=\"vector-effect: non-scaling-stroke; opacity: 1; stroke-width: 0.5px; fill: rgb(210, 105, 30); fill-opacity: 1; stroke: rgb(229, 236, 246); stroke-opacity: 1;\"/></g><g class=\"point\"><path d=\"M8911.19,64V51.84H8932.53V64Z\" style=\"vector-effect: non-scaling-stroke; opacity: 1; stroke-width: 0.5px; fill: rgb(210, 105, 30); fill-opacity: 1; stroke: rgb(229, 236, 246); stroke-opacity: 1;\"/></g><g class=\"point\"><path d=\"M8937.86,64V51.84H8959.2V64Z\" style=\"vector-effect: non-scaling-stroke; opacity: 1; stroke-width: 0.5px; fill: rgb(210, 105, 30); fill-opacity: 1; stroke: rgb(229, 236, 246); stroke-opacity: 1;\"/></g><g class=\"point\"><path d=\"M1949.74,39.68V27.52H1971.08V39.68Z\" style=\"vector-effect: non-scaling-stroke; opacity: 1; stroke-width: 0.5px; fill: rgb(210, 105, 30); fill-opacity: 1; stroke: rgb(229, 236, 246); stroke-opacity: 1;\"/></g><g class=\"point\"><path d=\"M216.05,15.36V3.2H237.38V15.36Z\" style=\"vector-effect: non-scaling-stroke; opacity: 1; stroke-width: 0.5px; fill: rgb(210, 105, 30); fill-opacity: 1; stroke: rgb(229, 236, 246); stroke-opacity: 1;\"/></g><g class=\"point\"><path d=\"M8964.53,64V51.84H8985.87V64Z\" style=\"vector-effect: non-scaling-stroke; opacity: 1; stroke-width: 0.5px; fill: rgb(210, 105, 30); fill-opacity: 1; stroke: rgb(229, 236, 246); stroke-opacity: 1;\"/></g><g class=\"point\"><path d=\"M8991.21,64V51.84H9012.54V64Z\" style=\"vector-effect: non-scaling-stroke; opacity: 1; stroke-width: 0.5px; fill: rgb(210, 105, 30); fill-opacity: 1; stroke: rgb(229, 236, 246); stroke-opacity: 1;\"/></g><g class=\"point\"><path d=\"M9017.88,64V51.84H9039.22V64Z\" style=\"vector-effect: non-scaling-stroke; opacity: 1; stroke-width: 0.5px; fill: rgb(210, 105, 30); fill-opacity: 1; stroke: rgb(229, 236, 246); stroke-opacity: 1;\"/></g><g class=\"point\"><path d=\"M9044.55,64V51.84H9065.89V64Z\" style=\"vector-effect: non-scaling-stroke; opacity: 1; stroke-width: 0.5px; fill: rgb(210, 105, 30); fill-opacity: 1; stroke: rgb(229, 236, 246); stroke-opacity: 1;\"/></g><g class=\"point\"><path d=\"M9071.22,64V51.84H9092.56V64Z\" style=\"vector-effect: non-scaling-stroke; opacity: 1; stroke-width: 0.5px; fill: rgb(210, 105, 30); fill-opacity: 1; stroke: rgb(229, 236, 246); stroke-opacity: 1;\"/></g><g class=\"point\"><path d=\"M9097.9,64V51.84H9119.23V64Z\" style=\"vector-effect: non-scaling-stroke; opacity: 1; stroke-width: 0.5px; fill: rgb(210, 105, 30); fill-opacity: 1; stroke: rgb(229, 236, 246); stroke-opacity: 1;\"/></g><g class=\"point\"><path d=\"M2163.12,51.84V39.68H2184.46V51.84Z\" style=\"vector-effect: non-scaling-stroke; opacity: 1; stroke-width: 0.5px; fill: rgb(210, 105, 30); fill-opacity: 1; stroke: rgb(229, 236, 246); stroke-opacity: 1;\"/></g><g class=\"point\"><path d=\"M9124.57,64V51.84H9145.91V64Z\" style=\"vector-effect: non-scaling-stroke; opacity: 1; stroke-width: 0.5px; fill: rgb(210, 105, 30); fill-opacity: 1; stroke: rgb(229, 236, 246); stroke-opacity: 1;\"/></g><g class=\"point\"><path d=\"M9151.24,64V51.84H9172.58V64Z\" style=\"vector-effect: non-scaling-stroke; opacity: 1; stroke-width: 0.5px; fill: rgb(210, 105, 30); fill-opacity: 1; stroke: rgb(229, 236, 246); stroke-opacity: 1;\"/></g><g class=\"point\"><path d=\"M9177.91,64V51.84H9199.25V64Z\" style=\"vector-effect: non-scaling-stroke; opacity: 1; stroke-width: 0.5px; fill: rgb(210, 105, 30); fill-opacity: 1; stroke: rgb(229, 236, 246); stroke-opacity: 1;\"/></g><g class=\"point\"><path d=\"M5737.19,51.84V39.68H5758.53V51.84Z\" style=\"vector-effect: non-scaling-stroke; opacity: 1; stroke-width: 0.5px; fill: rgb(210, 105, 30); fill-opacity: 1; stroke: rgb(229, 236, 246); stroke-opacity: 1;\"/></g><g class=\"point\"><path d=\"M9204.58,64V51.84H9225.92V64Z\" style=\"vector-effect: non-scaling-stroke; opacity: 1; stroke-width: 0.5px; fill: rgb(210, 105, 30); fill-opacity: 1; stroke: rgb(229, 236, 246); stroke-opacity: 1;\"/></g><g class=\"point\"><path d=\"M9231.26,64V51.84H9252.59V64Z\" style=\"vector-effect: non-scaling-stroke; opacity: 1; stroke-width: 0.5px; fill: rgb(210, 105, 30); fill-opacity: 1; stroke: rgb(229, 236, 246); stroke-opacity: 1;\"/></g><g class=\"point\"><path d=\"M9257.93,64V51.84H9279.27V64Z\" style=\"vector-effect: non-scaling-stroke; opacity: 1; stroke-width: 0.5px; fill: rgb(210, 105, 30); fill-opacity: 1; stroke: rgb(229, 236, 246); stroke-opacity: 1;\"/></g><g class=\"point\"><path d=\"M5843.88,51.84V39.68H5865.22V51.84Z\" style=\"vector-effect: non-scaling-stroke; opacity: 1; stroke-width: 0.5px; fill: rgb(210, 105, 30); fill-opacity: 1; stroke: rgb(229, 236, 246); stroke-opacity: 1;\"/></g><g class=\"point\"><path d=\"M9284.6,64V51.84H9305.94V64Z\" style=\"vector-effect: non-scaling-stroke; opacity: 1; stroke-width: 0.5px; fill: rgb(210, 105, 30); fill-opacity: 1; stroke: rgb(229, 236, 246); stroke-opacity: 1;\"/></g><g class=\"point\"><path d=\"M5923.9,51.84V39.68H5945.24V51.84Z\" style=\"vector-effect: non-scaling-stroke; opacity: 1; stroke-width: 0.5px; fill: rgb(210, 105, 30); fill-opacity: 1; stroke: rgb(229, 236, 246); stroke-opacity: 1;\"/></g><g class=\"point\"><path d=\"M9311.27,64V51.84H9332.61V64Z\" style=\"vector-effect: non-scaling-stroke; opacity: 1; stroke-width: 0.5px; fill: rgb(210, 105, 30); fill-opacity: 1; stroke: rgb(229, 236, 246); stroke-opacity: 1;\"/></g><g class=\"point\"><path d=\"M9337.95,64V51.84H9359.28V64Z\" style=\"vector-effect: non-scaling-stroke; opacity: 1; stroke-width: 0.5px; fill: rgb(210, 105, 30); fill-opacity: 1; stroke: rgb(229, 236, 246); stroke-opacity: 1;\"/></g><g class=\"point\"><path d=\"M5950.57,51.84V39.68H5971.91V51.84Z\" style=\"vector-effect: non-scaling-stroke; opacity: 1; stroke-width: 0.5px; fill: rgb(210, 105, 30); fill-opacity: 1; stroke: rgb(229, 236, 246); stroke-opacity: 1;\"/></g><g class=\"point\"><path d=\"M9364.62,64V51.84H9385.96V64Z\" style=\"vector-effect: non-scaling-stroke; opacity: 1; stroke-width: 0.5px; fill: rgb(210, 105, 30); fill-opacity: 1; stroke: rgb(229, 236, 246); stroke-opacity: 1;\"/></g><g class=\"point\"><path d=\"M9391.29,64V51.84H9412.63V64Z\" style=\"vector-effect: non-scaling-stroke; opacity: 1; stroke-width: 0.5px; fill: rgb(210, 105, 30); fill-opacity: 1; stroke: rgb(229, 236, 246); stroke-opacity: 1;\"/></g><g class=\"point\"><path d=\"M9417.96,64V51.84H9439.3V64Z\" style=\"vector-effect: non-scaling-stroke; opacity: 1; stroke-width: 0.5px; fill: rgb(210, 105, 30); fill-opacity: 1; stroke: rgb(229, 236, 246); stroke-opacity: 1;\"/></g><g class=\"point\"><path d=\"M9444.63,64V51.84H9465.97V64Z\" style=\"vector-effect: non-scaling-stroke; opacity: 1; stroke-width: 0.5px; fill: rgb(210, 105, 30); fill-opacity: 1; stroke: rgb(229, 236, 246); stroke-opacity: 1;\"/></g><g class=\"point\"><path d=\"M2376.5,51.84V39.68H2397.83V51.84Z\" style=\"vector-effect: non-scaling-stroke; opacity: 1; stroke-width: 0.5px; fill: rgb(210, 105, 30); fill-opacity: 1; stroke: rgb(229, 236, 246); stroke-opacity: 1;\"/></g><g class=\"point\"><path d=\"M9471.31,64V51.84H9492.64V64Z\" style=\"vector-effect: non-scaling-stroke; opacity: 1; stroke-width: 0.5px; fill: rgb(210, 105, 30); fill-opacity: 1; stroke: rgb(229, 236, 246); stroke-opacity: 1;\"/></g><g class=\"point\"><path d=\"M9497.98,64V51.84H9519.32V64Z\" style=\"vector-effect: non-scaling-stroke; opacity: 1; stroke-width: 0.5px; fill: rgb(210, 105, 30); fill-opacity: 1; stroke: rgb(229, 236, 246); stroke-opacity: 1;\"/></g><g class=\"point\"><path d=\"M9524.65,64V51.84H9545.99V64Z\" style=\"vector-effect: non-scaling-stroke; opacity: 1; stroke-width: 0.5px; fill: rgb(210, 105, 30); fill-opacity: 1; stroke: rgb(229, 236, 246); stroke-opacity: 1;\"/></g><g class=\"point\"><path d=\"M9551.32,64V51.84H9572.66V64Z\" style=\"vector-effect: non-scaling-stroke; opacity: 1; stroke-width: 0.5px; fill: rgb(210, 105, 30); fill-opacity: 1; stroke: rgb(229, 236, 246); stroke-opacity: 1;\"/></g><g class=\"point\"><path d=\"M9578,64V51.84H9599.33V64Z\" style=\"vector-effect: non-scaling-stroke; opacity: 1; stroke-width: 0.5px; fill: rgb(210, 105, 30); fill-opacity: 1; stroke: rgb(229, 236, 246); stroke-opacity: 1;\"/></g></g></g></g></g><g class=\"overplot\"/><path class=\"xlines-above crisp\" d=\"M0,0\" style=\"fill: none;\"/><path class=\"ylines-above crisp\" d=\"M0,0\" style=\"fill: none;\"/><g class=\"overlines-above\"/><g class=\"xaxislayer-above\"><g class=\"xtick\"><text text-anchor=\"start\" x=\"0\" y=\"173\" transform=\"translate(93.34,0) rotate(90,0,167)\" style=\"font-family: 'Open Sans', verdana, arial, sans-serif; font-size: 12px; fill: rgb(42, 63, 95); fill-opacity: 1; white-space: pre; opacity: 1;\">Adhemar Ferreira da Silva</text></g><g class=\"xtick\"><text text-anchor=\"start\" x=\"0\" y=\"173\" transform=\"translate(120.00999999999999,0) rotate(90,0,167)\" style=\"font-family: 'Open Sans', verdana, arial, sans-serif; font-size: 12px; fill: rgb(42, 63, 95); fill-opacity: 1; white-space: pre; opacity: 1;\">Fabiana \"Fabi\" Alvim de Oliveira</text></g><g class=\"xtick\"><text text-anchor=\"start\" x=\"0\" y=\"173\" transform=\"translate(146.68,0) rotate(90,0,167)\" style=\"font-family: 'Open Sans', verdana, arial, sans-serif; font-size: 12px; fill: rgb(42, 63, 95); fill-opacity: 1; white-space: pre; opacity: 1;\">Fabiana Marcelino Claudino</text></g><g class=\"xtick\"><text text-anchor=\"start\" x=\"0\" y=\"173\" transform=\"translate(173.35,0) rotate(90,0,167)\" style=\"font-family: 'Open Sans', verdana, arial, sans-serif; font-size: 12px; fill: rgb(42, 63, 95); fill-opacity: 1; white-space: pre; opacity: 1;\">Giovane Farinazzo Gvio</text></g><g class=\"xtick\"><text text-anchor=\"start\" x=\"0\" y=\"173\" transform=\"translate(200.03,0) rotate(90,0,167)\" style=\"font-family: 'Open Sans', verdana, arial, sans-serif; font-size: 12px; fill: rgb(42, 63, 95); fill-opacity: 1; white-space: pre; opacity: 1;\">Jaqueline Maria \"Jaque\" Pereira de Carvalho Endres</text></g><g class=\"xtick\"><text text-anchor=\"start\" x=\"0\" y=\"173\" transform=\"translate(226.7,0) rotate(90,0,167)\" style=\"font-family: 'Open Sans', verdana, arial, sans-serif; font-size: 12px; fill: rgb(42, 63, 95); fill-opacity: 1; white-space: pre; opacity: 1;\">Marcelo Bastos Ferreira</text></g><g class=\"xtick\"><text text-anchor=\"start\" x=\"0\" y=\"173\" transform=\"translate(253.37,0) rotate(90,0,167)\" style=\"font-family: 'Open Sans', verdana, arial, sans-serif; font-size: 12px; fill: rgb(42, 63, 95); fill-opacity: 1; white-space: pre; opacity: 1;\">Maurcio Camargo Lima</text></g><g class=\"xtick\"><text text-anchor=\"start\" x=\"0\" y=\"173\" transform=\"translate(280.03999999999996,0) rotate(90,0,167)\" style=\"font-family: 'Open Sans', verdana, arial, sans-serif; font-size: 12px; fill: rgb(42, 63, 95); fill-opacity: 1; white-space: pre; opacity: 1;\">Paula Renata Marques Pequeno</text></g><g class=\"xtick\"><text text-anchor=\"start\" x=\"0\" y=\"173\" transform=\"translate(306.71000000000004,0) rotate(90,0,167)\" style=\"font-family: 'Open Sans', verdana, arial, sans-serif; font-size: 12px; fill: rgb(42, 63, 95); fill-opacity: 1; white-space: pre; opacity: 1;\">Robert Scheidt</text></g><g class=\"xtick\"><text text-anchor=\"start\" x=\"0\" y=\"173\" transform=\"translate(333.39,0) rotate(90,0,167)\" style=\"font-family: 'Open Sans', verdana, arial, sans-serif; font-size: 12px; fill: rgb(42, 63, 95); fill-opacity: 1; white-space: pre; opacity: 1;\">Sheilla Tavares de Castro Blassioli</text></g><g class=\"xtick\"><text text-anchor=\"start\" x=\"0\" y=\"173\" transform=\"translate(360.06,0) rotate(90,0,167)\" style=\"font-family: 'Open Sans', verdana, arial, sans-serif; font-size: 12px; fill: rgb(42, 63, 95); fill-opacity: 1; white-space: pre; opacity: 1;\">Srgio \"Escadinha\" Dutra dos Santos</text></g><g class=\"xtick\"><text text-anchor=\"start\" x=\"0\" y=\"173\" transform=\"translate(386.73,0) rotate(90,0,167)\" style=\"font-family: 'Open Sans', verdana, arial, sans-serif; font-size: 12px; fill: rgb(42, 63, 95); fill-opacity: 1; white-space: pre; opacity: 1;\">Thasa Daher de Menezes</text></g><g class=\"xtick\"><text text-anchor=\"start\" x=\"0\" y=\"173\" transform=\"translate(413.4,0) rotate(90,0,167)\" style=\"font-family: 'Open Sans', verdana, arial, sans-serif; font-size: 12px; fill: rgb(42, 63, 95); fill-opacity: 1; white-space: pre; opacity: 1;\">Torben Schmidt Grael</text></g><g class=\"xtick\"><text text-anchor=\"start\" x=\"0\" y=\"173\" transform=\"translate(440.08,0) rotate(90,0,167)\" style=\"font-family: 'Open Sans', verdana, arial, sans-serif; font-size: 12px; fill: rgb(42, 63, 95); fill-opacity: 1; white-space: pre; opacity: 1;\">Adenzia Aparecida Ferreira da Silva</text></g><g class=\"xtick\"><text text-anchor=\"start\" x=\"0\" y=\"173\" transform=\"translate(466.75,0) rotate(90,0,167)\" style=\"font-family: 'Open Sans', verdana, arial, sans-serif; font-size: 12px; fill: rgb(42, 63, 95); fill-opacity: 1; white-space: pre; opacity: 1;\">Alexander Welter</text></g><g class=\"xtick\"><text text-anchor=\"start\" x=\"0\" y=\"173\" transform=\"translate(493.42,0) rotate(90,0,167)\" style=\"font-family: 'Open Sans', verdana, arial, sans-serif; font-size: 12px; fill: rgb(42, 63, 95); fill-opacity: 1; white-space: pre; opacity: 1;\">Alexandre \"Tande\" Ramos Samuel</text></g><g class=\"xtick\"><text text-anchor=\"start\" x=\"0\" y=\"173\" transform=\"translate(520.0899999999999,0) rotate(90,0,167)\" style=\"font-family: 'Open Sans', verdana, arial, sans-serif; font-size: 12px; fill: rgb(42, 63, 95); fill-opacity: 1; white-space: pre; opacity: 1;\">Alison Conte Cerutti</text></g><g class=\"xtick\"><text text-anchor=\"start\" x=\"0\" y=\"173\" transform=\"translate(546.76,0) rotate(90,0,167)\" style=\"font-family: 'Open Sans', verdana, arial, sans-serif; font-size: 12px; fill: rgb(42, 63, 95); fill-opacity: 1; white-space: pre; opacity: 1;\">Amauri Ribeiro</text></g><g class=\"xtick\"><text text-anchor=\"start\" x=\"0\" y=\"173\" transform=\"translate(573.44,0) rotate(90,0,167)\" style=\"font-family: 'Open Sans', verdana, arial, sans-serif; font-size: 12px; fill: rgb(42, 63, 95); fill-opacity: 1; white-space: pre; opacity: 1;\">Anderson de Oliveira Rodrigues</text></g><g class=\"xtick\"><text text-anchor=\"start\" x=\"0\" y=\"173\" transform=\"translate(600.11,0) rotate(90,0,167)\" style=\"font-family: 'Open Sans', verdana, arial, sans-serif; font-size: 12px; fill: rgb(42, 63, 95); fill-opacity: 1; white-space: pre; opacity: 1;\">Andr Felipe \"Pampa\" Falbo Ferreira</text></g><g class=\"xtick\"><text text-anchor=\"start\" x=\"0\" y=\"173\" transform=\"translate(626.78,0) rotate(90,0,167)\" style=\"font-family: 'Open Sans', verdana, arial, sans-serif; font-size: 12px; fill: rgb(42, 63, 95); fill-opacity: 1; white-space: pre; opacity: 1;\">Andr Heller</text></g><g class=\"xtick\"><text text-anchor=\"start\" x=\"0\" y=\"173\" transform=\"translate(653.45,0) rotate(90,0,167)\" style=\"font-family: 'Open Sans', verdana, arial, sans-serif; font-size: 12px; fill: rgb(42, 63, 95); fill-opacity: 1; white-space: pre; opacity: 1;\">Andr Luiz da Silva Nascimento</text></g><g class=\"xtick\"><text text-anchor=\"start\" x=\"0\" y=\"173\" transform=\"translate(680.13,0) rotate(90,0,167)\" style=\"font-family: 'Open Sans', verdana, arial, sans-serif; font-size: 12px; fill: rgb(42, 63, 95); fill-opacity: 1; white-space: pre; opacity: 1;\">Antnio Carlos \"Carlo\" Aguilar Gouveia</text></g><g class=\"xtick\"><text text-anchor=\"start\" x=\"0\" y=\"173\" transform=\"translate(706.8,0) rotate(90,0,167)\" style=\"font-family: 'Open Sans', verdana, arial, sans-serif; font-size: 12px; fill: rgb(42, 63, 95); fill-opacity: 1; white-space: pre; opacity: 1;\">Arthur Nabarrete Zanetti</text></g><g class=\"xtick\"><text text-anchor=\"start\" x=\"0\" y=\"173\" transform=\"translate(733.47,0) rotate(90,0,167)\" style=\"font-family: 'Open Sans', verdana, arial, sans-serif; font-size: 12px; fill: rgb(42, 63, 95); fill-opacity: 1; white-space: pre; opacity: 1;\">Aurlio Fernndez Miguel</text></g><g class=\"xtick\"><text text-anchor=\"start\" x=\"0\" y=\"173\" transform=\"translate(760.14,0) rotate(90,0,167)\" style=\"font-family: 'Open Sans', verdana, arial, sans-serif; font-size: 12px; fill: rgb(42, 63, 95); fill-opacity: 1; white-space: pre; opacity: 1;\">Bruno \"Bruninho\" Mossa de Rezende</text></g><g class=\"xtick\"><text text-anchor=\"start\" x=\"0\" y=\"173\" transform=\"translate(786.81,0) rotate(90,0,167)\" style=\"font-family: 'Open Sans', verdana, arial, sans-serif; font-size: 12px; fill: rgb(42, 63, 95); fill-opacity: 1; white-space: pre; opacity: 1;\">Bruno Oscar Schmidt</text></g><g class=\"xtick\"><text text-anchor=\"start\" x=\"0\" y=\"173\" transform=\"translate(813.49,0) rotate(90,0,167)\" style=\"font-family: 'Open Sans', verdana, arial, sans-serif; font-size: 12px; fill: rgb(42, 63, 95); fill-opacity: 1; white-space: pre; opacity: 1;\">Carolina \"Carol\" Demartini de Albuquerque</text></g><g class=\"xtick\"><text text-anchor=\"start\" x=\"0\" y=\"173\" transform=\"translate(840.16,0) rotate(90,0,167)\" style=\"font-family: 'Open Sans', verdana, arial, sans-serif; font-size: 12px; fill: rgb(42, 63, 95); fill-opacity: 1; white-space: pre; opacity: 1;\">Csar Augusto Cielo Filho</text></g><g class=\"xtick\"><text text-anchor=\"start\" x=\"0\" y=\"173\" transform=\"translate(866.83,0) rotate(90,0,167)\" style=\"font-family: 'Open Sans', verdana, arial, sans-serif; font-size: 12px; fill: rgb(42, 63, 95); fill-opacity: 1; white-space: pre; opacity: 1;\">Danielle \"Dani\" Rodrigues Lins</text></g><g class=\"xtick\"><text text-anchor=\"start\" x=\"0\" y=\"173\" transform=\"translate(893.5,0) rotate(90,0,167)\" style=\"font-family: 'Open Sans', verdana, arial, sans-serif; font-size: 12px; fill: rgb(42, 63, 95); fill-opacity: 1; white-space: pre; opacity: 1;\">Dante Guimares Santos do Amaral</text></g><g class=\"xtick\"><text text-anchor=\"start\" x=\"0\" y=\"173\" transform=\"translate(920.18,0) rotate(90,0,167)\" style=\"font-family: 'Open Sans', verdana, arial, sans-serif; font-size: 12px; fill: rgb(42, 63, 95); fill-opacity: 1; white-space: pre; opacity: 1;\">Douglas Chiarotti</text></g><g class=\"xtick\"><text text-anchor=\"start\" x=\"0\" y=\"173\" transform=\"translate(946.85,0) rotate(90,0,167)\" style=\"font-family: 'Open Sans', verdana, arial, sans-serif; font-size: 12px; fill: rgb(42, 63, 95); fill-opacity: 1; white-space: pre; opacity: 1;\">Douglas Correia de Souza</text></g><g class=\"xtick\"><text text-anchor=\"start\" x=\"0\" y=\"173\" transform=\"translate(973.52,0) rotate(90,0,167)\" style=\"font-family: 'Open Sans', verdana, arial, sans-serif; font-size: 12px; fill: rgb(42, 63, 95); fill-opacity: 1; white-space: pre; opacity: 1;\">Douglas dos Santos Justino de Melo</text></g><g class=\"xtick\"><text text-anchor=\"start\" x=\"0\" y=\"173\" transform=\"translate(1000.19,0) rotate(90,0,167)\" style=\"font-family: 'Open Sans', verdana, arial, sans-serif; font-size: 12px; fill: rgb(42, 63, 95); fill-opacity: 1; white-space: pre; opacity: 1;\">Eduardo Henrique Gomes Penido</text></g><g class=\"xtick\"><text text-anchor=\"start\" x=\"0\" y=\"173\" transform=\"translate(1026.8600000000001,0) rotate(90,0,167)\" style=\"font-family: 'Open Sans', verdana, arial, sans-serif; font-size: 12px; fill: rgb(42, 63, 95); fill-opacity: 1; white-space: pre; opacity: 1;\">Emanuel Fernando Scheffler Rego</text></g><g class=\"xtick\"><text text-anchor=\"start\" x=\"0\" y=\"173\" transform=\"translate(1053.54,0) rotate(90,0,167)\" style=\"font-family: 'Open Sans', verdana, arial, sans-serif; font-size: 12px; fill: rgb(42, 63, 95); fill-opacity: 1; white-space: pre; opacity: 1;\">Evandro Motta Guerra</text></g><g class=\"xtick\"><text text-anchor=\"start\" x=\"0\" y=\"173\" transform=\"translate(1080.21,0) rotate(90,0,167)\" style=\"font-family: 'Open Sans', verdana, arial, sans-serif; font-size: 12px; fill: rgb(42, 63, 95); fill-opacity: 1; white-space: pre; opacity: 1;\">Felipe Anderson Perieira Gomes</text></g><g class=\"xtick\"><text text-anchor=\"start\" x=\"0\" y=\"173\" transform=\"translate(1106.88,0) rotate(90,0,167)\" style=\"font-family: 'Open Sans', verdana, arial, sans-serif; font-size: 12px; fill: rgb(42, 63, 95); fill-opacity: 1; white-space: pre; opacity: 1;\">Fernanda \"Fernandinha\" Ferreira</text></g><g class=\"xtick\"><text text-anchor=\"start\" x=\"0\" y=\"173\" transform=\"translate(1133.55,0) rotate(90,0,167)\" style=\"font-family: 'Open Sans', verdana, arial, sans-serif; font-size: 12px; fill: rgb(42, 63, 95); fill-opacity: 1; white-space: pre; opacity: 1;\">Fernanda Garay Rodrigues</text></g><g class=\"xtick\"><text text-anchor=\"start\" x=\"0\" y=\"173\" transform=\"translate(1160.23,0) rotate(90,0,167)\" style=\"font-family: 'Open Sans', verdana, arial, sans-serif; font-size: 12px; fill: rgb(42, 63, 95); fill-opacity: 1; white-space: pre; opacity: 1;\">Gabriel Barbosa Almeida</text></g><g class=\"xtick\"><text text-anchor=\"start\" x=\"0\" y=\"173\" transform=\"translate(1186.9,0) rotate(90,0,167)\" style=\"font-family: 'Open Sans', verdana, arial, sans-serif; font-size: 12px; fill: rgb(42, 63, 95); fill-opacity: 1; white-space: pre; opacity: 1;\">Gabriel Fernando de Jesus</text></g><g class=\"xtick\"><text text-anchor=\"start\" x=\"0\" y=\"173\" transform=\"translate(1213.57,0) rotate(90,0,167)\" style=\"font-family: 'Open Sans', verdana, arial, sans-serif; font-size: 12px; fill: rgb(42, 63, 95); fill-opacity: 1; white-space: pre; opacity: 1;\">Gilberto Amauri \"Giba\" de Godoy Filho</text></g><g class=\"xtick\"><text text-anchor=\"start\" x=\"0\" y=\"173\" transform=\"translate(1240.24,0) rotate(90,0,167)\" style=\"font-family: 'Open Sans', verdana, arial, sans-serif; font-size: 12px; fill: rgb(42, 63, 95); fill-opacity: 1; white-space: pre; opacity: 1;\">Guilherme Paraense</text></g><g class=\"xtick\"><text text-anchor=\"start\" x=\"0\" y=\"173\" transform=\"translate(1266.91,0) rotate(90,0,167)\" style=\"font-family: 'Open Sans', verdana, arial, sans-serif; font-size: 12px; fill: rgb(42, 63, 95); fill-opacity: 1; white-space: pre; opacity: 1;\">Gustavo Endres</text></g><g class=\"xtick\"><text text-anchor=\"start\" x=\"0\" y=\"173\" transform=\"translate(1293.59,0) rotate(90,0,167)\" style=\"font-family: 'Open Sans', verdana, arial, sans-serif; font-size: 12px; fill: rgb(42, 63, 95); fill-opacity: 1; white-space: pre; opacity: 1;\">Hlia \"Fofo\" Rogrio de Souza Pinto</text></g><g class=\"xtick\"><text text-anchor=\"start\" x=\"0\" y=\"173\" transform=\"translate(1320.26,0) rotate(90,0,167)\" style=\"font-family: 'Open Sans', verdana, arial, sans-serif; font-size: 12px; fill: rgb(42, 63, 95); fill-opacity: 1; white-space: pre; opacity: 1;\">Jacqueline Louise \"Jackie\" da Cruz Silva</text></g><g class=\"xtick\"><text text-anchor=\"start\" x=\"0\" y=\"173\" transform=\"translate(1346.93,0) rotate(90,0,167)\" style=\"font-family: 'Open Sans', verdana, arial, sans-serif; font-size: 12px; fill: rgb(42, 63, 95); fill-opacity: 1; white-space: pre; opacity: 1;\">Janelson dos Santos Carvalho</text></g><g class=\"xtick\"><text text-anchor=\"start\" x=\"0\" y=\"173\" transform=\"translate(1373.6,0) rotate(90,0,167)\" style=\"font-family: 'Open Sans', verdana, arial, sans-serif; font-size: 12px; fill: rgb(42, 63, 95); fill-opacity: 1; white-space: pre; opacity: 1;\">Joaquim Carvalho Cruz</text></g><g class=\"xtick\"><text text-anchor=\"start\" x=\"0\" y=\"173\" transform=\"translate(1400.28,0) rotate(90,0,167)\" style=\"font-family: 'Open Sans', verdana, arial, sans-serif; font-size: 12px; fill: rgb(42, 63, 95); fill-opacity: 1; white-space: pre; opacity: 1;\">Jorge Edson Souza de Brito</text></g><g class=\"xtick\"><text text-anchor=\"start\" x=\"0\" y=\"173\" transform=\"translate(1426.95,0) rotate(90,0,167)\" style=\"font-family: 'Open Sans', verdana, arial, sans-serif; font-size: 12px; fill: rgb(42, 63, 95); fill-opacity: 1; white-space: pre; opacity: 1;\">Jos Carlos Cracco Neto</text></g><g class=\"xtick\"><text text-anchor=\"start\" x=\"0\" y=\"173\" transform=\"translate(1453.62,0) rotate(90,0,167)\" style=\"font-family: 'Open Sans', verdana, arial, sans-serif; font-size: 12px; fill: rgb(42, 63, 95); fill-opacity: 1; white-space: pre; opacity: 1;\">Kahena Kunze</text></g><g class=\"xtick\"><text text-anchor=\"start\" x=\"0\" y=\"173\" transform=\"translate(1480.29,0) rotate(90,0,167)\" style=\"font-family: 'Open Sans', verdana, arial, sans-serif; font-size: 12px; fill: rgb(42, 63, 95); fill-opacity: 1; white-space: pre; opacity: 1;\">Lars Sigurd Bjorkstrom</text></g><g class=\"xtick\"><text text-anchor=\"start\" x=\"0\" y=\"173\" transform=\"translate(1506.96,0) rotate(90,0,167)\" style=\"font-family: 'Open Sans', verdana, arial, sans-serif; font-size: 12px; fill: rgb(42, 63, 95); fill-opacity: 1; white-space: pre; opacity: 1;\">Luan Garcia Teixeira</text></g><g class=\"xtick\"><text text-anchor=\"start\" x=\"0\" y=\"173\" transform=\"translate(1533.64,0) rotate(90,0,167)\" style=\"font-family: 'Open Sans', verdana, arial, sans-serif; font-size: 12px; fill: rgb(42, 63, 95); fill-opacity: 1; white-space: pre; opacity: 1;\">Luan Guilherme de Jesus Vieira</text></g><g class=\"xtick\"><text text-anchor=\"start\" x=\"0\" y=\"173\" transform=\"translate(1560.31,0) rotate(90,0,167)\" style=\"font-family: 'Open Sans', verdana, arial, sans-serif; font-size: 12px; fill: rgb(42, 63, 95); fill-opacity: 1; white-space: pre; opacity: 1;\">Lucas Saatkamp</text></g><g class=\"xtick\"><text text-anchor=\"start\" x=\"0\" y=\"173\" transform=\"translate(1586.98,0) rotate(90,0,167)\" style=\"font-family: 'Open Sans', verdana, arial, sans-serif; font-size: 12px; fill: rgb(42, 63, 95); fill-opacity: 1; white-space: pre; opacity: 1;\">Luiz Felipe Marques Fonteles</text></g><g class=\"xtick\"><text text-anchor=\"start\" x=\"0\" y=\"173\" transform=\"translate(1613.65,0) rotate(90,0,167)\" style=\"font-family: 'Open Sans', verdana, arial, sans-serif; font-size: 12px; fill: rgb(42, 63, 95); fill-opacity: 1; white-space: pre; opacity: 1;\">Marcelo Teles Negro</text></g><g class=\"xtick\"><text text-anchor=\"start\" x=\"0\" y=\"173\" transform=\"translate(1640.33,0) rotate(90,0,167)\" style=\"font-family: 'Open Sans', verdana, arial, sans-serif; font-size: 12px; fill: rgb(42, 63, 95); fill-opacity: 1; white-space: pre; opacity: 1;\">Marcos \"Marquinhos\" Aos Corra</text></g><g class=\"xtick\"><text text-anchor=\"start\" x=\"0\" y=\"173\" transform=\"translate(1667,0) rotate(90,0,167)\" style=\"font-family: 'Open Sans', verdana, arial, sans-serif; font-size: 12px; fill: rgb(42, 63, 95); fill-opacity: 1; white-space: pre; opacity: 1;\">Marcos Pinto Rizzo Soares</text></g><g class=\"xtick\"><text text-anchor=\"start\" x=\"0\" y=\"173\" transform=\"translate(1693.67,0) rotate(90,0,167)\" style=\"font-family: 'Open Sans', verdana, arial, sans-serif; font-size: 12px; fill: rgb(42, 63, 95); fill-opacity: 1; white-space: pre; opacity: 1;\">Marianne \"Mari\" Steinbrecher</text></g><g class=\"xtick\"><text text-anchor=\"start\" x=\"0\" y=\"173\" transform=\"translate(1720.34,0) rotate(90,0,167)\" style=\"font-family: 'Open Sans', verdana, arial, sans-serif; font-size: 12px; fill: rgb(42, 63, 95); fill-opacity: 1; white-space: pre; opacity: 1;\">Martine Soffiatti Grael</text></g><g class=\"xtick\"><text text-anchor=\"start\" x=\"0\" y=\"173\" transform=\"translate(1747.01,0) rotate(90,0,167)\" style=\"font-family: 'Open Sans', verdana, arial, sans-serif; font-size: 12px; fill: rgb(42, 63, 95); fill-opacity: 1; white-space: pre; opacity: 1;\">Maurcio Borges Almeida Silva</text></g><g class=\"xtick\"><text text-anchor=\"start\" x=\"0\" y=\"173\" transform=\"translate(1773.69,0) rotate(90,0,167)\" style=\"font-family: 'Open Sans', verdana, arial, sans-serif; font-size: 12px; fill: rgb(42, 63, 95); fill-opacity: 1; white-space: pre; opacity: 1;\">Maurcio Luiz de Souza</text></g><g class=\"xtick\"><text text-anchor=\"start\" x=\"0\" y=\"173\" transform=\"translate(1800.36,0) rotate(90,0,167)\" style=\"font-family: 'Open Sans', verdana, arial, sans-serif; font-size: 12px; fill: rgb(42, 63, 95); fill-opacity: 1; white-space: pre; opacity: 1;\">Maurren Higa Maggi</text></g><g class=\"xtick\"><text text-anchor=\"start\" x=\"0\" y=\"173\" transform=\"translate(1827.03,0) rotate(90,0,167)\" style=\"font-family: 'Open Sans', verdana, arial, sans-serif; font-size: 12px; fill: rgb(42, 63, 95); fill-opacity: 1; white-space: pre; opacity: 1;\">Nalbert Tavares Bitencourt</text></g><g class=\"xtick\"><text text-anchor=\"start\" x=\"0\" y=\"173\" transform=\"translate(1853.7,0) rotate(90,0,167)\" style=\"font-family: 'Open Sans', verdana, arial, sans-serif; font-size: 12px; fill: rgb(42, 63, 95); fill-opacity: 1; white-space: pre; opacity: 1;\">Natlia Zlio Pereira</text></g><g class=\"xtick\"><text text-anchor=\"start\" x=\"0\" y=\"173\" transform=\"translate(1880.38,0) rotate(90,0,167)\" style=\"font-family: 'Open Sans', verdana, arial, sans-serif; font-size: 12px; fill: rgb(42, 63, 95); fill-opacity: 1; white-space: pre; opacity: 1;\">Neymar da Silva Santos Jnior</text></g><g class=\"xtick\"><text text-anchor=\"start\" x=\"0\" y=\"173\" transform=\"translate(1907.05,0) rotate(90,0,167)\" style=\"font-family: 'Open Sans', verdana, arial, sans-serif; font-size: 12px; fill: rgb(42, 63, 95); fill-opacity: 1; white-space: pre; opacity: 1;\">Paulo Andr \"Paulo\" Jukoski da Silva</text></g><g class=\"xtick\"><text text-anchor=\"start\" x=\"0\" y=\"173\" transform=\"translate(1933.72,0) rotate(90,0,167)\" style=\"font-family: 'Open Sans', verdana, arial, sans-serif; font-size: 12px; fill: rgb(42, 63, 95); fill-opacity: 1; white-space: pre; opacity: 1;\">Rafael Alcntara do Nascimento</text></g><g class=\"xtick\"><text text-anchor=\"start\" x=\"0\" y=\"173\" transform=\"translate(1960.39,0) rotate(90,0,167)\" style=\"font-family: 'Open Sans', verdana, arial, sans-serif; font-size: 12px; fill: rgb(42, 63, 95); fill-opacity: 1; white-space: pre; opacity: 1;\">Rafaela Lopes Silva</text></g><g class=\"xtick\"><text text-anchor=\"start\" x=\"0\" y=\"173\" transform=\"translate(1987.06,0) rotate(90,0,167)\" style=\"font-family: 'Open Sans', verdana, arial, sans-serif; font-size: 12px; fill: rgb(42, 63, 95); fill-opacity: 1; white-space: pre; opacity: 1;\">Renato Soares de Oliveira Augusto</text></g><g class=\"xtick\"><text text-anchor=\"start\" x=\"0\" y=\"173\" transform=\"translate(2013.74,0) rotate(90,0,167)\" style=\"font-family: 'Open Sans', verdana, arial, sans-serif; font-size: 12px; fill: rgb(42, 63, 95); fill-opacity: 1; white-space: pre; opacity: 1;\">Ricardo \"Ricardinho\" Bermudez Garcia</text></g><g class=\"xtick\"><text text-anchor=\"start\" x=\"0\" y=\"173\" transform=\"translate(2040.41,0) rotate(90,0,167)\" style=\"font-family: 'Open Sans', verdana, arial, sans-serif; font-size: 12px; fill: rgb(42, 63, 95); fill-opacity: 1; white-space: pre; opacity: 1;\">Ricardo Alex Costa Santos</text></g><g class=\"xtick\"><text text-anchor=\"start\" x=\"0\" y=\"173\" transform=\"translate(2067.08,0) rotate(90,0,167)\" style=\"font-family: 'Open Sans', verdana, arial, sans-serif; font-size: 12px; fill: rgb(42, 63, 95); fill-opacity: 1; white-space: pre; opacity: 1;\">Ricardo Samuel Lucarelli Santos de Souza</text></g><g class=\"xtick\"><text text-anchor=\"start\" x=\"0\" y=\"173\" transform=\"translate(2093.75,0) rotate(90,0,167)\" style=\"font-family: 'Open Sans', verdana, arial, sans-serif; font-size: 12px; fill: rgb(42, 63, 95); fill-opacity: 1; white-space: pre; opacity: 1;\">Robson Donato Conceio</text></g><g class=\"xtick\"><text text-anchor=\"start\" x=\"0\" y=\"173\" transform=\"translate(2120.4300000000003,0) rotate(90,0,167)\" style=\"font-family: 'Open Sans', verdana, arial, sans-serif; font-size: 12px; fill: rgb(42, 63, 95); fill-opacity: 1; white-space: pre; opacity: 1;\">Rodrigo \"Rodrigo\" Santana</text></g><g class=\"xtick\"><text text-anchor=\"start\" x=\"0\" y=\"173\" transform=\"translate(2147.1,0) rotate(90,0,167)\" style=\"font-family: 'Open Sans', verdana, arial, sans-serif; font-size: 12px; fill: rgb(42, 63, 95); fill-opacity: 1; white-space: pre; opacity: 1;\">Rodrigo Caio Coquette Russo</text></g><g class=\"xtick\"><text text-anchor=\"start\" x=\"0\" y=\"173\" transform=\"translate(2173.77,0) rotate(90,0,167)\" style=\"font-family: 'Open Sans', verdana, arial, sans-serif; font-size: 12px; fill: rgb(42, 63, 95); fill-opacity: 1; white-space: pre; opacity: 1;\">Rodrigo Dourado Cunha</text></g><g class=\"xtick\"><text text-anchor=\"start\" x=\"0\" y=\"173\" transform=\"translate(2200.44,0) rotate(90,0,167)\" style=\"font-family: 'Open Sans', verdana, arial, sans-serif; font-size: 12px; fill: rgb(42, 63, 95); fill-opacity: 1; white-space: pre; opacity: 1;\">Rodrigo de Paula Pessoa</text></g><g class=\"xtick\"><text text-anchor=\"start\" x=\"0\" y=\"173\" transform=\"translate(2227.11,0) rotate(90,0,167)\" style=\"font-family: 'Open Sans', verdana, arial, sans-serif; font-size: 12px; fill: rgb(42, 63, 95); fill-opacity: 1; white-space: pre; opacity: 1;\">Rogrio Sampaio Cardoso</text></g><g class=\"xtick\"><text text-anchor=\"start\" x=\"0\" y=\"173\" transform=\"translate(2253.79,0) rotate(90,0,167)\" style=\"font-family: 'Open Sans', verdana, arial, sans-serif; font-size: 12px; fill: rgb(42, 63, 95); fill-opacity: 1; white-space: pre; opacity: 1;\">Sandra Tavares Pires Nascimento</text></g><g class=\"xtick\"><text text-anchor=\"start\" x=\"0\" y=\"173\" transform=\"translate(2280.46,0) rotate(90,0,167)\" style=\"font-family: 'Open Sans', verdana, arial, sans-serif; font-size: 12px; fill: rgb(42, 63, 95); fill-opacity: 1; white-space: pre; opacity: 1;\">Sarah Gabrielle Cabral de Menezes</text></g><g class=\"xtick\"><text text-anchor=\"start\" x=\"0\" y=\"173\" transform=\"translate(2307.13,0) rotate(90,0,167)\" style=\"font-family: 'Open Sans', verdana, arial, sans-serif; font-size: 12px; fill: rgb(42, 63, 95); fill-opacity: 1; white-space: pre; opacity: 1;\">Talmo Curto de Oliveira</text></g><g class=\"xtick\"><text text-anchor=\"start\" x=\"0\" y=\"173\" transform=\"translate(2333.8,0) rotate(90,0,167)\" style=\"font-family: 'Open Sans', verdana, arial, sans-serif; font-size: 12px; fill: rgb(42, 63, 95); fill-opacity: 1; white-space: pre; opacity: 1;\">Tandara Caixeta</text></g><g class=\"xtick\"><text text-anchor=\"start\" x=\"0\" y=\"173\" transform=\"translate(2360.48,0) rotate(90,0,167)\" style=\"font-family: 'Open Sans', verdana, arial, sans-serif; font-size: 12px; fill: rgb(42, 63, 95); fill-opacity: 1; white-space: pre; opacity: 1;\">Thiago Braz da Silva</text></g><g class=\"xtick\"><text text-anchor=\"start\" x=\"0\" y=\"173\" transform=\"translate(2387.15,0) rotate(90,0,167)\" style=\"font-family: 'Open Sans', verdana, arial, sans-serif; font-size: 12px; fill: rgb(42, 63, 95); fill-opacity: 1; white-space: pre; opacity: 1;\">Thiago Maia Alencar</text></g><g class=\"xtick\"><text text-anchor=\"start\" x=\"0\" y=\"173\" transform=\"translate(2413.82,0) rotate(90,0,167)\" style=\"font-family: 'Open Sans', verdana, arial, sans-serif; font-size: 12px; fill: rgb(42, 63, 95); fill-opacity: 1; white-space: pre; opacity: 1;\">Valeska \"Valeskinha\" dos Santos Menezes</text></g><g class=\"xtick\"><text text-anchor=\"start\" x=\"0\" y=\"173\" transform=\"translate(2440.49,0) rotate(90,0,167)\" style=\"font-family: 'Open Sans', verdana, arial, sans-serif; font-size: 12px; fill: rgb(42, 63, 95); fill-opacity: 1; white-space: pre; opacity: 1;\">Walace Souza Silva</text></g><g class=\"xtick\"><text text-anchor=\"start\" x=\"0\" y=\"173\" transform=\"translate(2467.16,0) rotate(90,0,167)\" style=\"font-family: 'Open Sans', verdana, arial, sans-serif; font-size: 12px; fill: rgb(42, 63, 95); fill-opacity: 1; white-space: pre; opacity: 1;\">Walewska Moreira de Oliveira</text></g><g class=\"xtick\"><text text-anchor=\"start\" x=\"0\" y=\"173\" transform=\"translate(2493.84,0) rotate(90,0,167)\" style=\"font-family: 'Open Sans', verdana, arial, sans-serif; font-size: 12px; fill: rgb(42, 63, 95); fill-opacity: 1; white-space: pre; opacity: 1;\">Wallace Leandro de Souza</text></g><g class=\"xtick\"><text text-anchor=\"start\" x=\"0\" y=\"173\" transform=\"translate(2520.51,0) rotate(90,0,167)\" style=\"font-family: 'Open Sans', verdana, arial, sans-serif; font-size: 12px; fill: rgb(42, 63, 95); fill-opacity: 1; white-space: pre; opacity: 1;\">Welissa \"Sass\" de Souza Gonzaga</text></g><g class=\"xtick\"><text text-anchor=\"start\" x=\"0\" y=\"173\" transform=\"translate(2547.18,0) rotate(90,0,167)\" style=\"font-family: 'Open Sans', verdana, arial, sans-serif; font-size: 12px; fill: rgb(42, 63, 95); fill-opacity: 1; white-space: pre; opacity: 1;\">William Peixoto Arjona</text></g><g class=\"xtick\"><text text-anchor=\"start\" x=\"0\" y=\"173\" transform=\"translate(2573.85,0) rotate(90,0,167)\" style=\"font-family: 'Open Sans', verdana, arial, sans-serif; font-size: 12px; fill: rgb(42, 63, 95); fill-opacity: 1; white-space: pre; opacity: 1;\">William de Asevedo Furtado</text></g><g class=\"xtick\"><text text-anchor=\"start\" x=\"0\" y=\"173\" transform=\"translate(2600.53,0) rotate(90,0,167)\" style=\"font-family: 'Open Sans', verdana, arial, sans-serif; font-size: 12px; fill: rgb(42, 63, 95); fill-opacity: 1; white-space: pre; opacity: 1;\">Wverton Pereira da Silva</text></g><g class=\"xtick\"><text text-anchor=\"start\" x=\"0\" y=\"173\" transform=\"translate(2627.2,0) rotate(90,0,167)\" style=\"font-family: 'Open Sans', verdana, arial, sans-serif; font-size: 12px; fill: rgb(42, 63, 95); fill-opacity: 1; white-space: pre; opacity: 1;\">der Francis Carbonera</text></g><g class=\"xtick\"><text text-anchor=\"start\" x=\"0\" y=\"173\" transform=\"translate(2653.87,0) rotate(90,0,167)\" style=\"font-family: 'Open Sans', verdana, arial, sans-serif; font-size: 12px; fill: rgb(42, 63, 95); fill-opacity: 1; white-space: pre; opacity: 1;\">Ademir Roque Kaefer</text></g><g class=\"xtick\"><text text-anchor=\"start\" x=\"0\" y=\"173\" transform=\"translate(2680.54,0) rotate(90,0,167)\" style=\"font-family: 'Open Sans', verdana, arial, sans-serif; font-size: 12px; fill: rgb(42, 63, 95); fill-opacity: 1; white-space: pre; opacity: 1;\">Adriana Brando Behar</text></g><g class=\"xtick\"><text text-anchor=\"start\" x=\"0\" y=\"173\" transform=\"translate(2707.21,0) rotate(90,0,167)\" style=\"font-family: 'Open Sans', verdana, arial, sans-serif; font-size: 12px; fill: rgb(42, 63, 95); fill-opacity: 1; white-space: pre; opacity: 1;\">Andria \"Maycon\" dos Santos</text></g><g class=\"xtick\"><text text-anchor=\"start\" x=\"0\" y=\"173\" transform=\"translate(2733.89,0) rotate(90,0,167)\" style=\"font-family: 'Open Sans', verdana, arial, sans-serif; font-size: 12px; fill: rgb(42, 63, 95); fill-opacity: 1; white-space: pre; opacity: 1;\">Andria Suntaque</text></g><g class=\"xtick\"><text text-anchor=\"start\" x=\"0\" y=\"173\" transform=\"translate(2760.56,0) rotate(90,0,167)\" style=\"font-family: 'Open Sans', verdana, arial, sans-serif; font-size: 12px; fill: rgb(42, 63, 95); fill-opacity: 1; white-space: pre; opacity: 1;\">Cristiane Rozeira de Souza Silva</text></g><g class=\"xtick\"><text text-anchor=\"start\" x=\"0\" y=\"173\" transform=\"translate(2787.23,0) rotate(90,0,167)\" style=\"font-family: 'Open Sans', verdana, arial, sans-serif; font-size: 12px; fill: rgb(42, 63, 95); fill-opacity: 1; white-space: pre; opacity: 1;\">Daniela Alves Lima</text></g><g class=\"xtick\"><text text-anchor=\"start\" x=\"0\" y=\"173\" transform=\"translate(2813.9,0) rotate(90,0,167)\" style=\"font-family: 'Open Sans', verdana, arial, sans-serif; font-size: 12px; fill: rgb(42, 63, 95); fill-opacity: 1; white-space: pre; opacity: 1;\">Delma \"Pretinha\" Gonalves</text></g><g class=\"xtick\"><text text-anchor=\"start\" x=\"0\" y=\"173\" transform=\"translate(2840.58,0) rotate(90,0,167)\" style=\"font-family: 'Open Sans', verdana, arial, sans-serif; font-size: 12px; fill: rgb(42, 63, 95); fill-opacity: 1; white-space: pre; opacity: 1;\">Gustavo Frana Borges</text></g><g class=\"xtick\"><text text-anchor=\"start\" x=\"0\" y=\"173\" transform=\"translate(2867.25,0) rotate(90,0,167)\" style=\"font-family: 'Open Sans', verdana, arial, sans-serif; font-size: 12px; fill: rgb(42, 63, 95); fill-opacity: 1; white-space: pre; opacity: 1;\">Isaquias Queiroz dos Santos</text></g><g class=\"xtick\"><text text-anchor=\"start\" x=\"0\" y=\"173\" transform=\"translate(2893.92,0) rotate(90,0,167)\" style=\"font-family: 'Open Sans', verdana, arial, sans-serif; font-size: 12px; fill: rgb(42, 63, 95); fill-opacity: 1; white-space: pre; opacity: 1;\">Lus Carlos Coelho Winck</text></g><g class=\"xtick\"><text text-anchor=\"start\" x=\"0\" y=\"173\" transform=\"translate(2920.59,0) rotate(90,0,167)\" style=\"font-family: 'Open Sans', verdana, arial, sans-serif; font-size: 12px; fill: rgb(42, 63, 95); fill-opacity: 1; white-space: pre; opacity: 1;\">Marta Vieira da Silva</text></g><g class=\"xtick\"><text text-anchor=\"start\" x=\"0\" y=\"173\" transform=\"translate(2947.26,0) rotate(90,0,167)\" style=\"font-family: 'Open Sans', verdana, arial, sans-serif; font-size: 12px; fill: rgb(42, 63, 95); fill-opacity: 1; white-space: pre; opacity: 1;\">Miraildes \"Formiga\" Maciel Mota</text></g><g class=\"xtick\"><text text-anchor=\"start\" x=\"0\" y=\"173\" transform=\"translate(2973.94,0) rotate(90,0,167)\" style=\"font-family: 'Open Sans', verdana, arial, sans-serif; font-size: 12px; fill: rgb(42, 63, 95); fill-opacity: 1; white-space: pre; opacity: 1;\">Murilo Endres</text></g><g class=\"xtick\"><text text-anchor=\"start\" x=\"0\" y=\"173\" transform=\"translate(3000.61,0) rotate(90,0,167)\" style=\"font-family: 'Open Sans', verdana, arial, sans-serif; font-size: 12px; fill: rgb(42, 63, 95); fill-opacity: 1; white-space: pre; opacity: 1;\">Renata Aparacida \"Kki\" da Costa</text></g><g class=\"xtick\"><text text-anchor=\"start\" x=\"0\" y=\"173\" transform=\"translate(3027.28,0) rotate(90,0,167)\" style=\"font-family: 'Open Sans', verdana, arial, sans-serif; font-size: 12px; fill: rgb(42, 63, 95); fill-opacity: 1; white-space: pre; opacity: 1;\">Rosana dos Santos Augusto</text></g><g class=\"xtick\"><text text-anchor=\"start\" x=\"0\" y=\"173\" transform=\"translate(3053.95,0) rotate(90,0,167)\" style=\"font-family: 'Open Sans', verdana, arial, sans-serif; font-size: 12px; fill: rgb(42, 63, 95); fill-opacity: 1; white-space: pre; opacity: 1;\">Shelda Kelly Bruno Bede</text></g><g class=\"xtick\"><text text-anchor=\"start\" x=\"0\" y=\"173\" transform=\"translate(3080.63,0) rotate(90,0,167)\" style=\"font-family: 'Open Sans', verdana, arial, sans-serif; font-size: 12px; fill: rgb(42, 63, 95); fill-opacity: 1; white-space: pre; opacity: 1;\">Tnia Maria \"Tnia Maranho\" Pereira Ribeiro</text></g><g class=\"xtick\"><text text-anchor=\"start\" x=\"0\" y=\"173\" transform=\"translate(3107.3,0) rotate(90,0,167)\" style=\"font-family: 'Open Sans', verdana, arial, sans-serif; font-size: 12px; fill: rgb(42, 63, 95); fill-opacity: 1; white-space: pre; opacity: 1;\">Adriana Aparecida dos Santos</text></g><g class=\"xtick\"><text text-anchor=\"start\" x=\"0\" y=\"173\" transform=\"translate(3133.97,0) rotate(90,0,167)\" style=\"font-family: 'Open Sans', verdana, arial, sans-serif; font-size: 12px; fill: rgb(42, 63, 95); fill-opacity: 1; white-space: pre; opacity: 1;\">Adriana Ramos Samuel</text></g><g class=\"xtick\"><text text-anchor=\"start\" x=\"0\" y=\"173\" transform=\"translate(3160.64,0) rotate(90,0,167)\" style=\"font-family: 'Open Sans', verdana, arial, sans-serif; font-size: 12px; fill: rgb(42, 63, 95); fill-opacity: 1; white-space: pre; opacity: 1;\">Afrnio Antnio da Costa</text></g><g class=\"xtick\"><text text-anchor=\"start\" x=\"0\" y=\"173\" transform=\"translate(3187.31,0) rotate(90,0,167)\" style=\"font-family: 'Open Sans', verdana, arial, sans-serif; font-size: 12px; fill: rgb(42, 63, 95); fill-opacity: 1; white-space: pre; opacity: 1;\">Alessandra dos Santos de Oliveira</text></g><g class=\"xtick\"><text text-anchor=\"start\" x=\"0\" y=\"173\" transform=\"translate(3213.99,0) rotate(90,0,167)\" style=\"font-family: 'Open Sans', verdana, arial, sans-serif; font-size: 12px; fill: rgb(42, 63, 95); fill-opacity: 1; white-space: pre; opacity: 1;\">Alex Sandro Lobo Silva</text></g><g class=\"xtick\"><text text-anchor=\"start\" x=\"0\" y=\"173\" transform=\"translate(3240.66,0) rotate(90,0,167)\" style=\"font-family: 'Open Sans', verdana, arial, sans-serif; font-size: 12px; fill: rgb(42, 63, 95); fill-opacity: 1; white-space: pre; opacity: 1;\">Alexandre \"Alexandre Pato\" Rodrigues da Silva</text></g><g class=\"xtick\"><text text-anchor=\"start\" x=\"0\" y=\"173\" transform=\"translate(3267.33,0) rotate(90,0,167)\" style=\"font-family: 'Open Sans', verdana, arial, sans-serif; font-size: 12px; fill: rgb(42, 63, 95); fill-opacity: 1; white-space: pre; opacity: 1;\">Aline Pellegrino</text></g><g class=\"xtick\"><text text-anchor=\"start\" x=\"0\" y=\"173\" transform=\"translate(3294,0) rotate(90,0,167)\" style=\"font-family: 'Open Sans', verdana, arial, sans-serif; font-size: 12px; fill: rgb(42, 63, 95); fill-opacity: 1; white-space: pre; opacity: 1;\">Alosio Pires Alves</text></g><g class=\"xtick\"><text text-anchor=\"start\" x=\"0\" y=\"173\" transform=\"translate(3320.68,0) rotate(90,0,167)\" style=\"font-family: 'Open Sans', verdana, arial, sans-serif; font-size: 12px; fill: rgb(42, 63, 95); fill-opacity: 1; white-space: pre; opacity: 1;\">Andr Alves da Cruz</text></g><g class=\"xtick\"><text text-anchor=\"start\" x=\"0\" y=\"173\" transform=\"translate(3347.35,0) rotate(90,0,167)\" style=\"font-family: 'Open Sans', verdana, arial, sans-serif; font-size: 12px; fill: rgb(42, 63, 95); fill-opacity: 1; white-space: pre; opacity: 1;\">Andr Domingos da Silva</text></g><g class=\"xtick\"><text text-anchor=\"start\" x=\"0\" y=\"173\" transform=\"translate(3374.02,0) rotate(90,0,167)\" style=\"font-family: 'Open Sans', verdana, arial, sans-serif; font-size: 12px; fill: rgb(42, 63, 95); fill-opacity: 1; white-space: pre; opacity: 1;\">Andr Lus dos Santos Ferreira</text></g><g class=\"xtick\"><text text-anchor=\"start\" x=\"0\" y=\"173\" transform=\"translate(3400.69,0) rotate(90,0,167)\" style=\"font-family: 'Open Sans', verdana, arial, sans-serif; font-size: 12px; fill: rgb(42, 63, 95); fill-opacity: 1; white-space: pre; opacity: 1;\">Andria Rosa de Andrade</text></g><g class=\"xtick\"><text text-anchor=\"start\" x=\"0\" y=\"173\" transform=\"translate(3427.36,0) rotate(90,0,167)\" style=\"font-family: 'Open Sans', verdana, arial, sans-serif; font-size: 12px; fill: rgb(42, 63, 95); fill-opacity: 1; white-space: pre; opacity: 1;\">Antnio Carlos \"Badalhoca\" Gueiros Ribeiro</text></g><g class=\"xtick\"><text text-anchor=\"start\" x=\"0\" y=\"173\" transform=\"translate(3454.04,0) rotate(90,0,167)\" style=\"font-family: 'Open Sans', verdana, arial, sans-serif; font-size: 12px; fill: rgb(42, 63, 95); fill-opacity: 1; white-space: pre; opacity: 1;\">Antnio Jos \"Tonho\" Gil</text></g><g class=\"xtick\"><text text-anchor=\"start\" x=\"0\" y=\"173\" transform=\"translate(3480.71,0) rotate(90,0,167)\" style=\"font-family: 'Open Sans', verdana, arial, sans-serif; font-size: 12px; fill: rgb(42, 63, 95); fill-opacity: 1; white-space: pre; opacity: 1;\">Augilmar \"Gilmar Popoca\" Silva de Oliveira</text></g><g class=\"xtick\"><text text-anchor=\"start\" x=\"0\" y=\"173\" transform=\"translate(3507.38,0) rotate(90,0,167)\" style=\"font-family: 'Open Sans', verdana, arial, sans-serif; font-size: 12px; fill: rgb(42, 63, 95); fill-opacity: 1; white-space: pre; opacity: 1;\">Bernard Rajzman</text></g><g class=\"xtick\"><text text-anchor=\"start\" x=\"0\" y=\"173\" transform=\"translate(3534.05,0) rotate(90,0,167)\" style=\"font-family: 'Open Sans', verdana, arial, sans-serif; font-size: 12px; fill: rgb(42, 63, 95); fill-opacity: 1; white-space: pre; opacity: 1;\">Bernardo \"Bernardinho\" Rocha de Rezende</text></g><g class=\"xtick\"><text text-anchor=\"start\" x=\"0\" y=\"173\" transform=\"translate(3560.73,0) rotate(90,0,167)\" style=\"font-family: 'Open Sans', verdana, arial, sans-serif; font-size: 12px; fill: rgb(42, 63, 95); fill-opacity: 1; white-space: pre; opacity: 1;\">Brbara Micheline do Monte Barbosa</text></g><g class=\"xtick\"><text text-anchor=\"start\" x=\"0\" y=\"173\" transform=\"translate(3587.4,0) rotate(90,0,167)\" style=\"font-family: 'Open Sans', verdana, arial, sans-serif; font-size: 12px; fill: rgb(42, 63, 95); fill-opacity: 1; white-space: pre; opacity: 1;\">Brbara Seixas de Freitas</text></g><g class=\"xtick\"><text text-anchor=\"start\" x=\"0\" y=\"173\" transform=\"translate(3614.07,0) rotate(90,0,167)\" style=\"font-family: 'Open Sans', verdana, arial, sans-serif; font-size: 12px; fill: rgb(42, 63, 95); fill-opacity: 1; white-space: pre; opacity: 1;\">Bruno Prada</text></g><g class=\"xtick\"><text text-anchor=\"start\" x=\"0\" y=\"173\" transform=\"translate(3640.74,0) rotate(90,0,167)\" style=\"font-family: 'Open Sans', verdana, arial, sans-serif; font-size: 12px; fill: rgb(42, 63, 95); fill-opacity: 1; white-space: pre; opacity: 1;\">Bruno Uvini Bortolana</text></g><g class=\"xtick\"><text text-anchor=\"start\" x=\"0\" y=\"173\" transform=\"translate(3667.41,0) rotate(90,0,167)\" style=\"font-family: 'Open Sans', verdana, arial, sans-serif; font-size: 12px; fill: rgb(42, 63, 95); fill-opacity: 1; white-space: pre; opacity: 1;\">Carlos Caetano \"Dunga\" Bledorn Verri</text></g><g class=\"xtick\"><text text-anchor=\"start\" x=\"0\" y=\"173\" transform=\"translate(3694.09,0) rotate(90,0,167)\" style=\"font-family: 'Open Sans', verdana, arial, sans-serif; font-size: 12px; fill: rgb(42, 63, 95); fill-opacity: 1; white-space: pre; opacity: 1;\">Carlos Eduardo Honorato</text></g><g class=\"xtick\"><text text-anchor=\"start\" x=\"0\" y=\"173\" transform=\"translate(3720.76,0) rotate(90,0,167)\" style=\"font-family: 'Open Sans', verdana, arial, sans-serif; font-size: 12px; fill: rgb(42, 63, 95); fill-opacity: 1; white-space: pre; opacity: 1;\">Claudinei Quirino da Silva</text></g><g class=\"xtick\"><text text-anchor=\"start\" x=\"0\" y=\"173\" transform=\"translate(3747.43,0) rotate(90,0,167)\" style=\"font-family: 'Open Sans', verdana, arial, sans-serif; font-size: 12px; fill: rgb(42, 63, 95); fill-opacity: 1; white-space: pre; opacity: 1;\">Cludia Maria Pastor</text></g><g class=\"xtick\"><text text-anchor=\"start\" x=\"0\" y=\"173\" transform=\"translate(3774.1,0) rotate(90,0,167)\" style=\"font-family: 'Open Sans', verdana, arial, sans-serif; font-size: 12px; fill: rgb(42, 63, 95); fill-opacity: 1; white-space: pre; opacity: 1;\">Cludio Andr Mergen Taffarel</text></g><g class=\"xtick\"><text text-anchor=\"start\" x=\"0\" y=\"173\" transform=\"translate(3800.78,0) rotate(90,0,167)\" style=\"font-family: 'Open Sans', verdana, arial, sans-serif; font-size: 12px; fill: rgb(42, 63, 95); fill-opacity: 1; white-space: pre; opacity: 1;\">Cludio Roberto de Sousa</text></g><g class=\"xtick\"><text text-anchor=\"start\" x=\"0\" y=\"173\" transform=\"translate(3827.45,0) rotate(90,0,167)\" style=\"font-family: 'Open Sans', verdana, arial, sans-serif; font-size: 12px; fill: rgb(42, 63, 95); fill-opacity: 1; white-space: pre; opacity: 1;\">Cntia Silva dos Santos</text></g><g class=\"xtick\"><text text-anchor=\"start\" x=\"0\" y=\"173\" transform=\"translate(3854.12,0) rotate(90,0,167)\" style=\"font-family: 'Open Sans', verdana, arial, sans-serif; font-size: 12px; fill: rgb(42, 63, 95); fill-opacity: 1; white-space: pre; opacity: 1;\">Daniel Adler</text></g><g class=\"xtick\"><text text-anchor=\"start\" x=\"0\" y=\"173\" transform=\"translate(3880.79,0) rotate(90,0,167)\" style=\"font-family: 'Open Sans', verdana, arial, sans-serif; font-size: 12px; fill: rgb(42, 63, 95); fill-opacity: 1; white-space: pre; opacity: 1;\">Danilo Luiz da Silva</text></g><g class=\"xtick\"><text text-anchor=\"start\" x=\"0\" y=\"173\" transform=\"translate(3907.46,0) rotate(90,0,167)\" style=\"font-family: 'Open Sans', verdana, arial, sans-serif; font-size: 12px; fill: rgb(42, 63, 95); fill-opacity: 1; white-space: pre; opacity: 1;\">David \"Davi\" Cortez Silva</text></g><g class=\"xtick\"><text text-anchor=\"start\" x=\"0\" y=\"173\" transform=\"translate(3934.14,0) rotate(90,0,167)\" style=\"font-family: 'Open Sans', verdana, arial, sans-serif; font-size: 12px; fill: rgb(42, 63, 95); fill-opacity: 1; white-space: pre; opacity: 1;\">Diego Matias Hyplito</text></g><g class=\"xtick\"><text text-anchor=\"start\" x=\"0\" y=\"173\" transform=\"translate(3960.81,0) rotate(90,0,167)\" style=\"font-family: 'Open Sans', verdana, arial, sans-serif; font-size: 12px; fill: rgb(42, 63, 95); fill-opacity: 1; white-space: pre; opacity: 1;\">Domingos \"Domingos Maracan\" Lampariello Neto</text></g><g class=\"xtick\"><text text-anchor=\"start\" x=\"0\" y=\"173\" transform=\"translate(3987.48,0) rotate(90,0,167)\" style=\"font-family: 'Open Sans', verdana, arial, sans-serif; font-size: 12px; fill: rgb(42, 63, 95); fill-opacity: 1; white-space: pre; opacity: 1;\">Douglas Eduardo Vieira</text></g><g class=\"xtick\"><text text-anchor=\"start\" x=\"0\" y=\"173\" transform=\"translate(4014.15,0) rotate(90,0,167)\" style=\"font-family: 'Open Sans', verdana, arial, sans-serif; font-size: 12px; fill: rgb(42, 63, 95); fill-opacity: 1; white-space: pre; opacity: 1;\">Edmar Bernardes dos Santos</text></g><g class=\"xtick\"><text text-anchor=\"start\" x=\"0\" y=\"173\" transform=\"translate(4040.83,0) rotate(90,0,167)\" style=\"font-family: 'Open Sans', verdana, arial, sans-serif; font-size: 12px; fill: rgb(42, 63, 95); fill-opacity: 1; white-space: pre; opacity: 1;\">Edson Luciano Ribeiro</text></g><g class=\"xtick\"><text text-anchor=\"start\" x=\"0\" y=\"173\" transform=\"translate(4067.5,0) rotate(90,0,167)\" style=\"font-family: 'Open Sans', verdana, arial, sans-serif; font-size: 12px; fill: rgb(42, 63, 95); fill-opacity: 1; white-space: pre; opacity: 1;\">Elaine Estrela Moura</text></g><g class=\"xtick\"><text text-anchor=\"start\" x=\"0\" y=\"173\" transform=\"translate(4094.17,0) rotate(90,0,167)\" style=\"font-family: 'Open Sans', verdana, arial, sans-serif; font-size: 12px; fill: rgb(42, 63, 95); fill-opacity: 1; white-space: pre; opacity: 1;\">Erlon de Souza Silva</text></g><g class=\"xtick\"><text text-anchor=\"start\" x=\"0\" y=\"173\" transform=\"translate(4120.84,0) rotate(90,0,167)\" style=\"font-family: 'Open Sans', verdana, arial, sans-serif; font-size: 12px; fill: rgb(42, 63, 95); fill-opacity: 1; white-space: pre; opacity: 1;\">Esquiva Falco Florentino</text></g><g class=\"xtick\"><text text-anchor=\"start\" x=\"0\" y=\"173\" transform=\"translate(4147.51,0) rotate(90,0,167)\" style=\"font-family: 'Open Sans', verdana, arial, sans-serif; font-size: 12px; fill: rgb(42, 63, 95); fill-opacity: 1; white-space: pre; opacity: 1;\">Ester Aperecida dos Santos</text></g><g class=\"xtick\"><text text-anchor=\"start\" x=\"0\" y=\"173\" transform=\"translate(4174.1900000000005,0) rotate(90,0,167)\" style=\"font-family: 'Open Sans', verdana, arial, sans-serif; font-size: 12px; fill: rgb(42, 63, 95); fill-opacity: 1; white-space: pre; opacity: 1;\">Fabiana da Silva Simes</text></g><g class=\"xtick\"><text text-anchor=\"start\" x=\"0\" y=\"173\" transform=\"translate(4200.86,0) rotate(90,0,167)\" style=\"font-family: 'Open Sans', verdana, arial, sans-serif; font-size: 12px; fill: rgb(42, 63, 95); fill-opacity: 1; white-space: pre; opacity: 1;\">Fbio Luiz de Jesus Magalhes</text></g><g class=\"xtick\"><text text-anchor=\"start\" x=\"0\" y=\"173\" transform=\"translate(4227.53,0) rotate(90,0,167)\" style=\"font-family: 'Open Sans', verdana, arial, sans-serif; font-size: 12px; fill: rgb(42, 63, 95); fill-opacity: 1; white-space: pre; opacity: 1;\">Felipe Almeida Wu</text></g><g class=\"xtick\"><text text-anchor=\"start\" x=\"0\" y=\"173\" transform=\"translate(4254.2,0) rotate(90,0,167)\" style=\"font-family: 'Open Sans', verdana, arial, sans-serif; font-size: 12px; fill: rgb(42, 63, 95); fill-opacity: 1; white-space: pre; opacity: 1;\">Fernando \"Fernando\" Roscio de vila</text></g><g class=\"xtick\"><text text-anchor=\"start\" x=\"0\" y=\"173\" transform=\"translate(4280.87,0) rotate(90,0,167)\" style=\"font-family: 'Open Sans', verdana, arial, sans-serif; font-size: 12px; fill: rgb(42, 63, 95); fill-opacity: 1; white-space: pre; opacity: 1;\">Francielle Manoel Alberto</text></g><g class=\"xtick\"><text text-anchor=\"start\" x=\"0\" y=\"173\" transform=\"translate(4307.55,0) rotate(90,0,167)\" style=\"font-family: 'Open Sans', verdana, arial, sans-serif; font-size: 12px; fill: rgb(42, 63, 95); fill-opacity: 1; white-space: pre; opacity: 1;\">Francisco Carlos \"Chico\" Martins Vidal</text></g><g class=\"xtick\"><text text-anchor=\"start\" x=\"0\" y=\"173\" transform=\"translate(4334.22,0) rotate(90,0,167)\" style=\"font-family: 'Open Sans', verdana, arial, sans-serif; font-size: 12px; fill: rgb(42, 63, 95); fill-opacity: 1; white-space: pre; opacity: 1;\">Gabriel Vasconcellos Ferreira</text></g><g class=\"xtick\"><text text-anchor=\"start\" x=\"0\" y=\"173\" transform=\"translate(4360.89,0) rotate(90,0,167)\" style=\"font-family: 'Open Sans', verdana, arial, sans-serif; font-size: 12px; fill: rgb(42, 63, 95); fill-opacity: 1; white-space: pre; opacity: 1;\">Geovani Faria da Silva</text></g><g class=\"xtick\"><text text-anchor=\"start\" x=\"0\" y=\"173\" transform=\"translate(4387.56,0) rotate(90,0,167)\" style=\"font-family: 'Open Sans', verdana, arial, sans-serif; font-size: 12px; fill: rgb(42, 63, 95); fill-opacity: 1; white-space: pre; opacity: 1;\">Gilmar Lus Rinaldi</text></g><g class=\"xtick\"><text text-anchor=\"start\" x=\"0\" y=\"173\" transform=\"translate(4414.24,0) rotate(90,0,167)\" style=\"font-family: 'Open Sans', verdana, arial, sans-serif; font-size: 12px; fill: rgb(42, 63, 95); fill-opacity: 1; white-space: pre; opacity: 1;\">Givanildo \"Hulk\" Vieira de Souza</text></g><g class=\"xtick\"><text text-anchor=\"start\" x=\"0\" y=\"173\" transform=\"translate(4440.91,0) rotate(90,0,167)\" style=\"font-family: 'Open Sans', verdana, arial, sans-serif; font-size: 12px; fill: rgb(42, 63, 95); fill-opacity: 1; white-space: pre; opacity: 1;\">Grazielle Pinheiro Guimares Nascimento</text></g><g class=\"xtick\"><text text-anchor=\"start\" x=\"0\" y=\"173\" transform=\"translate(4467.58,0) rotate(90,0,167)\" style=\"font-family: 'Open Sans', verdana, arial, sans-serif; font-size: 12px; fill: rgb(42, 63, 95); fill-opacity: 1; white-space: pre; opacity: 1;\">Hamilton \"Careca\" de Souza</text></g><g class=\"xtick\"><text text-anchor=\"start\" x=\"0\" y=\"173\" transform=\"translate(4494.25,0) rotate(90,0,167)\" style=\"font-family: 'Open Sans', verdana, arial, sans-serif; font-size: 12px; fill: rgb(42, 63, 95); fill-opacity: 1; white-space: pre; opacity: 1;\">Hortncia Maria de Ftima Marcari Oliva</text></g><g class=\"xtick\"><text text-anchor=\"start\" x=\"0\" y=\"173\" transform=\"translate(4520.92,0) rotate(90,0,167)\" style=\"font-family: 'Open Sans', verdana, arial, sans-serif; font-size: 12px; fill: rgb(42, 63, 95); fill-opacity: 1; white-space: pre; opacity: 1;\">Janeth dos Santos Arcain</text></g><g class=\"xtick\"><text text-anchor=\"start\" x=\"0\" y=\"173\" transform=\"translate(4547.6,0) rotate(90,0,167)\" style=\"font-family: 'Open Sans', verdana, arial, sans-serif; font-size: 12px; fill: rgb(42, 63, 95); fill-opacity: 1; white-space: pre; opacity: 1;\">Joo \"Kita\" Leithardt Neto</text></g><g class=\"xtick\"><text text-anchor=\"start\" x=\"0\" y=\"173\" transform=\"translate(4574.27,0) rotate(90,0,167)\" style=\"font-family: 'Open Sans', verdana, arial, sans-serif; font-size: 12px; fill: rgb(42, 63, 95); fill-opacity: 1; white-space: pre; opacity: 1;\">Joo Santos Batista</text></g><g class=\"xtick\"><text text-anchor=\"start\" x=\"0\" y=\"173\" transform=\"translate(4600.94,0) rotate(90,0,167)\" style=\"font-family: 'Open Sans', verdana, arial, sans-serif; font-size: 12px; fill: rgb(42, 63, 95); fill-opacity: 1; white-space: pre; opacity: 1;\">Jorge Jos \"Jorginho\" de Amorim Campos</text></g><g class=\"xtick\"><text text-anchor=\"start\" x=\"0\" y=\"173\" transform=\"translate(4627.61,0) rotate(90,0,167)\" style=\"font-family: 'Open Sans', verdana, arial, sans-serif; font-size: 12px; fill: rgb(42, 63, 95); fill-opacity: 1; white-space: pre; opacity: 1;\">Jorge Luiz \"Pinga\" Brum da Silva</text></g><g class=\"xtick\"><text text-anchor=\"start\" x=\"0\" y=\"173\" transform=\"translate(4654.29,0) rotate(90,0,167)\" style=\"font-family: 'Open Sans', verdana, arial, sans-serif; font-size: 12px; fill: rgb(42, 63, 95); fill-opacity: 1; white-space: pre; opacity: 1;\">Jorge Luiz Andrade da Silva</text></g><g class=\"xtick\"><text text-anchor=\"start\" x=\"0\" y=\"173\" transform=\"translate(4680.96,0) rotate(90,0,167)\" style=\"font-family: 'Open Sans', verdana, arial, sans-serif; font-size: 12px; fill: rgb(42, 63, 95); fill-opacity: 1; white-space: pre; opacity: 1;\">Jos Ferreira Neto</text></g><g class=\"xtick\"><text text-anchor=\"start\" x=\"0\" y=\"173\" transform=\"translate(4707.63,0) rotate(90,0,167)\" style=\"font-family: 'Open Sans', verdana, arial, sans-serif; font-size: 12px; fill: rgb(42, 63, 95); fill-opacity: 1; white-space: pre; opacity: 1;\">Jos Marco \"Z Marco\" Nobrega Ferreira de Melo</text></g><g class=\"xtick\"><text text-anchor=\"start\" x=\"0\" y=\"173\" transform=\"translate(4734.3,0) rotate(90,0,167)\" style=\"font-family: 'Open Sans', verdana, arial, sans-serif; font-size: 12px; fill: rgb(42, 63, 95); fill-opacity: 1; white-space: pre; opacity: 1;\">Jos Montanaro Jnior</text></g><g class=\"xtick\"><text text-anchor=\"start\" x=\"0\" y=\"173\" transform=\"translate(4760.97,0) rotate(90,0,167)\" style=\"font-family: 'Open Sans', verdana, arial, sans-serif; font-size: 12px; fill: rgb(42, 63, 95); fill-opacity: 1; white-space: pre; opacity: 1;\">Jos Roberto \"Bebeto\" Gama de Oliveira</text></g><g class=\"xtick\"><text text-anchor=\"start\" x=\"0\" y=\"173\" transform=\"translate(4787.65,0) rotate(90,0,167)\" style=\"font-family: 'Open Sans', verdana, arial, sans-serif; font-size: 12px; fill: rgb(42, 63, 95); fill-opacity: 1; white-space: pre; opacity: 1;\">Juan Guilherme Nunes Jesus</text></g><g class=\"xtick\"><text text-anchor=\"start\" x=\"0\" y=\"173\" transform=\"translate(4814.32,0) rotate(90,0,167)\" style=\"font-family: 'Open Sans', verdana, arial, sans-serif; font-size: 12px; fill: rgb(42, 63, 95); fill-opacity: 1; white-space: pre; opacity: 1;\">Juliana Ribeiro Cabral</text></g><g class=\"xtick\"><text text-anchor=\"start\" x=\"0\" y=\"173\" transform=\"translate(4840.99,0) rotate(90,0,167)\" style=\"font-family: 'Open Sans', verdana, arial, sans-serif; font-size: 12px; fill: rgb(42, 63, 95); fill-opacity: 1; white-space: pre; opacity: 1;\">Kelly Cristina Pereira da Silva</text></g><g class=\"xtick\"><text text-anchor=\"start\" x=\"0\" y=\"173\" transform=\"translate(4867.66,0) rotate(90,0,167)\" style=\"font-family: 'Open Sans', verdana, arial, sans-serif; font-size: 12px; fill: rgb(42, 63, 95); fill-opacity: 1; white-space: pre; opacity: 1;\">Leandro Damio da Silva dos Santos</text></g><g class=\"xtick\"><text text-anchor=\"start\" x=\"0\" y=\"173\" transform=\"translate(4894.34,0) rotate(90,0,167)\" style=\"font-family: 'Open Sans', verdana, arial, sans-serif; font-size: 12px; fill: rgb(42, 63, 95); fill-opacity: 1; white-space: pre; opacity: 1;\">Leandro Vissotto Neves</text></g><g class=\"xtick\"><text text-anchor=\"start\" x=\"0\" y=\"173\" transform=\"translate(4921.01,0) rotate(90,0,167)\" style=\"font-family: 'Open Sans', verdana, arial, sans-serif; font-size: 12px; fill: rgb(42, 63, 95); fill-opacity: 1; white-space: pre; opacity: 1;\">Leila de Souza Sobral Freitas</text></g><g class=\"xtick\"><text text-anchor=\"start\" x=\"0\" y=\"173\" transform=\"translate(4947.68,0) rotate(90,0,167)\" style=\"font-family: 'Open Sans', verdana, arial, sans-serif; font-size: 12px; fill: rgb(42, 63, 95); fill-opacity: 1; white-space: pre; opacity: 1;\">Lucas Rodrigues Moura da Silva</text></g><g class=\"xtick\"><text text-anchor=\"start\" x=\"0\" y=\"173\" transform=\"translate(4974.35,0) rotate(90,0,167)\" style=\"font-family: 'Open Sans', verdana, arial, sans-serif; font-size: 12px; fill: rgb(42, 63, 95); fill-opacity: 1; white-space: pre; opacity: 1;\">Marcelo \"Marcelinho\" Elgarten</text></g><g class=\"xtick\"><text text-anchor=\"start\" x=\"0\" y=\"173\" transform=\"translate(5001.02,0) rotate(90,0,167)\" style=\"font-family: 'Open Sans', verdana, arial, sans-serif; font-size: 12px; fill: rgb(42, 63, 95); fill-opacity: 1; white-space: pre; opacity: 1;\">Marcelo Vieira da Silva Jnior</text></g><g class=\"xtick\"><text text-anchor=\"start\" x=\"0\" y=\"173\" transform=\"translate(5027.7,0) rotate(90,0,167)\" style=\"font-family: 'Open Sans', verdana, arial, sans-serif; font-size: 12px; fill: rgb(42, 63, 95); fill-opacity: 1; white-space: pre; opacity: 1;\">Marcus Vincius Freire Simes</text></g><g class=\"xtick\"><text text-anchor=\"start\" x=\"0\" y=\"173\" transform=\"translate(5054.37,0) rotate(90,0,167)\" style=\"font-family: 'Open Sans', verdana, arial, sans-serif; font-size: 12px; fill: rgb(42, 63, 95); fill-opacity: 1; white-space: pre; opacity: 1;\">Maria Anglica \"Branca\" Gonalves da Silva</text></g><g class=\"xtick\"><text text-anchor=\"start\" x=\"0\" y=\"173\" transform=\"translate(5081.04,0) rotate(90,0,167)\" style=\"font-family: 'Open Sans', verdana, arial, sans-serif; font-size: 12px; fill: rgb(42, 63, 95); fill-opacity: 1; white-space: pre; opacity: 1;\">Maria Paula Gonalves da Silva</text></g><g class=\"xtick\"><text text-anchor=\"start\" x=\"0\" y=\"173\" transform=\"translate(5107.71,0) rotate(90,0,167)\" style=\"font-family: 'Open Sans', verdana, arial, sans-serif; font-size: 12px; fill: rgb(42, 63, 95); fill-opacity: 1; white-space: pre; opacity: 1;\">Marta de Souza Sobral</text></g><g class=\"xtick\"><text text-anchor=\"start\" x=\"0\" y=\"173\" transform=\"translate(5134.39,0) rotate(90,0,167)\" style=\"font-family: 'Open Sans', verdana, arial, sans-serif; font-size: 12px; fill: rgb(42, 63, 95); fill-opacity: 1; white-space: pre; opacity: 1;\">Maurine Dorneles Gonalves</text></g><g class=\"xtick\"><text text-anchor=\"start\" x=\"0\" y=\"173\" transform=\"translate(5161.06,0) rotate(90,0,167)\" style=\"font-family: 'Open Sans', verdana, arial, sans-serif; font-size: 12px; fill: rgb(42, 63, 95); fill-opacity: 1; white-space: pre; opacity: 1;\">Mauro Geraldo Galvo</text></g><g class=\"xtick\"><text text-anchor=\"start\" x=\"0\" y=\"173\" transform=\"translate(5187.73,0) rotate(90,0,167)\" style=\"font-family: 'Open Sans', verdana, arial, sans-serif; font-size: 12px; fill: rgb(42, 63, 95); fill-opacity: 1; white-space: pre; opacity: 1;\">Mlton Cruz</text></g><g class=\"xtick\"><text text-anchor=\"start\" x=\"0\" y=\"173\" transform=\"translate(5214.4,0) rotate(90,0,167)\" style=\"font-family: 'Open Sans', verdana, arial, sans-serif; font-size: 12px; fill: rgb(42, 63, 95); fill-opacity: 1; white-space: pre; opacity: 1;\">Mlton de Souza Filho</text></g><g class=\"xtick\"><text text-anchor=\"start\" x=\"0\" y=\"173\" transform=\"translate(5241.08,0) rotate(90,0,167)\" style=\"font-family: 'Open Sans', verdana, arial, sans-serif; font-size: 12px; fill: rgb(42, 63, 95); fill-opacity: 1; white-space: pre; opacity: 1;\">Mnica Anglica de Paula</text></g><g class=\"xtick\"><text text-anchor=\"start\" x=\"0\" y=\"173\" transform=\"translate(5267.75,0) rotate(90,0,167)\" style=\"font-family: 'Open Sans', verdana, arial, sans-serif; font-size: 12px; fill: rgb(42, 63, 95); fill-opacity: 1; white-space: pre; opacity: 1;\">Mnica Rodrigues</text></g><g class=\"xtick\"><text text-anchor=\"start\" x=\"0\" y=\"173\" transform=\"translate(5294.42,0) rotate(90,0,167)\" style=\"font-family: 'Open Sans', verdana, arial, sans-serif; font-size: 12px; fill: rgb(42, 63, 95); fill-opacity: 1; white-space: pre; opacity: 1;\">Mrcio Henrique Barroso Arajo</text></g><g class=\"xtick\"><text text-anchor=\"start\" x=\"0\" y=\"173\" transform=\"translate(5321.09,0) rotate(90,0,167)\" style=\"font-family: 'Open Sans', verdana, arial, sans-serif; font-size: 12px; fill: rgb(42, 63, 95); fill-opacity: 1; white-space: pre; opacity: 1;\">Mrio \"Xand\" de Oliveira Neto</text></g><g class=\"xtick\"><text text-anchor=\"start\" x=\"0\" y=\"173\" transform=\"translate(5347.76,0) rotate(90,0,167)\" style=\"font-family: 'Open Sans', verdana, arial, sans-serif; font-size: 12px; fill: rgb(42, 63, 95); fill-opacity: 1; white-space: pre; opacity: 1;\">Nlson Prudncio</text></g><g class=\"xtick\"><text text-anchor=\"start\" x=\"0\" y=\"173\" transform=\"translate(5374.44,0) rotate(90,0,167)\" style=\"font-family: 'Open Sans', verdana, arial, sans-serif; font-size: 12px; fill: rgb(42, 63, 95); fill-opacity: 1; white-space: pre; opacity: 1;\">Norberto Murara Neto</text></g><g class=\"xtick\"><text text-anchor=\"start\" x=\"0\" y=\"173\" transform=\"translate(5401.11,0) rotate(90,0,167)\" style=\"font-family: 'Open Sans', verdana, arial, sans-serif; font-size: 12px; fill: rgb(42, 63, 95); fill-opacity: 1; white-space: pre; opacity: 1;\">Oscar dos Santos Emboaba Jnior</text></g><g class=\"xtick\"><text text-anchor=\"start\" x=\"0\" y=\"173\" transform=\"translate(5427.78,0) rotate(90,0,167)\" style=\"font-family: 'Open Sans', verdana, arial, sans-serif; font-size: 12px; fill: rgb(42, 63, 95); fill-opacity: 1; white-space: pre; opacity: 1;\">Paulo Henrique \"Ganso\" Chagas de Lima</text></g><g class=\"xtick\"><text text-anchor=\"start\" x=\"0\" y=\"173\" transform=\"translate(5454.45,0) rotate(90,0,167)\" style=\"font-family: 'Open Sans', verdana, arial, sans-serif; font-size: 12px; fill: rgb(42, 63, 95); fill-opacity: 1; white-space: pre; opacity: 1;\">Paulo dos Santos</text></g><g class=\"xtick\"><text text-anchor=\"start\" x=\"0\" y=\"173\" transform=\"translate(5481.12,0) rotate(90,0,167)\" style=\"font-family: 'Open Sans', verdana, arial, sans-serif; font-size: 12px; fill: rgb(42, 63, 95); fill-opacity: 1; white-space: pre; opacity: 1;\">Rafael Pereira da Silva</text></g><g class=\"xtick\"><text text-anchor=\"start\" x=\"0\" y=\"173\" transform=\"translate(5507.8,0) rotate(90,0,167)\" style=\"font-family: 'Open Sans', verdana, arial, sans-serif; font-size: 12px; fill: rgb(42, 63, 95); fill-opacity: 1; white-space: pre; opacity: 1;\">Renan dal Zotto</text></g><g class=\"xtick\"><text text-anchor=\"start\" x=\"0\" y=\"173\" transform=\"translate(5534.47,0) rotate(90,0,167)\" style=\"font-family: 'Open Sans', verdana, arial, sans-serif; font-size: 12px; fill: rgb(42, 63, 95); fill-opacity: 1; white-space: pre; opacity: 1;\">Ricardo Prado</text></g><g class=\"xtick\"><text text-anchor=\"start\" x=\"0\" y=\"173\" transform=\"translate(5561.14,0) rotate(90,0,167)\" style=\"font-family: 'Open Sans', verdana, arial, sans-serif; font-size: 12px; fill: rgb(42, 63, 95); fill-opacity: 1; white-space: pre; opacity: 1;\">Rmulo Borges Monteiro</text></g><g class=\"xtick\"><text text-anchor=\"start\" x=\"0\" y=\"173\" transform=\"translate(5587.81,0) rotate(90,0,167)\" style=\"font-family: 'Open Sans', verdana, arial, sans-serif; font-size: 12px; fill: rgb(42, 63, 95); fill-opacity: 1; white-space: pre; opacity: 1;\">Romrio de Souza Faria</text></g><g class=\"xtick\"><text text-anchor=\"start\" x=\"0\" y=\"173\" transform=\"translate(5614.49,0) rotate(90,0,167)\" style=\"font-family: 'Open Sans', verdana, arial, sans-serif; font-size: 12px; fill: rgb(42, 63, 95); fill-opacity: 1; white-space: pre; opacity: 1;\">Ronaldo Camargo Ribeiro Senfft</text></g><g class=\"xtick\"><text text-anchor=\"start\" x=\"0\" y=\"173\" transform=\"translate(5641.16,0) rotate(90,0,167)\" style=\"font-family: 'Open Sans', verdana, arial, sans-serif; font-size: 12px; fill: rgb(42, 63, 95); fill-opacity: 1; white-space: pre; opacity: 1;\">Ronaldo Morais Silva</text></g><g class=\"xtick\"><text text-anchor=\"start\" x=\"0\" y=\"173\" transform=\"translate(5667.83,0) rotate(90,0,167)\" style=\"font-family: 'Open Sans', verdana, arial, sans-serif; font-size: 12px; fill: rgb(42, 63, 95); fill-opacity: 1; white-space: pre; opacity: 1;\">Roseli de Belo</text></g><g class=\"xtick\"><text text-anchor=\"start\" x=\"0\" y=\"173\" transform=\"translate(5694.5,0) rotate(90,0,167)\" style=\"font-family: 'Open Sans', verdana, arial, sans-serif; font-size: 12px; fill: rgb(42, 63, 95); fill-opacity: 1; white-space: pre; opacity: 1;\">Roseli do Carmo Gustavo</text></g><g class=\"xtick\"><text text-anchor=\"start\" x=\"0\" y=\"173\" transform=\"translate(5721.17,0) rotate(90,0,167)\" style=\"font-family: 'Open Sans', verdana, arial, sans-serif; font-size: 12px; fill: rgb(42, 63, 95); fill-opacity: 1; white-space: pre; opacity: 1;\">Rui Campos Nascimento</text></g><g class=\"xtick\"><text text-anchor=\"start\" x=\"0\" y=\"173\" transform=\"translate(5747.85,0) rotate(90,0,167)\" style=\"font-family: 'Open Sans', verdana, arial, sans-serif; font-size: 12px; fill: rgb(42, 63, 95); fill-opacity: 1; white-space: pre; opacity: 1;\">Samuel Fuchs</text></g><g class=\"xtick\"><text text-anchor=\"start\" x=\"0\" y=\"173\" transform=\"translate(5774.52,0) rotate(90,0,167)\" style=\"font-family: 'Open Sans', verdana, arial, sans-serif; font-size: 12px; fill: rgb(42, 63, 95); fill-opacity: 1; white-space: pre; opacity: 1;\">Sandro Raniere Guimares Cordeiro</text></g><g class=\"xtick\"><text text-anchor=\"start\" x=\"0\" y=\"173\" transform=\"translate(5801.19,0) rotate(90,0,167)\" style=\"font-family: 'Open Sans', verdana, arial, sans-serif; font-size: 12px; fill: rgb(42, 63, 95); fill-opacity: 1; white-space: pre; opacity: 1;\">Sidnei \"Sido\" dos Santos Junior</text></g><g class=\"xtick\"><text text-anchor=\"start\" x=\"0\" y=\"173\" transform=\"translate(5827.86,0) rotate(90,0,167)\" style=\"font-family: 'Open Sans', verdana, arial, sans-serif; font-size: 12px; fill: rgb(42, 63, 95); fill-opacity: 1; white-space: pre; opacity: 1;\">Silvia Andrea \"Silvinha\" Santos Luz</text></g><g class=\"xtick\"><text text-anchor=\"start\" x=\"0\" y=\"173\" transform=\"translate(5854.54,0) rotate(90,0,167)\" style=\"font-family: 'Open Sans', verdana, arial, sans-serif; font-size: 12px; fill: rgb(42, 63, 95); fill-opacity: 1; white-space: pre; opacity: 1;\">Silvio \"Silvinho\" Paiva</text></g><g class=\"xtick\"><text text-anchor=\"start\" x=\"0\" y=\"173\" transform=\"translate(5881.21,0) rotate(90,0,167)\" style=\"font-family: 'Open Sans', verdana, arial, sans-serif; font-size: 12px; fill: rgb(42, 63, 95); fill-opacity: 1; white-space: pre; opacity: 1;\">Simone Gomes Jatob</text></g><g class=\"xtick\"><text text-anchor=\"start\" x=\"0\" y=\"173\" transform=\"translate(5907.88,0) rotate(90,0,167)\" style=\"font-family: 'Open Sans', verdana, arial, sans-serif; font-size: 12px; fill: rgb(42, 63, 95); fill-opacity: 1; white-space: pre; opacity: 1;\">Srgio Lus \"Joo Paulo\" Donizetti</text></g><g class=\"xtick\"><text text-anchor=\"start\" x=\"0\" y=\"173\" transform=\"translate(5934.55,0) rotate(90,0,167)\" style=\"font-family: 'Open Sans', verdana, arial, sans-serif; font-size: 12px; fill: rgb(42, 63, 95); fill-opacity: 1; white-space: pre; opacity: 1;\">Thiago Emiliano da Silva</text></g><g class=\"xtick\"><text text-anchor=\"start\" x=\"0\" y=\"173\" transform=\"translate(5961.23,0) rotate(90,0,167)\" style=\"font-family: 'Open Sans', verdana, arial, sans-serif; font-size: 12px; fill: rgb(42, 63, 95); fill-opacity: 1; white-space: pre; opacity: 1;\">Thiago Machado Vilela Pereira</text></g><g class=\"xtick\"><text text-anchor=\"start\" x=\"0\" y=\"173\" transform=\"translate(5987.9,0) rotate(90,0,167)\" style=\"font-family: 'Open Sans', verdana, arial, sans-serif; font-size: 12px; fill: rgb(42, 63, 95); fill-opacity: 1; white-space: pre; opacity: 1;\">Thiago Soares Alves</text></g><g class=\"xtick\"><text text-anchor=\"start\" x=\"0\" y=\"173\" transform=\"translate(6014.57,0) rotate(90,0,167)\" style=\"font-family: 'Open Sans', verdana, arial, sans-serif; font-size: 12px; fill: rgb(42, 63, 95); fill-opacity: 1; white-space: pre; opacity: 1;\">Tiago Henrique de Oliveira Camilo</text></g><g class=\"xtick\"><text text-anchor=\"start\" x=\"0\" y=\"173\" transform=\"translate(6041.24,0) rotate(90,0,167)\" style=\"font-family: 'Open Sans', verdana, arial, sans-serif; font-size: 12px; fill: rgb(42, 63, 95); fill-opacity: 1; white-space: pre; opacity: 1;\">Vicente Lenlson de Lima</text></g><g class=\"xtick\"><text text-anchor=\"start\" x=\"0\" y=\"173\" transform=\"translate(6067.91,0) rotate(90,0,167)\" style=\"font-family: 'Open Sans', verdana, arial, sans-serif; font-size: 12px; fill: rgb(42, 63, 95); fill-opacity: 1; white-space: pre; opacity: 1;\">William Carvalho da Silva</text></g><g class=\"xtick\"><text text-anchor=\"start\" x=\"0\" y=\"173\" transform=\"translate(6094.59,0) rotate(90,0,167)\" style=\"font-family: 'Open Sans', verdana, arial, sans-serif; font-size: 12px; fill: rgb(42, 63, 95); fill-opacity: 1; white-space: pre; opacity: 1;\">gatha Bednarczuk Rippel</text></g><g class=\"xtick\"><text text-anchor=\"start\" x=\"0\" y=\"173\" transform=\"translate(6121.26,0) rotate(90,0,167)\" style=\"font-family: 'Open Sans', verdana, arial, sans-serif; font-size: 12px; fill: rgb(42, 63, 95); fill-opacity: 1; white-space: pre; opacity: 1;\">rika Cristiano dos Santos</text></g><g class=\"xtick\"><text text-anchor=\"start\" x=\"0\" y=\"173\" transform=\"translate(6147.93,0) rotate(90,0,167)\" style=\"font-family: 'Open Sans', verdana, arial, sans-serif; font-size: 12px; fill: rgb(42, 63, 95); fill-opacity: 1; white-space: pre; opacity: 1;\">Alvaro Affonso \"Doda\" de Miranda Neto</text></g><g class=\"xtick\"><text text-anchor=\"start\" x=\"0\" y=\"173\" transform=\"translate(6174.6,0) rotate(90,0,167)\" style=\"font-family: 'Open Sans', verdana, arial, sans-serif; font-size: 12px; fill: rgb(42, 63, 95); fill-opacity: 1; white-space: pre; opacity: 1;\">Amaury Antnio Pasos</text></g><g class=\"xtick\"><text text-anchor=\"start\" x=\"0\" y=\"173\" transform=\"translate(6201.28,0) rotate(90,0,167)\" style=\"font-family: 'Open Sans', verdana, arial, sans-serif; font-size: 12px; fill: rgb(42, 63, 95); fill-opacity: 1; white-space: pre; opacity: 1;\">Andr Bier Johannpeter</text></g><g class=\"xtick\"><text text-anchor=\"start\" x=\"0\" y=\"173\" transform=\"translate(6227.95,0) rotate(90,0,167)\" style=\"font-family: 'Open Sans', verdana, arial, sans-serif; font-size: 12px; fill: rgb(42, 63, 95); fill-opacity: 1; white-space: pre; opacity: 1;\">Antnio Salvador Sucar</text></g><g class=\"xtick\"><text text-anchor=\"start\" x=\"0\" y=\"173\" transform=\"translate(6254.62,0) rotate(90,0,167)\" style=\"font-family: 'Open Sans', verdana, arial, sans-serif; font-size: 12px; fill: rgb(42, 63, 95); fill-opacity: 1; white-space: pre; opacity: 1;\">Carlos \"Mosquito\" Domingos Massoni</text></g><g class=\"xtick\"><text text-anchor=\"start\" x=\"0\" y=\"173\" transform=\"translate(6281.29,0) rotate(90,0,167)\" style=\"font-family: 'Open Sans', verdana, arial, sans-serif; font-size: 12px; fill: rgb(42, 63, 95); fill-opacity: 1; white-space: pre; opacity: 1;\">Carmo \"Rosa Branca\" de Souza</text></g><g class=\"xtick\"><text text-anchor=\"start\" x=\"0\" y=\"173\" transform=\"translate(6307.96,0) rotate(90,0,167)\" style=\"font-family: 'Open Sans', verdana, arial, sans-serif; font-size: 12px; fill: rgb(42, 63, 95); fill-opacity: 1; white-space: pre; opacity: 1;\">Edson \"Edson Bispo\" Bispo dos Santos</text></g><g class=\"xtick\"><text text-anchor=\"start\" x=\"0\" y=\"173\" transform=\"translate(6334.64,0) rotate(90,0,167)\" style=\"font-family: 'Open Sans', verdana, arial, sans-serif; font-size: 12px; fill: rgb(42, 63, 95); fill-opacity: 1; white-space: pre; opacity: 1;\">Fernando \"Xuxa\" de Queiroz Scherer</text></g><g class=\"xtick\"><text text-anchor=\"start\" x=\"0\" y=\"173\" transform=\"translate(6361.31,0) rotate(90,0,167)\" style=\"font-family: 'Open Sans', verdana, arial, sans-serif; font-size: 12px; fill: rgb(42, 63, 95); fill-opacity: 1; white-space: pre; opacity: 1;\">Jatyr Eduardo Schall</text></g><g class=\"xtick\"><text text-anchor=\"start\" x=\"0\" y=\"173\" transform=\"translate(6387.98,0) rotate(90,0,167)\" style=\"font-family: 'Open Sans', verdana, arial, sans-serif; font-size: 12px; fill: rgb(42, 63, 95); fill-opacity: 1; white-space: pre; opacity: 1;\">Joo Carlos de Oliveira</text></g><g class=\"xtick\"><text text-anchor=\"start\" x=\"0\" y=\"173\" transform=\"translate(6414.65,0) rotate(90,0,167)\" style=\"font-family: 'Open Sans', verdana, arial, sans-serif; font-size: 12px; fill: rgb(42, 63, 95); fill-opacity: 1; white-space: pre; opacity: 1;\">Lars Schmidt Grael</text></g><g class=\"xtick\"><text text-anchor=\"start\" x=\"0\" y=\"173\" transform=\"translate(6441.32,0) rotate(90,0,167)\" style=\"font-family: 'Open Sans', verdana, arial, sans-serif; font-size: 12px; fill: rgb(42, 63, 95); fill-opacity: 1; white-space: pre; opacity: 1;\">Leandro Marques Guilheiro</text></g><g class=\"xtick\"><text text-anchor=\"start\" x=\"0\" y=\"173\" transform=\"translate(6468,0) rotate(90,0,167)\" style=\"font-family: 'Open Sans', verdana, arial, sans-serif; font-size: 12px; fill: rgb(42, 63, 95); fill-opacity: 1; white-space: pre; opacity: 1;\">Leila de Gomes de Barros</text></g><g class=\"xtick\"><text text-anchor=\"start\" x=\"0\" y=\"173\" transform=\"translate(6494.67,0) rotate(90,0,167)\" style=\"font-family: 'Open Sans', verdana, arial, sans-serif; font-size: 12px; fill: rgb(42, 63, 95); fill-opacity: 1; white-space: pre; opacity: 1;\">Luiz Felipe Cortizo Gonalves de Azevedo</text></g><g class=\"xtick\"><text text-anchor=\"start\" x=\"0\" y=\"173\" transform=\"translate(6521.34,0) rotate(90,0,167)\" style=\"font-family: 'Open Sans', verdana, arial, sans-serif; font-size: 12px; fill: rgb(42, 63, 95); fill-opacity: 1; white-space: pre; opacity: 1;\">Mayra Aguiar da Silva</text></g><g class=\"xtick\"><text text-anchor=\"start\" x=\"0\" y=\"173\" transform=\"translate(6548.01,0) rotate(90,0,167)\" style=\"font-family: 'Open Sans', verdana, arial, sans-serif; font-size: 12px; fill: rgb(42, 63, 95); fill-opacity: 1; white-space: pre; opacity: 1;\">Rafael Carlos da Silva</text></g><g class=\"xtick\"><text text-anchor=\"start\" x=\"0\" y=\"173\" transform=\"translate(6574.69,0) rotate(90,0,167)\" style=\"font-family: 'Open Sans', verdana, arial, sans-serif; font-size: 12px; fill: rgb(42, 63, 95); fill-opacity: 1; white-space: pre; opacity: 1;\">Rbson Caetano da Silva</text></g><g class=\"xtick\"><text text-anchor=\"start\" x=\"0\" y=\"173\" transform=\"translate(6601.36,0) rotate(90,0,167)\" style=\"font-family: 'Open Sans', verdana, arial, sans-serif; font-size: 12px; fill: rgb(42, 63, 95); fill-opacity: 1; white-space: pre; opacity: 1;\">Reinaldo Conrad</text></g><g class=\"xtick\"><text text-anchor=\"start\" x=\"0\" y=\"173\" transform=\"translate(6628.03,0) rotate(90,0,167)\" style=\"font-family: 'Open Sans', verdana, arial, sans-serif; font-size: 12px; fill: rgb(42, 63, 95); fill-opacity: 1; white-space: pre; opacity: 1;\">Virna Cristine Dantes Dias</text></g><g class=\"xtick\"><text text-anchor=\"start\" x=\"0\" y=\"173\" transform=\"translate(6654.7,0) rotate(90,0,167)\" style=\"font-family: 'Open Sans', verdana, arial, sans-serif; font-size: 12px; fill: rgb(42, 63, 95); fill-opacity: 1; white-space: pre; opacity: 1;\">Wlamir Marques</text></g><g class=\"xtick\"><text text-anchor=\"start\" x=\"0\" y=\"173\" transform=\"translate(6681.37,0) rotate(90,0,167)\" style=\"font-family: 'Open Sans', verdana, arial, sans-serif; font-size: 12px; fill: rgb(42, 63, 95); fill-opacity: 1; white-space: pre; opacity: 1;\">Zenny \"Algodo\" de Azevedo</text></g><g class=\"xtick\"><text text-anchor=\"start\" x=\"0\" y=\"173\" transform=\"translate(6708.05,0) rotate(90,0,167)\" style=\"font-family: 'Open Sans', verdana, arial, sans-serif; font-size: 12px; fill: rgb(42, 63, 95); fill-opacity: 1; white-space: pre; opacity: 1;\">Adriana \"Adrianinha\" Moiss Pinto</text></g><g class=\"xtick\"><text text-anchor=\"start\" x=\"0\" y=\"173\" transform=\"translate(6734.72,0) rotate(90,0,167)\" style=\"font-family: 'Open Sans', verdana, arial, sans-serif; font-size: 12px; fill: rgb(42, 63, 95); fill-opacity: 1; white-space: pre; opacity: 1;\">Adriana dos Santos Arajo</text></g><g class=\"xtick\"><text text-anchor=\"start\" x=\"0\" y=\"173\" transform=\"translate(6761.39,0) rotate(90,0,167)\" style=\"font-family: 'Open Sans', verdana, arial, sans-serif; font-size: 12px; fill: rgb(42, 63, 95); fill-opacity: 1; white-space: pre; opacity: 1;\">Afonso de Azevedo vora</text></g><g class=\"xtick\"><text text-anchor=\"start\" x=\"0\" y=\"173\" transform=\"translate(6788.06,0) rotate(90,0,167)\" style=\"font-family: 'Open Sans', verdana, arial, sans-serif; font-size: 12px; fill: rgb(42, 63, 95); fill-opacity: 1; white-space: pre; opacity: 1;\">Alberto Marson</text></g><g class=\"xtick\"><text text-anchor=\"start\" x=\"0\" y=\"173\" transform=\"translate(6814.74,0) rotate(90,0,167)\" style=\"font-family: 'Open Sans', verdana, arial, sans-serif; font-size: 12px; fill: rgb(42, 63, 95); fill-opacity: 1; white-space: pre; opacity: 1;\">Aldair Nascimento dos Santos</text></g><g class=\"xtick\"><text text-anchor=\"start\" x=\"0\" y=\"173\" transform=\"translate(6841.41,0) rotate(90,0,167)\" style=\"font-family: 'Open Sans', verdana, arial, sans-serif; font-size: 12px; fill: rgb(42, 63, 95); fill-opacity: 1; white-space: pre; opacity: 1;\">Alex Sandro da Silva</text></g><g class=\"xtick\"><text text-anchor=\"start\" x=\"0\" y=\"173\" transform=\"translate(6868.08,0) rotate(90,0,167)\" style=\"font-family: 'Open Sans', verdana, arial, sans-serif; font-size: 12px; fill: rgb(42, 63, 95); fill-opacity: 1; white-space: pre; opacity: 1;\">Alexandre \"Amaral\" da Silva Mariano</text></g><g class=\"xtick\"><text text-anchor=\"start\" x=\"0\" y=\"173\" transform=\"translate(6894.75,0) rotate(90,0,167)\" style=\"font-family: 'Open Sans', verdana, arial, sans-serif; font-size: 12px; fill: rgb(42, 63, 95); fill-opacity: 1; white-space: pre; opacity: 1;\">Alexandre Gemignani Ferreira</text></g><g class=\"xtick\"><text text-anchor=\"start\" x=\"0\" y=\"173\" transform=\"translate(6921.42,0) rotate(90,0,167)\" style=\"font-family: 'Open Sans', verdana, arial, sans-serif; font-size: 12px; fill: rgb(42, 63, 95); fill-opacity: 1; white-space: pre; opacity: 1;\">Alfredo Rodrigues da Motta</text></g><g class=\"xtick\"><text text-anchor=\"start\" x=\"0\" y=\"173\" transform=\"translate(6948.1,0) rotate(90,0,167)\" style=\"font-family: 'Open Sans', verdana, arial, sans-serif; font-size: 12px; fill: rgb(42, 63, 95); fill-opacity: 1; white-space: pre; opacity: 1;\">Ana Beatriz Moser</text></g><g class=\"xtick\"><text text-anchor=\"start\" x=\"0\" y=\"173\" transform=\"translate(6974.77,0) rotate(90,0,167)\" style=\"font-family: 'Open Sans', verdana, arial, sans-serif; font-size: 12px; fill: rgb(42, 63, 95); fill-opacity: 1; white-space: pre; opacity: 1;\">Ana Flvia Chritaro Daniel Sanglard</text></g><g class=\"xtick\"><text text-anchor=\"start\" x=\"0\" y=\"173\" transform=\"translate(7001.44,0) rotate(90,0,167)\" style=\"font-family: 'Open Sans', verdana, arial, sans-serif; font-size: 12px; fill: rgb(42, 63, 95); fill-opacity: 1; white-space: pre; opacity: 1;\">Ana Ida Margarita  Alvarez Vieira</text></g><g class=\"xtick\"><text text-anchor=\"start\" x=\"0\" y=\"173\" transform=\"translate(7028.11,0) rotate(90,0,167)\" style=\"font-family: 'Open Sans', verdana, arial, sans-serif; font-size: 12px; fill: rgb(42, 63, 95); fill-opacity: 1; white-space: pre; opacity: 1;\">Ana Paula Rodrigues Connelly (-Rodrigues Henkel)</text></g><g class=\"xtick\"><text text-anchor=\"start\" x=\"0\" y=\"173\" transform=\"translate(7054.79,0) rotate(90,0,167)\" style=\"font-family: 'Open Sans', verdana, arial, sans-serif; font-size: 12px; fill: rgb(42, 63, 95); fill-opacity: 1; white-space: pre; opacity: 1;\">Anderson Hernanes de Carvalho Andrade Lima</text></g><g class=\"xtick\"><text text-anchor=\"start\" x=\"0\" y=\"173\" transform=\"translate(7081.46,0) rotate(90,0,167)\" style=\"font-family: 'Open Sans', verdana, arial, sans-serif; font-size: 12px; fill: rgb(42, 63, 95); fill-opacity: 1; white-space: pre; opacity: 1;\">Andr Luiz Moreira</text></g><g class=\"xtick\"><text text-anchor=\"start\" x=\"0\" y=\"173\" transform=\"translate(7108.13,0) rotate(90,0,167)\" style=\"font-family: 'Open Sans', verdana, arial, sans-serif; font-size: 12px; fill: rgb(42, 63, 95); fill-opacity: 1; white-space: pre; opacity: 1;\">Arnaldo de Oliveira da Silva</text></g><g class=\"xtick\"><text text-anchor=\"start\" x=\"0\" y=\"173\" transform=\"translate(7134.8,0) rotate(90,0,167)\" style=\"font-family: 'Open Sans', verdana, arial, sans-serif; font-size: 12px; fill: rgb(42, 63, 95); fill-opacity: 1; white-space: pre; opacity: 1;\">Arthur Nory Oyakawa Mariano</text></g><g class=\"xtick\"><text text-anchor=\"start\" x=\"0\" y=\"173\" transform=\"translate(7161.48,0) rotate(90,0,167)\" style=\"font-family: 'Open Sans', verdana, arial, sans-serif; font-size: 12px; fill: rgb(42, 63, 95); fill-opacity: 1; white-space: pre; opacity: 1;\">Breno Vinicius Rodrigues Borges</text></g><g class=\"xtick\"><text text-anchor=\"start\" x=\"0\" y=\"173\" transform=\"translate(7188.15,0) rotate(90,0,167)\" style=\"font-family: 'Open Sans', verdana, arial, sans-serif; font-size: 12px; fill: rgb(42, 63, 95); fill-opacity: 1; white-space: pre; opacity: 1;\">Bruno Lins Tenrio de Barros</text></g><g class=\"xtick\"><text text-anchor=\"start\" x=\"0\" y=\"173\" transform=\"translate(7214.82,0) rotate(90,0,167)\" style=\"font-family: 'Open Sans', verdana, arial, sans-serif; font-size: 12px; fill: rgb(42, 63, 95); fill-opacity: 1; white-space: pre; opacity: 1;\">Burkhard Cordes</text></g><g class=\"xtick\"><text text-anchor=\"start\" x=\"0\" y=\"173\" transform=\"translate(7241.49,0) rotate(90,0,167)\" style=\"font-family: 'Open Sans', verdana, arial, sans-serif; font-size: 12px; fill: rgb(42, 63, 95); fill-opacity: 1; white-space: pre; opacity: 1;\">Carlos Alberto Borges Jayme</text></g><g class=\"xtick\"><text text-anchor=\"start\" x=\"0\" y=\"173\" transform=\"translate(7268.16,0) rotate(90,0,167)\" style=\"font-family: 'Open Sans', verdana, arial, sans-serif; font-size: 12px; fill: rgb(42, 63, 95); fill-opacity: 1; white-space: pre; opacity: 1;\">Chiaki Ishii</text></g><g class=\"xtick\"><text text-anchor=\"start\" x=\"0\" y=\"173\" transform=\"translate(7294.84,0) rotate(90,0,167)\" style=\"font-family: 'Open Sans', verdana, arial, sans-serif; font-size: 12px; fill: rgb(42, 63, 95); fill-opacity: 1; white-space: pre; opacity: 1;\">Clinio Freitas</text></g><g class=\"xtick\"><text text-anchor=\"start\" x=\"0\" y=\"173\" transform=\"translate(7321.51,0) rotate(90,0,167)\" style=\"font-family: 'Open Sans', verdana, arial, sans-serif; font-size: 12px; fill: rgb(42, 63, 95); fill-opacity: 1; white-space: pre; opacity: 1;\">Cludia Maria \"Cludinha\" das Neves</text></g><g class=\"xtick\"><text text-anchor=\"start\" x=\"0\" y=\"173\" transform=\"translate(7348.18,0) rotate(90,0,167)\" style=\"font-family: 'Open Sans', verdana, arial, sans-serif; font-size: 12px; fill: rgb(42, 63, 95); fill-opacity: 1; white-space: pre; opacity: 1;\">Cyro Marques Delgado</text></g><g class=\"xtick\"><text text-anchor=\"start\" x=\"0\" y=\"173\" transform=\"translate(7374.85,0) rotate(90,0,167)\" style=\"font-family: 'Open Sans', verdana, arial, sans-serif; font-size: 12px; fill: rgb(42, 63, 95); fill-opacity: 1; white-space: pre; opacity: 1;\">Dario Barbosa</text></g><g class=\"xtick\"><text text-anchor=\"start\" x=\"0\" y=\"173\" transform=\"translate(7401.53,0) rotate(90,0,167)\" style=\"font-family: 'Open Sans', verdana, arial, sans-serif; font-size: 12px; fill: rgb(42, 63, 95); fill-opacity: 1; white-space: pre; opacity: 1;\">Diego Ribas da Cunha</text></g><g class=\"xtick\"><text text-anchor=\"start\" x=\"0\" y=\"173\" transform=\"translate(7428.2,0) rotate(90,0,167)\" style=\"font-family: 'Open Sans', verdana, arial, sans-serif; font-size: 12px; fill: rgb(42, 63, 95); fill-opacity: 1; white-space: pre; opacity: 1;\">Djan Garrido Madruga</text></g><g class=\"xtick\"><text text-anchor=\"start\" x=\"0\" y=\"173\" transform=\"translate(7454.87,0) rotate(90,0,167)\" style=\"font-family: 'Open Sans', verdana, arial, sans-serif; font-size: 12px; fill: rgb(42, 63, 95); fill-opacity: 1; white-space: pre; opacity: 1;\">Edvaldo Valrio da Silva Filho</text></g><g class=\"xtick\"><text text-anchor=\"start\" x=\"0\" y=\"173\" transform=\"translate(7481.54,0) rotate(90,0,167)\" style=\"font-family: 'Open Sans', verdana, arial, sans-serif; font-size: 12px; fill: rgb(42, 63, 95); fill-opacity: 1; white-space: pre; opacity: 1;\">Elisngela Almeida de Oliveira</text></g><g class=\"xtick\"><text text-anchor=\"start\" x=\"0\" y=\"173\" transform=\"translate(7508.21,0) rotate(90,0,167)\" style=\"font-family: 'Open Sans', verdana, arial, sans-serif; font-size: 12px; fill: rgb(42, 63, 95); fill-opacity: 1; white-space: pre; opacity: 1;\">Ericlia \"Fil\" Bodziak</text></g><g class=\"xtick\"><text text-anchor=\"start\" x=\"0\" y=\"173\" transform=\"translate(7534.89,0) rotate(90,0,167)\" style=\"font-family: 'Open Sans', verdana, arial, sans-serif; font-size: 12px; fill: rgb(42, 63, 95); fill-opacity: 1; white-space: pre; opacity: 1;\">Felipe Eidji Kitadai</text></g><g class=\"xtick\"><text text-anchor=\"start\" x=\"0\" y=\"173\" transform=\"translate(7561.56,0) rotate(90,0,167)\" style=\"font-family: 'Open Sans', verdana, arial, sans-serif; font-size: 12px; fill: rgb(42, 63, 95); fill-opacity: 1; white-space: pre; opacity: 1;\">Fernanda Porto Venturini</text></g><g class=\"xtick\"><text text-anchor=\"start\" x=\"0\" y=\"173\" transform=\"translate(7588.23,0) rotate(90,0,167)\" style=\"font-family: 'Open Sans', verdana, arial, sans-serif; font-size: 12px; fill: rgb(42, 63, 95); fill-opacity: 1; white-space: pre; opacity: 1;\">Fernanda Ryff Moreira Oliveira</text></g><g class=\"xtick\"><text text-anchor=\"start\" x=\"0\" y=\"173\" transform=\"translate(7614.9,0) rotate(90,0,167)\" style=\"font-family: 'Open Sans', verdana, arial, sans-serif; font-size: 12px; fill: rgb(42, 63, 95); fill-opacity: 1; white-space: pre; opacity: 1;\">Fernando \"Fernando Brobr\" Pereira de Freitas</text></g><g class=\"xtick\"><text text-anchor=\"start\" x=\"0\" y=\"173\" transform=\"translate(7641.57,0) rotate(90,0,167)\" style=\"font-family: 'Open Sans', verdana, arial, sans-serif; font-size: 12px; fill: rgb(42, 63, 95); fill-opacity: 1; white-space: pre; opacity: 1;\">Fernando Soledade</text></g><g class=\"xtick\"><text text-anchor=\"start\" x=\"0\" y=\"173\" transform=\"translate(7668.25,0) rotate(90,0,167)\" style=\"font-family: 'Open Sans', verdana, arial, sans-serif; font-size: 12px; fill: rgb(42, 63, 95); fill-opacity: 1; white-space: pre; opacity: 1;\">Flvio Vianna de Ulha Canto</text></g><g class=\"xtick\"><text text-anchor=\"start\" x=\"0\" y=\"173\" transform=\"translate(7694.92,0) rotate(90,0,167)\" style=\"font-family: 'Open Sans', verdana, arial, sans-serif; font-size: 12px; fill: rgb(42, 63, 95); fill-opacity: 1; white-space: pre; opacity: 1;\">Flvio da Conceio</text></g><g class=\"xtick\"><text text-anchor=\"start\" x=\"0\" y=\"173\" transform=\"translate(7721.59,0) rotate(90,0,167)\" style=\"font-family: 'Open Sans', verdana, arial, sans-serif; font-size: 12px; fill: rgb(42, 63, 95); fill-opacity: 1; white-space: pre; opacity: 1;\">Friedrich Wilhelm \"Fritz\" Braun</text></g><g class=\"xtick\"><text text-anchor=\"start\" x=\"0\" y=\"173\" transform=\"translate(7748.26,0) rotate(90,0,167)\" style=\"font-family: 'Open Sans', verdana, arial, sans-serif; font-size: 12px; fill: rgb(42, 63, 95); fill-opacity: 1; white-space: pre; opacity: 1;\">Helen Cristina Santos Luz</text></g><g class=\"xtick\"><text text-anchor=\"start\" x=\"0\" y=\"173\" transform=\"translate(7774.94,0) rotate(90,0,167)\" style=\"font-family: 'Open Sans', verdana, arial, sans-serif; font-size: 12px; fill: rgb(42, 63, 95); fill-opacity: 1; white-space: pre; opacity: 1;\">Henrique \"Kiko\" Pellicano</text></g><g class=\"xtick\"><text text-anchor=\"start\" x=\"0\" y=\"173\" transform=\"translate(7801.61,0) rotate(90,0,167)\" style=\"font-family: 'Open Sans', verdana, arial, sans-serif; font-size: 12px; fill: rgb(42, 63, 95); fill-opacity: 1; white-space: pre; opacity: 1;\">Henrique Carlos Serra Azul Guimares</text></g><g class=\"xtick\"><text text-anchor=\"start\" x=\"0\" y=\"173\" transform=\"translate(7828.28,0) rotate(90,0,167)\" style=\"font-family: 'Open Sans', verdana, arial, sans-serif; font-size: 12px; fill: rgb(42, 63, 95); fill-opacity: 1; white-space: pre; opacity: 1;\">Hilma Aparecida Caldeira</text></g><g class=\"xtick\"><text text-anchor=\"start\" x=\"0\" y=\"173\" transform=\"translate(7854.95,0) rotate(90,0,167)\" style=\"font-family: 'Open Sans', verdana, arial, sans-serif; font-size: 12px; fill: rgb(42, 63, 95); fill-opacity: 1; white-space: pre; opacity: 1;\">Ilisaine Karen \"Zaine\" David</text></g><g class=\"xtick\"><text text-anchor=\"start\" x=\"0\" y=\"173\" transform=\"translate(7881.62,0) rotate(90,0,167)\" style=\"font-family: 'Open Sans', verdana, arial, sans-serif; font-size: 12px; fill: rgb(42, 63, 95); fill-opacity: 1; white-space: pre; opacity: 1;\">Ilson Pereira \"Ilsinho\" Dias Jnior</text></g><g class=\"xtick\"><text text-anchor=\"start\" x=\"0\" y=\"173\" transform=\"translate(7908.3,0) rotate(90,0,167)\" style=\"font-family: 'Open Sans', verdana, arial, sans-serif; font-size: 12px; fill: rgb(42, 63, 95); fill-opacity: 1; white-space: pre; opacity: 1;\">Isabel Marques Swan</text></g><g class=\"xtick\"><text text-anchor=\"start\" x=\"0\" y=\"173\" transform=\"translate(7934.97,0) rotate(90,0,167)\" style=\"font-family: 'Open Sans', verdana, arial, sans-serif; font-size: 12px; fill: rgb(42, 63, 95); fill-opacity: 1; white-space: pre; opacity: 1;\">Janina Dia Chagas da Conceio</text></g><g class=\"xtick\"><text text-anchor=\"start\" x=\"0\" y=\"173\" transform=\"translate(7961.64,0) rotate(90,0,167)\" style=\"font-family: 'Open Sans', verdana, arial, sans-serif; font-size: 12px; fill: rgb(42, 63, 95); fill-opacity: 1; white-space: pre; opacity: 1;\">Joo \"J\" Alves de Assis Silva</text></g><g class=\"xtick\"><text text-anchor=\"start\" x=\"0\" y=\"173\" transform=\"translate(7988.31,0) rotate(90,0,167)\" style=\"font-family: 'Open Sans', verdana, arial, sans-serif; font-size: 12px; fill: rgb(42, 63, 95); fill-opacity: 1; white-space: pre; opacity: 1;\">Joo Francisco Brz</text></g><g class=\"xtick\"><text text-anchor=\"start\" x=\"0\" y=\"173\" transform=\"translate(8014.99,0) rotate(90,0,167)\" style=\"font-family: 'Open Sans', verdana, arial, sans-serif; font-size: 12px; fill: rgb(42, 63, 95); fill-opacity: 1; white-space: pre; opacity: 1;\">Jorge Luiz Fernandes Leite</text></g><g class=\"xtick\"><text text-anchor=\"start\" x=\"0\" y=\"173\" transform=\"translate(8041.66,0) rotate(90,0,167)\" style=\"font-family: 'Open Sans', verdana, arial, sans-serif; font-size: 12px; fill: rgb(42, 63, 95); fill-opacity: 1; white-space: pre; opacity: 1;\">Jos Carlos Gomes Moreira</text></g><g class=\"xtick\"><text text-anchor=\"start\" x=\"0\" y=\"173\" transform=\"translate(8068.33,0) rotate(90,0,167)\" style=\"font-family: 'Open Sans', verdana, arial, sans-serif; font-size: 12px; fill: rgb(42, 63, 95); fill-opacity: 1; white-space: pre; opacity: 1;\">Jos Edvar Simes</text></g><g class=\"xtick\"><text text-anchor=\"start\" x=\"0\" y=\"173\" transform=\"translate(8095,0) rotate(90,0,167)\" style=\"font-family: 'Open Sans', verdana, arial, sans-serif; font-size: 12px; fill: rgb(42, 63, 95); fill-opacity: 1; white-space: pre; opacity: 1;\">Jos Elias \"Z Elias\" Moedim Jnior</text></g><g class=\"xtick\"><text text-anchor=\"start\" x=\"0\" y=\"173\" transform=\"translate(8121.67,0) rotate(90,0,167)\" style=\"font-family: 'Open Sans', verdana, arial, sans-serif; font-size: 12px; fill: rgb(42, 63, 95); fill-opacity: 1; white-space: pre; opacity: 1;\">Jos Marcelo \"Z Maria\" Ferreira</text></g><g class=\"xtick\"><text text-anchor=\"start\" x=\"0\" y=\"173\" transform=\"translate(8148.35,0) rotate(90,0,167)\" style=\"font-family: 'Open Sans', verdana, arial, sans-serif; font-size: 12px; fill: rgb(42, 63, 95); fill-opacity: 1; white-space: pre; opacity: 1;\">Jos Telles da Conceio</text></g><g class=\"xtick\"><text text-anchor=\"start\" x=\"0\" y=\"173\" transform=\"translate(8175.02,0) rotate(90,0,167)\" style=\"font-family: 'Open Sans', verdana, arial, sans-serif; font-size: 12px; fill: rgb(42, 63, 95); fill-opacity: 1; white-space: pre; opacity: 1;\">Juliana Felisberta da Silva</text></g><g class=\"xtick\"><text text-anchor=\"start\" x=\"0\" y=\"173\" transform=\"translate(8201.689999999999,0) rotate(90,0,167)\" style=\"font-family: 'Open Sans', verdana, arial, sans-serif; font-size: 12px; fill: rgb(42, 63, 95); fill-opacity: 1; white-space: pre; opacity: 1;\">Karin Rodrigues</text></g><g class=\"xtick\"><text text-anchor=\"start\" x=\"0\" y=\"173\" transform=\"translate(8228.36,0) rotate(90,0,167)\" style=\"font-family: 'Open Sans', verdana, arial, sans-serif; font-size: 12px; fill: rgb(42, 63, 95); fill-opacity: 1; white-space: pre; opacity: 1;\">Kelly Silva dos Santos</text></g><g class=\"xtick\"><text text-anchor=\"start\" x=\"0\" y=\"173\" transform=\"translate(8255.04,0) rotate(90,0,167)\" style=\"font-family: 'Open Sans', verdana, arial, sans-serif; font-size: 12px; fill: rgb(42, 63, 95); fill-opacity: 1; white-space: pre; opacity: 1;\">Kely Kolasco Fraga</text></g><g class=\"xtick\"><text text-anchor=\"start\" x=\"0\" y=\"173\" transform=\"translate(8281.71,0) rotate(90,0,167)\" style=\"font-family: 'Open Sans', verdana, arial, sans-serif; font-size: 12px; fill: rgb(42, 63, 95); fill-opacity: 1; white-space: pre; opacity: 1;\">Ketleyn Lima Quadros</text></g><g class=\"xtick\"><text text-anchor=\"start\" x=\"0\" y=\"173\" transform=\"translate(8308.38,0) rotate(90,0,167)\" style=\"font-family: 'Open Sans', verdana, arial, sans-serif; font-size: 12px; fill: rgb(42, 63, 95); fill-opacity: 1; white-space: pre; opacity: 1;\">Ktia Andreia Caldeira Lopes</text></g><g class=\"xtick\"><text text-anchor=\"start\" x=\"0\" y=\"173\" transform=\"translate(8335.05,0) rotate(90,0,167)\" style=\"font-family: 'Open Sans', verdana, arial, sans-serif; font-size: 12px; fill: rgb(42, 63, 95); fill-opacity: 1; white-space: pre; opacity: 1;\">Larissa Frana Maestrini</text></g><g class=\"xtick\"><text text-anchor=\"start\" x=\"0\" y=\"173\" transform=\"translate(8361.73,0) rotate(90,0,167)\" style=\"font-family: 'Open Sans', verdana, arial, sans-serif; font-size: 12px; fill: rgb(42, 63, 95); fill-opacity: 1; white-space: pre; opacity: 1;\">Lilian Cristina Lopes Gonalves</text></g><g class=\"xtick\"><text text-anchor=\"start\" x=\"0\" y=\"173\" transform=\"translate(8388.4,0) rotate(90,0,167)\" style=\"font-family: 'Open Sans', verdana, arial, sans-serif; font-size: 12px; fill: rgb(42, 63, 95); fill-opacity: 1; white-space: pre; opacity: 1;\">Lucas Pezzini Leiva</text></g><g class=\"xtick\"><text text-anchor=\"start\" x=\"0\" y=\"173\" transform=\"translate(8415.07,0) rotate(90,0,167)\" style=\"font-family: 'Open Sans', verdana, arial, sans-serif; font-size: 12px; fill: rgb(42, 63, 95); fill-opacity: 1; white-space: pre; opacity: 1;\">Luiz Carlos \"Luizo\" Bombonato Goulart</text></g><g class=\"xtick\"><text text-anchor=\"start\" x=\"0\" y=\"173\" transform=\"translate(8441.74,0) rotate(90,0,167)\" style=\"font-family: 'Open Sans', verdana, arial, sans-serif; font-size: 12px; fill: rgb(42, 63, 95); fill-opacity: 1; white-space: pre; opacity: 1;\">Luiz Yoshio Onmura</text></g><g class=\"xtick\"><text text-anchor=\"start\" x=\"0\" y=\"173\" transform=\"translate(8468.41,0) rotate(90,0,167)\" style=\"font-family: 'Open Sans', verdana, arial, sans-serif; font-size: 12px; fill: rgb(42, 63, 95); fill-opacity: 1; white-space: pre; opacity: 1;\">Maicon de Andrade Siqueira</text></g><g class=\"xtick\"><text text-anchor=\"start\" x=\"0\" y=\"173\" transform=\"translate(8495.09,0) rotate(90,0,167)\" style=\"font-family: 'Open Sans', verdana, arial, sans-serif; font-size: 12px; fill: rgb(42, 63, 95); fill-opacity: 1; white-space: pre; opacity: 1;\">Manuel dos Santos Filho</text></g><g class=\"xtick\"><text text-anchor=\"start\" x=\"0\" y=\"173\" transform=\"translate(8521.76,0) rotate(90,0,167)\" style=\"font-family: 'Open Sans', verdana, arial, sans-serif; font-size: 12px; fill: rgb(42, 63, 95); fill-opacity: 1; white-space: pre; opacity: 1;\">Marcelo Jos \"Marcelinho Paulista\" de Souza</text></g><g class=\"xtick\"><text text-anchor=\"start\" x=\"0\" y=\"173\" transform=\"translate(8548.43,0) rotate(90,0,167)\" style=\"font-family: 'Open Sans', verdana, arial, sans-serif; font-size: 12px; fill: rgb(42, 63, 95); fill-opacity: 1; white-space: pre; opacity: 1;\">Marcus Laborne Mattioli</text></g><g class=\"xtick\"><text text-anchor=\"start\" x=\"0\" y=\"173\" transform=\"translate(8575.1,0) rotate(90,0,167)\" style=\"font-family: 'Open Sans', verdana, arial, sans-serif; font-size: 12px; fill: rgb(42, 63, 95); fill-opacity: 1; white-space: pre; opacity: 1;\">Marcus Vincius Dias</text></g><g class=\"xtick\"><text text-anchor=\"start\" x=\"0\" y=\"173\" transform=\"translate(8601.78,0) rotate(90,0,167)\" style=\"font-family: 'Open Sans', verdana, arial, sans-serif; font-size: 12px; fill: rgb(42, 63, 95); fill-opacity: 1; white-space: pre; opacity: 1;\">Massinet Sorcinelli</text></g><g class=\"xtick\"><text text-anchor=\"start\" x=\"0\" y=\"173\" transform=\"translate(8628.45,0) rotate(90,0,167)\" style=\"font-family: 'Open Sans', verdana, arial, sans-serif; font-size: 12px; fill: rgb(42, 63, 95); fill-opacity: 1; white-space: pre; opacity: 1;\">Moyss Bls</text></g><g class=\"xtick\"><text text-anchor=\"start\" x=\"0\" y=\"173\" transform=\"translate(8655.12,0) rotate(90,0,167)\" style=\"font-family: 'Open Sans', verdana, arial, sans-serif; font-size: 12px; fill: rgb(42, 63, 95); fill-opacity: 1; white-space: pre; opacity: 1;\">Mrcia Regina \"Mrcia Fu\" Cunha</text></g><g class=\"xtick\"><text text-anchor=\"start\" x=\"0\" y=\"173\" transform=\"translate(8681.79,0) rotate(90,0,167)\" style=\"font-family: 'Open Sans', verdana, arial, sans-serif; font-size: 12px; fill: rgb(42, 63, 95); fill-opacity: 1; white-space: pre; opacity: 1;\">Mrcio Rafael \"Rafinha\" Ferreira de Souza</text></g><g class=\"xtick\"><text text-anchor=\"start\" x=\"0\" y=\"173\" transform=\"translate(8708.46,0) rotate(90,0,167)\" style=\"font-family: 'Open Sans', verdana, arial, sans-serif; font-size: 12px; fill: rgb(42, 63, 95); fill-opacity: 1; white-space: pre; opacity: 1;\">Narciso dos Santos</text></g><g class=\"xtick\"><text text-anchor=\"start\" x=\"0\" y=\"173\" transform=\"translate(8735.14,0) rotate(90,0,167)\" style=\"font-family: 'Open Sans', verdana, arial, sans-serif; font-size: 12px; fill: rgb(42, 63, 95); fill-opacity: 1; white-space: pre; opacity: 1;\">Natlia Falavigna Silva</text></g><g class=\"xtick\"><text text-anchor=\"start\" x=\"0\" y=\"173\" transform=\"translate(8761.81,0) rotate(90,0,167)\" style=\"font-family: 'Open Sans', verdana, arial, sans-serif; font-size: 12px; fill: rgb(42, 63, 95); fill-opacity: 1; white-space: pre; opacity: 1;\">Nelson Falco</text></g><g class=\"xtick\"><text text-anchor=\"start\" x=\"0\" y=\"173\" transform=\"translate(8788.48,0) rotate(90,0,167)\" style=\"font-family: 'Open Sans', verdana, arial, sans-serif; font-size: 12px; fill: rgb(42, 63, 95); fill-opacity: 1; white-space: pre; opacity: 1;\">Nelson de Jess \"Dida\" Silva</text></g><g class=\"xtick\"><text text-anchor=\"start\" x=\"0\" y=\"173\" transform=\"translate(8815.15,0) rotate(90,0,167)\" style=\"font-family: 'Open Sans', verdana, arial, sans-serif; font-size: 12px; fill: rgb(42, 63, 95); fill-opacity: 1; white-space: pre; opacity: 1;\">Nilton Pacheco de Oliveira</text></g><g class=\"xtick\"><text text-anchor=\"start\" x=\"0\" y=\"173\" transform=\"translate(8841.83,0) rotate(90,0,167)\" style=\"font-family: 'Open Sans', verdana, arial, sans-serif; font-size: 12px; fill: rgb(42, 63, 95); fill-opacity: 1; white-space: pre; opacity: 1;\">Oswaldo \"Juninho Paulista\" Giroldo Jnior</text></g><g class=\"xtick\"><text text-anchor=\"start\" x=\"0\" y=\"173\" transform=\"translate(8868.5,0) rotate(90,0,167)\" style=\"font-family: 'Open Sans', verdana, arial, sans-serif; font-size: 12px; fill: rgb(42, 63, 95); fill-opacity: 1; white-space: pre; opacity: 1;\">Peter Ficker</text></g><g class=\"xtick\"><text text-anchor=\"start\" x=\"0\" y=\"173\" transform=\"translate(8895.17,0) rotate(90,0,167)\" style=\"font-family: 'Open Sans', verdana, arial, sans-serif; font-size: 12px; fill: rgb(42, 63, 95); fill-opacity: 1; white-space: pre; opacity: 1;\">Poliana Okimoto-Cintra</text></g><g class=\"xtick\"><text text-anchor=\"start\" x=\"0\" y=\"173\" transform=\"translate(8921.84,0) rotate(90,0,167)\" style=\"font-family: 'Open Sans', verdana, arial, sans-serif; font-size: 12px; fill: rgb(42, 63, 95); fill-opacity: 1; white-space: pre; opacity: 1;\">Rafael Augusto Sbis do Nascimento</text></g><g class=\"xtick\"><text text-anchor=\"start\" x=\"0\" y=\"173\" transform=\"translate(8948.51,0) rotate(90,0,167)\" style=\"font-family: 'Open Sans', verdana, arial, sans-serif; font-size: 12px; fill: rgb(42, 63, 95); fill-opacity: 1; white-space: pre; opacity: 1;\">Ramires Santos do Nascimento</text></g><g class=\"xtick\"><text text-anchor=\"start\" x=\"0\" y=\"173\" transform=\"translate(8975.19,0) rotate(90,0,167)\" style=\"font-family: 'Open Sans', verdana, arial, sans-serif; font-size: 12px; fill: rgb(42, 63, 95); fill-opacity: 1; white-space: pre; opacity: 1;\">Raquel Peluci Xavier da Silva</text></g><g class=\"xtick\"><text text-anchor=\"start\" x=\"0\" y=\"173\" transform=\"translate(9001.86,0) rotate(90,0,167)\" style=\"font-family: 'Open Sans', verdana, arial, sans-serif; font-size: 12px; fill: rgb(42, 63, 95); fill-opacity: 1; white-space: pre; opacity: 1;\">Renan Brito Soares</text></g><g class=\"xtick\"><text text-anchor=\"start\" x=\"0\" y=\"173\" transform=\"translate(9028.53,0) rotate(90,0,167)\" style=\"font-family: 'Open Sans', verdana, arial, sans-serif; font-size: 12px; fill: rgb(42, 63, 95); fill-opacity: 1; white-space: pre; opacity: 1;\">Ricarda Raquel Barbosa Lima</text></g><g class=\"xtick\"><text text-anchor=\"start\" x=\"0\" y=\"173\" transform=\"translate(9055.2,0) rotate(90,0,167)\" style=\"font-family: 'Open Sans', verdana, arial, sans-serif; font-size: 12px; fill: rgb(42, 63, 95); fill-opacity: 1; white-space: pre; opacity: 1;\">Roberto Carlos da Silva</text></g><g class=\"xtick\"><text text-anchor=\"start\" x=\"0\" y=\"173\" transform=\"translate(9081.88,0) rotate(90,0,167)\" style=\"font-family: 'Open Sans', verdana, arial, sans-serif; font-size: 12px; fill: rgb(42, 63, 95); fill-opacity: 1; white-space: pre; opacity: 1;\">Ronaldo \"Ronaldinho\" de Asss Moreira</text></g><g class=\"xtick\"><text text-anchor=\"start\" x=\"0\" y=\"173\" transform=\"translate(9108.55,0) rotate(90,0,167)\" style=\"font-family: 'Open Sans', verdana, arial, sans-serif; font-size: 12px; fill: rgb(42, 63, 95); fill-opacity: 1; white-space: pre; opacity: 1;\">Ronaldo Guiaro</text></g><g class=\"xtick\"><text text-anchor=\"start\" x=\"0\" y=\"173\" transform=\"translate(9135.22,0) rotate(90,0,167)\" style=\"font-family: 'Open Sans', verdana, arial, sans-serif; font-size: 12px; fill: rgb(42, 63, 95); fill-opacity: 1; white-space: pre; opacity: 1;\">Ronaldo Luiz Nazrio \"Ronaldinho\" de Lima</text></g><g class=\"xtick\"><text text-anchor=\"start\" x=\"0\" y=\"173\" transform=\"translate(9161.89,0) rotate(90,0,167)\" style=\"font-family: 'Open Sans', verdana, arial, sans-serif; font-size: 12px; fill: rgb(42, 63, 95); fill-opacity: 1; white-space: pre; opacity: 1;\">Ruy de Freitas</text></g><g class=\"xtick\"><text text-anchor=\"start\" x=\"0\" y=\"173\" transform=\"translate(9188.56,0) rotate(90,0,167)\" style=\"font-family: 'Open Sans', verdana, arial, sans-serif; font-size: 12px; fill: rgb(42, 63, 95); fill-opacity: 1; white-space: pre; opacity: 1;\">Sandra Maria Suruagy Lima</text></g><g class=\"xtick\"><text text-anchor=\"start\" x=\"0\" y=\"173\" transform=\"translate(9215.24,0) rotate(90,0,167)\" style=\"font-family: 'Open Sans', verdana, arial, sans-serif; font-size: 12px; fill: rgb(42, 63, 95); fill-opacity: 1; white-space: pre; opacity: 1;\">Sandro Ricardo Rodrigues Viana</text></g><g class=\"xtick\"><text text-anchor=\"start\" x=\"0\" y=\"173\" transform=\"translate(9241.91,0) rotate(90,0,167)\" style=\"font-family: 'Open Sans', verdana, arial, sans-serif; font-size: 12px; fill: rgb(42, 63, 95); fill-opacity: 1; white-space: pre; opacity: 1;\">Sebastio Wolf</text></g><g class=\"xtick\"><text text-anchor=\"start\" x=\"0\" y=\"173\" transform=\"translate(9268.58,0) rotate(90,0,167)\" style=\"font-family: 'Open Sans', verdana, arial, sans-serif; font-size: 12px; fill: rgb(42, 63, 95); fill-opacity: 1; white-space: pre; opacity: 1;\">Servilio Sebastio de Oliveira</text></g><g class=\"xtick\"><text text-anchor=\"start\" x=\"0\" y=\"173\" transform=\"translate(9295.25,0) rotate(90,0,167)\" style=\"font-family: 'Open Sans', verdana, arial, sans-serif; font-size: 12px; fill: rgb(42, 63, 95); fill-opacity: 1; white-space: pre; opacity: 1;\">Srgio \"Srgio Macarro\" de Toledo Machado</text></g><g class=\"xtick\"><text text-anchor=\"start\" x=\"0\" y=\"173\" transform=\"translate(9321.92,0) rotate(90,0,167)\" style=\"font-family: 'Open Sans', verdana, arial, sans-serif; font-size: 12px; fill: rgb(42, 63, 95); fill-opacity: 1; white-space: pre; opacity: 1;\">Svio Pimentel Bortolini</text></g><g class=\"xtick\"><text text-anchor=\"start\" x=\"0\" y=\"173\" transform=\"translate(9348.6,0) rotate(90,0,167)\" style=\"font-family: 'Open Sans', verdana, arial, sans-serif; font-size: 12px; fill: rgb(42, 63, 95); fill-opacity: 1; white-space: pre; opacity: 1;\">Tetsuo Okamoto</text></g><g class=\"xtick\"><text text-anchor=\"start\" x=\"0\" y=\"173\" transform=\"translate(9375.27,0) rotate(90,0,167)\" style=\"font-family: 'Open Sans', verdana, arial, sans-serif; font-size: 12px; fill: rgb(42, 63, 95); fill-opacity: 1; white-space: pre; opacity: 1;\">Thiago Neves Augusto</text></g><g class=\"xtick\"><text text-anchor=\"start\" x=\"0\" y=\"173\" transform=\"translate(9401.94,0) rotate(90,0,167)\" style=\"font-family: 'Open Sans', verdana, arial, sans-serif; font-size: 12px; fill: rgb(42, 63, 95); fill-opacity: 1; white-space: pre; opacity: 1;\">Ubiratan \"Bira\" Pereira Maciel</text></g><g class=\"xtick\"><text text-anchor=\"start\" x=\"0\" y=\"173\" transform=\"translate(9428.61,0) rotate(90,0,167)\" style=\"font-family: 'Open Sans', verdana, arial, sans-serif; font-size: 12px; fill: rgb(42, 63, 95); fill-opacity: 1; white-space: pre; opacity: 1;\">Vanderlei Cordeiro de Lima</text></g><g class=\"xtick\"><text text-anchor=\"start\" x=\"0\" y=\"173\" transform=\"translate(9455.29,0) rotate(90,0,167)\" style=\"font-family: 'Open Sans', verdana, arial, sans-serif; font-size: 12px; fill: rgb(42, 63, 95); fill-opacity: 1; white-space: pre; opacity: 1;\">Victor Borba \"Rivaldo\" Ferreira</text></g><g class=\"xtick\"><text text-anchor=\"start\" x=\"0\" y=\"173\" transform=\"translate(9481.96,0) rotate(90,0,167)\" style=\"font-family: 'Open Sans', verdana, arial, sans-serif; font-size: 12px; fill: rgb(42, 63, 95); fill-opacity: 1; white-space: pre; opacity: 1;\">Victor Mirshauswka</text></g><g class=\"xtick\"><text text-anchor=\"start\" x=\"0\" y=\"173\" transform=\"translate(9508.63,0) rotate(90,0,167)\" style=\"font-family: 'Open Sans', verdana, arial, sans-serif; font-size: 12px; fill: rgb(42, 63, 95); fill-opacity: 1; white-space: pre; opacity: 1;\">Waldemar Blatskauskas</text></g><g class=\"xtick\"><text text-anchor=\"start\" x=\"0\" y=\"173\" transform=\"translate(9535.3,0) rotate(90,0,167)\" style=\"font-family: 'Open Sans', verdana, arial, sans-serif; font-size: 12px; fill: rgb(42, 63, 95); fill-opacity: 1; white-space: pre; opacity: 1;\">Waldyr Geraldo Boccardo</text></g><g class=\"xtick\"><text text-anchor=\"start\" x=\"0\" y=\"173\" transform=\"translate(9561.98,0) rotate(90,0,167)\" style=\"font-family: 'Open Sans', verdana, arial, sans-serif; font-size: 12px; fill: rgb(42, 63, 95); fill-opacity: 1; white-space: pre; opacity: 1;\">Wlter Carmona</text></g><g class=\"xtick\"><text text-anchor=\"start\" x=\"0\" y=\"173\" transform=\"translate(9588.65,0) rotate(90,0,167)\" style=\"font-family: 'Open Sans', verdana, arial, sans-serif; font-size: 12px; fill: rgb(42, 63, 95); fill-opacity: 1; white-space: pre; opacity: 1;\">Yamaguchi Falco Florentino</text></g><g class=\"xtick\"><text text-anchor=\"start\" x=\"0\" y=\"173\" transform=\"translate(9615.32,0) rotate(90,0,167)\" style=\"font-family: 'Open Sans', verdana, arial, sans-serif; font-size: 12px; fill: rgb(42, 63, 95); fill-opacity: 1; white-space: pre; opacity: 1;\">Yane Mrcia Campos da Fonseca Marques</text></g><g class=\"xtick\"><text text-anchor=\"start\" x=\"0\" y=\"173\" transform=\"translate(9641.99,0) rotate(90,0,167)\" style=\"font-family: 'Open Sans', verdana, arial, sans-serif; font-size: 12px; fill: rgb(42, 63, 95); fill-opacity: 1; white-space: pre; opacity: 1;\">nderson Lus de Abreu Oliveira</text></g><g class=\"xtick\"><text text-anchor=\"start\" x=\"0\" y=\"173\" transform=\"translate(9668.66,0) rotate(90,0,167)\" style=\"font-family: 'Open Sans', verdana, arial, sans-serif; font-size: 12px; fill: rgb(42, 63, 95); fill-opacity: 1; white-space: pre; opacity: 1;\">rika Kelly \"Kiki\" Pereira Coimbra</text></g></g><g class=\"yaxislayer-above\"><g class=\"ytick\"><text text-anchor=\"end\" x=\"79\" y=\"4.199999999999999\" transform=\"translate(0,160)\" style=\"font-family: 'Open Sans', verdana, arial, sans-serif; font-size: 12px; fill: rgb(42, 63, 95); fill-opacity: 1; white-space: pre; opacity: 1;\">0</text></g><g class=\"ytick\"><text text-anchor=\"end\" x=\"79\" y=\"4.199999999999999\" style=\"font-family: 'Open Sans', verdana, arial, sans-serif; font-size: 12px; fill: rgb(42, 63, 95); fill-opacity: 1; white-space: pre; opacity: 1;\" transform=\"translate(0,135.68)\">2</text></g><g class=\"ytick\"><text text-anchor=\"end\" x=\"79\" y=\"4.199999999999999\" style=\"font-family: 'Open Sans', verdana, arial, sans-serif; font-size: 12px; fill: rgb(42, 63, 95); fill-opacity: 1; white-space: pre; opacity: 1;\" transform=\"translate(0,111.36)\">4</text></g></g><g class=\"overaxes-above\"/></g></g><g class=\"polarlayer\"/><g class=\"ternarylayer\"/><g class=\"geolayer\"/><g class=\"funnelarealayer\"/><g class=\"pielayer\"/><g class=\"iciclelayer\"/><g class=\"treemaplayer\"/><g class=\"sunburstlayer\"/><g class=\"glimages\"/><defs id=\"topdefs-4a353f\"><g class=\"clips\"/><clipPath id=\"legend4a353f\"><rect width=\"114\" height=\"64\" x=\"0\" y=\"0\"/></clipPath></defs><g class=\"layer-above\"><g class=\"imagelayer\"/><g class=\"shapelayer\"/></g><g class=\"infolayer\"><g class=\"legend\" pointer-events=\"all\" transform=\"translate(9874.04,96)\"><rect class=\"bg\" shape-rendering=\"crispEdges\" style=\"stroke: rgb(68, 68, 68); stroke-opacity: 1; fill: rgb(255, 255, 255); fill-opacity: 1; stroke-width: 0px;\" width=\"114\" height=\"64\" x=\"0\" y=\"0\"/><g class=\"scrollbox\" transform=\"\" clip-path=\"url(#legend4a353f)\"><text class=\"legendtitletext\" text-anchor=\"start\" x=\"2\" y=\"18.2\" style=\"font-family: 'Open Sans', verdana, arial, sans-serif; font-size: 14px; fill: rgb(42, 63, 95); fill-opacity: 1; white-space: pre;\">Cor da Medalha</text><g class=\"groups\" transform=\"\"><g class=\"traces\" transform=\"translate(0,32.7)\" style=\"opacity: 1;\"><text class=\"legendtext\" text-anchor=\"start\" x=\"40\" y=\"4.680000000000001\" style=\"font-family: 'Open Sans', verdana, arial, sans-serif; font-size: 12px; fill: rgb(42, 63, 95); fill-opacity: 1; white-space: pre;\">Gold</text><g class=\"layers\" style=\"opacity: 1;\"><g class=\"legendfill\"/><g class=\"legendlines\"/><g class=\"legendsymbols\"><g class=\"legendpoints\"><path class=\"legendundefined\" d=\"M6,6H-6V-6H6Z\" transform=\"translate(20,0)\" style=\"stroke-width: 0.5px; fill: rgb(255, 215, 0); fill-opacity: 1; stroke: rgb(229, 236, 246); stroke-opacity: 1;\"/></g></g></g><rect class=\"legendtoggle\" x=\"0\" y=\"-9.5\" width=\"81.6875\" height=\"19\" style=\"fill: rgb(0, 0, 0); fill-opacity: 0;\"/></g></g><g class=\"groups\" transform=\"\"><g class=\"traces\" transform=\"translate(0,51.7)\" style=\"opacity: 1;\"><text class=\"legendtext\" text-anchor=\"start\" x=\"40\" y=\"4.680000000000001\" style=\"font-family: 'Open Sans', verdana, arial, sans-serif; font-size: 12px; fill: rgb(42, 63, 95); fill-opacity: 1; white-space: pre;\">Silver</text><g class=\"layers\" style=\"opacity: 1;\"><g class=\"legendfill\"/><g class=\"legendlines\"/><g class=\"legendsymbols\"><g class=\"legendpoints\"><path class=\"legendundefined\" d=\"M6,6H-6V-6H6Z\" transform=\"translate(20,0)\" style=\"stroke-width: 0.5px; fill: rgb(192, 192, 192); fill-opacity: 1; stroke: rgb(229, 236, 246); stroke-opacity: 1;\"/></g></g></g><rect class=\"legendtoggle\" x=\"0\" y=\"-9.5\" width=\"81.6875\" height=\"19\" style=\"fill: rgb(0, 0, 0); fill-opacity: 0;\"/></g></g><g class=\"groups\" transform=\"\"><g class=\"traces\" transform=\"translate(0,70.7)\" style=\"opacity: 1;\"><text class=\"legendtext\" text-anchor=\"start\" x=\"40\" y=\"4.680000000000001\" style=\"font-family: 'Open Sans', verdana, arial, sans-serif; font-size: 12px; fill: rgb(42, 63, 95); fill-opacity: 1; white-space: pre;\">Bronze</text><g class=\"layers\" style=\"opacity: 1;\"><g class=\"legendfill\"/><g class=\"legendlines\"/><g class=\"legendsymbols\"><g class=\"legendpoints\"><path class=\"legendundefined\" d=\"M6,6H-6V-6H6Z\" transform=\"translate(20,0)\" style=\"stroke-width: 0.5px; fill: rgb(210, 105, 30); fill-opacity: 1; stroke: rgb(229, 236, 246); stroke-opacity: 1;\"/></g></g></g><rect class=\"legendtoggle\" x=\"0\" y=\"-9.5\" width=\"81.6875\" height=\"19\" style=\"fill: rgb(0, 0, 0); fill-opacity: 0;\"/></g></g></g><rect class=\"scrollbar\" rx=\"20\" ry=\"3\" width=\"0\" height=\"0\" style=\"fill: rgb(128, 139, 164); fill-opacity: 1;\" x=\"0\" y=\"0\"/></g><g class=\"g-gtitle\"><text class=\"gtitle\" x=\"500\" y=\"48\" text-anchor=\"start\" dy=\"0em\" style=\"font-family: 'Open Sans', verdana, arial, sans-serif; font-size: 17px; fill: rgb(42, 63, 95); opacity: 1; font-weight: normal; white-space: pre;\">Medalha por atletas brasileiros</text></g><g class=\"g-xtitle\" transform=\"translate(0,-6.425000000000011)\"><text class=\"xtitle\" x=\"4881\" y=\"503.425\" text-anchor=\"middle\" style=\"font-family: 'Open Sans', verdana, arial, sans-serif; font-size: 14px; fill: rgb(42, 63, 95); opacity: 1; font-weight: normal; white-space: pre;\">Name</text></g><g class=\"g-ytitle\"><text class=\"ytitle\" transform=\"rotate(-90,46.559375,128)\" x=\"46.559375\" y=\"128\" text-anchor=\"middle\" style=\"font-family: 'Open Sans', verdana, arial, sans-serif; font-size: 14px; fill: rgb(42, 63, 95); opacity: 1; font-weight: normal; white-space: pre;\">Total de Medalhas</text></g></g></svg>"
          },
          "metadata": {},
          "output_type": "display_data"
        }
      ],
      "source": [
        "fig = px.bar(df_brasil_med_medalha, x=\"Name\", y=\"Total de Medalhas\", color=\"Medal\", \n",
        "            title=\"Medalha por atletas brasileiros\",\n",
        "            labels = {'Medal':'Cor da Medalha'},\n",
        "            width = 10000,\n",
        "            color_discrete_map={'Bronze': 'chocolate', \n",
        "                                'Silver': 'silver', \n",
        "                                'Gold': 'gold'})\n",
        "            \n",
        "fig.show('svg')\n"
      ]
    },
    {
      "cell_type": "markdown",
      "metadata": {
        "id": "dz-rbtTOnbik"
      },
      "source": [
        "Agora gere o mesmo gráfico de barras empilhadas substituindo os nomes dos atletas pelo nome de todos os esportes onde o Brasil já ganhou medalhas.\n",
        "\n",
        "**DICA:** tome muito cuidado nessa análise: cada **evento esportivo** rende 1 medalha. Por exemplo, quando a equipe de futebol vence, isso é considerado 1 medalha, mesmo tendo cerca de 20 atletas medalhistas na equipe. "
      ]
    },
    {
      "cell_type": "markdown",
      "metadata": {},
      "source": [
        "<br><span style = 'color: green; font-size: 1.4em'> &nbsp;&nbsp;&nbsp;&nbsp;&nbsp;&nbsp;&nbsp;&nbsp; A partir do dataset *df_medalha_med*, o df_sports é gerado tirando da lista os casos de esportes coletivos via método _drop_duplicates_, portanto em esportes coletivos um atleta ganhador vai representar o todo. Ao final será gerado o dataset *df_sports_med* filtrando por groupby usando o mesmo algoritmo que o item anterior  </span><br>"
      ]
    },
    {
      "cell_type": "markdown",
      "metadata": {},
      "source": []
    },
    {
      "cell_type": "code",
      "execution_count": 10,
      "metadata": {},
      "outputs": [
        {
          "data": {
            "text/html": [
              "<div><div id=33722eae-5607-40d3-96c0-e3e436ba9ab1 style=\"display:none; background-color:#9D6CFF; color:white; width:200px; height:30px; padding-left:5px; border-radius:4px; flex-direction:row; justify-content:space-around; align-items:center;\" onmouseover=\"this.style.backgroundColor='#BA9BF8'\" onmouseout=\"this.style.backgroundColor='#9D6CFF'\" onclick=\"window.commands?.execute('create-mitosheet-from-dataframe-output');\">See Full Dataframe in Mito</div> <script> if (window.commands.hasCommand('create-mitosheet-from-dataframe-output')) document.getElementById('33722eae-5607-40d3-96c0-e3e436ba9ab1').style.display = 'flex' </script> <table border=\"1\" class=\"dataframe\">\n",
              "  <thead>\n",
              "    <tr style=\"text-align: right;\">\n",
              "      <th></th>\n",
              "      <th>Sport</th>\n",
              "      <th>Medal</th>\n",
              "      <th>Total de Medalhas</th>\n",
              "    </tr>\n",
              "  </thead>\n",
              "  <tbody>\n",
              "    <tr>\n",
              "      <th>0</th>\n",
              "      <td>Athletics</td>\n",
              "      <td>Bronze</td>\n",
              "      <td>8</td>\n",
              "    </tr>\n",
              "    <tr>\n",
              "      <th>1</th>\n",
              "      <td>Athletics</td>\n",
              "      <td>Gold</td>\n",
              "      <td>5</td>\n",
              "    </tr>\n",
              "    <tr>\n",
              "      <th>2</th>\n",
              "      <td>Athletics</td>\n",
              "      <td>Silver</td>\n",
              "      <td>3</td>\n",
              "    </tr>\n",
              "    <tr>\n",
              "      <th>3</th>\n",
              "      <td>Basketball</td>\n",
              "      <td>Bronze</td>\n",
              "      <td>4</td>\n",
              "    </tr>\n",
              "    <tr>\n",
              "      <th>4</th>\n",
              "      <td>Basketball</td>\n",
              "      <td>Silver</td>\n",
              "      <td>1</td>\n",
              "    </tr>\n",
              "    <tr>\n",
              "      <th>...</th>\n",
              "      <td>...</td>\n",
              "      <td>...</td>\n",
              "      <td>...</td>\n",
              "    </tr>\n",
              "    <tr>\n",
              "      <th>32</th>\n",
              "      <td>Swimming</td>\n",
              "      <td>Silver</td>\n",
              "      <td>4</td>\n",
              "    </tr>\n",
              "    <tr>\n",
              "      <th>33</th>\n",
              "      <td>Taekwondo</td>\n",
              "      <td>Bronze</td>\n",
              "      <td>2</td>\n",
              "    </tr>\n",
              "    <tr>\n",
              "      <th>34</th>\n",
              "      <td>Volleyball</td>\n",
              "      <td>Bronze</td>\n",
              "      <td>2</td>\n",
              "    </tr>\n",
              "    <tr>\n",
              "      <th>35</th>\n",
              "      <td>Volleyball</td>\n",
              "      <td>Gold</td>\n",
              "      <td>5</td>\n",
              "    </tr>\n",
              "    <tr>\n",
              "      <th>36</th>\n",
              "      <td>Volleyball</td>\n",
              "      <td>Silver</td>\n",
              "      <td>3</td>\n",
              "    </tr>\n",
              "  </tbody>\n",
              "</table></div>"
            ],
            "text/plain": [
              "                Sport   Medal  Total de Medalhas\n",
              "0           Athletics  Bronze                  8\n",
              "1           Athletics    Gold                  5\n",
              "2           Athletics  Silver                  3\n",
              "3          Basketball  Bronze                  4\n",
              "4          Basketball  Silver                  1\n",
              "5    Beach Volleyball  Bronze                  2\n",
              "6    Beach Volleyball    Gold                  2\n",
              "7    Beach Volleyball  Silver                  6\n",
              "8              Boxing  Bronze                  3\n",
              "9              Boxing    Gold                  1\n",
              "10             Boxing  Silver                  1\n",
              "11           Canoeing  Bronze                  1\n",
              "12           Canoeing  Silver                  2\n",
              "13      Equestrianism  Bronze                  2\n",
              "14      Equestrianism    Gold                  1\n",
              "15           Football  Bronze                  2\n",
              "16           Football    Gold                  1\n",
              "17           Football  Silver                  5\n",
              "18         Gymnastics    Gold                  1\n",
              "19         Gymnastics  Silver                  2\n",
              "20               Judo  Bronze                 15\n",
              "21               Judo    Gold                  4\n",
              "22               Judo  Silver                  3\n",
              "23  Modern Pentathlon  Bronze                  1\n",
              "24            Sailing  Bronze                  8\n",
              "25            Sailing    Gold                  7\n",
              "26            Sailing  Silver                  3\n",
              "27           Shooting  Bronze                  1\n",
              "28           Shooting    Gold                  1\n",
              "29           Shooting  Silver                  2\n",
              "30           Swimming  Bronze                  9\n",
              "31           Swimming    Gold                  1\n",
              "32           Swimming  Silver                  4\n",
              "33          Taekwondo  Bronze                  2\n",
              "34         Volleyball  Bronze                  2\n",
              "35         Volleyball    Gold                  5\n",
              "36         Volleyball  Silver                  3"
            ]
          },
          "execution_count": 10,
          "metadata": {},
          "output_type": "execute_result"
        }
      ],
      "source": [
        "\n",
        "df_sports=df_brasil_med.drop_duplicates(subset = ['Event','Games'])\n",
        "\n",
        "df_sports_med = df_sports.groupby(['Sport','Medal']).size()\n",
        "\n",
        "df_sports_med = df_sports_med.to_frame().reset_index()\n",
        "\n",
        "\n",
        "\n",
        "\n",
        "df_sports_med.rename({df_sports_med.columns[2]:\"Total de Medalhas\"},\n",
        "                        inplace = True, axis = 1)\n",
        "df_sports_med"
      ]
    },
    {
      "cell_type": "code",
      "execution_count": 11,
      "metadata": {
        "id": "gxvrdU2Unbik"
      },
      "outputs": [
        {
          "data": {
            "image/svg+xml": "<svg class=\"main-svg\" xmlns=\"http://www.w3.org/2000/svg\" xmlns:xlink=\"http://www.w3.org/1999/xlink\" width=\"1000\" height=\"500\" style=\"\" viewBox=\"0 0 1000 500\"><rect x=\"0\" y=\"0\" width=\"1000\" height=\"500\" style=\"fill: rgb(255, 255, 255); fill-opacity: 1;\"/><defs id=\"defs-d0430f\"><g class=\"clips\"><clipPath id=\"clipd0430fxyplot\" class=\"plotclip\"><rect width=\"778\" height=\"292\"/></clipPath><clipPath class=\"axesclip\" id=\"clipd0430fx\"><rect x=\"80\" y=\"0\" width=\"778\" height=\"500\"/></clipPath><clipPath class=\"axesclip\" id=\"clipd0430fy\"><rect x=\"0\" y=\"100\" width=\"1000\" height=\"292\"/></clipPath><clipPath class=\"axesclip\" id=\"clipd0430fxy\"><rect x=\"80\" y=\"100\" width=\"778\" height=\"292\"/></clipPath></g><g class=\"gradients\"/><g class=\"patterns\"/></defs><g class=\"bglayer\"><rect class=\"bg\" x=\"80\" y=\"100\" width=\"778\" height=\"292\" style=\"fill: rgb(229, 236, 246); fill-opacity: 1; stroke-width: 0;\"/></g><g class=\"layer-below\"><g class=\"imagelayer\"/><g class=\"shapelayer\"/></g><g class=\"cartesianlayer\"><g class=\"subplot xy\"><g class=\"layer-subplot\"><g class=\"shapelayer\"/><g class=\"imagelayer\"/></g><g class=\"gridlayer\"><g class=\"x\"/><g class=\"y\"><path class=\"ygrid crisp\" transform=\"translate(0,328.95)\" d=\"M80,0h778\" style=\"stroke: rgb(255, 255, 255); stroke-opacity: 1; stroke-width: 1px;\"/><path class=\"ygrid crisp\" transform=\"translate(0,265.90999999999997)\" d=\"M80,0h778\" style=\"stroke: rgb(255, 255, 255); stroke-opacity: 1; stroke-width: 1px;\"/><path class=\"ygrid crisp\" transform=\"translate(0,202.86)\" d=\"M80,0h778\" style=\"stroke: rgb(255, 255, 255); stroke-opacity: 1; stroke-width: 1px;\"/><path class=\"ygrid crisp\" transform=\"translate(0,139.82)\" d=\"M80,0h778\" style=\"stroke: rgb(255, 255, 255); stroke-opacity: 1; stroke-width: 1px;\"/></g></g><g class=\"zerolinelayer\"><path class=\"yzl zl crisp\" transform=\"translate(0,392)\" d=\"M80,0h778\" style=\"stroke: rgb(255, 255, 255); stroke-opacity: 1; stroke-width: 2px;\"/></g><path class=\"xlines-below\"/><path class=\"ylines-below\"/><g class=\"overlines-below\"/><g class=\"xaxislayer-below\"/><g class=\"yaxislayer-below\"/><g class=\"overaxes-below\"/><g class=\"plot\" transform=\"translate(80,100)\" clip-path=\"url(#clipd0430fxyplot)\"><g class=\"barlayer mlayer\"><g class=\"trace bars\" style=\"opacity: 1;\"><g class=\"points\"><g class=\"point\"><path d=\"M5.19,292V191.13H46.68V292Z\" style=\"vector-effect: non-scaling-stroke; opacity: 1; stroke-width: 0.5px; fill: rgb(210, 105, 30); fill-opacity: 1; stroke: rgb(229, 236, 246); stroke-opacity: 1;\"/></g><g class=\"point\"><path d=\"M57.05,292V241.56H98.55V292Z\" style=\"vector-effect: non-scaling-stroke; opacity: 1; stroke-width: 0.5px; fill: rgb(210, 105, 30); fill-opacity: 1; stroke: rgb(229, 236, 246); stroke-opacity: 1;\"/></g><g class=\"point\"><path d=\"M108.92,292V266.78H150.41V292Z\" style=\"vector-effect: non-scaling-stroke; opacity: 1; stroke-width: 0.5px; fill: rgb(210, 105, 30); fill-opacity: 1; stroke: rgb(229, 236, 246); stroke-opacity: 1;\"/></g><g class=\"point\"><path d=\"M160.79,292V254.17H202.28V292Z\" style=\"vector-effect: non-scaling-stroke; opacity: 1; stroke-width: 0.5px; fill: rgb(210, 105, 30); fill-opacity: 1; stroke: rgb(229, 236, 246); stroke-opacity: 1;\"/></g><g class=\"point\"><path d=\"M212.65,292V279.39H254.15V292Z\" style=\"vector-effect: non-scaling-stroke; opacity: 1; stroke-width: 0.5px; fill: rgb(210, 105, 30); fill-opacity: 1; stroke: rgb(229, 236, 246); stroke-opacity: 1;\"/></g><g class=\"point\"><path d=\"M264.52,292V266.78H306.01V292Z\" style=\"vector-effect: non-scaling-stroke; opacity: 1; stroke-width: 0.5px; fill: rgb(210, 105, 30); fill-opacity: 1; stroke: rgb(229, 236, 246); stroke-opacity: 1;\"/></g><g class=\"point\"><path d=\"M316.39,292V266.78H357.88V292Z\" style=\"vector-effect: non-scaling-stroke; opacity: 1; stroke-width: 0.5px; fill: rgb(210, 105, 30); fill-opacity: 1; stroke: rgb(229, 236, 246); stroke-opacity: 1;\"/></g><g class=\"point\"><path d=\"M368.25,292V102.86H409.75V292Z\" style=\"vector-effect: non-scaling-stroke; opacity: 1; stroke-width: 0.5px; fill: rgb(210, 105, 30); fill-opacity: 1; stroke: rgb(229, 236, 246); stroke-opacity: 1;\"/></g><g class=\"point\"><path d=\"M420.12,292V279.39H461.61V292Z\" style=\"vector-effect: non-scaling-stroke; opacity: 1; stroke-width: 0.5px; fill: rgb(210, 105, 30); fill-opacity: 1; stroke: rgb(229, 236, 246); stroke-opacity: 1;\"/></g><g class=\"point\"><path d=\"M471.99,292V191.13H513.48V292Z\" style=\"vector-effect: non-scaling-stroke; opacity: 1; stroke-width: 0.5px; fill: rgb(210, 105, 30); fill-opacity: 1; stroke: rgb(229, 236, 246); stroke-opacity: 1;\"/></g><g class=\"point\"><path d=\"M523.85,292V279.39H565.35V292Z\" style=\"vector-effect: non-scaling-stroke; opacity: 1; stroke-width: 0.5px; fill: rgb(210, 105, 30); fill-opacity: 1; stroke: rgb(229, 236, 246); stroke-opacity: 1;\"/></g><g class=\"point\"><path d=\"M575.72,292V178.52H617.21V292Z\" style=\"vector-effect: non-scaling-stroke; opacity: 1; stroke-width: 0.5px; fill: rgb(210, 105, 30); fill-opacity: 1; stroke: rgb(229, 236, 246); stroke-opacity: 1;\"/></g><g class=\"point\"><path d=\"M627.59,292V266.78H669.08V292Z\" style=\"vector-effect: non-scaling-stroke; opacity: 1; stroke-width: 0.5px; fill: rgb(210, 105, 30); fill-opacity: 1; stroke: rgb(229, 236, 246); stroke-opacity: 1;\"/></g><g class=\"point\"><path d=\"M679.45,292V266.78H720.95V292Z\" style=\"vector-effect: non-scaling-stroke; opacity: 1; stroke-width: 0.5px; fill: rgb(210, 105, 30); fill-opacity: 1; stroke: rgb(229, 236, 246); stroke-opacity: 1;\"/></g></g></g><g class=\"trace bars\" style=\"opacity: 1;\"><g class=\"points\"><g class=\"point\"><path d=\"M5.19,191.13V128.08H46.68V191.13Z\" style=\"vector-effect: non-scaling-stroke; opacity: 1; stroke-width: 0.5px; fill: rgb(255, 215, 0); fill-opacity: 1; stroke: rgb(229, 236, 246); stroke-opacity: 1;\"/></g><g class=\"point\"><path d=\"M108.92,266.78V241.56H150.41V266.78Z\" style=\"vector-effect: non-scaling-stroke; opacity: 1; stroke-width: 0.5px; fill: rgb(255, 215, 0); fill-opacity: 1; stroke: rgb(229, 236, 246); stroke-opacity: 1;\"/></g><g class=\"point\"><path d=\"M160.79,254.17V241.56H202.28V254.17Z\" style=\"vector-effect: non-scaling-stroke; opacity: 1; stroke-width: 0.5px; fill: rgb(255, 215, 0); fill-opacity: 1; stroke: rgb(229, 236, 246); stroke-opacity: 1;\"/></g><g class=\"point\"><path d=\"M264.52,266.78V254.17H306.01V266.78Z\" style=\"vector-effect: non-scaling-stroke; opacity: 1; stroke-width: 0.5px; fill: rgb(255, 215, 0); fill-opacity: 1; stroke: rgb(229, 236, 246); stroke-opacity: 1;\"/></g><g class=\"point\"><path d=\"M316.39,266.78V254.17H357.88V266.78Z\" style=\"vector-effect: non-scaling-stroke; opacity: 1; stroke-width: 0.5px; fill: rgb(255, 215, 0); fill-opacity: 1; stroke: rgb(229, 236, 246); stroke-opacity: 1;\"/></g><g class=\"point\"><path d=\"M731.32,292V279.39H772.81V292Z\" style=\"vector-effect: non-scaling-stroke; opacity: 1; stroke-width: 0.5px; fill: rgb(255, 215, 0); fill-opacity: 1; stroke: rgb(229, 236, 246); stroke-opacity: 1;\"/></g><g class=\"point\"><path d=\"M368.25,102.86V52.43H409.75V102.86Z\" style=\"vector-effect: non-scaling-stroke; opacity: 1; stroke-width: 0.5px; fill: rgb(255, 215, 0); fill-opacity: 1; stroke: rgb(229, 236, 246); stroke-opacity: 1;\"/></g><g class=\"point\"><path d=\"M471.99,191.13V102.86H513.48V191.13Z\" style=\"vector-effect: non-scaling-stroke; opacity: 1; stroke-width: 0.5px; fill: rgb(255, 215, 0); fill-opacity: 1; stroke: rgb(229, 236, 246); stroke-opacity: 1;\"/></g><g class=\"point\"><path d=\"M523.85,279.39V266.78H565.35V279.39Z\" style=\"vector-effect: non-scaling-stroke; opacity: 1; stroke-width: 0.5px; fill: rgb(255, 215, 0); fill-opacity: 1; stroke: rgb(229, 236, 246); stroke-opacity: 1;\"/></g><g class=\"point\"><path d=\"M575.72,178.52V165.91H617.21V178.52Z\" style=\"vector-effect: non-scaling-stroke; opacity: 1; stroke-width: 0.5px; fill: rgb(255, 215, 0); fill-opacity: 1; stroke: rgb(229, 236, 246); stroke-opacity: 1;\"/></g><g class=\"point\"><path d=\"M679.45,266.78V203.74H720.95V266.78Z\" style=\"vector-effect: non-scaling-stroke; opacity: 1; stroke-width: 0.5px; fill: rgb(255, 215, 0); fill-opacity: 1; stroke: rgb(229, 236, 246); stroke-opacity: 1;\"/></g></g></g><g class=\"trace bars\" style=\"opacity: 1;\"><g class=\"points\"><g class=\"point\"><path d=\"M5.19,128.08V90.25H46.68V128.08Z\" style=\"vector-effect: non-scaling-stroke; opacity: 1; stroke-width: 0.5px; fill: rgb(192, 192, 192); fill-opacity: 1; stroke: rgb(229, 236, 246); stroke-opacity: 1;\"/></g><g class=\"point\"><path d=\"M57.05,241.56V228.95H98.55V241.56Z\" style=\"vector-effect: non-scaling-stroke; opacity: 1; stroke-width: 0.5px; fill: rgb(192, 192, 192); fill-opacity: 1; stroke: rgb(229, 236, 246); stroke-opacity: 1;\"/></g><g class=\"point\"><path d=\"M108.92,241.56V165.91H150.41V241.56Z\" style=\"vector-effect: non-scaling-stroke; opacity: 1; stroke-width: 0.5px; fill: rgb(192, 192, 192); fill-opacity: 1; stroke: rgb(229, 236, 246); stroke-opacity: 1;\"/></g><g class=\"point\"><path d=\"M160.79,241.56V228.95H202.28V241.56Z\" style=\"vector-effect: non-scaling-stroke; opacity: 1; stroke-width: 0.5px; fill: rgb(192, 192, 192); fill-opacity: 1; stroke: rgb(229, 236, 246); stroke-opacity: 1;\"/></g><g class=\"point\"><path d=\"M212.65,279.39V254.17H254.15V279.39Z\" style=\"vector-effect: non-scaling-stroke; opacity: 1; stroke-width: 0.5px; fill: rgb(192, 192, 192); fill-opacity: 1; stroke: rgb(229, 236, 246); stroke-opacity: 1;\"/></g><g class=\"point\"><path d=\"M316.39,254.17V191.13H357.88V254.17Z\" style=\"vector-effect: non-scaling-stroke; opacity: 1; stroke-width: 0.5px; fill: rgb(192, 192, 192); fill-opacity: 1; stroke: rgb(229, 236, 246); stroke-opacity: 1;\"/></g><g class=\"point\"><path d=\"M731.32,279.39V254.17H772.81V279.39Z\" style=\"vector-effect: non-scaling-stroke; opacity: 1; stroke-width: 0.5px; fill: rgb(192, 192, 192); fill-opacity: 1; stroke: rgb(229, 236, 246); stroke-opacity: 1;\"/></g><g class=\"point\"><path d=\"M368.25,52.43V14.6H409.75V52.43Z\" style=\"vector-effect: non-scaling-stroke; opacity: 1; stroke-width: 0.5px; fill: rgb(192, 192, 192); fill-opacity: 1; stroke: rgb(229, 236, 246); stroke-opacity: 1;\"/></g><g class=\"point\"><path d=\"M471.99,102.86V65.04H513.48V102.86Z\" style=\"vector-effect: non-scaling-stroke; opacity: 1; stroke-width: 0.5px; fill: rgb(192, 192, 192); fill-opacity: 1; stroke: rgb(229, 236, 246); stroke-opacity: 1;\"/></g><g class=\"point\"><path d=\"M523.85,266.78V241.56H565.35V266.78Z\" style=\"vector-effect: non-scaling-stroke; opacity: 1; stroke-width: 0.5px; fill: rgb(192, 192, 192); fill-opacity: 1; stroke: rgb(229, 236, 246); stroke-opacity: 1;\"/></g><g class=\"point\"><path d=\"M575.72,165.91V115.47H617.21V165.91Z\" style=\"vector-effect: non-scaling-stroke; opacity: 1; stroke-width: 0.5px; fill: rgb(192, 192, 192); fill-opacity: 1; stroke: rgb(229, 236, 246); stroke-opacity: 1;\"/></g><g class=\"point\"><path d=\"M679.45,203.74V165.91H720.95V203.74Z\" style=\"vector-effect: non-scaling-stroke; opacity: 1; stroke-width: 0.5px; fill: rgb(192, 192, 192); fill-opacity: 1; stroke: rgb(229, 236, 246); stroke-opacity: 1;\"/></g></g></g></g></g><g class=\"overplot\"/><path class=\"xlines-above crisp\" d=\"M0,0\" style=\"fill: none;\"/><path class=\"ylines-above crisp\" d=\"M0,0\" style=\"fill: none;\"/><g class=\"overlines-above\"/><g class=\"xaxislayer-above\"><g class=\"xtick\"><text text-anchor=\"start\" x=\"0\" y=\"405\" transform=\"translate(105.93,0) rotate(30,0,399)\" style=\"font-family: 'Open Sans', verdana, arial, sans-serif; font-size: 12px; fill: rgb(42, 63, 95); fill-opacity: 1; white-space: pre; opacity: 1;\">Athletics</text></g><g class=\"xtick\"><text text-anchor=\"start\" x=\"0\" y=\"405\" transform=\"translate(157.8,0) rotate(30,0,399)\" style=\"font-family: 'Open Sans', verdana, arial, sans-serif; font-size: 12px; fill: rgb(42, 63, 95); fill-opacity: 1; white-space: pre; opacity: 1;\">Basketball</text></g><g class=\"xtick\"><text text-anchor=\"start\" x=\"0\" y=\"405\" transform=\"translate(209.67,0) rotate(30,0,399)\" style=\"font-family: 'Open Sans', verdana, arial, sans-serif; font-size: 12px; fill: rgb(42, 63, 95); fill-opacity: 1; white-space: pre; opacity: 1;\">Beach Volleyball</text></g><g class=\"xtick\"><text text-anchor=\"start\" x=\"0\" y=\"405\" transform=\"translate(261.53,0) rotate(30,0,399)\" style=\"font-family: 'Open Sans', verdana, arial, sans-serif; font-size: 12px; fill: rgb(42, 63, 95); fill-opacity: 1; white-space: pre; opacity: 1;\">Boxing</text></g><g class=\"xtick\"><text text-anchor=\"start\" x=\"0\" y=\"405\" transform=\"translate(313.4,0) rotate(30,0,399)\" style=\"font-family: 'Open Sans', verdana, arial, sans-serif; font-size: 12px; fill: rgb(42, 63, 95); fill-opacity: 1; white-space: pre; opacity: 1;\">Canoeing</text></g><g class=\"xtick\"><text text-anchor=\"start\" x=\"0\" y=\"405\" transform=\"translate(365.27,0) rotate(30,0,399)\" style=\"font-family: 'Open Sans', verdana, arial, sans-serif; font-size: 12px; fill: rgb(42, 63, 95); fill-opacity: 1; white-space: pre; opacity: 1;\">Equestrianism</text></g><g class=\"xtick\"><text text-anchor=\"start\" x=\"0\" y=\"405\" transform=\"translate(417.13,0) rotate(30,0,399)\" style=\"font-family: 'Open Sans', verdana, arial, sans-serif; font-size: 12px; fill: rgb(42, 63, 95); fill-opacity: 1; white-space: pre; opacity: 1;\">Football</text></g><g class=\"xtick\"><text text-anchor=\"start\" x=\"0\" y=\"405\" transform=\"translate(469,0) rotate(30,0,399)\" style=\"font-family: 'Open Sans', verdana, arial, sans-serif; font-size: 12px; fill: rgb(42, 63, 95); fill-opacity: 1; white-space: pre; opacity: 1;\">Judo</text></g><g class=\"xtick\"><text text-anchor=\"start\" x=\"0\" y=\"405\" transform=\"translate(520.87,0) rotate(30,0,399)\" style=\"font-family: 'Open Sans', verdana, arial, sans-serif; font-size: 12px; fill: rgb(42, 63, 95); fill-opacity: 1; white-space: pre; opacity: 1;\">Modern Pentathlon</text></g><g class=\"xtick\"><text text-anchor=\"start\" x=\"0\" y=\"405\" transform=\"translate(572.73,0) rotate(30,0,399)\" style=\"font-family: 'Open Sans', verdana, arial, sans-serif; font-size: 12px; fill: rgb(42, 63, 95); fill-opacity: 1; white-space: pre; opacity: 1;\">Sailing</text></g><g class=\"xtick\"><text text-anchor=\"start\" x=\"0\" y=\"405\" transform=\"translate(624.6,0) rotate(30,0,399)\" style=\"font-family: 'Open Sans', verdana, arial, sans-serif; font-size: 12px; fill: rgb(42, 63, 95); fill-opacity: 1; white-space: pre; opacity: 1;\">Shooting</text></g><g class=\"xtick\"><text text-anchor=\"start\" x=\"0\" y=\"405\" transform=\"translate(676.47,0) rotate(30,0,399)\" style=\"font-family: 'Open Sans', verdana, arial, sans-serif; font-size: 12px; fill: rgb(42, 63, 95); fill-opacity: 1; white-space: pre; opacity: 1;\">Swimming</text></g><g class=\"xtick\"><text text-anchor=\"start\" x=\"0\" y=\"405\" transform=\"translate(728.33,0) rotate(30,0,399)\" style=\"font-family: 'Open Sans', verdana, arial, sans-serif; font-size: 12px; fill: rgb(42, 63, 95); fill-opacity: 1; white-space: pre; opacity: 1;\">Taekwondo</text></g><g class=\"xtick\"><text text-anchor=\"start\" x=\"0\" y=\"405\" transform=\"translate(780.2,0) rotate(30,0,399)\" style=\"font-family: 'Open Sans', verdana, arial, sans-serif; font-size: 12px; fill: rgb(42, 63, 95); fill-opacity: 1; white-space: pre; opacity: 1;\">Volleyball</text></g><g class=\"xtick\"><text text-anchor=\"start\" x=\"0\" y=\"405\" transform=\"translate(832.07,0) rotate(30,0,399)\" style=\"font-family: 'Open Sans', verdana, arial, sans-serif; font-size: 12px; fill: rgb(42, 63, 95); fill-opacity: 1; white-space: pre; opacity: 1;\">Gymnastics</text></g></g><g class=\"yaxislayer-above\"><g class=\"ytick\"><text text-anchor=\"end\" x=\"79\" y=\"4.199999999999999\" transform=\"translate(0,392)\" style=\"font-family: 'Open Sans', verdana, arial, sans-serif; font-size: 12px; fill: rgb(42, 63, 95); fill-opacity: 1; white-space: pre; opacity: 1;\">0</text></g><g class=\"ytick\"><text text-anchor=\"end\" x=\"79\" y=\"4.199999999999999\" style=\"font-family: 'Open Sans', verdana, arial, sans-serif; font-size: 12px; fill: rgb(42, 63, 95); fill-opacity: 1; white-space: pre; opacity: 1;\" transform=\"translate(0,328.95)\">5</text></g><g class=\"ytick\"><text text-anchor=\"end\" x=\"79\" y=\"4.199999999999999\" style=\"font-family: 'Open Sans', verdana, arial, sans-serif; font-size: 12px; fill: rgb(42, 63, 95); fill-opacity: 1; white-space: pre; opacity: 1;\" transform=\"translate(0,265.90999999999997)\">10</text></g><g class=\"ytick\"><text text-anchor=\"end\" x=\"79\" y=\"4.199999999999999\" style=\"font-family: 'Open Sans', verdana, arial, sans-serif; font-size: 12px; fill: rgb(42, 63, 95); fill-opacity: 1; white-space: pre; opacity: 1;\" transform=\"translate(0,202.86)\">15</text></g><g class=\"ytick\"><text text-anchor=\"end\" x=\"79\" y=\"4.199999999999999\" style=\"font-family: 'Open Sans', verdana, arial, sans-serif; font-size: 12px; fill: rgb(42, 63, 95); fill-opacity: 1; white-space: pre; opacity: 1;\" transform=\"translate(0,139.82)\">20</text></g></g><g class=\"overaxes-above\"/></g></g><g class=\"polarlayer\"/><g class=\"ternarylayer\"/><g class=\"geolayer\"/><g class=\"funnelarealayer\"/><g class=\"pielayer\"/><g class=\"iciclelayer\"/><g class=\"treemaplayer\"/><g class=\"sunburstlayer\"/><g class=\"glimages\"/><defs id=\"topdefs-d0430f\"><g class=\"clips\"/><clipPath id=\"legendd0430f\"><rect width=\"114\" height=\"86\" x=\"0\" y=\"0\"/></clipPath></defs><g class=\"layer-above\"><g class=\"imagelayer\"/><g class=\"shapelayer\"/></g><g class=\"infolayer\"><g class=\"legend\" pointer-events=\"all\" transform=\"translate(873.5600000000001,100)\"><rect class=\"bg\" shape-rendering=\"crispEdges\" width=\"114\" height=\"86\" x=\"0\" y=\"0\" style=\"stroke: rgb(68, 68, 68); stroke-opacity: 1; fill: rgb(255, 255, 255); fill-opacity: 1; stroke-width: 0px;\"/><g class=\"scrollbox\" transform=\"\" clip-path=\"url(#legendd0430f)\"><text class=\"legendtitletext\" text-anchor=\"start\" x=\"2\" y=\"18.2\" style=\"font-family: 'Open Sans', verdana, arial, sans-serif; font-size: 14px; fill: rgb(42, 63, 95); fill-opacity: 1; white-space: pre;\">Cor da Medalha</text><g class=\"groups\" transform=\"\"><g class=\"traces\" transform=\"translate(0,32.7)\" style=\"opacity: 1;\"><text class=\"legendtext\" text-anchor=\"start\" x=\"40\" y=\"4.680000000000001\" style=\"font-family: 'Open Sans', verdana, arial, sans-serif; font-size: 12px; fill: rgb(42, 63, 95); fill-opacity: 1; white-space: pre;\">Bronze</text><g class=\"layers\" style=\"opacity: 1;\"><g class=\"legendfill\"/><g class=\"legendlines\"/><g class=\"legendsymbols\"><g class=\"legendpoints\"><path class=\"legendundefined\" d=\"M6,6H-6V-6H6Z\" transform=\"translate(20,0)\" style=\"stroke-width: 0.5px; fill: rgb(210, 105, 30); fill-opacity: 1; stroke: rgb(229, 236, 246); stroke-opacity: 1;\"/></g></g></g><rect class=\"legendtoggle\" x=\"0\" y=\"-9.5\" width=\"81.6875\" height=\"19\" style=\"fill: rgb(0, 0, 0); fill-opacity: 0;\"/></g></g><g class=\"groups\" transform=\"\"><g class=\"traces\" transform=\"translate(0,51.7)\" style=\"opacity: 1;\"><text class=\"legendtext\" text-anchor=\"start\" x=\"40\" y=\"4.680000000000001\" style=\"font-family: 'Open Sans', verdana, arial, sans-serif; font-size: 12px; fill: rgb(42, 63, 95); fill-opacity: 1; white-space: pre;\">Gold</text><g class=\"layers\" style=\"opacity: 1;\"><g class=\"legendfill\"/><g class=\"legendlines\"/><g class=\"legendsymbols\"><g class=\"legendpoints\"><path class=\"legendundefined\" d=\"M6,6H-6V-6H6Z\" transform=\"translate(20,0)\" style=\"stroke-width: 0.5px; fill: rgb(255, 215, 0); fill-opacity: 1; stroke: rgb(229, 236, 246); stroke-opacity: 1;\"/></g></g></g><rect class=\"legendtoggle\" x=\"0\" y=\"-9.5\" width=\"81.6875\" height=\"19\" style=\"fill: rgb(0, 0, 0); fill-opacity: 0;\"/></g></g><g class=\"groups\" transform=\"\"><g class=\"traces\" transform=\"translate(0,70.7)\" style=\"opacity: 1;\"><text class=\"legendtext\" text-anchor=\"start\" x=\"40\" y=\"4.680000000000001\" style=\"font-family: 'Open Sans', verdana, arial, sans-serif; font-size: 12px; fill: rgb(42, 63, 95); fill-opacity: 1; white-space: pre;\">Silver</text><g class=\"layers\" style=\"opacity: 1;\"><g class=\"legendfill\"/><g class=\"legendlines\"/><g class=\"legendsymbols\"><g class=\"legendpoints\"><path class=\"legendundefined\" d=\"M6,6H-6V-6H6Z\" transform=\"translate(20,0)\" style=\"stroke-width: 0.5px; fill: rgb(192, 192, 192); fill-opacity: 1; stroke: rgb(229, 236, 246); stroke-opacity: 1;\"/></g></g></g><rect class=\"legendtoggle\" x=\"0\" y=\"-9.5\" width=\"81.6875\" height=\"19\" style=\"fill: rgb(0, 0, 0); fill-opacity: 0;\"/></g></g></g><rect class=\"scrollbar\" rx=\"20\" ry=\"3\" width=\"0\" height=\"0\" x=\"0\" y=\"0\" style=\"fill: rgb(128, 139, 164); fill-opacity: 1;\"/></g><g class=\"g-gtitle\"><text class=\"gtitle\" x=\"50\" y=\"50\" text-anchor=\"start\" dy=\"0em\" style=\"font-family: 'Open Sans', verdana, arial, sans-serif; font-size: 17px; fill: rgb(42, 63, 95); opacity: 1; font-weight: normal; white-space: pre;\">Medalha por atletas brasileiros</text></g><g class=\"g-xtitle\"><text class=\"xtitle\" x=\"469\" y=\"487.848828125\" text-anchor=\"middle\" style=\"font-family: 'Open Sans', verdana, arial, sans-serif; font-size: 14px; fill: rgb(42, 63, 95); opacity: 1; font-weight: normal; white-space: pre;\">Sport</text></g><g class=\"g-ytitle\"><text class=\"ytitle\" transform=\"rotate(-90,38.934375,246)\" x=\"38.934375\" y=\"246\" text-anchor=\"middle\" style=\"font-family: 'Open Sans', verdana, arial, sans-serif; font-size: 14px; fill: rgb(42, 63, 95); opacity: 1; font-weight: normal; white-space: pre;\">Total de Medalhas</text></g></g></svg>"
          },
          "metadata": {},
          "output_type": "display_data"
        }
      ],
      "source": [
        "import plotly.express as px\n",
        "\n",
        "fig = px.bar(df_sports_med, x='Sport', y='Total de Medalhas', \n",
        "            color = 'Medal',\n",
        "            title=\"Medalha por atletas brasileiros\",\n",
        "            labels = {'Medal':'Cor da Medalha'},\n",
        "            width = 1000,\n",
        "            color_discrete_map={'Bronze': 'chocolate', \n",
        "                                                   'Silver': 'silver', \n",
        "                                                   'Gold': 'gold'})\n",
        "fig.show('svg')\n"
      ]
    },
    {
      "cell_type": "markdown",
      "metadata": {
        "id": "GZpIjvLInbil"
      },
      "source": [
        "Mais um gráfico de barras empilhadas: agora mostre os **eventos esportivos** que renderam medalhas para o Brasil.\n",
        "\n",
        "Lembrando: cada \"categoria\" dentro de um esporte é considerado um evento. Por exemplo, dentro de \"atletismo\", temos uma competição de 100m masculina, uma de 100m feminino, um revezamento 4 x 100m masculino, um revezamento 4 x 100m feminino, uma competição de 400m masculino, uma de 400m feminino, uma maratona masculina, uma maratona feminina, e assim sucessivamente."
      ]
    },
    {
      "cell_type": "markdown",
      "metadata": {},
      "source": [
        "<span style = 'color: green; font-size: 1.4em'><br> &nbsp;&nbsp;&nbsp;&nbsp;&nbsp;&nbsp;&nbsp;&nbsp; A partir do dataset *df_medalha_med*, o df_sports é gerado tirando da lista os casos de esportes coletivos via método _drop_duplicates_, portanto em esportes coletivos um atleta ganhador vai representar o todo. Ao final será gerado o dataset *df_events_med* filtrando por groupby usando o mesmo algoritmo que o item anterior analisando a relação das colunas 'Medal' e 'Events', ou seja, cruzar os dados das medalhas e enventos da olimpíada.   </span><br>"
      ]
    },
    {
      "cell_type": "code",
      "execution_count": 12,
      "metadata": {
        "id": "sohdyUannbil"
      },
      "outputs": [
        {
          "data": {
            "text/html": [
              "<div><div id=38a62e2d-442b-4f9e-89ac-0f09969dc265 style=\"display:none; background-color:#9D6CFF; color:white; width:200px; height:30px; padding-left:5px; border-radius:4px; flex-direction:row; justify-content:space-around; align-items:center;\" onmouseover=\"this.style.backgroundColor='#BA9BF8'\" onmouseout=\"this.style.backgroundColor='#9D6CFF'\" onclick=\"window.commands?.execute('create-mitosheet-from-dataframe-output');\">See Full Dataframe in Mito</div> <script> if (window.commands.hasCommand('create-mitosheet-from-dataframe-output')) document.getElementById('38a62e2d-442b-4f9e-89ac-0f09969dc265').style.display = 'flex' </script> <table border=\"1\" class=\"dataframe\">\n",
              "  <thead>\n",
              "    <tr style=\"text-align: right;\">\n",
              "      <th></th>\n",
              "      <th>Event</th>\n",
              "      <th>Medal</th>\n",
              "      <th>Total de Medalhas</th>\n",
              "    </tr>\n",
              "  </thead>\n",
              "  <tbody>\n",
              "    <tr>\n",
              "      <th>0</th>\n",
              "      <td>Athletics Men's 200 metres</td>\n",
              "      <td>Bronze</td>\n",
              "      <td>1</td>\n",
              "    </tr>\n",
              "    <tr>\n",
              "      <th>1</th>\n",
              "      <td>Athletics Men's 4 x 100 metres Relay</td>\n",
              "      <td>Bronze</td>\n",
              "      <td>2</td>\n",
              "    </tr>\n",
              "    <tr>\n",
              "      <th>2</th>\n",
              "      <td>Athletics Men's 4 x 100 metres Relay</td>\n",
              "      <td>Silver</td>\n",
              "      <td>1</td>\n",
              "    </tr>\n",
              "    <tr>\n",
              "      <th>3</th>\n",
              "      <td>Athletics Men's 800 metres</td>\n",
              "      <td>Gold</td>\n",
              "      <td>1</td>\n",
              "    </tr>\n",
              "    <tr>\n",
              "      <th>4</th>\n",
              "      <td>Athletics Men's 800 metres</td>\n",
              "      <td>Silver</td>\n",
              "      <td>1</td>\n",
              "    </tr>\n",
              "    <tr>\n",
              "      <th>...</th>\n",
              "      <td>...</td>\n",
              "      <td>...</td>\n",
              "      <td>...</td>\n",
              "    </tr>\n",
              "    <tr>\n",
              "      <th>83</th>\n",
              "      <td>Taekwondo Women's Heavyweight</td>\n",
              "      <td>Bronze</td>\n",
              "      <td>1</td>\n",
              "    </tr>\n",
              "    <tr>\n",
              "      <th>84</th>\n",
              "      <td>Volleyball Men's Volleyball</td>\n",
              "      <td>Gold</td>\n",
              "      <td>3</td>\n",
              "    </tr>\n",
              "    <tr>\n",
              "      <th>85</th>\n",
              "      <td>Volleyball Men's Volleyball</td>\n",
              "      <td>Silver</td>\n",
              "      <td>3</td>\n",
              "    </tr>\n",
              "    <tr>\n",
              "      <th>86</th>\n",
              "      <td>Volleyball Women's Volleyball</td>\n",
              "      <td>Bronze</td>\n",
              "      <td>2</td>\n",
              "    </tr>\n",
              "    <tr>\n",
              "      <th>87</th>\n",
              "      <td>Volleyball Women's Volleyball</td>\n",
              "      <td>Gold</td>\n",
              "      <td>2</td>\n",
              "    </tr>\n",
              "  </tbody>\n",
              "</table></div>"
            ],
            "text/plain": [
              "                                   Event   Medal  Total de Medalhas\n",
              "0             Athletics Men's 200 metres  Bronze                  1\n",
              "1   Athletics Men's 4 x 100 metres Relay  Bronze                  2\n",
              "2   Athletics Men's 4 x 100 metres Relay  Silver                  1\n",
              "3             Athletics Men's 800 metres    Gold                  1\n",
              "4             Athletics Men's 800 metres  Silver                  1\n",
              "..                                   ...     ...                ...\n",
              "83         Taekwondo Women's Heavyweight  Bronze                  1\n",
              "84           Volleyball Men's Volleyball    Gold                  3\n",
              "85           Volleyball Men's Volleyball  Silver                  3\n",
              "86         Volleyball Women's Volleyball  Bronze                  2\n",
              "87         Volleyball Women's Volleyball    Gold                  2\n",
              "\n",
              "[88 rows x 3 columns]"
            ]
          },
          "execution_count": 12,
          "metadata": {},
          "output_type": "execute_result"
        }
      ],
      "source": [
        "df_events=df_brasil_med.drop_duplicates(subset = ['Event','Games'])\n",
        "\n",
        "df_events_med = df_events.groupby(['Event','Medal']).size()\n",
        "\n",
        "df_events_med = df_events_med.to_frame().reset_index()\n",
        "\n",
        "\n",
        "\n",
        "\n",
        "df_events_med.rename({df_events_med.columns[2]:\"Total de Medalhas\"},\n",
        "                        inplace = True, axis = 1)\n",
        "df_events_med"
      ]
    },
    {
      "cell_type": "code",
      "execution_count": 13,
      "metadata": {},
      "outputs": [
        {
          "data": {
            "image/svg+xml": "<svg class=\"main-svg\" xmlns=\"http://www.w3.org/2000/svg\" xmlns:xlink=\"http://www.w3.org/1999/xlink\" width=\"1500\" height=\"700\" style=\"\" viewBox=\"0 0 1500 700\"><rect x=\"0\" y=\"0\" width=\"1500\" height=\"700\" style=\"fill: rgb(255, 255, 255); fill-opacity: 1;\"/><defs id=\"defs-aee400\"><g class=\"clips\"><clipPath id=\"clipaee400xyplot\" class=\"plotclip\"><rect width=\"1269\" height=\"259\"/></clipPath><clipPath class=\"axesclip\" id=\"clipaee400x\"><rect x=\"80\" y=\"0\" width=\"1269\" height=\"700\"/></clipPath><clipPath class=\"axesclip\" id=\"clipaee400y\"><rect x=\"0\" y=\"100\" width=\"1500\" height=\"259\"/></clipPath><clipPath class=\"axesclip\" id=\"clipaee400xy\"><rect x=\"80\" y=\"100\" width=\"1269\" height=\"259\"/></clipPath></g><g class=\"gradients\"/><g class=\"patterns\"/></defs><g class=\"bglayer\"><rect class=\"bg\" x=\"80\" y=\"100\" width=\"1269\" height=\"259\" style=\"fill: rgb(229, 236, 246); fill-opacity: 1; stroke-width: 0;\"/></g><g class=\"layer-below\"><g class=\"imagelayer\"/><g class=\"shapelayer\"/></g><g class=\"cartesianlayer\"><g class=\"subplot xy\"><g class=\"layer-subplot\"><g class=\"shapelayer\"/><g class=\"imagelayer\"/></g><g class=\"gridlayer\"><g class=\"x\"/><g class=\"y\"><path class=\"ygrid crisp\" transform=\"translate(0,317.99)\" d=\"M80,0h1269\" style=\"stroke: rgb(255, 255, 255); stroke-opacity: 1; stroke-width: 1px;\"/><path class=\"ygrid crisp\" transform=\"translate(0,276.98)\" d=\"M80,0h1269\" style=\"stroke: rgb(255, 255, 255); stroke-opacity: 1; stroke-width: 1px;\"/><path class=\"ygrid crisp\" transform=\"translate(0,235.98)\" d=\"M80,0h1269\" style=\"stroke: rgb(255, 255, 255); stroke-opacity: 1; stroke-width: 1px;\"/><path class=\"ygrid crisp\" transform=\"translate(0,194.97)\" d=\"M80,0h1269\" style=\"stroke: rgb(255, 255, 255); stroke-opacity: 1; stroke-width: 1px;\"/><path class=\"ygrid crisp\" transform=\"translate(0,153.96)\" d=\"M80,0h1269\" style=\"stroke: rgb(255, 255, 255); stroke-opacity: 1; stroke-width: 1px;\"/><path class=\"ygrid crisp\" transform=\"translate(0,112.95)\" d=\"M80,0h1269\" style=\"stroke: rgb(255, 255, 255); stroke-opacity: 1; stroke-width: 1px;\"/></g></g><g class=\"zerolinelayer\"><path class=\"yzl zl crisp\" transform=\"translate(0,359)\" d=\"M80,0h1269\" style=\"stroke: rgb(255, 255, 255); stroke-opacity: 1; stroke-width: 2px;\"/></g><path class=\"xlines-below\"/><path class=\"ylines-below\"/><g class=\"overlines-below\"/><g class=\"xaxislayer-below\"/><g class=\"yaxislayer-below\"/><g class=\"overaxes-below\"/><g class=\"plot\" transform=\"translate(80,100)\" clip-path=\"url(#clipaee400xyplot)\"><g class=\"barlayer mlayer\"><g class=\"trace bars\" shape-rendering=\"crispEdges\" style=\"opacity: 1;\"><g class=\"points\"><g class=\"point\"><path d=\"M2.05,259V217.99H18.42V259Z\" style=\"vector-effect: non-scaling-stroke; opacity: 1; stroke-width: 0.5px; fill: rgb(210, 105, 30); fill-opacity: 1; stroke: rgb(229, 236, 246); stroke-opacity: 1;\"/></g><g class=\"point\"><path d=\"M22.51,259V176.98H38.89V259Z\" style=\"vector-effect: non-scaling-stroke; opacity: 1; stroke-width: 0.5px; fill: rgb(210, 105, 30); fill-opacity: 1; stroke: rgb(229, 236, 246); stroke-opacity: 1;\"/></g><g class=\"point\"><path d=\"M42.98,259V217.99H59.36V259Z\" style=\"vector-effect: non-scaling-stroke; opacity: 1; stroke-width: 0.5px; fill: rgb(210, 105, 30); fill-opacity: 1; stroke: rgb(229, 236, 246); stroke-opacity: 1;\"/></g><g class=\"point\"><path d=\"M63.45,259V217.99H79.82V259Z\" style=\"vector-effect: non-scaling-stroke; opacity: 1; stroke-width: 0.5px; fill: rgb(210, 105, 30); fill-opacity: 1; stroke: rgb(229, 236, 246); stroke-opacity: 1;\"/></g><g class=\"point\"><path d=\"M83.92,259V135.98H100.29V259Z\" style=\"vector-effect: non-scaling-stroke; opacity: 1; stroke-width: 0.5px; fill: rgb(210, 105, 30); fill-opacity: 1; stroke: rgb(229, 236, 246); stroke-opacity: 1;\"/></g><g class=\"point\"><path d=\"M104.39,259V135.98H120.76V259Z\" style=\"vector-effect: non-scaling-stroke; opacity: 1; stroke-width: 0.5px; fill: rgb(210, 105, 30); fill-opacity: 1; stroke: rgb(229, 236, 246); stroke-opacity: 1;\"/></g><g class=\"point\"><path d=\"M124.85,259V217.99H141.23V259Z\" style=\"vector-effect: non-scaling-stroke; opacity: 1; stroke-width: 0.5px; fill: rgb(210, 105, 30); fill-opacity: 1; stroke: rgb(229, 236, 246); stroke-opacity: 1;\"/></g><g class=\"point\"><path d=\"M145.32,259V217.99H161.7V259Z\" style=\"vector-effect: non-scaling-stroke; opacity: 1; stroke-width: 0.5px; fill: rgb(210, 105, 30); fill-opacity: 1; stroke: rgb(229, 236, 246); stroke-opacity: 1;\"/></g><g class=\"point\"><path d=\"M165.79,259V217.99H182.16V259Z\" style=\"vector-effect: non-scaling-stroke; opacity: 1; stroke-width: 0.5px; fill: rgb(210, 105, 30); fill-opacity: 1; stroke: rgb(229, 236, 246); stroke-opacity: 1;\"/></g><g class=\"point\"><path d=\"M186.26,259V217.99H202.63V259Z\" style=\"vector-effect: non-scaling-stroke; opacity: 1; stroke-width: 0.5px; fill: rgb(210, 105, 30); fill-opacity: 1; stroke: rgb(229, 236, 246); stroke-opacity: 1;\"/></g><g class=\"point\"><path d=\"M206.72,259V217.99H223.1V259Z\" style=\"vector-effect: non-scaling-stroke; opacity: 1; stroke-width: 0.5px; fill: rgb(210, 105, 30); fill-opacity: 1; stroke: rgb(229, 236, 246); stroke-opacity: 1;\"/></g><g class=\"point\"><path d=\"M227.19,259V217.99H243.57V259Z\" style=\"vector-effect: non-scaling-stroke; opacity: 1; stroke-width: 0.5px; fill: rgb(210, 105, 30); fill-opacity: 1; stroke: rgb(229, 236, 246); stroke-opacity: 1;\"/></g><g class=\"point\"><path d=\"M247.66,259V217.99H264.03V259Z\" style=\"vector-effect: non-scaling-stroke; opacity: 1; stroke-width: 0.5px; fill: rgb(210, 105, 30); fill-opacity: 1; stroke: rgb(229, 236, 246); stroke-opacity: 1;\"/></g><g class=\"point\"><path d=\"M268.13,259V176.98H284.5V259Z\" style=\"vector-effect: non-scaling-stroke; opacity: 1; stroke-width: 0.5px; fill: rgb(210, 105, 30); fill-opacity: 1; stroke: rgb(229, 236, 246); stroke-opacity: 1;\"/></g><g class=\"point\"><path d=\"M288.6,259V176.98H304.97V259Z\" style=\"vector-effect: non-scaling-stroke; opacity: 1; stroke-width: 0.5px; fill: rgb(210, 105, 30); fill-opacity: 1; stroke: rgb(229, 236, 246); stroke-opacity: 1;\"/></g><g class=\"point\"><path d=\"M309.06,259V217.99H325.44V259Z\" style=\"vector-effect: non-scaling-stroke; opacity: 1; stroke-width: 0.5px; fill: rgb(210, 105, 30); fill-opacity: 1; stroke: rgb(229, 236, 246); stroke-opacity: 1;\"/></g><g class=\"point\"><path d=\"M329.53,259V176.98H345.9V259Z\" style=\"vector-effect: non-scaling-stroke; opacity: 1; stroke-width: 0.5px; fill: rgb(210, 105, 30); fill-opacity: 1; stroke: rgb(229, 236, 246); stroke-opacity: 1;\"/></g><g class=\"point\"><path d=\"M350,259V217.99H366.37V259Z\" style=\"vector-effect: non-scaling-stroke; opacity: 1; stroke-width: 0.5px; fill: rgb(210, 105, 30); fill-opacity: 1; stroke: rgb(229, 236, 246); stroke-opacity: 1;\"/></g><g class=\"point\"><path d=\"M370.47,259V176.98H386.84V259Z\" style=\"vector-effect: non-scaling-stroke; opacity: 1; stroke-width: 0.5px; fill: rgb(210, 105, 30); fill-opacity: 1; stroke: rgb(229, 236, 246); stroke-opacity: 1;\"/></g><g class=\"point\"><path d=\"M390.93,259V176.98H407.31V259Z\" style=\"vector-effect: non-scaling-stroke; opacity: 1; stroke-width: 0.5px; fill: rgb(210, 105, 30); fill-opacity: 1; stroke: rgb(229, 236, 246); stroke-opacity: 1;\"/></g><g class=\"point\"><path d=\"M411.4,259V135.98H427.78V259Z\" style=\"vector-effect: non-scaling-stroke; opacity: 1; stroke-width: 0.5px; fill: rgb(210, 105, 30); fill-opacity: 1; stroke: rgb(229, 236, 246); stroke-opacity: 1;\"/></g><g class=\"point\"><path d=\"M431.87,259V217.99H448.24V259Z\" style=\"vector-effect: non-scaling-stroke; opacity: 1; stroke-width: 0.5px; fill: rgb(210, 105, 30); fill-opacity: 1; stroke: rgb(229, 236, 246); stroke-opacity: 1;\"/></g><g class=\"point\"><path d=\"M452.34,259V176.98H468.71V259Z\" style=\"vector-effect: non-scaling-stroke; opacity: 1; stroke-width: 0.5px; fill: rgb(210, 105, 30); fill-opacity: 1; stroke: rgb(229, 236, 246); stroke-opacity: 1;\"/></g><g class=\"point\"><path d=\"M472.8,259V217.99H489.18V259Z\" style=\"vector-effect: non-scaling-stroke; opacity: 1; stroke-width: 0.5px; fill: rgb(210, 105, 30); fill-opacity: 1; stroke: rgb(229, 236, 246); stroke-opacity: 1;\"/></g><g class=\"point\"><path d=\"M493.27,259V217.99H509.65V259Z\" style=\"vector-effect: non-scaling-stroke; opacity: 1; stroke-width: 0.5px; fill: rgb(210, 105, 30); fill-opacity: 1; stroke: rgb(229, 236, 246); stroke-opacity: 1;\"/></g><g class=\"point\"><path d=\"M513.74,259V217.99H530.11V259Z\" style=\"vector-effect: non-scaling-stroke; opacity: 1; stroke-width: 0.5px; fill: rgb(210, 105, 30); fill-opacity: 1; stroke: rgb(229, 236, 246); stroke-opacity: 1;\"/></g><g class=\"point\"><path d=\"M534.21,259V176.98H550.58V259Z\" style=\"vector-effect: non-scaling-stroke; opacity: 1; stroke-width: 0.5px; fill: rgb(210, 105, 30); fill-opacity: 1; stroke: rgb(229, 236, 246); stroke-opacity: 1;\"/></g><g class=\"point\"><path d=\"M554.68,259V176.98H571.05V259Z\" style=\"vector-effect: non-scaling-stroke; opacity: 1; stroke-width: 0.5px; fill: rgb(210, 105, 30); fill-opacity: 1; stroke: rgb(229, 236, 246); stroke-opacity: 1;\"/></g><g class=\"point\"><path d=\"M575.14,259V176.98H591.52V259Z\" style=\"vector-effect: non-scaling-stroke; opacity: 1; stroke-width: 0.5px; fill: rgb(210, 105, 30); fill-opacity: 1; stroke: rgb(229, 236, 246); stroke-opacity: 1;\"/></g><g class=\"point\"><path d=\"M595.61,259V217.99H611.99V259Z\" style=\"vector-effect: non-scaling-stroke; opacity: 1; stroke-width: 0.5px; fill: rgb(210, 105, 30); fill-opacity: 1; stroke: rgb(229, 236, 246); stroke-opacity: 1;\"/></g><g class=\"point\"><path d=\"M616.08,259V217.99H632.45V259Z\" style=\"vector-effect: non-scaling-stroke; opacity: 1; stroke-width: 0.5px; fill: rgb(210, 105, 30); fill-opacity: 1; stroke: rgb(229, 236, 246); stroke-opacity: 1;\"/></g><g class=\"point\"><path d=\"M636.55,259V217.99H652.92V259Z\" style=\"vector-effect: non-scaling-stroke; opacity: 1; stroke-width: 0.5px; fill: rgb(210, 105, 30); fill-opacity: 1; stroke: rgb(229, 236, 246); stroke-opacity: 1;\"/></g><g class=\"point\"><path d=\"M657.01,259V135.98H673.39V259Z\" style=\"vector-effect: non-scaling-stroke; opacity: 1; stroke-width: 0.5px; fill: rgb(210, 105, 30); fill-opacity: 1; stroke: rgb(229, 236, 246); stroke-opacity: 1;\"/></g><g class=\"point\"><path d=\"M677.48,259V217.99H693.86V259Z\" style=\"vector-effect: non-scaling-stroke; opacity: 1; stroke-width: 0.5px; fill: rgb(210, 105, 30); fill-opacity: 1; stroke: rgb(229, 236, 246); stroke-opacity: 1;\"/></g><g class=\"point\"><path d=\"M697.95,259V217.99H714.32V259Z\" style=\"vector-effect: non-scaling-stroke; opacity: 1; stroke-width: 0.5px; fill: rgb(210, 105, 30); fill-opacity: 1; stroke: rgb(229, 236, 246); stroke-opacity: 1;\"/></g><g class=\"point\"><path d=\"M718.42,259V176.98H734.79V259Z\" style=\"vector-effect: non-scaling-stroke; opacity: 1; stroke-width: 0.5px; fill: rgb(210, 105, 30); fill-opacity: 1; stroke: rgb(229, 236, 246); stroke-opacity: 1;\"/></g><g class=\"point\"><path d=\"M738.89,259V217.99H755.26V259Z\" style=\"vector-effect: non-scaling-stroke; opacity: 1; stroke-width: 0.5px; fill: rgb(210, 105, 30); fill-opacity: 1; stroke: rgb(229, 236, 246); stroke-opacity: 1;\"/></g><g class=\"point\"><path d=\"M759.35,259V217.99H775.73V259Z\" style=\"vector-effect: non-scaling-stroke; opacity: 1; stroke-width: 0.5px; fill: rgb(210, 105, 30); fill-opacity: 1; stroke: rgb(229, 236, 246); stroke-opacity: 1;\"/></g><g class=\"point\"><path d=\"M779.82,259V217.99H796.2V259Z\" style=\"vector-effect: non-scaling-stroke; opacity: 1; stroke-width: 0.5px; fill: rgb(210, 105, 30); fill-opacity: 1; stroke: rgb(229, 236, 246); stroke-opacity: 1;\"/></g><g class=\"point\"><path d=\"M800.29,259V176.98H816.66V259Z\" style=\"vector-effect: non-scaling-stroke; opacity: 1; stroke-width: 0.5px; fill: rgb(210, 105, 30); fill-opacity: 1; stroke: rgb(229, 236, 246); stroke-opacity: 1;\"/></g></g></g><g class=\"trace bars\" shape-rendering=\"crispEdges\" style=\"opacity: 1;\"><g class=\"points\"><g class=\"point\"><path d=\"M22.51,176.98V135.98H38.89V176.98Z\" style=\"vector-effect: non-scaling-stroke; opacity: 1; stroke-width: 0.5px; fill: rgb(192, 192, 192); fill-opacity: 1; stroke: rgb(229, 236, 246); stroke-opacity: 1;\"/></g><g class=\"point\"><path d=\"M820.76,259V217.99H837.13V259Z\" style=\"vector-effect: non-scaling-stroke; opacity: 1; stroke-width: 0.5px; fill: rgb(192, 192, 192); fill-opacity: 1; stroke: rgb(229, 236, 246); stroke-opacity: 1;\"/></g><g class=\"point\"><path d=\"M83.92,135.98V94.97H100.29V135.98Z\" style=\"vector-effect: non-scaling-stroke; opacity: 1; stroke-width: 0.5px; fill: rgb(192, 192, 192); fill-opacity: 1; stroke: rgb(229, 236, 246); stroke-opacity: 1;\"/></g><g class=\"point\"><path d=\"M124.85,217.99V176.98H141.23V217.99Z\" style=\"vector-effect: non-scaling-stroke; opacity: 1; stroke-width: 0.5px; fill: rgb(192, 192, 192); fill-opacity: 1; stroke: rgb(229, 236, 246); stroke-opacity: 1;\"/></g><g class=\"point\"><path d=\"M145.32,217.99V135.98H161.7V217.99Z\" style=\"vector-effect: non-scaling-stroke; opacity: 1; stroke-width: 0.5px; fill: rgb(192, 192, 192); fill-opacity: 1; stroke: rgb(229, 236, 246); stroke-opacity: 1;\"/></g><g class=\"point\"><path d=\"M165.79,217.99V53.96H182.16V217.99Z\" style=\"vector-effect: non-scaling-stroke; opacity: 1; stroke-width: 0.5px; fill: rgb(192, 192, 192); fill-opacity: 1; stroke: rgb(229, 236, 246); stroke-opacity: 1;\"/></g><g class=\"point\"><path d=\"M841.22,259V217.99H857.6V259Z\" style=\"vector-effect: non-scaling-stroke; opacity: 1; stroke-width: 0.5px; fill: rgb(192, 192, 192); fill-opacity: 1; stroke: rgb(229, 236, 246); stroke-opacity: 1;\"/></g><g class=\"point\"><path d=\"M861.69,259V217.99H878.07V259Z\" style=\"vector-effect: non-scaling-stroke; opacity: 1; stroke-width: 0.5px; fill: rgb(192, 192, 192); fill-opacity: 1; stroke: rgb(229, 236, 246); stroke-opacity: 1;\"/></g><g class=\"point\"><path d=\"M882.16,259V217.99H898.53V259Z\" style=\"vector-effect: non-scaling-stroke; opacity: 1; stroke-width: 0.5px; fill: rgb(192, 192, 192); fill-opacity: 1; stroke: rgb(229, 236, 246); stroke-opacity: 1;\"/></g><g class=\"point\"><path d=\"M288.6,176.98V53.96H304.97V176.98Z\" style=\"vector-effect: non-scaling-stroke; opacity: 1; stroke-width: 0.5px; fill: rgb(192, 192, 192); fill-opacity: 1; stroke: rgb(229, 236, 246); stroke-opacity: 1;\"/></g><g class=\"point\"><path d=\"M902.63,259V176.98H919V259Z\" style=\"vector-effect: non-scaling-stroke; opacity: 1; stroke-width: 0.5px; fill: rgb(192, 192, 192); fill-opacity: 1; stroke: rgb(229, 236, 246); stroke-opacity: 1;\"/></g><g class=\"point\"><path d=\"M923.1,259V217.99H939.47V259Z\" style=\"vector-effect: non-scaling-stroke; opacity: 1; stroke-width: 0.5px; fill: rgb(192, 192, 192); fill-opacity: 1; stroke: rgb(229, 236, 246); stroke-opacity: 1;\"/></g><g class=\"point\"><path d=\"M943.56,259V217.99H959.94V259Z\" style=\"vector-effect: non-scaling-stroke; opacity: 1; stroke-width: 0.5px; fill: rgb(192, 192, 192); fill-opacity: 1; stroke: rgb(229, 236, 246); stroke-opacity: 1;\"/></g><g class=\"point\"><path d=\"M329.53,176.98V135.98H345.9V176.98Z\" style=\"vector-effect: non-scaling-stroke; opacity: 1; stroke-width: 0.5px; fill: rgb(192, 192, 192); fill-opacity: 1; stroke: rgb(229, 236, 246); stroke-opacity: 1;\"/></g><g class=\"point\"><path d=\"M411.4,135.98V94.97H427.78V135.98Z\" style=\"vector-effect: non-scaling-stroke; opacity: 1; stroke-width: 0.5px; fill: rgb(192, 192, 192); fill-opacity: 1; stroke: rgb(229, 236, 246); stroke-opacity: 1;\"/></g><g class=\"point\"><path d=\"M431.87,217.99V176.98H448.24V217.99Z\" style=\"vector-effect: non-scaling-stroke; opacity: 1; stroke-width: 0.5px; fill: rgb(192, 192, 192); fill-opacity: 1; stroke: rgb(229, 236, 246); stroke-opacity: 1;\"/></g><g class=\"point\"><path d=\"M513.74,217.99V176.98H530.11V217.99Z\" style=\"vector-effect: non-scaling-stroke; opacity: 1; stroke-width: 0.5px; fill: rgb(192, 192, 192); fill-opacity: 1; stroke: rgb(229, 236, 246); stroke-opacity: 1;\"/></g><g class=\"point\"><path d=\"M964.03,259V217.99H980.4V259Z\" style=\"vector-effect: non-scaling-stroke; opacity: 1; stroke-width: 0.5px; fill: rgb(192, 192, 192); fill-opacity: 1; stroke: rgb(229, 236, 246); stroke-opacity: 1;\"/></g><g class=\"point\"><path d=\"M984.5,259V217.99H1000.87V259Z\" style=\"vector-effect: non-scaling-stroke; opacity: 1; stroke-width: 0.5px; fill: rgb(192, 192, 192); fill-opacity: 1; stroke: rgb(229, 236, 246); stroke-opacity: 1;\"/></g><g class=\"point\"><path d=\"M1004.97,259V217.99H1021.34V259Z\" style=\"vector-effect: non-scaling-stroke; opacity: 1; stroke-width: 0.5px; fill: rgb(192, 192, 192); fill-opacity: 1; stroke: rgb(229, 236, 246); stroke-opacity: 1;\"/></g><g class=\"point\"><path d=\"M1025.43,259V217.99H1041.81V259Z\" style=\"vector-effect: non-scaling-stroke; opacity: 1; stroke-width: 0.5px; fill: rgb(192, 192, 192); fill-opacity: 1; stroke: rgb(229, 236, 246); stroke-opacity: 1;\"/></g><g class=\"point\"><path d=\"M657.01,135.98V94.97H673.39V135.98Z\" style=\"vector-effect: non-scaling-stroke; opacity: 1; stroke-width: 0.5px; fill: rgb(192, 192, 192); fill-opacity: 1; stroke: rgb(229, 236, 246); stroke-opacity: 1;\"/></g><g class=\"point\"><path d=\"M1045.9,259V217.99H1062.28V259Z\" style=\"vector-effect: non-scaling-stroke; opacity: 1; stroke-width: 0.5px; fill: rgb(192, 192, 192); fill-opacity: 1; stroke: rgb(229, 236, 246); stroke-opacity: 1;\"/></g><g class=\"point\"><path d=\"M1066.37,259V176.98H1082.74V259Z\" style=\"vector-effect: non-scaling-stroke; opacity: 1; stroke-width: 0.5px; fill: rgb(192, 192, 192); fill-opacity: 1; stroke: rgb(229, 236, 246); stroke-opacity: 1;\"/></g><g class=\"point\"><path d=\"M1086.84,259V135.98H1103.21V259Z\" style=\"vector-effect: non-scaling-stroke; opacity: 1; stroke-width: 0.5px; fill: rgb(192, 192, 192); fill-opacity: 1; stroke: rgb(229, 236, 246); stroke-opacity: 1;\"/></g></g></g><g class=\"trace bars\" shape-rendering=\"crispEdges\" style=\"opacity: 1;\"><g class=\"points\"><g class=\"point\"><path d=\"M820.76,217.99V176.98H837.13V217.99Z\" style=\"vector-effect: non-scaling-stroke; opacity: 1; stroke-width: 0.5px; fill: rgb(255, 215, 0); fill-opacity: 1; stroke: rgb(229, 236, 246); stroke-opacity: 1;\"/></g><g class=\"point\"><path d=\"M1107.3,259V217.99H1123.68V259Z\" style=\"vector-effect: non-scaling-stroke; opacity: 1; stroke-width: 0.5px; fill: rgb(255, 215, 0); fill-opacity: 1; stroke: rgb(229, 236, 246); stroke-opacity: 1;\"/></g><g class=\"point\"><path d=\"M83.92,94.97V12.95H100.29V94.97Z\" style=\"vector-effect: non-scaling-stroke; opacity: 1; stroke-width: 0.5px; fill: rgb(255, 215, 0); fill-opacity: 1; stroke: rgb(229, 236, 246); stroke-opacity: 1;\"/></g><g class=\"point\"><path d=\"M1127.77,259V217.99H1144.15V259Z\" style=\"vector-effect: non-scaling-stroke; opacity: 1; stroke-width: 0.5px; fill: rgb(255, 215, 0); fill-opacity: 1; stroke: rgb(229, 236, 246); stroke-opacity: 1;\"/></g><g class=\"point\"><path d=\"M145.32,135.98V53.96H161.7V135.98Z\" style=\"vector-effect: non-scaling-stroke; opacity: 1; stroke-width: 0.5px; fill: rgb(255, 215, 0); fill-opacity: 1; stroke: rgb(229, 236, 246); stroke-opacity: 1;\"/></g><g class=\"point\"><path d=\"M1148.24,259V217.99H1164.61V259Z\" style=\"vector-effect: non-scaling-stroke; opacity: 1; stroke-width: 0.5px; fill: rgb(255, 215, 0); fill-opacity: 1; stroke: rgb(229, 236, 246); stroke-opacity: 1;\"/></g><g class=\"point\"><path d=\"M1168.71,259V217.99H1185.08V259Z\" style=\"vector-effect: non-scaling-stroke; opacity: 1; stroke-width: 0.5px; fill: rgb(255, 215, 0); fill-opacity: 1; stroke: rgb(229, 236, 246); stroke-opacity: 1;\"/></g><g class=\"point\"><path d=\"M288.6,53.96V12.95H304.97V53.96Z\" style=\"vector-effect: non-scaling-stroke; opacity: 1; stroke-width: 0.5px; fill: rgb(255, 215, 0); fill-opacity: 1; stroke: rgb(229, 236, 246); stroke-opacity: 1;\"/></g><g class=\"point\"><path d=\"M943.56,217.99V176.98H959.94V217.99Z\" style=\"vector-effect: non-scaling-stroke; opacity: 1; stroke-width: 0.5px; fill: rgb(255, 215, 0); fill-opacity: 1; stroke: rgb(229, 236, 246); stroke-opacity: 1;\"/></g><g class=\"point\"><path d=\"M329.53,135.98V94.97H345.9V135.98Z\" style=\"vector-effect: non-scaling-stroke; opacity: 1; stroke-width: 0.5px; fill: rgb(255, 215, 0); fill-opacity: 1; stroke: rgb(229, 236, 246); stroke-opacity: 1;\"/></g><g class=\"point\"><path d=\"M350,217.99V176.98H366.37V217.99Z\" style=\"vector-effect: non-scaling-stroke; opacity: 1; stroke-width: 0.5px; fill: rgb(255, 215, 0); fill-opacity: 1; stroke: rgb(229, 236, 246); stroke-opacity: 1;\"/></g><g class=\"point\"><path d=\"M1189.18,259V217.99H1205.55V259Z\" style=\"vector-effect: non-scaling-stroke; opacity: 1; stroke-width: 0.5px; fill: rgb(255, 215, 0); fill-opacity: 1; stroke: rgb(229, 236, 246); stroke-opacity: 1;\"/></g><g class=\"point\"><path d=\"M472.8,217.99V176.98H489.18V217.99Z\" style=\"vector-effect: non-scaling-stroke; opacity: 1; stroke-width: 0.5px; fill: rgb(255, 215, 0); fill-opacity: 1; stroke: rgb(229, 236, 246); stroke-opacity: 1;\"/></g><g class=\"point\"><path d=\"M513.74,176.98V135.98H530.11V176.98Z\" style=\"vector-effect: non-scaling-stroke; opacity: 1; stroke-width: 0.5px; fill: rgb(255, 215, 0); fill-opacity: 1; stroke: rgb(229, 236, 246); stroke-opacity: 1;\"/></g><g class=\"point\"><path d=\"M534.21,176.98V135.98H550.58V176.98Z\" style=\"vector-effect: non-scaling-stroke; opacity: 1; stroke-width: 0.5px; fill: rgb(255, 215, 0); fill-opacity: 1; stroke: rgb(229, 236, 246); stroke-opacity: 1;\"/></g><g class=\"point\"><path d=\"M964.03,217.99V135.98H980.4V217.99Z\" style=\"vector-effect: non-scaling-stroke; opacity: 1; stroke-width: 0.5px; fill: rgb(255, 215, 0); fill-opacity: 1; stroke: rgb(229, 236, 246); stroke-opacity: 1;\"/></g><g class=\"point\"><path d=\"M1209.64,259V217.99H1226.02V259Z\" style=\"vector-effect: non-scaling-stroke; opacity: 1; stroke-width: 0.5px; fill: rgb(255, 215, 0); fill-opacity: 1; stroke: rgb(229, 236, 246); stroke-opacity: 1;\"/></g><g class=\"point\"><path d=\"M575.14,176.98V135.98H591.52V176.98Z\" style=\"vector-effect: non-scaling-stroke; opacity: 1; stroke-width: 0.5px; fill: rgb(255, 215, 0); fill-opacity: 1; stroke: rgb(229, 236, 246); stroke-opacity: 1;\"/></g><g class=\"point\"><path d=\"M1230.11,259V217.99H1246.49V259Z\" style=\"vector-effect: non-scaling-stroke; opacity: 1; stroke-width: 0.5px; fill: rgb(255, 215, 0); fill-opacity: 1; stroke: rgb(229, 236, 246); stroke-opacity: 1;\"/></g><g class=\"point\"><path d=\"M1250.58,259V217.99H1266.95V259Z\" style=\"vector-effect: non-scaling-stroke; opacity: 1; stroke-width: 0.5px; fill: rgb(255, 215, 0); fill-opacity: 1; stroke: rgb(229, 236, 246); stroke-opacity: 1;\"/></g><g class=\"point\"><path d=\"M718.42,176.98V135.98H734.79V176.98Z\" style=\"vector-effect: non-scaling-stroke; opacity: 1; stroke-width: 0.5px; fill: rgb(255, 215, 0); fill-opacity: 1; stroke: rgb(229, 236, 246); stroke-opacity: 1;\"/></g><g class=\"point\"><path d=\"M1086.84,135.98V12.95H1103.21V135.98Z\" style=\"vector-effect: non-scaling-stroke; opacity: 1; stroke-width: 0.5px; fill: rgb(255, 215, 0); fill-opacity: 1; stroke: rgb(229, 236, 246); stroke-opacity: 1;\"/></g><g class=\"point\"><path d=\"M800.29,176.98V94.97H816.66V176.98Z\" style=\"vector-effect: non-scaling-stroke; opacity: 1; stroke-width: 0.5px; fill: rgb(255, 215, 0); fill-opacity: 1; stroke: rgb(229, 236, 246); stroke-opacity: 1;\"/></g></g></g></g></g><g class=\"overplot\"/><path class=\"xlines-above crisp\" d=\"M0,0\" style=\"fill: none;\"/><path class=\"ylines-above crisp\" d=\"M0,0\" style=\"fill: none;\"/><g class=\"overlines-above\"/><g class=\"xaxislayer-above\"><g class=\"xtick\"><text text-anchor=\"start\" x=\"0\" y=\"372\" transform=\"translate(90.23,0) rotate(90,0,366)\" style=\"font-family: 'Open Sans', verdana, arial, sans-serif; font-size: 12px; fill: rgb(42, 63, 95); fill-opacity: 1; white-space: pre; opacity: 1;\">Athletics Men's 200 metres</text></g><g class=\"xtick\"><text text-anchor=\"start\" x=\"0\" y=\"372\" transform=\"translate(110.7,0) rotate(90,0,366)\" style=\"font-family: 'Open Sans', verdana, arial, sans-serif; font-size: 12px; fill: rgb(42, 63, 95); fill-opacity: 1; white-space: pre; opacity: 1;\">Athletics Men's 4 x 100 metres Relay</text></g><g class=\"xtick\"><text text-anchor=\"start\" x=\"0\" y=\"372\" transform=\"translate(131.17000000000002,0) rotate(90,0,366)\" style=\"font-family: 'Open Sans', verdana, arial, sans-serif; font-size: 12px; fill: rgb(42, 63, 95); fill-opacity: 1; white-space: pre; opacity: 1;\">Athletics Men's High Jump</text></g><g class=\"xtick\"><text text-anchor=\"start\" x=\"0\" y=\"372\" transform=\"translate(151.64,0) rotate(90,0,366)\" style=\"font-family: 'Open Sans', verdana, arial, sans-serif; font-size: 12px; fill: rgb(42, 63, 95); fill-opacity: 1; white-space: pre; opacity: 1;\">Athletics Men's Marathon</text></g><g class=\"xtick\"><text text-anchor=\"start\" x=\"0\" y=\"372\" transform=\"translate(172.1,0) rotate(90,0,366)\" style=\"font-family: 'Open Sans', verdana, arial, sans-serif; font-size: 12px; fill: rgb(42, 63, 95); fill-opacity: 1; white-space: pre; opacity: 1;\">Athletics Men's Triple Jump</text></g><g class=\"xtick\"><text text-anchor=\"start\" x=\"0\" y=\"372\" transform=\"translate(192.57,0) rotate(90,0,366)\" style=\"font-family: 'Open Sans', verdana, arial, sans-serif; font-size: 12px; fill: rgb(42, 63, 95); fill-opacity: 1; white-space: pre; opacity: 1;\">Basketball Men's Basketball</text></g><g class=\"xtick\"><text text-anchor=\"start\" x=\"0\" y=\"372\" transform=\"translate(213.04,0) rotate(90,0,366)\" style=\"font-family: 'Open Sans', verdana, arial, sans-serif; font-size: 12px; fill: rgb(42, 63, 95); fill-opacity: 1; white-space: pre; opacity: 1;\">Basketball Women's Basketball</text></g><g class=\"xtick\"><text text-anchor=\"start\" x=\"0\" y=\"372\" transform=\"translate(233.51,0) rotate(90,0,366)\" style=\"font-family: 'Open Sans', verdana, arial, sans-serif; font-size: 12px; fill: rgb(42, 63, 95); fill-opacity: 1; white-space: pre; opacity: 1;\">Beach Volleyball Men's Beach Volleyball</text></g><g class=\"xtick\"><text text-anchor=\"start\" x=\"0\" y=\"372\" transform=\"translate(253.98,0) rotate(90,0,366)\" style=\"font-family: 'Open Sans', verdana, arial, sans-serif; font-size: 12px; fill: rgb(42, 63, 95); fill-opacity: 1; white-space: pre; opacity: 1;\">Beach Volleyball Women's Beach Volleyball</text></g><g class=\"xtick\"><text text-anchor=\"start\" x=\"0\" y=\"372\" transform=\"translate(274.44,0) rotate(90,0,366)\" style=\"font-family: 'Open Sans', verdana, arial, sans-serif; font-size: 12px; fill: rgb(42, 63, 95); fill-opacity: 1; white-space: pre; opacity: 1;\">Boxing Men's Flyweight</text></g><g class=\"xtick\"><text text-anchor=\"start\" x=\"0\" y=\"372\" transform=\"translate(294.90999999999997,0) rotate(90,0,366)\" style=\"font-family: 'Open Sans', verdana, arial, sans-serif; font-size: 12px; fill: rgb(42, 63, 95); fill-opacity: 1; white-space: pre; opacity: 1;\">Boxing Men's Light-Heavyweight</text></g><g class=\"xtick\"><text text-anchor=\"start\" x=\"0\" y=\"372\" transform=\"translate(315.38,0) rotate(90,0,366)\" style=\"font-family: 'Open Sans', verdana, arial, sans-serif; font-size: 12px; fill: rgb(42, 63, 95); fill-opacity: 1; white-space: pre; opacity: 1;\">Boxing Women's Lightweight</text></g><g class=\"xtick\"><text text-anchor=\"start\" x=\"0\" y=\"372\" transform=\"translate(335.85,0) rotate(90,0,366)\" style=\"font-family: 'Open Sans', verdana, arial, sans-serif; font-size: 12px; fill: rgb(42, 63, 95); fill-opacity: 1; white-space: pre; opacity: 1;\">Canoeing Men's Canadian Singles, 200 metres</text></g><g class=\"xtick\"><text text-anchor=\"start\" x=\"0\" y=\"372\" transform=\"translate(356.31,0) rotate(90,0,366)\" style=\"font-family: 'Open Sans', verdana, arial, sans-serif; font-size: 12px; fill: rgb(42, 63, 95); fill-opacity: 1; white-space: pre; opacity: 1;\">Equestrianism Mixed Jumping, Team</text></g><g class=\"xtick\"><text text-anchor=\"start\" x=\"0\" y=\"372\" transform=\"translate(376.78,0) rotate(90,0,366)\" style=\"font-family: 'Open Sans', verdana, arial, sans-serif; font-size: 12px; fill: rgb(42, 63, 95); fill-opacity: 1; white-space: pre; opacity: 1;\">Football Men's Football</text></g><g class=\"xtick\"><text text-anchor=\"start\" x=\"0\" y=\"372\" transform=\"translate(397.25,0) rotate(90,0,366)\" style=\"font-family: 'Open Sans', verdana, arial, sans-serif; font-size: 12px; fill: rgb(42, 63, 95); fill-opacity: 1; white-space: pre; opacity: 1;\">Judo Men's Extra-Lightweight</text></g><g class=\"xtick\"><text text-anchor=\"start\" x=\"0\" y=\"372\" transform=\"translate(417.72,0) rotate(90,0,366)\" style=\"font-family: 'Open Sans', verdana, arial, sans-serif; font-size: 12px; fill: rgb(42, 63, 95); fill-opacity: 1; white-space: pre; opacity: 1;\">Judo Men's Half-Heavyweight</text></g><g class=\"xtick\"><text text-anchor=\"start\" x=\"0\" y=\"372\" transform=\"translate(438.19,0) rotate(90,0,366)\" style=\"font-family: 'Open Sans', verdana, arial, sans-serif; font-size: 12px; fill: rgb(42, 63, 95); fill-opacity: 1; white-space: pre; opacity: 1;\">Judo Men's Half-Lightweight</text></g><g class=\"xtick\"><text text-anchor=\"start\" x=\"0\" y=\"372\" transform=\"translate(458.65,0) rotate(90,0,366)\" style=\"font-family: 'Open Sans', verdana, arial, sans-serif; font-size: 12px; fill: rgb(42, 63, 95); fill-opacity: 1; white-space: pre; opacity: 1;\">Judo Men's Half-Middleweight</text></g><g class=\"xtick\"><text text-anchor=\"start\" x=\"0\" y=\"372\" transform=\"translate(479.12,0) rotate(90,0,366)\" style=\"font-family: 'Open Sans', verdana, arial, sans-serif; font-size: 12px; fill: rgb(42, 63, 95); fill-opacity: 1; white-space: pre; opacity: 1;\">Judo Men's Heavyweight</text></g><g class=\"xtick\"><text text-anchor=\"start\" x=\"0\" y=\"372\" transform=\"translate(499.59,0) rotate(90,0,366)\" style=\"font-family: 'Open Sans', verdana, arial, sans-serif; font-size: 12px; fill: rgb(42, 63, 95); fill-opacity: 1; white-space: pre; opacity: 1;\">Judo Men's Lightweight</text></g><g class=\"xtick\"><text text-anchor=\"start\" x=\"0\" y=\"372\" transform=\"translate(520.06,0) rotate(90,0,366)\" style=\"font-family: 'Open Sans', verdana, arial, sans-serif; font-size: 12px; fill: rgb(42, 63, 95); fill-opacity: 1; white-space: pre; opacity: 1;\">Judo Men's Middleweight</text></g><g class=\"xtick\"><text text-anchor=\"start\" x=\"0\" y=\"372\" transform=\"translate(540.52,0) rotate(90,0,366)\" style=\"font-family: 'Open Sans', verdana, arial, sans-serif; font-size: 12px; fill: rgb(42, 63, 95); fill-opacity: 1; white-space: pre; opacity: 1;\">Judo Women's Half-Heavyweight</text></g><g class=\"xtick\"><text text-anchor=\"start\" x=\"0\" y=\"372\" transform=\"translate(560.99,0) rotate(90,0,366)\" style=\"font-family: 'Open Sans', verdana, arial, sans-serif; font-size: 12px; fill: rgb(42, 63, 95); fill-opacity: 1; white-space: pre; opacity: 1;\">Judo Women's Lightweight</text></g><g class=\"xtick\"><text text-anchor=\"start\" x=\"0\" y=\"372\" transform=\"translate(581.46,0) rotate(90,0,366)\" style=\"font-family: 'Open Sans', verdana, arial, sans-serif; font-size: 12px; fill: rgb(42, 63, 95); fill-opacity: 1; white-space: pre; opacity: 1;\">Modern Pentathlon Women's Individual</text></g><g class=\"xtick\"><text text-anchor=\"start\" x=\"0\" y=\"372\" transform=\"translate(601.93,0) rotate(90,0,366)\" style=\"font-family: 'Open Sans', verdana, arial, sans-serif; font-size: 12px; fill: rgb(42, 63, 95); fill-opacity: 1; white-space: pre; opacity: 1;\">Sailing Men's Two Person Keelboat</text></g><g class=\"xtick\"><text text-anchor=\"start\" x=\"0\" y=\"372\" transform=\"translate(622.4,0) rotate(90,0,366)\" style=\"font-family: 'Open Sans', verdana, arial, sans-serif; font-size: 12px; fill: rgb(42, 63, 95); fill-opacity: 1; white-space: pre; opacity: 1;\">Sailing Mixed Multihull</text></g><g class=\"xtick\"><text text-anchor=\"start\" x=\"0\" y=\"372\" transform=\"translate(642.86,0) rotate(90,0,366)\" style=\"font-family: 'Open Sans', verdana, arial, sans-serif; font-size: 12px; fill: rgb(42, 63, 95); fill-opacity: 1; white-space: pre; opacity: 1;\">Sailing Mixed Two Person Heavyweight Dinghy</text></g><g class=\"xtick\"><text text-anchor=\"start\" x=\"0\" y=\"372\" transform=\"translate(663.33,0) rotate(90,0,366)\" style=\"font-family: 'Open Sans', verdana, arial, sans-serif; font-size: 12px; fill: rgb(42, 63, 95); fill-opacity: 1; white-space: pre; opacity: 1;\">Sailing Mixed Two Person Keelboat</text></g><g class=\"xtick\"><text text-anchor=\"start\" x=\"0\" y=\"372\" transform=\"translate(683.8,0) rotate(90,0,366)\" style=\"font-family: 'Open Sans', verdana, arial, sans-serif; font-size: 12px; fill: rgb(42, 63, 95); fill-opacity: 1; white-space: pre; opacity: 1;\">Sailing Women's Two Person Dinghy</text></g><g class=\"xtick\"><text text-anchor=\"start\" x=\"0\" y=\"372\" transform=\"translate(704.27,0) rotate(90,0,366)\" style=\"font-family: 'Open Sans', verdana, arial, sans-serif; font-size: 12px; fill: rgb(42, 63, 95); fill-opacity: 1; white-space: pre; opacity: 1;\">Shooting Men's Free Pistol, 50 metres, Team</text></g><g class=\"xtick\"><text text-anchor=\"start\" x=\"0\" y=\"372\" transform=\"translate(724.73,0) rotate(90,0,366)\" style=\"font-family: 'Open Sans', verdana, arial, sans-serif; font-size: 12px; fill: rgb(42, 63, 95); fill-opacity: 1; white-space: pre; opacity: 1;\">Swimming Men's 1,500 metres Freestyle</text></g><g class=\"xtick\"><text text-anchor=\"start\" x=\"0\" y=\"372\" transform=\"translate(745.2,0) rotate(90,0,366)\" style=\"font-family: 'Open Sans', verdana, arial, sans-serif; font-size: 12px; fill: rgb(42, 63, 95); fill-opacity: 1; white-space: pre; opacity: 1;\">Swimming Men's 100 metres Freestyle</text></g><g class=\"xtick\"><text text-anchor=\"start\" x=\"0\" y=\"372\" transform=\"translate(765.67,0) rotate(90,0,366)\" style=\"font-family: 'Open Sans', verdana, arial, sans-serif; font-size: 12px; fill: rgb(42, 63, 95); fill-opacity: 1; white-space: pre; opacity: 1;\">Swimming Men's 4 x 100 metres Freestyle Relay</text></g><g class=\"xtick\"><text text-anchor=\"start\" x=\"0\" y=\"372\" transform=\"translate(786.14,0) rotate(90,0,366)\" style=\"font-family: 'Open Sans', verdana, arial, sans-serif; font-size: 12px; fill: rgb(42, 63, 95); fill-opacity: 1; white-space: pre; opacity: 1;\">Swimming Men's 4 x 200 metres Freestyle Relay</text></g><g class=\"xtick\"><text text-anchor=\"start\" x=\"0\" y=\"372\" transform=\"translate(806.6,0) rotate(90,0,366)\" style=\"font-family: 'Open Sans', verdana, arial, sans-serif; font-size: 12px; fill: rgb(42, 63, 95); fill-opacity: 1; white-space: pre; opacity: 1;\">Swimming Men's 50 metres Freestyle</text></g><g class=\"xtick\"><text text-anchor=\"start\" x=\"0\" y=\"372\" transform=\"translate(827.07,0) rotate(90,0,366)\" style=\"font-family: 'Open Sans', verdana, arial, sans-serif; font-size: 12px; fill: rgb(42, 63, 95); fill-opacity: 1; white-space: pre; opacity: 1;\">Swimming Women's 10 kilometres Open Water</text></g><g class=\"xtick\"><text text-anchor=\"start\" x=\"0\" y=\"372\" transform=\"translate(847.54,0) rotate(90,0,366)\" style=\"font-family: 'Open Sans', verdana, arial, sans-serif; font-size: 12px; fill: rgb(42, 63, 95); fill-opacity: 1; white-space: pre; opacity: 1;\">Taekwondo Men's Heavyweight</text></g><g class=\"xtick\"><text text-anchor=\"start\" x=\"0\" y=\"372\" transform=\"translate(868.01,0) rotate(90,0,366)\" style=\"font-family: 'Open Sans', verdana, arial, sans-serif; font-size: 12px; fill: rgb(42, 63, 95); fill-opacity: 1; white-space: pre; opacity: 1;\">Taekwondo Women's Heavyweight</text></g><g class=\"xtick\"><text text-anchor=\"start\" x=\"0\" y=\"372\" transform=\"translate(888.48,0) rotate(90,0,366)\" style=\"font-family: 'Open Sans', verdana, arial, sans-serif; font-size: 12px; fill: rgb(42, 63, 95); fill-opacity: 1; white-space: pre; opacity: 1;\">Volleyball Women's Volleyball</text></g><g class=\"xtick\"><text text-anchor=\"start\" x=\"0\" y=\"372\" transform=\"translate(908.94,0) rotate(90,0,366)\" style=\"font-family: 'Open Sans', verdana, arial, sans-serif; font-size: 12px; fill: rgb(42, 63, 95); fill-opacity: 1; white-space: pre; opacity: 1;\">Athletics Men's 800 metres</text></g><g class=\"xtick\"><text text-anchor=\"start\" x=\"0\" y=\"372\" transform=\"translate(929.41,0) rotate(90,0,366)\" style=\"font-family: 'Open Sans', verdana, arial, sans-serif; font-size: 12px; fill: rgb(42, 63, 95); fill-opacity: 1; white-space: pre; opacity: 1;\">Boxing Men's Middleweight</text></g><g class=\"xtick\"><text text-anchor=\"start\" x=\"0\" y=\"372\" transform=\"translate(949.88,0) rotate(90,0,366)\" style=\"font-family: 'Open Sans', verdana, arial, sans-serif; font-size: 12px; fill: rgb(42, 63, 95); fill-opacity: 1; white-space: pre; opacity: 1;\">Canoeing Men's Canadian Doubles, 1,000 metres</text></g><g class=\"xtick\"><text text-anchor=\"start\" x=\"0\" y=\"372\" transform=\"translate(970.35,0) rotate(90,0,366)\" style=\"font-family: 'Open Sans', verdana, arial, sans-serif; font-size: 12px; fill: rgb(42, 63, 95); fill-opacity: 1; white-space: pre; opacity: 1;\">Canoeing Men's Canadian Singles, 1,000 metres</text></g><g class=\"xtick\"><text text-anchor=\"start\" x=\"0\" y=\"372\" transform=\"translate(990.81,0) rotate(90,0,366)\" style=\"font-family: 'Open Sans', verdana, arial, sans-serif; font-size: 12px; fill: rgb(42, 63, 95); fill-opacity: 1; white-space: pre; opacity: 1;\">Football Women's Football</text></g><g class=\"xtick\"><text text-anchor=\"start\" x=\"0\" y=\"372\" transform=\"translate(1011.28,0) rotate(90,0,366)\" style=\"font-family: 'Open Sans', verdana, arial, sans-serif; font-size: 12px; fill: rgb(42, 63, 95); fill-opacity: 1; white-space: pre; opacity: 1;\">Gymnastics Men's Floor Exercise</text></g><g class=\"xtick\"><text text-anchor=\"start\" x=\"0\" y=\"372\" transform=\"translate(1031.75,0) rotate(90,0,366)\" style=\"font-family: 'Open Sans', verdana, arial, sans-serif; font-size: 12px; fill: rgb(42, 63, 95); fill-opacity: 1; white-space: pre; opacity: 1;\">Gymnastics Men's Rings</text></g><g class=\"xtick\"><text text-anchor=\"start\" x=\"0\" y=\"372\" transform=\"translate(1052.22,0) rotate(90,0,366)\" style=\"font-family: 'Open Sans', verdana, arial, sans-serif; font-size: 12px; fill: rgb(42, 63, 95); fill-opacity: 1; white-space: pre; opacity: 1;\">Sailing Mixed One Person Dinghy</text></g><g class=\"xtick\"><text text-anchor=\"start\" x=\"0\" y=\"372\" transform=\"translate(1072.69,0) rotate(90,0,366)\" style=\"font-family: 'Open Sans', verdana, arial, sans-serif; font-size: 12px; fill: rgb(42, 63, 95); fill-opacity: 1; white-space: pre; opacity: 1;\">Sailing Mixed Three Person Keelboat</text></g><g class=\"xtick\"><text text-anchor=\"start\" x=\"0\" y=\"372\" transform=\"translate(1093.15,0) rotate(90,0,366)\" style=\"font-family: 'Open Sans', verdana, arial, sans-serif; font-size: 12px; fill: rgb(42, 63, 95); fill-opacity: 1; white-space: pre; opacity: 1;\">Shooting Men's Air Pistol, 10 metres</text></g><g class=\"xtick\"><text text-anchor=\"start\" x=\"0\" y=\"372\" transform=\"translate(1113.62,0) rotate(90,0,366)\" style=\"font-family: 'Open Sans', verdana, arial, sans-serif; font-size: 12px; fill: rgb(42, 63, 95); fill-opacity: 1; white-space: pre; opacity: 1;\">Shooting Men's Free Pistol, 50 metres</text></g><g class=\"xtick\"><text text-anchor=\"start\" x=\"0\" y=\"372\" transform=\"translate(1134.09,0) rotate(90,0,366)\" style=\"font-family: 'Open Sans', verdana, arial, sans-serif; font-size: 12px; fill: rgb(42, 63, 95); fill-opacity: 1; white-space: pre; opacity: 1;\">Swimming Men's 200 metres Freestyle</text></g><g class=\"xtick\"><text text-anchor=\"start\" x=\"0\" y=\"372\" transform=\"translate(1154.56,0) rotate(90,0,366)\" style=\"font-family: 'Open Sans', verdana, arial, sans-serif; font-size: 12px; fill: rgb(42, 63, 95); fill-opacity: 1; white-space: pre; opacity: 1;\">Swimming Men's 400 metres Individual Medley</text></g><g class=\"xtick\"><text text-anchor=\"start\" x=\"0\" y=\"372\" transform=\"translate(1175.02,0) rotate(90,0,366)\" style=\"font-family: 'Open Sans', verdana, arial, sans-serif; font-size: 12px; fill: rgb(42, 63, 95); fill-opacity: 1; white-space: pre; opacity: 1;\">Volleyball Men's Volleyball</text></g><g class=\"xtick\"><text text-anchor=\"start\" x=\"0\" y=\"372\" transform=\"translate(1195.49,0) rotate(90,0,366)\" style=\"font-family: 'Open Sans', verdana, arial, sans-serif; font-size: 12px; fill: rgb(42, 63, 95); fill-opacity: 1; white-space: pre; opacity: 1;\">Athletics Men's Pole Vault</text></g><g class=\"xtick\"><text text-anchor=\"start\" x=\"0\" y=\"372\" transform=\"translate(1215.96,0) rotate(90,0,366)\" style=\"font-family: 'Open Sans', verdana, arial, sans-serif; font-size: 12px; fill: rgb(42, 63, 95); fill-opacity: 1; white-space: pre; opacity: 1;\">Athletics Women's Long Jump</text></g><g class=\"xtick\"><text text-anchor=\"start\" x=\"0\" y=\"372\" transform=\"translate(1236.43,0) rotate(90,0,366)\" style=\"font-family: 'Open Sans', verdana, arial, sans-serif; font-size: 12px; fill: rgb(42, 63, 95); fill-opacity: 1; white-space: pre; opacity: 1;\">Boxing Men's Lightweight</text></g><g class=\"xtick\"><text text-anchor=\"start\" x=\"0\" y=\"372\" transform=\"translate(1256.9,0) rotate(90,0,366)\" style=\"font-family: 'Open Sans', verdana, arial, sans-serif; font-size: 12px; fill: rgb(42, 63, 95); fill-opacity: 1; white-space: pre; opacity: 1;\">Equestrianism Mixed Jumping, Individual</text></g><g class=\"xtick\"><text text-anchor=\"start\" x=\"0\" y=\"372\" transform=\"translate(1277.36,0) rotate(90,0,366)\" style=\"font-family: 'Open Sans', verdana, arial, sans-serif; font-size: 12px; fill: rgb(42, 63, 95); fill-opacity: 1; white-space: pre; opacity: 1;\">Judo Women's Extra-Lightweight</text></g><g class=\"xtick\"><text text-anchor=\"start\" x=\"0\" y=\"372\" transform=\"translate(1297.83,0) rotate(90,0,366)\" style=\"font-family: 'Open Sans', verdana, arial, sans-serif; font-size: 12px; fill: rgb(42, 63, 95); fill-opacity: 1; white-space: pre; opacity: 1;\">Sailing Mixed Two Person Dinghy</text></g><g class=\"xtick\"><text text-anchor=\"start\" x=\"0\" y=\"372\" transform=\"translate(1318.3,0) rotate(90,0,366)\" style=\"font-family: 'Open Sans', verdana, arial, sans-serif; font-size: 12px; fill: rgb(42, 63, 95); fill-opacity: 1; white-space: pre; opacity: 1;\">Sailing Women's Skiff</text></g><g class=\"xtick\"><text text-anchor=\"start\" x=\"0\" y=\"372\" transform=\"translate(1338.77,0) rotate(90,0,366)\" style=\"font-family: 'Open Sans', verdana, arial, sans-serif; font-size: 12px; fill: rgb(42, 63, 95); fill-opacity: 1; white-space: pre; opacity: 1;\">Shooting Men's Military Pistol, 30 metres</text></g></g><g class=\"yaxislayer-above\"><g class=\"ytick\"><text text-anchor=\"end\" x=\"79\" y=\"4.199999999999999\" transform=\"translate(0,359)\" style=\"font-family: 'Open Sans', verdana, arial, sans-serif; font-size: 12px; fill: rgb(42, 63, 95); fill-opacity: 1; white-space: pre; opacity: 1;\">0</text></g><g class=\"ytick\"><text text-anchor=\"end\" x=\"79\" y=\"4.199999999999999\" style=\"font-family: 'Open Sans', verdana, arial, sans-serif; font-size: 12px; fill: rgb(42, 63, 95); fill-opacity: 1; white-space: pre; opacity: 1;\" transform=\"translate(0,317.99)\">1</text></g><g class=\"ytick\"><text text-anchor=\"end\" x=\"79\" y=\"4.199999999999999\" style=\"font-family: 'Open Sans', verdana, arial, sans-serif; font-size: 12px; fill: rgb(42, 63, 95); fill-opacity: 1; white-space: pre; opacity: 1;\" transform=\"translate(0,276.98)\">2</text></g><g class=\"ytick\"><text text-anchor=\"end\" x=\"79\" y=\"4.199999999999999\" style=\"font-family: 'Open Sans', verdana, arial, sans-serif; font-size: 12px; fill: rgb(42, 63, 95); fill-opacity: 1; white-space: pre; opacity: 1;\" transform=\"translate(0,235.98)\">3</text></g><g class=\"ytick\"><text text-anchor=\"end\" x=\"79\" y=\"4.199999999999999\" style=\"font-family: 'Open Sans', verdana, arial, sans-serif; font-size: 12px; fill: rgb(42, 63, 95); fill-opacity: 1; white-space: pre; opacity: 1;\" transform=\"translate(0,194.97)\">4</text></g><g class=\"ytick\"><text text-anchor=\"end\" x=\"79\" y=\"4.199999999999999\" style=\"font-family: 'Open Sans', verdana, arial, sans-serif; font-size: 12px; fill: rgb(42, 63, 95); fill-opacity: 1; white-space: pre; opacity: 1;\" transform=\"translate(0,153.96)\">5</text></g><g class=\"ytick\"><text text-anchor=\"end\" x=\"79\" y=\"4.199999999999999\" style=\"font-family: 'Open Sans', verdana, arial, sans-serif; font-size: 12px; fill: rgb(42, 63, 95); fill-opacity: 1; white-space: pre; opacity: 1;\" transform=\"translate(0,112.95)\">6</text></g></g><g class=\"overaxes-above\"/></g></g><g class=\"polarlayer\"/><g class=\"ternarylayer\"/><g class=\"geolayer\"/><g class=\"funnelarealayer\"/><g class=\"pielayer\"/><g class=\"iciclelayer\"/><g class=\"treemaplayer\"/><g class=\"sunburstlayer\"/><g class=\"glimages\"/><defs id=\"topdefs-aee400\"><g class=\"clips\"/><clipPath id=\"legendaee400\"><rect width=\"114\" height=\"86\" x=\"0\" y=\"0\"/></clipPath></defs><g class=\"layer-above\"><g class=\"imagelayer\"/><g class=\"shapelayer\"/></g><g class=\"infolayer\"><g class=\"legend\" pointer-events=\"all\" transform=\"translate(1374.38,100)\"><rect class=\"bg\" shape-rendering=\"crispEdges\" width=\"114\" height=\"86\" x=\"0\" y=\"0\" style=\"stroke: rgb(68, 68, 68); stroke-opacity: 1; fill: rgb(255, 255, 255); fill-opacity: 1; stroke-width: 0px;\"/><g class=\"scrollbox\" transform=\"\" clip-path=\"url(#legendaee400)\"><text class=\"legendtitletext\" text-anchor=\"start\" x=\"2\" y=\"18.2\" style=\"font-family: 'Open Sans', verdana, arial, sans-serif; font-size: 14px; fill: rgb(42, 63, 95); fill-opacity: 1; white-space: pre;\">Cor da Medalha</text><g class=\"groups\" transform=\"\"><g class=\"traces\" transform=\"translate(0,32.7)\" style=\"opacity: 1;\"><text class=\"legendtext\" text-anchor=\"start\" x=\"40\" y=\"4.680000000000001\" style=\"font-family: 'Open Sans', verdana, arial, sans-serif; font-size: 12px; fill: rgb(42, 63, 95); fill-opacity: 1; white-space: pre;\">Bronze</text><g class=\"layers\" style=\"opacity: 1;\"><g class=\"legendfill\"/><g class=\"legendlines\"/><g class=\"legendsymbols\"><g class=\"legendpoints\"><path class=\"legendundefined\" d=\"M6,6H-6V-6H6Z\" transform=\"translate(20,0)\" style=\"stroke-width: 0.5px; fill: rgb(210, 105, 30); fill-opacity: 1; stroke: rgb(229, 236, 246); stroke-opacity: 1;\"/></g></g></g><rect class=\"legendtoggle\" x=\"0\" y=\"-9.5\" width=\"81.6875\" height=\"19\" style=\"fill: rgb(0, 0, 0); fill-opacity: 0;\"/></g></g><g class=\"groups\" transform=\"\"><g class=\"traces\" transform=\"translate(0,51.7)\" style=\"opacity: 1;\"><text class=\"legendtext\" text-anchor=\"start\" x=\"40\" y=\"4.680000000000001\" style=\"font-family: 'Open Sans', verdana, arial, sans-serif; font-size: 12px; fill: rgb(42, 63, 95); fill-opacity: 1; white-space: pre;\">Silver</text><g class=\"layers\" style=\"opacity: 1;\"><g class=\"legendfill\"/><g class=\"legendlines\"/><g class=\"legendsymbols\"><g class=\"legendpoints\"><path class=\"legendundefined\" d=\"M6,6H-6V-6H6Z\" transform=\"translate(20,0)\" style=\"stroke-width: 0.5px; fill: rgb(192, 192, 192); fill-opacity: 1; stroke: rgb(229, 236, 246); stroke-opacity: 1;\"/></g></g></g><rect class=\"legendtoggle\" x=\"0\" y=\"-9.5\" width=\"81.6875\" height=\"19\" style=\"fill: rgb(0, 0, 0); fill-opacity: 0;\"/></g></g><g class=\"groups\" transform=\"\"><g class=\"traces\" transform=\"translate(0,70.7)\" style=\"opacity: 1;\"><text class=\"legendtext\" text-anchor=\"start\" x=\"40\" y=\"4.680000000000001\" style=\"font-family: 'Open Sans', verdana, arial, sans-serif; font-size: 12px; fill: rgb(42, 63, 95); fill-opacity: 1; white-space: pre;\">Gold</text><g class=\"layers\" style=\"opacity: 1;\"><g class=\"legendfill\"/><g class=\"legendlines\"/><g class=\"legendsymbols\"><g class=\"legendpoints\"><path class=\"legendundefined\" d=\"M6,6H-6V-6H6Z\" transform=\"translate(20,0)\" style=\"stroke-width: 0.5px; fill: rgb(255, 215, 0); fill-opacity: 1; stroke: rgb(229, 236, 246); stroke-opacity: 1;\"/></g></g></g><rect class=\"legendtoggle\" x=\"0\" y=\"-9.5\" width=\"81.6875\" height=\"19\" style=\"fill: rgb(0, 0, 0); fill-opacity: 0;\"/></g></g></g><rect class=\"scrollbar\" rx=\"20\" ry=\"3\" width=\"0\" height=\"0\" x=\"0\" y=\"0\" style=\"fill: rgb(128, 139, 164); fill-opacity: 1;\"/></g><g class=\"g-gtitle\"><text class=\"gtitle\" x=\"75\" y=\"50\" text-anchor=\"start\" dy=\"0em\" style=\"font-family: 'Open Sans', verdana, arial, sans-serif; font-size: 17px; fill: rgb(42, 63, 95); opacity: 1; font-weight: normal; white-space: pre;\">Medalha por atletas brasileiros</text></g><g class=\"g-xtitle\"><text class=\"xtitle\" x=\"714.5\" y=\"687.76875\" text-anchor=\"middle\" style=\"font-family: 'Open Sans', verdana, arial, sans-serif; font-size: 14px; fill: rgb(42, 63, 95); opacity: 1; font-weight: normal; white-space: pre;\">Event</text></g><g class=\"g-ytitle\"><text class=\"ytitle\" transform=\"rotate(-90,46.559375,229.5)\" x=\"46.559375\" y=\"229.5\" text-anchor=\"middle\" style=\"font-family: 'Open Sans', verdana, arial, sans-serif; font-size: 14px; fill: rgb(42, 63, 95); opacity: 1; font-weight: normal; white-space: pre;\">Total de Medalhas</text></g></g></svg>"
          },
          "metadata": {},
          "output_type": "display_data"
        }
      ],
      "source": [
        "import plotly.express as px\n",
        "\n",
        "fig = px.bar(df_events_med, x='Event', y='Total de Medalhas', \n",
        "            color = 'Medal',\n",
        "            barmode = 'stack',\n",
        "            title=\"Medalha por atletas brasileiros\",\n",
        "            labels = {'Medal':'Cor da Medalha' },\n",
        "            width = 1500,\n",
        "            height = 700,\n",
        "            color_discrete_map={'Bronze': 'chocolate', \n",
        "                                                   'Silver': 'silver', \n",
        "                                                   'Gold': 'gold'})\n",
        "fig.show('svg')"
      ]
    },
    {
      "cell_type": "markdown",
      "metadata": {
        "id": "OQqc9hy-nbil"
      },
      "source": [
        "Utilize um gráfico de distribuição (como um histograma, por exemplo) ilustrando a quantidade total de medalhas do Brasil por esporte."
      ]
    },
    {
      "cell_type": "markdown",
      "metadata": {},
      "source": [
        "<span style = 'color: green; font-size: 1.4em'><br> &nbsp;&nbsp;&nbsp;&nbsp;&nbsp;&nbsp;&nbsp;&nbsp; A partir do dataset *df_sports_med*, já obtido em item anterior já contém as infos necessárias. Isto servirá para  mostrar a distribuição das medalhas por esporte e tipo de medalha consquistada </span>"
      ]
    },
    {
      "cell_type": "code",
      "execution_count": 14,
      "metadata": {},
      "outputs": [
        {
          "data": {
            "text/html": [
              "<div><div id=8436c2b5-1c5a-4295-834d-48c9b0f6b66d style=\"display:none; background-color:#9D6CFF; color:white; width:200px; height:30px; padding-left:5px; border-radius:4px; flex-direction:row; justify-content:space-around; align-items:center;\" onmouseover=\"this.style.backgroundColor='#BA9BF8'\" onmouseout=\"this.style.backgroundColor='#9D6CFF'\" onclick=\"window.commands?.execute('create-mitosheet-from-dataframe-output');\">See Full Dataframe in Mito</div> <script> if (window.commands.hasCommand('create-mitosheet-from-dataframe-output')) document.getElementById('8436c2b5-1c5a-4295-834d-48c9b0f6b66d').style.display = 'flex' </script> <table border=\"1\" class=\"dataframe\">\n",
              "  <thead>\n",
              "    <tr style=\"text-align: right;\">\n",
              "      <th></th>\n",
              "      <th>Sport</th>\n",
              "      <th>Medal</th>\n",
              "      <th>Total de Medalhas</th>\n",
              "    </tr>\n",
              "  </thead>\n",
              "  <tbody>\n",
              "    <tr>\n",
              "      <th>0</th>\n",
              "      <td>Athletics</td>\n",
              "      <td>Bronze</td>\n",
              "      <td>8</td>\n",
              "    </tr>\n",
              "    <tr>\n",
              "      <th>1</th>\n",
              "      <td>Athletics</td>\n",
              "      <td>Gold</td>\n",
              "      <td>5</td>\n",
              "    </tr>\n",
              "    <tr>\n",
              "      <th>2</th>\n",
              "      <td>Athletics</td>\n",
              "      <td>Silver</td>\n",
              "      <td>3</td>\n",
              "    </tr>\n",
              "    <tr>\n",
              "      <th>3</th>\n",
              "      <td>Basketball</td>\n",
              "      <td>Bronze</td>\n",
              "      <td>4</td>\n",
              "    </tr>\n",
              "    <tr>\n",
              "      <th>4</th>\n",
              "      <td>Basketball</td>\n",
              "      <td>Silver</td>\n",
              "      <td>1</td>\n",
              "    </tr>\n",
              "    <tr>\n",
              "      <th>...</th>\n",
              "      <td>...</td>\n",
              "      <td>...</td>\n",
              "      <td>...</td>\n",
              "    </tr>\n",
              "    <tr>\n",
              "      <th>32</th>\n",
              "      <td>Swimming</td>\n",
              "      <td>Silver</td>\n",
              "      <td>4</td>\n",
              "    </tr>\n",
              "    <tr>\n",
              "      <th>33</th>\n",
              "      <td>Taekwondo</td>\n",
              "      <td>Bronze</td>\n",
              "      <td>2</td>\n",
              "    </tr>\n",
              "    <tr>\n",
              "      <th>34</th>\n",
              "      <td>Volleyball</td>\n",
              "      <td>Bronze</td>\n",
              "      <td>2</td>\n",
              "    </tr>\n",
              "    <tr>\n",
              "      <th>35</th>\n",
              "      <td>Volleyball</td>\n",
              "      <td>Gold</td>\n",
              "      <td>5</td>\n",
              "    </tr>\n",
              "    <tr>\n",
              "      <th>36</th>\n",
              "      <td>Volleyball</td>\n",
              "      <td>Silver</td>\n",
              "      <td>3</td>\n",
              "    </tr>\n",
              "  </tbody>\n",
              "</table></div>"
            ],
            "text/plain": [
              "                Sport   Medal  Total de Medalhas\n",
              "0           Athletics  Bronze                  8\n",
              "1           Athletics    Gold                  5\n",
              "2           Athletics  Silver                  3\n",
              "3          Basketball  Bronze                  4\n",
              "4          Basketball  Silver                  1\n",
              "5    Beach Volleyball  Bronze                  2\n",
              "6    Beach Volleyball    Gold                  2\n",
              "7    Beach Volleyball  Silver                  6\n",
              "8              Boxing  Bronze                  3\n",
              "9              Boxing    Gold                  1\n",
              "10             Boxing  Silver                  1\n",
              "11           Canoeing  Bronze                  1\n",
              "12           Canoeing  Silver                  2\n",
              "13      Equestrianism  Bronze                  2\n",
              "14      Equestrianism    Gold                  1\n",
              "15           Football  Bronze                  2\n",
              "16           Football    Gold                  1\n",
              "17           Football  Silver                  5\n",
              "18         Gymnastics    Gold                  1\n",
              "19         Gymnastics  Silver                  2\n",
              "20               Judo  Bronze                 15\n",
              "21               Judo    Gold                  4\n",
              "22               Judo  Silver                  3\n",
              "23  Modern Pentathlon  Bronze                  1\n",
              "24            Sailing  Bronze                  8\n",
              "25            Sailing    Gold                  7\n",
              "26            Sailing  Silver                  3\n",
              "27           Shooting  Bronze                  1\n",
              "28           Shooting    Gold                  1\n",
              "29           Shooting  Silver                  2\n",
              "30           Swimming  Bronze                  9\n",
              "31           Swimming    Gold                  1\n",
              "32           Swimming  Silver                  4\n",
              "33          Taekwondo  Bronze                  2\n",
              "34         Volleyball  Bronze                  2\n",
              "35         Volleyball    Gold                  5\n",
              "36         Volleyball  Silver                  3"
            ]
          },
          "execution_count": 14,
          "metadata": {},
          "output_type": "execute_result"
        }
      ],
      "source": [
        "df_sports=df_brasil_med.drop_duplicates(subset = ['Event','Games'])\n",
        "\n",
        "df_sports_med = df_sports.groupby(['Sport','Medal']).size()\n",
        "\n",
        "df_sports_med = df_sports_med.to_frame().reset_index()\n",
        "\n",
        "\n",
        "\n",
        "\n",
        "df_sports_med.rename({df_sports_med.columns[2]:\"Total de Medalhas\"},\n",
        "                        inplace = True, axis = 1)\n",
        "df_sports_med "
      ]
    },
    {
      "cell_type": "code",
      "execution_count": 15,
      "metadata": {
        "id": "FV8qDuzEnbil"
      },
      "outputs": [
        {
          "data": {
            "image/svg+xml": "<svg class=\"main-svg\" xmlns=\"http://www.w3.org/2000/svg\" xmlns:xlink=\"http://www.w3.org/1999/xlink\" width=\"700\" height=\"500\" style=\"\" viewBox=\"0 0 700 500\"><rect x=\"0\" y=\"0\" width=\"700\" height=\"500\" style=\"fill: rgb(255, 255, 255); fill-opacity: 1;\"/><defs id=\"defs-c4f72e\"><g class=\"clips\"><clipPath id=\"clipc4f72exyplot\" class=\"plotclip\"><rect width=\"511\" height=\"243.22320000000002\"/></clipPath><clipPath id=\"clipc4f72ex2y2plot\" class=\"plotclip\"><rect width=\"511\" height=\"85.45679999999999\"/></clipPath><clipPath class=\"axesclip\" id=\"clipc4f72ex\"><rect x=\"80\" y=\"0\" width=\"511\" height=\"500\"/></clipPath><clipPath class=\"axesclip\" id=\"clipc4f72ey\"><rect x=\"0\" y=\"148.77679999999998\" width=\"700\" height=\"243.22320000000002\"/></clipPath><clipPath class=\"axesclip\" id=\"clipc4f72exy\"><rect x=\"80\" y=\"148.77679999999998\" width=\"511\" height=\"243.22320000000002\"/></clipPath><clipPath class=\"axesclip\" id=\"clipc4f72ey2\"><rect x=\"0\" y=\"60\" width=\"700\" height=\"85.45679999999999\"/></clipPath><clipPath class=\"axesclip\" id=\"clipc4f72exy2\"><rect x=\"80\" y=\"60\" width=\"511\" height=\"85.45679999999999\"/></clipPath><clipPath class=\"axesclip\" id=\"clipc4f72ex2\"><rect x=\"80\" y=\"0\" width=\"511\" height=\"500\"/></clipPath><clipPath class=\"axesclip\" id=\"clipc4f72ex2y\"><rect x=\"80\" y=\"148.77679999999998\" width=\"511\" height=\"243.22320000000002\"/></clipPath><clipPath class=\"axesclip\" id=\"clipc4f72ex2y2\"><rect x=\"80\" y=\"60\" width=\"511\" height=\"85.45679999999999\"/></clipPath></g><g class=\"gradients\"/><g class=\"patterns\"/></defs><g class=\"bglayer\"><rect class=\"bg\" x=\"80\" y=\"148.77679999999998\" width=\"511\" height=\"243.22320000000002\" style=\"fill: rgb(229, 236, 246); fill-opacity: 1; stroke-width: 0;\"/><rect class=\"bg\" x=\"80\" y=\"60\" width=\"511\" height=\"85.45679999999999\" style=\"fill: rgb(229, 236, 246); fill-opacity: 1; stroke-width: 0;\"/></g><g class=\"layer-below\"><g class=\"imagelayer\"/><g class=\"shapelayer\"/></g><g class=\"cartesianlayer\"><g class=\"subplot xy\"><g class=\"layer-subplot\"><g class=\"shapelayer\"/><g class=\"imagelayer\"/></g><g class=\"gridlayer\"><g class=\"x\"/><g class=\"y\"><path class=\"ygrid crisp\" transform=\"translate(0,339.4868)\" d=\"M80,0h511\" style=\"stroke: rgb(255, 255, 255); stroke-opacity: 1; stroke-width: 1px;\"/><path class=\"ygrid crisp\" transform=\"translate(0,286.97679999999997)\" d=\"M80,0h511\" style=\"stroke: rgb(255, 255, 255); stroke-opacity: 1; stroke-width: 1px;\"/><path class=\"ygrid crisp\" transform=\"translate(0,234.4568)\" d=\"M80,0h511\" style=\"stroke: rgb(255, 255, 255); stroke-opacity: 1; stroke-width: 1px;\"/><path class=\"ygrid crisp\" transform=\"translate(0,181.9468)\" d=\"M80,0h511\" style=\"stroke: rgb(255, 255, 255); stroke-opacity: 1; stroke-width: 1px;\"/></g></g><g class=\"zerolinelayer\"><path class=\"yzl zl crisp\" transform=\"translate(0,391.9968)\" d=\"M80,0h511\" style=\"stroke: rgb(255, 255, 255); stroke-opacity: 1; stroke-width: 2px;\"/></g><path class=\"xlines-below\"/><path class=\"ylines-below\"/><g class=\"overlines-below\"/><g class=\"xaxislayer-below\"/><g class=\"yaxislayer-below\"/><g class=\"overaxes-below\"/><g class=\"plot\" transform=\"translate(80,148.77679999999998)\" clip-path=\"url(#clipc4f72exyplot)\"><g class=\"barlayer mlayer\"><g class=\"trace bars\" style=\"opacity: 1;\"><g class=\"points\"><g class=\"point\"><path d=\"M12.41,243.22V159.2H38.69V243.22Z\" style=\"vector-effect: non-scaling-stroke; opacity: 1; stroke-width: 0px; fill: rgb(210, 105, 30); fill-opacity: 1;\"/></g><g class=\"point\"><path d=\"M45.26,243.22V201.21H71.54V243.22Z\" style=\"vector-effect: non-scaling-stroke; opacity: 1; stroke-width: 0px; fill: rgb(210, 105, 30); fill-opacity: 1;\"/></g><g class=\"point\"><path d=\"M78.11,243.22V222.22H104.39V243.22Z\" style=\"vector-effect: non-scaling-stroke; opacity: 1; stroke-width: 0px; fill: rgb(210, 105, 30); fill-opacity: 1;\"/></g><g class=\"point\"><path d=\"M110.96,243.22V211.71H137.24V243.22Z\" style=\"vector-effect: non-scaling-stroke; opacity: 1; stroke-width: 0px; fill: rgb(210, 105, 30); fill-opacity: 1;\"/></g><g class=\"point\"><path d=\"M143.81,243.22V232.72H170.09V243.22Z\" style=\"vector-effect: non-scaling-stroke; opacity: 1; stroke-width: 0px; fill: rgb(210, 105, 30); fill-opacity: 1;\"/></g><g class=\"point\"><path d=\"M176.66,243.22V222.22H202.94V243.22Z\" style=\"vector-effect: non-scaling-stroke; opacity: 1; stroke-width: 0px; fill: rgb(210, 105, 30); fill-opacity: 1;\"/></g><g class=\"point\"><path d=\"M209.51,243.22V222.22H235.79V243.22Z\" style=\"vector-effect: non-scaling-stroke; opacity: 1; stroke-width: 0px; fill: rgb(210, 105, 30); fill-opacity: 1;\"/></g><g class=\"point\"><path d=\"M242.36,243.22V85.68H268.64V243.22Z\" style=\"vector-effect: non-scaling-stroke; opacity: 1; stroke-width: 0px; fill: rgb(210, 105, 30); fill-opacity: 1;\"/></g><g class=\"point\"><path d=\"M275.21,243.22V232.72H301.49V243.22Z\" style=\"vector-effect: non-scaling-stroke; opacity: 1; stroke-width: 0px; fill: rgb(210, 105, 30); fill-opacity: 1;\"/></g><g class=\"point\"><path d=\"M308.06,243.22V159.2H334.34V243.22Z\" style=\"vector-effect: non-scaling-stroke; opacity: 1; stroke-width: 0px; fill: rgb(210, 105, 30); fill-opacity: 1;\"/></g><g class=\"point\"><path d=\"M340.91,243.22V232.72H367.19V243.22Z\" style=\"vector-effect: non-scaling-stroke; opacity: 1; stroke-width: 0px; fill: rgb(210, 105, 30); fill-opacity: 1;\"/></g><g class=\"point\"><path d=\"M373.76,243.22V148.7H400.04V243.22Z\" style=\"vector-effect: non-scaling-stroke; opacity: 1; stroke-width: 0px; fill: rgb(210, 105, 30); fill-opacity: 1;\"/></g><g class=\"point\"><path d=\"M406.61,243.22V222.22H432.89V243.22Z\" style=\"vector-effect: non-scaling-stroke; opacity: 1; stroke-width: 0px; fill: rgb(210, 105, 30); fill-opacity: 1;\"/></g><g class=\"point\"><path d=\"M439.46,243.22V222.22H465.74V243.22Z\" style=\"vector-effect: non-scaling-stroke; opacity: 1; stroke-width: 0px; fill: rgb(210, 105, 30); fill-opacity: 1;\"/></g></g></g><g class=\"trace bars\" style=\"opacity: 1;\"><g class=\"points\"><g class=\"point\"><path d=\"M12.41,159.2V106.69H38.69V159.2Z\" style=\"vector-effect: non-scaling-stroke; opacity: 1; stroke-width: 0px; fill: rgb(255, 215, 0); fill-opacity: 1;\"/></g><g class=\"point\"><path d=\"M0,0Z\" style=\"vector-effect: non-scaling-stroke; opacity: 1; stroke-width: 0px; fill: rgb(255, 215, 0); fill-opacity: 1;\"/></g><g class=\"point\"><path d=\"M78.11,222.22V201.21H104.39V222.22Z\" style=\"vector-effect: non-scaling-stroke; opacity: 1; stroke-width: 0px; fill: rgb(255, 215, 0); fill-opacity: 1;\"/></g><g class=\"point\"><path d=\"M110.96,211.71V201.21H137.24V211.71Z\" style=\"vector-effect: non-scaling-stroke; opacity: 1; stroke-width: 0px; fill: rgb(255, 215, 0); fill-opacity: 1;\"/></g><g class=\"point\"><path d=\"M0,0Z\" style=\"vector-effect: non-scaling-stroke; opacity: 1; stroke-width: 0px; fill: rgb(255, 215, 0); fill-opacity: 1;\"/></g><g class=\"point\"><path d=\"M176.66,222.22V211.71H202.94V222.22Z\" style=\"vector-effect: non-scaling-stroke; opacity: 1; stroke-width: 0px; fill: rgb(255, 215, 0); fill-opacity: 1;\"/></g><g class=\"point\"><path d=\"M209.51,222.22V211.71H235.79V222.22Z\" style=\"vector-effect: non-scaling-stroke; opacity: 1; stroke-width: 0px; fill: rgb(255, 215, 0); fill-opacity: 1;\"/></g><g class=\"point\"><path d=\"M242.36,85.68V43.67H268.64V85.68Z\" style=\"vector-effect: non-scaling-stroke; opacity: 1; stroke-width: 0px; fill: rgb(255, 215, 0); fill-opacity: 1;\"/></g><g class=\"point\"><path d=\"M0,0Z\" style=\"vector-effect: non-scaling-stroke; opacity: 1; stroke-width: 0px; fill: rgb(255, 215, 0); fill-opacity: 1;\"/></g><g class=\"point\"><path d=\"M308.06,159.2V85.68H334.34V159.2Z\" style=\"vector-effect: non-scaling-stroke; opacity: 1; stroke-width: 0px; fill: rgb(255, 215, 0); fill-opacity: 1;\"/></g><g class=\"point\"><path d=\"M340.91,232.72V222.22H367.19V232.72Z\" style=\"vector-effect: non-scaling-stroke; opacity: 1; stroke-width: 0px; fill: rgb(255, 215, 0); fill-opacity: 1;\"/></g><g class=\"point\"><path d=\"M373.76,148.7V138.2H400.04V148.7Z\" style=\"vector-effect: non-scaling-stroke; opacity: 1; stroke-width: 0px; fill: rgb(255, 215, 0); fill-opacity: 1;\"/></g><g class=\"point\"><path d=\"M0,0Z\" style=\"vector-effect: non-scaling-stroke; opacity: 1; stroke-width: 0px; fill: rgb(255, 215, 0); fill-opacity: 1;\"/></g><g class=\"point\"><path d=\"M439.46,222.22V169.7H465.74V222.22Z\" style=\"vector-effect: non-scaling-stroke; opacity: 1; stroke-width: 0px; fill: rgb(255, 215, 0); fill-opacity: 1;\"/></g><g class=\"point\"><path d=\"M472.31,243.22V232.72H498.59V243.22Z\" style=\"vector-effect: non-scaling-stroke; opacity: 1; stroke-width: 0px; fill: rgb(255, 215, 0); fill-opacity: 1;\"/></g></g></g><g class=\"trace bars\" style=\"opacity: 1;\"><g class=\"points\"><g class=\"point\"><path d=\"M12.41,106.69V75.18H38.69V106.69Z\" style=\"vector-effect: non-scaling-stroke; opacity: 1; stroke-width: 0px; fill: rgb(192, 192, 192); fill-opacity: 1;\"/></g><g class=\"point\"><path d=\"M45.26,201.21V190.71H71.54V201.21Z\" style=\"vector-effect: non-scaling-stroke; opacity: 1; stroke-width: 0px; fill: rgb(192, 192, 192); fill-opacity: 1;\"/></g><g class=\"point\"><path d=\"M78.11,201.21V138.2H104.39V201.21Z\" style=\"vector-effect: non-scaling-stroke; opacity: 1; stroke-width: 0px; fill: rgb(192, 192, 192); fill-opacity: 1;\"/></g><g class=\"point\"><path d=\"M110.96,201.21V190.71H137.24V201.21Z\" style=\"vector-effect: non-scaling-stroke; opacity: 1; stroke-width: 0px; fill: rgb(192, 192, 192); fill-opacity: 1;\"/></g><g class=\"point\"><path d=\"M143.81,232.72V211.71H170.09V232.72Z\" style=\"vector-effect: non-scaling-stroke; opacity: 1; stroke-width: 0px; fill: rgb(192, 192, 192); fill-opacity: 1;\"/></g><g class=\"point\"><path d=\"M0,0Z\" style=\"vector-effect: non-scaling-stroke; opacity: 1; stroke-width: 0px; fill: rgb(192, 192, 192); fill-opacity: 1;\"/></g><g class=\"point\"><path d=\"M209.51,211.71V159.2H235.79V211.71Z\" style=\"vector-effect: non-scaling-stroke; opacity: 1; stroke-width: 0px; fill: rgb(192, 192, 192); fill-opacity: 1;\"/></g><g class=\"point\"><path d=\"M242.36,43.67V12.16H268.64V43.67Z\" style=\"vector-effect: non-scaling-stroke; opacity: 1; stroke-width: 0px; fill: rgb(192, 192, 192); fill-opacity: 1;\"/></g><g class=\"point\"><path d=\"M0,0Z\" style=\"vector-effect: non-scaling-stroke; opacity: 1; stroke-width: 0px; fill: rgb(192, 192, 192); fill-opacity: 1;\"/></g><g class=\"point\"><path d=\"M308.06,85.68V54.17H334.34V85.68Z\" style=\"vector-effect: non-scaling-stroke; opacity: 1; stroke-width: 0px; fill: rgb(192, 192, 192); fill-opacity: 1;\"/></g><g class=\"point\"><path d=\"M340.91,222.22V201.21H367.19V222.22Z\" style=\"vector-effect: non-scaling-stroke; opacity: 1; stroke-width: 0px; fill: rgb(192, 192, 192); fill-opacity: 1;\"/></g><g class=\"point\"><path d=\"M373.76,138.2V96.18H400.04V138.2Z\" style=\"vector-effect: non-scaling-stroke; opacity: 1; stroke-width: 0px; fill: rgb(192, 192, 192); fill-opacity: 1;\"/></g><g class=\"point\"><path d=\"M0,0Z\" style=\"vector-effect: non-scaling-stroke; opacity: 1; stroke-width: 0px; fill: rgb(192, 192, 192); fill-opacity: 1;\"/></g><g class=\"point\"><path d=\"M439.46,169.7V138.2H465.74V169.7Z\" style=\"vector-effect: non-scaling-stroke; opacity: 1; stroke-width: 0px; fill: rgb(192, 192, 192); fill-opacity: 1;\"/></g><g class=\"point\"><path d=\"M472.31,232.72V211.71H498.59V232.72Z\" style=\"vector-effect: non-scaling-stroke; opacity: 1; stroke-width: 0px; fill: rgb(192, 192, 192); fill-opacity: 1;\"/></g></g></g></g></g><g class=\"overplot\"/><path class=\"xlines-above crisp\" d=\"M0,0\" style=\"fill: none;\"/><path class=\"ylines-above crisp\" d=\"M0,0\" style=\"fill: none;\"/><g class=\"overlines-above\"/><g class=\"xaxislayer-above\"><g class=\"xtick\"><text text-anchor=\"start\" x=\"0\" y=\"405\" transform=\"translate(105.55,0) rotate(30,0,399)\" style=\"font-family: 'Open Sans', verdana, arial, sans-serif; font-size: 12px; fill: rgb(42, 63, 95); fill-opacity: 1; white-space: pre; opacity: 1;\">Athletics</text></g><g class=\"xtick\"><text text-anchor=\"start\" x=\"0\" y=\"405\" transform=\"translate(138.4,0) rotate(30,0,399)\" style=\"font-family: 'Open Sans', verdana, arial, sans-serif; font-size: 12px; fill: rgb(42, 63, 95); fill-opacity: 1; white-space: pre; opacity: 1;\">Basketball</text></g><g class=\"xtick\"><text text-anchor=\"start\" x=\"0\" y=\"405\" transform=\"translate(171.25,0) rotate(30,0,399)\" style=\"font-family: 'Open Sans', verdana, arial, sans-serif; font-size: 12px; fill: rgb(42, 63, 95); fill-opacity: 1; white-space: pre; opacity: 1;\">Beach Volleyball</text></g><g class=\"xtick\"><text text-anchor=\"start\" x=\"0\" y=\"405\" transform=\"translate(204.1,0) rotate(30,0,399)\" style=\"font-family: 'Open Sans', verdana, arial, sans-serif; font-size: 12px; fill: rgb(42, 63, 95); fill-opacity: 1; white-space: pre; opacity: 1;\">Boxing</text></g><g class=\"xtick\"><text text-anchor=\"start\" x=\"0\" y=\"405\" transform=\"translate(236.95,0) rotate(30,0,399)\" style=\"font-family: 'Open Sans', verdana, arial, sans-serif; font-size: 12px; fill: rgb(42, 63, 95); fill-opacity: 1; white-space: pre; opacity: 1;\">Canoeing</text></g><g class=\"xtick\"><text text-anchor=\"start\" x=\"0\" y=\"405\" transform=\"translate(269.8,0) rotate(30,0,399)\" style=\"font-family: 'Open Sans', verdana, arial, sans-serif; font-size: 12px; fill: rgb(42, 63, 95); fill-opacity: 1; white-space: pre; opacity: 1;\">Equestrianism</text></g><g class=\"xtick\"><text text-anchor=\"start\" x=\"0\" y=\"405\" transform=\"translate(302.65,0) rotate(30,0,399)\" style=\"font-family: 'Open Sans', verdana, arial, sans-serif; font-size: 12px; fill: rgb(42, 63, 95); fill-opacity: 1; white-space: pre; opacity: 1;\">Football</text></g><g class=\"xtick\"><text text-anchor=\"start\" x=\"0\" y=\"405\" transform=\"translate(335.5,0) rotate(30,0,399)\" style=\"font-family: 'Open Sans', verdana, arial, sans-serif; font-size: 12px; fill: rgb(42, 63, 95); fill-opacity: 1; white-space: pre; opacity: 1;\">Judo</text></g><g class=\"xtick\"><text text-anchor=\"start\" x=\"0\" y=\"405\" transform=\"translate(368.35,0) rotate(30,0,399)\" style=\"font-family: 'Open Sans', verdana, arial, sans-serif; font-size: 12px; fill: rgb(42, 63, 95); fill-opacity: 1; white-space: pre; opacity: 1;\">Modern Pentathlon</text></g><g class=\"xtick\"><text text-anchor=\"start\" x=\"0\" y=\"405\" transform=\"translate(401.2,0) rotate(30,0,399)\" style=\"font-family: 'Open Sans', verdana, arial, sans-serif; font-size: 12px; fill: rgb(42, 63, 95); fill-opacity: 1; white-space: pre; opacity: 1;\">Sailing</text></g><g class=\"xtick\"><text text-anchor=\"start\" x=\"0\" y=\"405\" transform=\"translate(434.05,0) rotate(30,0,399)\" style=\"font-family: 'Open Sans', verdana, arial, sans-serif; font-size: 12px; fill: rgb(42, 63, 95); fill-opacity: 1; white-space: pre; opacity: 1;\">Shooting</text></g><g class=\"xtick\"><text text-anchor=\"start\" x=\"0\" y=\"405\" transform=\"translate(466.9,0) rotate(30,0,399)\" style=\"font-family: 'Open Sans', verdana, arial, sans-serif; font-size: 12px; fill: rgb(42, 63, 95); fill-opacity: 1; white-space: pre; opacity: 1;\">Swimming</text></g><g class=\"xtick\"><text text-anchor=\"start\" x=\"0\" y=\"405\" transform=\"translate(499.75,0) rotate(30,0,399)\" style=\"font-family: 'Open Sans', verdana, arial, sans-serif; font-size: 12px; fill: rgb(42, 63, 95); fill-opacity: 1; white-space: pre; opacity: 1;\">Taekwondo</text></g><g class=\"xtick\"><text text-anchor=\"start\" x=\"0\" y=\"405\" transform=\"translate(532.6,0) rotate(30,0,399)\" style=\"font-family: 'Open Sans', verdana, arial, sans-serif; font-size: 12px; fill: rgb(42, 63, 95); fill-opacity: 1; white-space: pre; opacity: 1;\">Volleyball</text></g><g class=\"xtick\"><text text-anchor=\"start\" x=\"0\" y=\"405\" transform=\"translate(565.45,0) rotate(30,0,399)\" style=\"font-family: 'Open Sans', verdana, arial, sans-serif; font-size: 12px; fill: rgb(42, 63, 95); fill-opacity: 1; white-space: pre; opacity: 1;\">Gymnastics</text></g></g><g class=\"yaxislayer-above\"><g class=\"ytick\"><text text-anchor=\"end\" x=\"79\" y=\"4.199999999999999\" transform=\"translate(0,391.9968)\" style=\"font-family: 'Open Sans', verdana, arial, sans-serif; font-size: 12px; fill: rgb(42, 63, 95); fill-opacity: 1; white-space: pre; opacity: 1;\">0</text></g><g class=\"ytick\"><text text-anchor=\"end\" x=\"79\" y=\"4.199999999999999\" style=\"font-family: 'Open Sans', verdana, arial, sans-serif; font-size: 12px; fill: rgb(42, 63, 95); fill-opacity: 1; white-space: pre; opacity: 1;\" transform=\"translate(0,339.4868)\">5</text></g><g class=\"ytick\"><text text-anchor=\"end\" x=\"79\" y=\"4.199999999999999\" style=\"font-family: 'Open Sans', verdana, arial, sans-serif; font-size: 12px; fill: rgb(42, 63, 95); fill-opacity: 1; white-space: pre; opacity: 1;\" transform=\"translate(0,286.97679999999997)\">10</text></g><g class=\"ytick\"><text text-anchor=\"end\" x=\"79\" y=\"4.199999999999999\" style=\"font-family: 'Open Sans', verdana, arial, sans-serif; font-size: 12px; fill: rgb(42, 63, 95); fill-opacity: 1; white-space: pre; opacity: 1;\" transform=\"translate(0,234.4568)\">15</text></g><g class=\"ytick\"><text text-anchor=\"end\" x=\"79\" y=\"4.199999999999999\" style=\"font-family: 'Open Sans', verdana, arial, sans-serif; font-size: 12px; fill: rgb(42, 63, 95); fill-opacity: 1; white-space: pre; opacity: 1;\" transform=\"translate(0,181.9468)\">20</text></g></g><g class=\"overaxes-above\"/></g><g class=\"subplot x2y2\"><g class=\"layer-subplot\"><g class=\"shapelayer\"/><g class=\"imagelayer\"/></g><g class=\"gridlayer\"><g class=\"x2\"><path class=\"x2grid crisp\" transform=\"translate(105.55,0)\" d=\"M0,60v85.45679999999999\" style=\"stroke: rgb(255, 255, 255); stroke-opacity: 1; stroke-width: 1px;\"/><path class=\"x2grid crisp\" transform=\"translate(138.4,0)\" d=\"M0,60v85.45679999999999\" style=\"stroke: rgb(255, 255, 255); stroke-opacity: 1; stroke-width: 1px;\"/><path class=\"x2grid crisp\" transform=\"translate(171.25,0)\" d=\"M0,60v85.45679999999999\" style=\"stroke: rgb(255, 255, 255); stroke-opacity: 1; stroke-width: 1px;\"/><path class=\"x2grid crisp\" transform=\"translate(204.1,0)\" d=\"M0,60v85.45679999999999\" style=\"stroke: rgb(255, 255, 255); stroke-opacity: 1; stroke-width: 1px;\"/><path class=\"x2grid crisp\" transform=\"translate(236.95,0)\" d=\"M0,60v85.45679999999999\" style=\"stroke: rgb(255, 255, 255); stroke-opacity: 1; stroke-width: 1px;\"/><path class=\"x2grid crisp\" transform=\"translate(269.8,0)\" d=\"M0,60v85.45679999999999\" style=\"stroke: rgb(255, 255, 255); stroke-opacity: 1; stroke-width: 1px;\"/><path class=\"x2grid crisp\" transform=\"translate(302.65,0)\" d=\"M0,60v85.45679999999999\" style=\"stroke: rgb(255, 255, 255); stroke-opacity: 1; stroke-width: 1px;\"/><path class=\"x2grid crisp\" transform=\"translate(335.5,0)\" d=\"M0,60v85.45679999999999\" style=\"stroke: rgb(255, 255, 255); stroke-opacity: 1; stroke-width: 1px;\"/><path class=\"x2grid crisp\" transform=\"translate(368.35,0)\" d=\"M0,60v85.45679999999999\" style=\"stroke: rgb(255, 255, 255); stroke-opacity: 1; stroke-width: 1px;\"/><path class=\"x2grid crisp\" transform=\"translate(401.2,0)\" d=\"M0,60v85.45679999999999\" style=\"stroke: rgb(255, 255, 255); stroke-opacity: 1; stroke-width: 1px;\"/><path class=\"x2grid crisp\" transform=\"translate(434.05,0)\" d=\"M0,60v85.45679999999999\" style=\"stroke: rgb(255, 255, 255); stroke-opacity: 1; stroke-width: 1px;\"/><path class=\"x2grid crisp\" transform=\"translate(466.9,0)\" d=\"M0,60v85.45679999999999\" style=\"stroke: rgb(255, 255, 255); stroke-opacity: 1; stroke-width: 1px;\"/><path class=\"x2grid crisp\" transform=\"translate(499.75,0)\" d=\"M0,60v85.45679999999999\" style=\"stroke: rgb(255, 255, 255); stroke-opacity: 1; stroke-width: 1px;\"/><path class=\"x2grid crisp\" transform=\"translate(532.6,0)\" d=\"M0,60v85.45679999999999\" style=\"stroke: rgb(255, 255, 255); stroke-opacity: 1; stroke-width: 1px;\"/><path class=\"x2grid crisp\" transform=\"translate(565.45,0)\" d=\"M0,60v85.45679999999999\" style=\"stroke: rgb(255, 255, 255); stroke-opacity: 1; stroke-width: 1px;\"/></g><g class=\"y2\"/></g><g class=\"zerolinelayer\"/><path class=\"xlines-below\"/><path class=\"ylines-below\"/><g class=\"overlines-below\"/><g class=\"xaxislayer-below\"/><g class=\"yaxislayer-below\"/><g class=\"overaxes-below\"/><g class=\"plot\" transform=\"translate(80,60)\" clip-path=\"url(#clipc4f72ex2y2plot)\"><g class=\"boxlayer mlayer\"><g class=\"trace boxes\" style=\"opacity: 1;\"><path class=\"box\" d=\"M239.08,74.7V67.72M124.1,78.19V64.24H142.59L239.08,67.72L335.56,64.24H354.05V78.19H335.56L239.08,74.7L142.59,78.19ZM124.1,71.21H25.55M354.05,71.21H452.6M25.55,74.7V67.72M452.6,74.7V67.72\" style=\"vector-effect: non-scaling-stroke; stroke-width: 2px; stroke: rgb(210, 105, 30); stroke-opacity: 1; fill: rgb(210, 105, 30); fill-opacity: 0.5;\"/><g class=\"points\"/></g><g class=\"trace boxes\" style=\"opacity: 1;\"><path class=\"box\" d=\"M255.5,46.22V39.24M140.52,49.71V35.75H142.76L255.5,39.24L368.24,35.75H378.69V49.71H368.24L255.5,46.22L142.76,49.71ZM140.52,42.73H25.55M378.69,42.73H485.45M25.55,46.22V39.24M485.45,46.22V39.24\" style=\"vector-effect: non-scaling-stroke; stroke-width: 2px; stroke: rgb(255, 215, 0); stroke-opacity: 1; fill: rgb(255, 215, 0); fill-opacity: 0.5;\"/><g class=\"points\"/></g><g class=\"trace boxes\" style=\"opacity: 1;\"><path class=\"box\" d=\"M239.08,17.73V10.75M107.67,21.22V7.26H119.97L239.08,10.75L358.18,7.26H370.48V21.22H358.18L239.08,17.73L119.97,21.22ZM107.67,14.24H25.55M370.48,14.24H485.45M25.55,17.73V10.75M485.45,17.73V10.75\" style=\"vector-effect: non-scaling-stroke; stroke-width: 2px; stroke: rgb(192, 192, 192); stroke-opacity: 1; fill: rgb(192, 192, 192); fill-opacity: 0.5;\"/><g class=\"points\"/></g></g></g><g class=\"overplot\"/><path class=\"xlines-above crisp\" d=\"M0,0\" style=\"fill: none;\"/><path class=\"ylines-above crisp\" d=\"M0,0\" style=\"fill: none;\"/><g class=\"overlines-above\"/><g class=\"xaxislayer-above\"/><g class=\"yaxislayer-above\"/><g class=\"overaxes-above\"/></g></g><g class=\"polarlayer\"/><g class=\"ternarylayer\"/><g class=\"geolayer\"/><g class=\"funnelarealayer\"/><g class=\"pielayer\"/><g class=\"iciclelayer\"/><g class=\"treemaplayer\"/><g class=\"sunburstlayer\"/><g class=\"glimages\"/><defs id=\"topdefs-c4f72e\"><g class=\"clips\"/><clipPath id=\"legendc4f72e\"><rect width=\"87\" height=\"86\" x=\"0\" y=\"0\"/></clipPath></defs><g class=\"layer-above\"><g class=\"imagelayer\"/><g class=\"shapelayer\"/></g><g class=\"infolayer\"><g class=\"legend\" pointer-events=\"all\" transform=\"translate(601.22,60)\"><rect class=\"bg\" shape-rendering=\"crispEdges\" style=\"stroke: rgb(68, 68, 68); stroke-opacity: 1; fill: rgb(255, 255, 255); fill-opacity: 1; stroke-width: 0px;\" width=\"87\" height=\"86\" x=\"0\" y=\"0\"/><g class=\"scrollbox\" transform=\"\" clip-path=\"url(#legendc4f72e)\"><text class=\"legendtitletext\" text-anchor=\"start\" x=\"2\" y=\"18.2\" style=\"font-family: 'Open Sans', verdana, arial, sans-serif; font-size: 14px; fill: rgb(42, 63, 95); fill-opacity: 1; white-space: pre;\">Medal</text><g class=\"groups\" transform=\"\"><g class=\"traces\" transform=\"translate(0,32.7)\" style=\"opacity: 1;\"><text class=\"legendtext\" text-anchor=\"start\" x=\"40\" y=\"4.680000000000001\" style=\"font-family: 'Open Sans', verdana, arial, sans-serif; font-size: 12px; fill: rgb(42, 63, 95); fill-opacity: 1; white-space: pre;\">Bronze</text><g class=\"layers\" style=\"opacity: 1;\"><g class=\"legendfill\"/><g class=\"legendlines\"/><g class=\"legendsymbols\"><g class=\"legendpoints\"><path class=\"legendundefined\" d=\"M6,6H-6V-6H6Z\" transform=\"translate(20,0)\" style=\"stroke-width: 0px; fill: rgb(210, 105, 30); fill-opacity: 1;\"/></g></g></g><rect class=\"legendtoggle\" x=\"0\" y=\"-9.5\" width=\"81.6875\" height=\"19\" style=\"fill: rgb(0, 0, 0); fill-opacity: 0;\"/></g></g><g class=\"groups\" transform=\"\"><g class=\"traces\" transform=\"translate(0,51.7)\" style=\"opacity: 1;\"><text class=\"legendtext\" text-anchor=\"start\" x=\"40\" y=\"4.680000000000001\" style=\"font-family: 'Open Sans', verdana, arial, sans-serif; font-size: 12px; fill: rgb(42, 63, 95); fill-opacity: 1; white-space: pre;\">Gold</text><g class=\"layers\" style=\"opacity: 1;\"><g class=\"legendfill\"/><g class=\"legendlines\"/><g class=\"legendsymbols\"><g class=\"legendpoints\"><path class=\"legendundefined\" d=\"M6,6H-6V-6H6Z\" transform=\"translate(20,0)\" style=\"stroke-width: 0px; fill: rgb(255, 215, 0); fill-opacity: 1;\"/></g></g></g><rect class=\"legendtoggle\" x=\"0\" y=\"-9.5\" width=\"81.6875\" height=\"19\" style=\"fill: rgb(0, 0, 0); fill-opacity: 0;\"/></g></g><g class=\"groups\" transform=\"\"><g class=\"traces\" transform=\"translate(0,70.7)\" style=\"opacity: 1;\"><text class=\"legendtext\" text-anchor=\"start\" x=\"40\" y=\"4.680000000000001\" style=\"font-family: 'Open Sans', verdana, arial, sans-serif; font-size: 12px; fill: rgb(42, 63, 95); fill-opacity: 1; white-space: pre;\">Silver</text><g class=\"layers\" style=\"opacity: 1;\"><g class=\"legendfill\"/><g class=\"legendlines\"/><g class=\"legendsymbols\"><g class=\"legendpoints\"><path class=\"legendundefined\" d=\"M6,6H-6V-6H6Z\" transform=\"translate(20,0)\" style=\"stroke-width: 0px; fill: rgb(192, 192, 192); fill-opacity: 1;\"/></g></g></g><rect class=\"legendtoggle\" x=\"0\" y=\"-9.5\" width=\"81.6875\" height=\"19\" style=\"fill: rgb(0, 0, 0); fill-opacity: 0;\"/></g></g></g><rect class=\"scrollbar\" rx=\"20\" ry=\"3\" width=\"0\" height=\"0\" x=\"0\" y=\"0\" style=\"fill: rgb(128, 139, 164); fill-opacity: 1;\"/></g><g class=\"g-gtitle\"/><g class=\"g-xtitle\"><text class=\"xtitle\" x=\"335.5\" y=\"487.848828125\" text-anchor=\"middle\" style=\"font-family: 'Open Sans', verdana, arial, sans-serif; font-size: 14px; fill: rgb(42, 63, 95); opacity: 1; font-weight: normal; white-space: pre;\">Sport</text></g><g class=\"g-x2title\"/><g class=\"g-ytitle\"><text class=\"ytitle\" transform=\"rotate(-90,38.934375,270.3884)\" x=\"38.934375\" y=\"270.3884\" text-anchor=\"middle\" style=\"font-family: 'Open Sans', verdana, arial, sans-serif; font-size: 14px; fill: rgb(42, 63, 95); opacity: 1; font-weight: normal; white-space: pre;\">sum of Total de Medalhas</text></g><g class=\"g-y2title\"/></g></svg>"
          },
          "metadata": {},
          "output_type": "display_data"
        }
      ],
      "source": [
        "import plotly.express as px\n",
        "\n",
        "fig = px.histogram(df_sports_med, x='Sport', y='Total de Medalhas', color='Medal', \n",
        "                marginal='box',\n",
        "                #hover_data =df_sports_med.columns,\n",
        "                color_discrete_map={'Bronze': 'chocolate', \n",
        "                                                   'Silver': 'silver', \n",
        "                                                   'Gold': 'gold'})\n",
        "fig.show('svg')"
      ]
    },
    {
      "cell_type": "markdown",
      "metadata": {
        "id": "v3JMBLW2nbim"
      },
      "source": [
        "Repita o procedimento acima, mas com medalhas de ouro."
      ]
    },
    {
      "cell_type": "markdown",
      "metadata": {},
      "source": [
        "<span style = 'color: green; font-size: 1.4em'><br> &nbsp;&nbsp;&nbsp;&nbsp;&nbsp;&nbsp;&nbsp;&nbsp; A partir do dataset *df_brasil*, já obtido em item anterior já contém as infos necessárias. O dataset df_sports_med_gold vai ter somente os casos com ouro. Depois disso, repete-se o item anterior. </span>"
      ]
    },
    {
      "cell_type": "code",
      "execution_count": 16,
      "metadata": {
        "id": "gCELU3s3nbim"
      },
      "outputs": [
        {
          "data": {
            "text/html": [
              "<div><div id=b32a3ecf-3904-477c-aea7-b57f1fd89304 style=\"display:none; background-color:#9D6CFF; color:white; width:200px; height:30px; padding-left:5px; border-radius:4px; flex-direction:row; justify-content:space-around; align-items:center;\" onmouseover=\"this.style.backgroundColor='#BA9BF8'\" onmouseout=\"this.style.backgroundColor='#9D6CFF'\" onclick=\"window.commands?.execute('create-mitosheet-from-dataframe-output');\">See Full Dataframe in Mito</div> <script> if (window.commands.hasCommand('create-mitosheet-from-dataframe-output')) document.getElementById('b32a3ecf-3904-477c-aea7-b57f1fd89304').style.display = 'flex' </script> <table border=\"1\" class=\"dataframe\">\n",
              "  <thead>\n",
              "    <tr style=\"text-align: right;\">\n",
              "      <th></th>\n",
              "      <th>Sport</th>\n",
              "      <th>Medal</th>\n",
              "      <th>Total de Medalhas</th>\n",
              "    </tr>\n",
              "  </thead>\n",
              "  <tbody>\n",
              "    <tr>\n",
              "      <th>0</th>\n",
              "      <td>Athletics</td>\n",
              "      <td>Gold</td>\n",
              "      <td>5</td>\n",
              "    </tr>\n",
              "    <tr>\n",
              "      <th>1</th>\n",
              "      <td>Beach Volleyball</td>\n",
              "      <td>Gold</td>\n",
              "      <td>2</td>\n",
              "    </tr>\n",
              "    <tr>\n",
              "      <th>2</th>\n",
              "      <td>Boxing</td>\n",
              "      <td>Gold</td>\n",
              "      <td>1</td>\n",
              "    </tr>\n",
              "    <tr>\n",
              "      <th>3</th>\n",
              "      <td>Equestrianism</td>\n",
              "      <td>Gold</td>\n",
              "      <td>1</td>\n",
              "    </tr>\n",
              "    <tr>\n",
              "      <th>4</th>\n",
              "      <td>Football</td>\n",
              "      <td>Gold</td>\n",
              "      <td>1</td>\n",
              "    </tr>\n",
              "    <tr>\n",
              "      <th>...</th>\n",
              "      <td>...</td>\n",
              "      <td>...</td>\n",
              "      <td>...</td>\n",
              "    </tr>\n",
              "    <tr>\n",
              "      <th>6</th>\n",
              "      <td>Judo</td>\n",
              "      <td>Gold</td>\n",
              "      <td>4</td>\n",
              "    </tr>\n",
              "    <tr>\n",
              "      <th>7</th>\n",
              "      <td>Sailing</td>\n",
              "      <td>Gold</td>\n",
              "      <td>7</td>\n",
              "    </tr>\n",
              "    <tr>\n",
              "      <th>8</th>\n",
              "      <td>Shooting</td>\n",
              "      <td>Gold</td>\n",
              "      <td>1</td>\n",
              "    </tr>\n",
              "    <tr>\n",
              "      <th>9</th>\n",
              "      <td>Swimming</td>\n",
              "      <td>Gold</td>\n",
              "      <td>1</td>\n",
              "    </tr>\n",
              "    <tr>\n",
              "      <th>10</th>\n",
              "      <td>Volleyball</td>\n",
              "      <td>Gold</td>\n",
              "      <td>5</td>\n",
              "    </tr>\n",
              "  </tbody>\n",
              "</table></div>"
            ],
            "text/plain": [
              "               Sport Medal  Total de Medalhas\n",
              "0          Athletics  Gold                  5\n",
              "1   Beach Volleyball  Gold                  2\n",
              "2             Boxing  Gold                  1\n",
              "3      Equestrianism  Gold                  1\n",
              "4           Football  Gold                  1\n",
              "5         Gymnastics  Gold                  1\n",
              "6               Judo  Gold                  4\n",
              "7            Sailing  Gold                  7\n",
              "8           Shooting  Gold                  1\n",
              "9           Swimming  Gold                  1\n",
              "10        Volleyball  Gold                  5"
            ]
          },
          "execution_count": 16,
          "metadata": {},
          "output_type": "execute_result"
        }
      ],
      "source": [
        "df_sports=df_brasil_med.drop_duplicates(subset = ['Event','Games'])\n",
        "\n",
        "df_sports_med = df_sports[df_sports.Medal == 'Gold'].groupby(['Sport','Medal']).size()\n",
        "\n",
        "df_sports_med_gold = df_sports_med.to_frame().reset_index()\n",
        "\n",
        "\n",
        "\n",
        "\n",
        "df_sports_med_gold.rename({df_sports_med_gold.columns[2]:\"Total de Medalhas\"},\n",
        "                        inplace = True, axis = 1)\n",
        "df_sports_med_gold"
      ]
    },
    {
      "cell_type": "code",
      "execution_count": 17,
      "metadata": {},
      "outputs": [
        {
          "data": {
            "image/svg+xml": "<svg class=\"main-svg\" xmlns=\"http://www.w3.org/2000/svg\" xmlns:xlink=\"http://www.w3.org/1999/xlink\" width=\"700\" height=\"500\" style=\"\" viewBox=\"0 0 700 500\"><rect x=\"0\" y=\"0\" width=\"700\" height=\"500\" style=\"fill: rgb(255, 255, 255); fill-opacity: 1;\"/><defs id=\"defs-ea0d4a\"><g class=\"clips\"><clipPath id=\"clipea0d4axyplot\" class=\"plotclip\"><rect width=\"525\" height=\"249.084\"/></clipPath><clipPath id=\"clipea0d4ax2y2plot\" class=\"plotclip\"><rect width=\"525\" height=\"87.51599999999999\"/></clipPath><clipPath class=\"axesclip\" id=\"clipea0d4ax\"><rect x=\"80\" y=\"0\" width=\"525\" height=\"500\"/></clipPath><clipPath class=\"axesclip\" id=\"clipea0d4ay\"><rect x=\"0\" y=\"150.916\" width=\"700\" height=\"249.084\"/></clipPath><clipPath class=\"axesclip\" id=\"clipea0d4axy\"><rect x=\"80\" y=\"150.916\" width=\"525\" height=\"249.084\"/></clipPath><clipPath class=\"axesclip\" id=\"clipea0d4ay2\"><rect x=\"0\" y=\"60\" width=\"700\" height=\"87.51599999999999\"/></clipPath><clipPath class=\"axesclip\" id=\"clipea0d4axy2\"><rect x=\"80\" y=\"60\" width=\"525\" height=\"87.51599999999999\"/></clipPath><clipPath class=\"axesclip\" id=\"clipea0d4ax2\"><rect x=\"80\" y=\"0\" width=\"525\" height=\"500\"/></clipPath><clipPath class=\"axesclip\" id=\"clipea0d4ax2y\"><rect x=\"80\" y=\"150.916\" width=\"525\" height=\"249.084\"/></clipPath><clipPath class=\"axesclip\" id=\"clipea0d4ax2y2\"><rect x=\"80\" y=\"60\" width=\"525\" height=\"87.51599999999999\"/></clipPath></g><g class=\"gradients\"/><g class=\"patterns\"/></defs><g class=\"bglayer\"><rect class=\"bg\" x=\"80\" y=\"150.916\" width=\"525\" height=\"249.084\" style=\"fill: rgb(229, 236, 246); fill-opacity: 1; stroke-width: 0;\"/><rect class=\"bg\" x=\"80\" y=\"60\" width=\"525\" height=\"87.51599999999999\" style=\"fill: rgb(229, 236, 246); fill-opacity: 1; stroke-width: 0;\"/></g><g class=\"layer-below\"><g class=\"imagelayer\"/><g class=\"shapelayer\"/></g><g class=\"cartesianlayer\"><g class=\"subplot xy\"><g class=\"layer-subplot\"><g class=\"shapelayer\"/><g class=\"imagelayer\"/></g><g class=\"gridlayer\"><g class=\"x\"/><g class=\"y\"><path class=\"ygrid crisp\" transform=\"translate(0,332.39599999999996)\" d=\"M80,0h525\" style=\"stroke: rgb(255, 255, 255); stroke-opacity: 1; stroke-width: 1px;\"/><path class=\"ygrid crisp\" transform=\"translate(0,264.786)\" d=\"M80,0h525\" style=\"stroke: rgb(255, 255, 255); stroke-opacity: 1; stroke-width: 1px;\"/><path class=\"ygrid crisp\" transform=\"translate(0,197.176)\" d=\"M80,0h525\" style=\"stroke: rgb(255, 255, 255); stroke-opacity: 1; stroke-width: 1px;\"/></g></g><g class=\"zerolinelayer\"><path class=\"yzl zl crisp\" transform=\"translate(0,399.996)\" d=\"M80,0h525\" style=\"stroke: rgb(255, 255, 255); stroke-opacity: 1; stroke-width: 2px;\"/></g><path class=\"xlines-below\"/><path class=\"ylines-below\"/><g class=\"overlines-below\"/><g class=\"xaxislayer-below\"/><g class=\"yaxislayer-below\"/><g class=\"overaxes-below\"/><g class=\"plot\" transform=\"translate(80,150.916)\" clip-path=\"url(#clipea0d4axyplot)\"><g class=\"barlayer mlayer\"><g class=\"trace bars\" style=\"opacity: 1;\"><g class=\"points\"><g class=\"point\"><path d=\"M7.35,249.08V80.06H45.15V249.08Z\" style=\"vector-effect: non-scaling-stroke; opacity: 1; stroke-width: 0px; fill: rgb(255, 215, 0); fill-opacity: 1;\"/></g><g class=\"point\"><path d=\"M54.6,249.08V181.48H92.4V249.08Z\" style=\"vector-effect: non-scaling-stroke; opacity: 1; stroke-width: 0px; fill: rgb(255, 215, 0); fill-opacity: 1;\"/></g><g class=\"point\"><path d=\"M101.85,249.08V215.28H139.65V249.08Z\" style=\"vector-effect: non-scaling-stroke; opacity: 1; stroke-width: 0px; fill: rgb(255, 215, 0); fill-opacity: 1;\"/></g><g class=\"point\"><path d=\"M149.1,249.08V215.28H186.9V249.08Z\" style=\"vector-effect: non-scaling-stroke; opacity: 1; stroke-width: 0px; fill: rgb(255, 215, 0); fill-opacity: 1;\"/></g><g class=\"point\"><path d=\"M196.35,249.08V215.28H234.15V249.08Z\" style=\"vector-effect: non-scaling-stroke; opacity: 1; stroke-width: 0px; fill: rgb(255, 215, 0); fill-opacity: 1;\"/></g><g class=\"point\"><path d=\"M243.6,249.08V215.28H281.4V249.08Z\" style=\"vector-effect: non-scaling-stroke; opacity: 1; stroke-width: 0px; fill: rgb(255, 215, 0); fill-opacity: 1;\"/></g><g class=\"point\"><path d=\"M290.85,249.08V113.87H328.65V249.08Z\" style=\"vector-effect: non-scaling-stroke; opacity: 1; stroke-width: 0px; fill: rgb(255, 215, 0); fill-opacity: 1;\"/></g><g class=\"point\"><path d=\"M338.1,249.08V12.45H375.9V249.08Z\" style=\"vector-effect: non-scaling-stroke; opacity: 1; stroke-width: 0px; fill: rgb(255, 215, 0); fill-opacity: 1;\"/></g><g class=\"point\"><path d=\"M385.35,249.08V215.28H423.15V249.08Z\" style=\"vector-effect: non-scaling-stroke; opacity: 1; stroke-width: 0px; fill: rgb(255, 215, 0); fill-opacity: 1;\"/></g><g class=\"point\"><path d=\"M432.6,249.08V215.28H470.4V249.08Z\" style=\"vector-effect: non-scaling-stroke; opacity: 1; stroke-width: 0px; fill: rgb(255, 215, 0); fill-opacity: 1;\"/></g><g class=\"point\"><path d=\"M479.85,249.08V80.06H517.65V249.08Z\" style=\"vector-effect: non-scaling-stroke; opacity: 1; stroke-width: 0px; fill: rgb(255, 215, 0); fill-opacity: 1;\"/></g></g></g></g></g><g class=\"overplot\"/><path class=\"xlines-above crisp\" d=\"M0,0\" style=\"fill: none;\"/><path class=\"ylines-above crisp\" d=\"M0,0\" style=\"fill: none;\"/><g class=\"overlines-above\"/><g class=\"xaxislayer-above\"><g class=\"xtick\"><text text-anchor=\"start\" x=\"0\" y=\"413\" transform=\"translate(106.25,0) rotate(30,0,407)\" style=\"font-family: 'Open Sans', verdana, arial, sans-serif; font-size: 12px; fill: rgb(42, 63, 95); fill-opacity: 1; white-space: pre; opacity: 1;\">Athletics</text></g><g class=\"xtick\"><text text-anchor=\"start\" x=\"0\" y=\"413\" transform=\"translate(153.5,0) rotate(30,0,407)\" style=\"font-family: 'Open Sans', verdana, arial, sans-serif; font-size: 12px; fill: rgb(42, 63, 95); fill-opacity: 1; white-space: pre; opacity: 1;\">Beach Volleyball</text></g><g class=\"xtick\"><text text-anchor=\"start\" x=\"0\" y=\"413\" transform=\"translate(200.75,0) rotate(30,0,407)\" style=\"font-family: 'Open Sans', verdana, arial, sans-serif; font-size: 12px; fill: rgb(42, 63, 95); fill-opacity: 1; white-space: pre; opacity: 1;\">Boxing</text></g><g class=\"xtick\"><text text-anchor=\"start\" x=\"0\" y=\"413\" transform=\"translate(248,0) rotate(30,0,407)\" style=\"font-family: 'Open Sans', verdana, arial, sans-serif; font-size: 12px; fill: rgb(42, 63, 95); fill-opacity: 1; white-space: pre; opacity: 1;\">Equestrianism</text></g><g class=\"xtick\"><text text-anchor=\"start\" x=\"0\" y=\"413\" transform=\"translate(295.25,0) rotate(30,0,407)\" style=\"font-family: 'Open Sans', verdana, arial, sans-serif; font-size: 12px; fill: rgb(42, 63, 95); fill-opacity: 1; white-space: pre; opacity: 1;\">Football</text></g><g class=\"xtick\"><text text-anchor=\"start\" x=\"0\" y=\"413\" transform=\"translate(342.5,0) rotate(30,0,407)\" style=\"font-family: 'Open Sans', verdana, arial, sans-serif; font-size: 12px; fill: rgb(42, 63, 95); fill-opacity: 1; white-space: pre; opacity: 1;\">Gymnastics</text></g><g class=\"xtick\"><text text-anchor=\"start\" x=\"0\" y=\"413\" transform=\"translate(389.75,0) rotate(30,0,407)\" style=\"font-family: 'Open Sans', verdana, arial, sans-serif; font-size: 12px; fill: rgb(42, 63, 95); fill-opacity: 1; white-space: pre; opacity: 1;\">Judo</text></g><g class=\"xtick\"><text text-anchor=\"start\" x=\"0\" y=\"413\" transform=\"translate(437,0) rotate(30,0,407)\" style=\"font-family: 'Open Sans', verdana, arial, sans-serif; font-size: 12px; fill: rgb(42, 63, 95); fill-opacity: 1; white-space: pre; opacity: 1;\">Sailing</text></g><g class=\"xtick\"><text text-anchor=\"start\" x=\"0\" y=\"413\" transform=\"translate(484.25,0) rotate(30,0,407)\" style=\"font-family: 'Open Sans', verdana, arial, sans-serif; font-size: 12px; fill: rgb(42, 63, 95); fill-opacity: 1; white-space: pre; opacity: 1;\">Shooting</text></g><g class=\"xtick\"><text text-anchor=\"start\" x=\"0\" y=\"413\" transform=\"translate(531.5,0) rotate(30,0,407)\" style=\"font-family: 'Open Sans', verdana, arial, sans-serif; font-size: 12px; fill: rgb(42, 63, 95); fill-opacity: 1; white-space: pre; opacity: 1;\">Swimming</text></g><g class=\"xtick\"><text text-anchor=\"start\" x=\"0\" y=\"413\" transform=\"translate(578.75,0) rotate(30,0,407)\" style=\"font-family: 'Open Sans', verdana, arial, sans-serif; font-size: 12px; fill: rgb(42, 63, 95); fill-opacity: 1; white-space: pre; opacity: 1;\">Volleyball</text></g></g><g class=\"yaxislayer-above\"><g class=\"ytick\"><text text-anchor=\"end\" x=\"79\" y=\"4.199999999999999\" transform=\"translate(0,399.996)\" style=\"font-family: 'Open Sans', verdana, arial, sans-serif; font-size: 12px; fill: rgb(42, 63, 95); fill-opacity: 1; white-space: pre; opacity: 1;\">0</text></g><g class=\"ytick\"><text text-anchor=\"end\" x=\"79\" y=\"4.199999999999999\" style=\"font-family: 'Open Sans', verdana, arial, sans-serif; font-size: 12px; fill: rgb(42, 63, 95); fill-opacity: 1; white-space: pre; opacity: 1;\" transform=\"translate(0,332.39599999999996)\">2</text></g><g class=\"ytick\"><text text-anchor=\"end\" x=\"79\" y=\"4.199999999999999\" style=\"font-family: 'Open Sans', verdana, arial, sans-serif; font-size: 12px; fill: rgb(42, 63, 95); fill-opacity: 1; white-space: pre; opacity: 1;\" transform=\"translate(0,264.786)\">4</text></g><g class=\"ytick\"><text text-anchor=\"end\" x=\"79\" y=\"4.199999999999999\" style=\"font-family: 'Open Sans', verdana, arial, sans-serif; font-size: 12px; fill: rgb(42, 63, 95); fill-opacity: 1; white-space: pre; opacity: 1;\" transform=\"translate(0,197.176)\">6</text></g></g><g class=\"overaxes-above\"/></g><g class=\"subplot x2y2\"><g class=\"layer-subplot\"><g class=\"shapelayer\"/><g class=\"imagelayer\"/></g><g class=\"gridlayer\"><g class=\"x2\"><path class=\"x2grid crisp\" transform=\"translate(106.25,0)\" d=\"M0,60v87.51599999999999\" style=\"stroke: rgb(255, 255, 255); stroke-opacity: 1; stroke-width: 1px;\"/><path class=\"x2grid crisp\" transform=\"translate(153.5,0)\" d=\"M0,60v87.51599999999999\" style=\"stroke: rgb(255, 255, 255); stroke-opacity: 1; stroke-width: 1px;\"/><path class=\"x2grid crisp\" transform=\"translate(200.75,0)\" d=\"M0,60v87.51599999999999\" style=\"stroke: rgb(255, 255, 255); stroke-opacity: 1; stroke-width: 1px;\"/><path class=\"x2grid crisp\" transform=\"translate(248,0)\" d=\"M0,60v87.51599999999999\" style=\"stroke: rgb(255, 255, 255); stroke-opacity: 1; stroke-width: 1px;\"/><path class=\"x2grid crisp\" transform=\"translate(295.25,0)\" d=\"M0,60v87.51599999999999\" style=\"stroke: rgb(255, 255, 255); stroke-opacity: 1; stroke-width: 1px;\"/><path class=\"x2grid crisp\" transform=\"translate(342.5,0)\" d=\"M0,60v87.51599999999999\" style=\"stroke: rgb(255, 255, 255); stroke-opacity: 1; stroke-width: 1px;\"/><path class=\"x2grid crisp\" transform=\"translate(389.75,0)\" d=\"M0,60v87.51599999999999\" style=\"stroke: rgb(255, 255, 255); stroke-opacity: 1; stroke-width: 1px;\"/><path class=\"x2grid crisp\" transform=\"translate(437,0)\" d=\"M0,60v87.51599999999999\" style=\"stroke: rgb(255, 255, 255); stroke-opacity: 1; stroke-width: 1px;\"/><path class=\"x2grid crisp\" transform=\"translate(484.25,0)\" d=\"M0,60v87.51599999999999\" style=\"stroke: rgb(255, 255, 255); stroke-opacity: 1; stroke-width: 1px;\"/><path class=\"x2grid crisp\" transform=\"translate(531.5,0)\" d=\"M0,60v87.51599999999999\" style=\"stroke: rgb(255, 255, 255); stroke-opacity: 1; stroke-width: 1px;\"/><path class=\"x2grid crisp\" transform=\"translate(578.75,0)\" d=\"M0,60v87.51599999999999\" style=\"stroke: rgb(255, 255, 255); stroke-opacity: 1; stroke-width: 1px;\"/></g><g class=\"y2\"/></g><g class=\"zerolinelayer\"/><path class=\"xlines-below\"/><path class=\"ylines-below\"/><g class=\"overlines-below\"/><g class=\"xaxislayer-below\"/><g class=\"yaxislayer-below\"/><g class=\"overaxes-below\"/><g class=\"plot\" transform=\"translate(80,60)\" clip-path=\"url(#clipea0d4ax2y2plot)\"><g class=\"boxlayer mlayer\"><g class=\"trace boxes\" style=\"opacity: 1;\"><path class=\"box\" d=\"M262.5,54.48V33.04M132.56,65.2V22.32H139.48L262.5,33.04L385.52,22.32H392.44V65.2H385.52L262.5,54.48L139.48,65.2ZM132.56,43.76H26.25M392.44,43.76H498.75M26.25,54.48V33.04M498.75,54.48V33.04\" style=\"vector-effect: non-scaling-stroke; stroke-width: 2px; stroke: rgb(255, 215, 0); stroke-opacity: 1; fill: rgb(255, 215, 0); fill-opacity: 0.5;\"/><g class=\"points\"/></g></g></g><g class=\"overplot\"/><path class=\"xlines-above crisp\" d=\"M0,0\" style=\"fill: none;\"/><path class=\"ylines-above crisp\" d=\"M0,0\" style=\"fill: none;\"/><g class=\"overlines-above\"/><g class=\"xaxislayer-above\"/><g class=\"yaxislayer-above\"/><g class=\"overaxes-above\"/></g></g><g class=\"polarlayer\"/><g class=\"ternarylayer\"/><g class=\"geolayer\"/><g class=\"funnelarealayer\"/><g class=\"pielayer\"/><g class=\"iciclelayer\"/><g class=\"treemaplayer\"/><g class=\"sunburstlayer\"/><g class=\"glimages\"/><defs id=\"topdefs-ea0d4a\"><g class=\"clips\"/><clipPath id=\"legendea0d4a\"><rect width=\"73\" height=\"48\" x=\"0\" y=\"0\"/></clipPath></defs><g class=\"layer-above\"><g class=\"imagelayer\"/><g class=\"shapelayer\"/></g><g class=\"infolayer\"><g class=\"legend\" pointer-events=\"all\" transform=\"translate(615.5,60)\"><rect class=\"bg\" shape-rendering=\"crispEdges\" width=\"73\" height=\"48\" x=\"0\" y=\"0\" style=\"stroke: rgb(68, 68, 68); stroke-opacity: 1; fill: rgb(255, 255, 255); fill-opacity: 1; stroke-width: 0px;\"/><g class=\"scrollbox\" transform=\"\" clip-path=\"url(#legendea0d4a)\"><text class=\"legendtitletext\" text-anchor=\"start\" x=\"2\" y=\"18.2\" style=\"font-family: 'Open Sans', verdana, arial, sans-serif; font-size: 14px; fill: rgb(42, 63, 95); fill-opacity: 1; white-space: pre;\">Medal</text><g class=\"groups\" transform=\"\"><g class=\"traces\" transform=\"translate(0,32.7)\" style=\"opacity: 1;\"><text class=\"legendtext\" text-anchor=\"start\" x=\"40\" y=\"4.680000000000001\" style=\"font-family: 'Open Sans', verdana, arial, sans-serif; font-size: 12px; fill: rgb(42, 63, 95); fill-opacity: 1; white-space: pre;\">Gold</text><g class=\"layers\" style=\"opacity: 1;\"><g class=\"legendfill\"/><g class=\"legendlines\"/><g class=\"legendsymbols\"><g class=\"legendpoints\"><path class=\"legendundefined\" d=\"M6,6H-6V-6H6Z\" transform=\"translate(20,0)\" style=\"stroke-width: 0px; fill: rgb(255, 215, 0); fill-opacity: 1;\"/></g></g></g><rect class=\"legendtoggle\" x=\"0\" y=\"-9.5\" width=\"67.359375\" height=\"19\" style=\"fill: rgb(0, 0, 0); fill-opacity: 0;\"/></g></g></g><rect class=\"scrollbar\" rx=\"20\" ry=\"3\" width=\"0\" height=\"0\" x=\"0\" y=\"0\" style=\"fill: rgb(128, 139, 164); fill-opacity: 1;\"/></g><g class=\"g-gtitle\"/><g class=\"g-xtitle\"><text class=\"xtitle\" x=\"342.5\" y=\"488.286328125\" text-anchor=\"middle\" style=\"font-family: 'Open Sans', verdana, arial, sans-serif; font-size: 14px; fill: rgb(42, 63, 95); opacity: 1; font-weight: normal; white-space: pre;\">Sport</text></g><g class=\"g-x2title\"/><g class=\"g-ytitle\"><text class=\"ytitle\" transform=\"rotate(-90,46.559375,275.45799999999997)\" x=\"46.559375\" y=\"275.45799999999997\" text-anchor=\"middle\" style=\"font-family: 'Open Sans', verdana, arial, sans-serif; font-size: 14px; fill: rgb(42, 63, 95); opacity: 1; font-weight: normal; white-space: pre;\">sum of Total de Medalhas</text></g><g class=\"g-y2title\"/></g></svg>"
          },
          "metadata": {},
          "output_type": "display_data"
        }
      ],
      "source": [
        "import plotly.express as px\n",
        "\n",
        "fig = px.histogram(df_sports_med_gold, x='Sport', y='Total de Medalhas', color='Medal', \n",
        "                marginal='box',\n",
        "                hover_data =df_sports_med_gold.columns,\n",
        "                color_discrete_sequence = ['gold'])\n",
        "fig.show('svg')"
      ]
    },
    {
      "cell_type": "markdown",
      "metadata": {
        "id": "rihddscQnbim"
      },
      "source": [
        "Agora faça um gráfico de setores (pizza) mostrando a distribuição de medalhas de ouro do Brasil por esporte."
      ]
    },
    {
      "cell_type": "markdown",
      "metadata": {},
      "source": [
        "<span style = 'color: green; font-size: 1.4em'><br> &nbsp;&nbsp;&nbsp;&nbsp;&nbsp;&nbsp;&nbsp;&nbsp; A partir do dataset *df_sports_med_gold*, já obtido em item anterior já contém as infos necessárias. O gráfico de pizza  </span>"
      ]
    },
    {
      "cell_type": "code",
      "execution_count": 18,
      "metadata": {
        "id": "kUxNqEyUnbim"
      },
      "outputs": [
        {
          "data": {
            "image/svg+xml": "<svg class=\"main-svg\" xmlns=\"http://www.w3.org/2000/svg\" xmlns:xlink=\"http://www.w3.org/1999/xlink\" width=\"700\" height=\"500\" style=\"\" viewBox=\"0 0 700 500\"><rect x=\"0\" y=\"0\" width=\"700\" height=\"500\" style=\"fill: rgb(255, 255, 255); fill-opacity: 1;\"/><defs id=\"defs-690240\"><g class=\"clips\"/><g class=\"gradients\"/><g class=\"patterns\"/></defs><g class=\"bglayer\"/><g class=\"layer-below\"><g class=\"imagelayer\"/><g class=\"shapelayer\"/></g><g class=\"cartesianlayer\"/><g class=\"polarlayer\"/><g class=\"ternarylayer\"/><g class=\"geolayer\"/><g class=\"funnelarealayer\"/><g class=\"pielayer\"><g class=\"trace\" stroke-linejoin=\"round\" style=\"opacity: 1;\"><g class=\"slice\"><path class=\"surface\" d=\"M307.5,260l0,-160a160,160 0 0 1 159.7653462161798,151.33777462633319Z\" style=\"pointer-events: all; stroke-width: 0; fill: rgb(99, 110, 250); fill-opacity: 1; stroke: rgb(68, 68, 68); stroke-opacity: 1;\"/><g class=\"slicetext\"><text data-notex=\"1\" class=\"slicetext\" transform=\"translate(372.69639076693215,195.92300707875066)\" text-anchor=\"middle\" x=\"0\" y=\"0\" style=\"font-family: 'Open Sans', verdana, arial, sans-serif; font-size: 12px; fill: rgb(255, 255, 255); fill-opacity: 1; white-space: pre;\">24.1%</text></g></g><g class=\"slice\"><path class=\"surface\" d=\"M307.5,260l-141.36192711136368,-74.94535051196642a160,160 0 0 1 141.36192711136368,-85.05464948803358Z\" style=\"pointer-events: all; stroke-width: 0; fill: rgb(239, 85, 59); fill-opacity: 1; stroke: rgb(68, 68, 68); stroke-opacity: 1;\"/><g class=\"slicetext\"><text data-notex=\"1\" class=\"slicetext\" transform=\"translate(253.07196581454875,174.28990348968452)\" text-anchor=\"middle\" x=\"0\" y=\"0\" style=\"font-family: 'Open Sans', verdana, arial, sans-serif; font-size: 12px; fill: rgb(68, 68, 68); fill-opacity: 1; white-space: pre;\">17.2%</text></g></g><g class=\"slice\"><path class=\"surface\" d=\"M307.5,260l-132.43023970510248,89.78993045798117a160,160 0 0 1 -8.931687406261204,-164.7352809699476Z\" style=\"pointer-events: all; stroke-width: 0; fill: rgb(0, 204, 150); fill-opacity: 1; stroke: rgb(68, 68, 68); stroke-opacity: 1;\"/><g class=\"slicetext\"><text data-notex=\"1\" class=\"slicetext\" transform=\"translate(202.08286456822452,270.46555100641666)\" text-anchor=\"middle\" x=\"0\" y=\"0\" style=\"font-family: 'Open Sans', verdana, arial, sans-serif; font-size: 12px; fill: rgb(68, 68, 68); fill-opacity: 1; white-space: pre;\">17.2%</text></g></g><g class=\"slice\"><path class=\"surface\" d=\"M307.5,260l-17.29904294783064,159.06207314469754a160,160 0 0 1 -115.13119675727184,-69.27214268671636Z\" style=\"pointer-events: all; stroke-width: 0; fill: rgb(171, 99, 250); fill-opacity: 1; stroke: rgb(68, 68, 68); stroke-opacity: 1;\"/><g class=\"slicetext\"><text data-notex=\"1\" class=\"slicetext\" transform=\"translate(249.4048874608026,361.3048281454961)\" text-anchor=\"middle\" x=\"0\" y=\"0\" style=\"font-family: 'Open Sans', verdana, arial, sans-serif; font-size: 12px; fill: rgb(68, 68, 68); fill-opacity: 1; white-space: pre;\">13.8%</text></g></g><g class=\"slice\"><path class=\"surface\" d=\"M307.5,260l51.08824482175686,151.62450738924838a160,160 0 0 1 -68.3872877695875,7.437565755449157Z\" style=\"pointer-events: all; stroke-width: 0; fill: rgb(255, 161, 90); fill-opacity: 1; stroke: rgb(68, 68, 68); stroke-opacity: 1;\"/><g class=\"slicetext\"><text data-notex=\"1\" class=\"slicetext\" transform=\"translate(321.73824183313144,395.66847166015873)\" text-anchor=\"middle\" x=\"0\" y=\"0\" style=\"font-family: 'Open Sans', verdana, arial, sans-serif; font-size: 12px; fill: rgb(68, 68, 68); fill-opacity: 1; white-space: pre;\">6.9%</text></g></g><g class=\"slice\"><path class=\"surface\" d=\"M307.5,260l82.48861714832356,137.09714818681422a160,160 0 0 1 -31.400372326566696,14.527359202434155Z\" style=\"pointer-events: all; stroke-width: 0; fill: rgb(25, 211, 243); fill-opacity: 1; stroke: rgb(68, 68, 68); stroke-opacity: 1;\"/><g class=\"slicetext\"><text data-notex=\"1\" class=\"slicetext\" transform=\"translate(357.6123516114834,379.6285837327958)rotate(65.17241379310337)\" text-anchor=\"middle\" x=\"0\" y=\"0\" style=\"font-family: 'Open Sans', verdana, arial, sans-serif; font-size: 12px; fill: rgb(68, 68, 68); fill-opacity: 1; white-space: pre;\">3.45%</text></g></g><g class=\"slice\"><path class=\"surface\" d=\"M307.5,260l110.03191341654781,116.15927870770086a160,160 0 0 1 -27.543296268224253,20.93786947911336Z\" style=\"pointer-events: all; stroke-width: 0; fill: rgb(255, 102, 146); fill-opacity: 1; stroke: rgb(68, 68, 68); stroke-opacity: 1;\"/><g class=\"slicetext\"><text data-notex=\"1\" class=\"slicetext\" transform=\"translate(382.1573619856066,366.0590596380034)rotate(52.75862068965512)\" text-anchor=\"middle\" x=\"0\" y=\"0\" style=\"font-family: 'Open Sans', verdana, arial, sans-serif; font-size: 12px; fill: rgb(68, 68, 68); fill-opacity: 1; white-space: pre;\">3.45%</text></g></g><g class=\"slice\"><path class=\"surface\" d=\"M307.5,260l132.43023970510248,89.7899304579812a160,160 0 0 1 -22.39832628855467,26.369348249719664Z\" style=\"pointer-events: all; stroke-width: 0; fill: rgb(182, 232, 128); fill-opacity: 1; stroke: rgb(68, 68, 68); stroke-opacity: 1;\"/><g class=\"slicetext\"><text data-notex=\"1\" class=\"slicetext\" transform=\"translate(403.211477088981,347.53033179071656)rotate(40.34482758620686)\" text-anchor=\"middle\" x=\"0\" y=\"0\" style=\"font-family: 'Open Sans', verdana, arial, sans-serif; font-size: 12px; fill: rgb(68, 68, 68); fill-opacity: 1; white-space: pre;\">3.45%</text></g></g><g class=\"slice\"><path class=\"surface\" d=\"M307.5,260l148.6362751706866,59.222104854386444a160,160 0 0 1 -16.206035465584108,30.567825603594756Z\" style=\"pointer-events: all; stroke-width: 0; fill: rgb(255, 151, 255); fill-opacity: 1; stroke: rgb(68, 68, 68); stroke-opacity: 1;\"/><g class=\"slicetext\"><text data-notex=\"1\" class=\"slicetext\" transform=\"translate(419.79022989934117,324.9087829118724)rotate(27.931034482758605)\" text-anchor=\"middle\" x=\"0\" y=\"0\" style=\"font-family: 'Open Sans', verdana, arial, sans-serif; font-size: 12px; fill: rgb(68, 68, 68); fill-opacity: 1; white-space: pre;\">3.45%</text></g></g><g class=\"slice\"><path class=\"surface\" d=\"M307.5,260l157.89224360664412,25.88511944844264a160,160 0 0 1 -9.255968435957527,33.33698540594381Z\" style=\"pointer-events: all; stroke-width: 0; fill: rgb(254, 203, 82); fill-opacity: 1; stroke: rgb(68, 68, 68); stroke-opacity: 1;\"/><g class=\"slicetext\"><text data-notex=\"1\" class=\"slicetext\" transform=\"translate(431.11841636123495,299.2521714849998)rotate(15.517241379310406)\" text-anchor=\"middle\" x=\"0\" y=\"0\" style=\"font-family: 'Open Sans', verdana, arial, sans-serif; font-size: 12px; fill: rgb(68, 68, 68); fill-opacity: 1; white-space: pre;\">3.45%</text></g></g><g class=\"slice\"><path class=\"surface\" d=\"M307.5,260l159.76534621617984,-8.662225373666388a160,160 0 0 1 -1.8731026095357208,34.547344822109025Z\" style=\"pointer-events: all; stroke-width: 0; fill: rgb(198, 202, 253); fill-opacity: 1; stroke: rgb(68, 68, 68); stroke-opacity: 1;\"/><g class=\"slicetext\"><text data-notex=\"1\" class=\"slicetext\" transform=\"translate(436.66634306607915,271.7601721451439)rotate(3.103448275862206)\" text-anchor=\"middle\" x=\"0\" y=\"0\" style=\"font-family: 'Open Sans', verdana, arial, sans-serif; font-size: 12px; fill: rgb(68, 68, 68); fill-opacity: 1; white-space: pre;\">3.45%</text></g></g></g></g><g class=\"iciclelayer\"/><g class=\"treemaplayer\"/><g class=\"sunburstlayer\"/><g class=\"glimages\"/><defs id=\"topdefs-690240\"><g class=\"clips\"/><clipPath id=\"legend690240\"><rect width=\"144\" height=\"219\" x=\"0\" y=\"0\"/></clipPath></defs><g class=\"layer-above\"><g class=\"imagelayer\"/><g class=\"shapelayer\"/></g><g class=\"infolayer\"><g class=\"legend\" pointer-events=\"all\" transform=\"translate(544.1,100)\"><rect class=\"bg\" shape-rendering=\"crispEdges\" style=\"stroke: rgb(68, 68, 68); stroke-opacity: 1; fill: rgb(255, 255, 255); fill-opacity: 1; stroke-width: 0px;\" width=\"144\" height=\"219\" x=\"0\" y=\"0\"/><g class=\"scrollbox\" transform=\"\" clip-path=\"url(#legend690240)\"><g class=\"groups\"><g class=\"traces\" transform=\"translate(0,14.5)\" style=\"opacity: 1;\"><text class=\"legendtext\" text-anchor=\"start\" x=\"40\" y=\"4.680000000000001\" style=\"font-family: 'Open Sans', verdana, arial, sans-serif; font-size: 12px; fill: rgb(42, 63, 95); fill-opacity: 1; white-space: pre;\">Sailing</text><g class=\"layers\" style=\"opacity: 1;\"><g class=\"legendfill\"/><g class=\"legendlines\"/><g class=\"legendsymbols\"><g class=\"legendpoints\"><path class=\"legendpie\" d=\"M6,6H-6V-6H6Z\" transform=\"translate(20,0)\" style=\"stroke-width: 0; fill: rgb(99, 110, 250); fill-opacity: 1; stroke: rgb(68, 68, 68); stroke-opacity: 1;\"/></g></g></g><rect class=\"legendtoggle\" x=\"0\" y=\"-9.5\" width=\"138.25\" height=\"19\" style=\"fill: rgb(0, 0, 0); fill-opacity: 0;\"/></g><g class=\"traces\" transform=\"translate(0,33.5)\" style=\"opacity: 1;\"><text class=\"legendtext\" text-anchor=\"start\" x=\"40\" y=\"4.680000000000001\" style=\"font-family: 'Open Sans', verdana, arial, sans-serif; font-size: 12px; fill: rgb(42, 63, 95); fill-opacity: 1; white-space: pre;\">Athletics</text><g class=\"layers\" style=\"opacity: 1;\"><g class=\"legendfill\"/><g class=\"legendlines\"/><g class=\"legendsymbols\"><g class=\"legendpoints\"><path class=\"legendpie\" d=\"M6,6H-6V-6H6Z\" transform=\"translate(20,0)\" style=\"stroke-width: 0; fill: rgb(239, 85, 59); fill-opacity: 1; stroke: rgb(68, 68, 68); stroke-opacity: 1;\"/></g></g></g><rect class=\"legendtoggle\" x=\"0\" y=\"-9.5\" width=\"138.25\" height=\"19\" style=\"fill: rgb(0, 0, 0); fill-opacity: 0;\"/></g><g class=\"traces\" transform=\"translate(0,52.5)\" style=\"opacity: 1;\"><text class=\"legendtext\" text-anchor=\"start\" x=\"40\" y=\"4.680000000000001\" style=\"font-family: 'Open Sans', verdana, arial, sans-serif; font-size: 12px; fill: rgb(42, 63, 95); fill-opacity: 1; white-space: pre;\">Volleyball</text><g class=\"layers\" style=\"opacity: 1;\"><g class=\"legendfill\"/><g class=\"legendlines\"/><g class=\"legendsymbols\"><g class=\"legendpoints\"><path class=\"legendpie\" d=\"M6,6H-6V-6H6Z\" transform=\"translate(20,0)\" style=\"stroke-width: 0; fill: rgb(0, 204, 150); fill-opacity: 1; stroke: rgb(68, 68, 68); stroke-opacity: 1;\"/></g></g></g><rect class=\"legendtoggle\" x=\"0\" y=\"-9.5\" width=\"138.25\" height=\"19\" style=\"fill: rgb(0, 0, 0); fill-opacity: 0;\"/></g><g class=\"traces\" transform=\"translate(0,71.5)\" style=\"opacity: 1;\"><text class=\"legendtext\" text-anchor=\"start\" x=\"40\" y=\"4.680000000000001\" style=\"font-family: 'Open Sans', verdana, arial, sans-serif; font-size: 12px; fill: rgb(42, 63, 95); fill-opacity: 1; white-space: pre;\">Judo</text><g class=\"layers\" style=\"opacity: 1;\"><g class=\"legendfill\"/><g class=\"legendlines\"/><g class=\"legendsymbols\"><g class=\"legendpoints\"><path class=\"legendpie\" d=\"M6,6H-6V-6H6Z\" transform=\"translate(20,0)\" style=\"stroke-width: 0; fill: rgb(171, 99, 250); fill-opacity: 1; stroke: rgb(68, 68, 68); stroke-opacity: 1;\"/></g></g></g><rect class=\"legendtoggle\" x=\"0\" y=\"-9.5\" width=\"138.25\" height=\"19\" style=\"fill: rgb(0, 0, 0); fill-opacity: 0;\"/></g><g class=\"traces\" transform=\"translate(0,90.5)\" style=\"opacity: 1;\"><text class=\"legendtext\" text-anchor=\"start\" x=\"40\" y=\"4.680000000000001\" style=\"font-family: 'Open Sans', verdana, arial, sans-serif; font-size: 12px; fill: rgb(42, 63, 95); fill-opacity: 1; white-space: pre;\">Beach Volleyball</text><g class=\"layers\" style=\"opacity: 1;\"><g class=\"legendfill\"/><g class=\"legendlines\"/><g class=\"legendsymbols\"><g class=\"legendpoints\"><path class=\"legendpie\" d=\"M6,6H-6V-6H6Z\" transform=\"translate(20,0)\" style=\"stroke-width: 0; fill: rgb(255, 161, 90); fill-opacity: 1; stroke: rgb(68, 68, 68); stroke-opacity: 1;\"/></g></g></g><rect class=\"legendtoggle\" x=\"0\" y=\"-9.5\" width=\"138.25\" height=\"19\" style=\"fill: rgb(0, 0, 0); fill-opacity: 0;\"/></g><g class=\"traces\" transform=\"translate(0,109.5)\" style=\"opacity: 1;\"><text class=\"legendtext\" text-anchor=\"start\" x=\"40\" y=\"4.680000000000001\" style=\"font-family: 'Open Sans', verdana, arial, sans-serif; font-size: 12px; fill: rgb(42, 63, 95); fill-opacity: 1; white-space: pre;\">Boxing</text><g class=\"layers\" style=\"opacity: 1;\"><g class=\"legendfill\"/><g class=\"legendlines\"/><g class=\"legendsymbols\"><g class=\"legendpoints\"><path class=\"legendpie\" d=\"M6,6H-6V-6H6Z\" transform=\"translate(20,0)\" style=\"stroke-width: 0; fill: rgb(25, 211, 243); fill-opacity: 1; stroke: rgb(68, 68, 68); stroke-opacity: 1;\"/></g></g></g><rect class=\"legendtoggle\" x=\"0\" y=\"-9.5\" width=\"138.25\" height=\"19\" style=\"fill: rgb(0, 0, 0); fill-opacity: 0;\"/></g><g class=\"traces\" transform=\"translate(0,128.5)\" style=\"opacity: 1;\"><text class=\"legendtext\" text-anchor=\"start\" x=\"40\" y=\"4.680000000000001\" style=\"font-family: 'Open Sans', verdana, arial, sans-serif; font-size: 12px; fill: rgb(42, 63, 95); fill-opacity: 1; white-space: pre;\">Equestrianism</text><g class=\"layers\" style=\"opacity: 1;\"><g class=\"legendfill\"/><g class=\"legendlines\"/><g class=\"legendsymbols\"><g class=\"legendpoints\"><path class=\"legendpie\" d=\"M6,6H-6V-6H6Z\" transform=\"translate(20,0)\" style=\"stroke-width: 0; fill: rgb(255, 102, 146); fill-opacity: 1; stroke: rgb(68, 68, 68); stroke-opacity: 1;\"/></g></g></g><rect class=\"legendtoggle\" x=\"0\" y=\"-9.5\" width=\"138.25\" height=\"19\" style=\"fill: rgb(0, 0, 0); fill-opacity: 0;\"/></g><g class=\"traces\" transform=\"translate(0,147.5)\" style=\"opacity: 1;\"><text class=\"legendtext\" text-anchor=\"start\" x=\"40\" y=\"4.680000000000001\" style=\"font-family: 'Open Sans', verdana, arial, sans-serif; font-size: 12px; fill: rgb(42, 63, 95); fill-opacity: 1; white-space: pre;\">Football</text><g class=\"layers\" style=\"opacity: 1;\"><g class=\"legendfill\"/><g class=\"legendlines\"/><g class=\"legendsymbols\"><g class=\"legendpoints\"><path class=\"legendpie\" d=\"M6,6H-6V-6H6Z\" transform=\"translate(20,0)\" style=\"stroke-width: 0; fill: rgb(182, 232, 128); fill-opacity: 1; stroke: rgb(68, 68, 68); stroke-opacity: 1;\"/></g></g></g><rect class=\"legendtoggle\" x=\"0\" y=\"-9.5\" width=\"138.25\" height=\"19\" style=\"fill: rgb(0, 0, 0); fill-opacity: 0;\"/></g><g class=\"traces\" transform=\"translate(0,166.5)\" style=\"opacity: 1;\"><text class=\"legendtext\" text-anchor=\"start\" x=\"40\" y=\"4.680000000000001\" style=\"font-family: 'Open Sans', verdana, arial, sans-serif; font-size: 12px; fill: rgb(42, 63, 95); fill-opacity: 1; white-space: pre;\">Gymnastics</text><g class=\"layers\" style=\"opacity: 1;\"><g class=\"legendfill\"/><g class=\"legendlines\"/><g class=\"legendsymbols\"><g class=\"legendpoints\"><path class=\"legendpie\" d=\"M6,6H-6V-6H6Z\" transform=\"translate(20,0)\" style=\"stroke-width: 0; fill: rgb(255, 151, 255); fill-opacity: 1; stroke: rgb(68, 68, 68); stroke-opacity: 1;\"/></g></g></g><rect class=\"legendtoggle\" x=\"0\" y=\"-9.5\" width=\"138.25\" height=\"19\" style=\"fill: rgb(0, 0, 0); fill-opacity: 0;\"/></g><g class=\"traces\" transform=\"translate(0,185.5)\" style=\"opacity: 1;\"><text class=\"legendtext\" text-anchor=\"start\" x=\"40\" y=\"4.680000000000001\" style=\"font-family: 'Open Sans', verdana, arial, sans-serif; font-size: 12px; fill: rgb(42, 63, 95); fill-opacity: 1; white-space: pre;\">Shooting</text><g class=\"layers\" style=\"opacity: 1;\"><g class=\"legendfill\"/><g class=\"legendlines\"/><g class=\"legendsymbols\"><g class=\"legendpoints\"><path class=\"legendpie\" d=\"M6,6H-6V-6H6Z\" transform=\"translate(20,0)\" style=\"stroke-width: 0; fill: rgb(254, 203, 82); fill-opacity: 1; stroke: rgb(68, 68, 68); stroke-opacity: 1;\"/></g></g></g><rect class=\"legendtoggle\" x=\"0\" y=\"-9.5\" width=\"138.25\" height=\"19\" style=\"fill: rgb(0, 0, 0); fill-opacity: 0;\"/></g><g class=\"traces\" transform=\"translate(0,204.5)\" style=\"opacity: 1;\"><text class=\"legendtext\" text-anchor=\"start\" x=\"40\" y=\"4.680000000000001\" style=\"font-family: 'Open Sans', verdana, arial, sans-serif; font-size: 12px; fill: rgb(42, 63, 95); fill-opacity: 1; white-space: pre;\">Swimming</text><g class=\"layers\" style=\"opacity: 1;\"><g class=\"legendfill\"/><g class=\"legendlines\"/><g class=\"legendsymbols\"><g class=\"legendpoints\"><path class=\"legendpie\" d=\"M6,6H-6V-6H6Z\" transform=\"translate(20,0)\" style=\"stroke-width: 0; fill: rgb(198, 202, 253); fill-opacity: 1; stroke: rgb(68, 68, 68); stroke-opacity: 1;\"/></g></g></g><rect class=\"legendtoggle\" x=\"0\" y=\"-9.5\" width=\"138.25\" height=\"19\" style=\"fill: rgb(0, 0, 0); fill-opacity: 0;\"/></g></g></g><rect class=\"scrollbar\" rx=\"20\" ry=\"3\" width=\"0\" height=\"0\" style=\"fill: rgb(128, 139, 164); fill-opacity: 1;\" x=\"0\" y=\"0\"/></g><g class=\"g-gtitle\"><text class=\"gtitle\" x=\"35\" y=\"50\" text-anchor=\"start\" dy=\"0em\" style=\"font-family: 'Open Sans', verdana, arial, sans-serif; font-size: 17px; fill: rgb(42, 63, 95); opacity: 1; font-weight: normal; white-space: pre;\">Distribuição das medalhas de Ouro por esporte</text></g></g></svg>"
          },
          "metadata": {},
          "output_type": "display_data"
        }
      ],
      "source": [
        "fig = px.pie(df_sports_med_gold, values='Total de Medalhas', names='Sport', \n",
        "            title='Distribuição das medalhas de Ouro por esporte' )\n",
        "fig.show('svg')"
      ]
    },
    {
      "cell_type": "markdown",
      "metadata": {
        "id": "4-cLSTLcnbin"
      },
      "source": [
        "Para finalizar a história do Brasil, vamos ver a série temporal de medalhas brasileiras. Crie um gráfico de linhas contendo 3 linhas: ouro, prata e bronze. Coloque no eixo X a edição da olimpíada (em ordem cronológica) e no eixo Y o total de medalhas de cada tipo."
      ]
    },
    {
      "cell_type": "markdown",
      "metadata": {},
      "source": [
        "<span style = 'color: green; font-size: 1.4em'><br> &nbsp;&nbsp;&nbsp;&nbsp;&nbsp;&nbsp;&nbsp;&nbsp; A partir do dataset *df_sports*, já obtido em item anterior já contém as infos necessárias. Será filtrado por tipo de medlahas e anos das conquistas. Os valores são ordenadas em relação a dara da conquista da medalha e depois é criado o gráfico de linhas, claro um pouco estranho. As medalhas tem o tipo int16, por serem quantidades discretas e tamanho diminuto na memória </span>"
      ]
    },
    {
      "cell_type": "code",
      "execution_count": 19,
      "metadata": {
        "id": "e1tXszhfnbin"
      },
      "outputs": [
        {
          "data": {
            "text/html": [
              "<div><div id=2b4c9edc-e39f-4bfa-932d-da4c617947e2 style=\"display:none; background-color:#9D6CFF; color:white; width:200px; height:30px; padding-left:5px; border-radius:4px; flex-direction:row; justify-content:space-around; align-items:center;\" onmouseover=\"this.style.backgroundColor='#BA9BF8'\" onmouseout=\"this.style.backgroundColor='#9D6CFF'\" onclick=\"window.commands?.execute('create-mitosheet-from-dataframe-output');\">See Full Dataframe in Mito</div> <script> if (window.commands.hasCommand('create-mitosheet-from-dataframe-output')) document.getElementById('2b4c9edc-e39f-4bfa-932d-da4c617947e2').style.display = 'flex' </script> <table border=\"1\" class=\"dataframe\">\n",
              "  <thead>\n",
              "    <tr style=\"text-align: right;\">\n",
              "      <th></th>\n",
              "      <th>Year</th>\n",
              "      <th>Gold</th>\n",
              "      <th>Silver</th>\n",
              "      <th>Bronze</th>\n",
              "    </tr>\n",
              "  </thead>\n",
              "  <tbody>\n",
              "    <tr>\n",
              "      <th>0</th>\n",
              "      <td>1920</td>\n",
              "      <td>1</td>\n",
              "      <td>1</td>\n",
              "      <td>1</td>\n",
              "    </tr>\n",
              "    <tr>\n",
              "      <th>1</th>\n",
              "      <td>1948</td>\n",
              "      <td>0</td>\n",
              "      <td>0</td>\n",
              "      <td>1</td>\n",
              "    </tr>\n",
              "    <tr>\n",
              "      <th>2</th>\n",
              "      <td>1952</td>\n",
              "      <td>1</td>\n",
              "      <td>0</td>\n",
              "      <td>2</td>\n",
              "    </tr>\n",
              "    <tr>\n",
              "      <th>3</th>\n",
              "      <td>1956</td>\n",
              "      <td>1</td>\n",
              "      <td>0</td>\n",
              "      <td>0</td>\n",
              "    </tr>\n",
              "    <tr>\n",
              "      <th>4</th>\n",
              "      <td>1960</td>\n",
              "      <td>0</td>\n",
              "      <td>0</td>\n",
              "      <td>2</td>\n",
              "    </tr>\n",
              "    <tr>\n",
              "      <th>...</th>\n",
              "      <td>...</td>\n",
              "      <td>...</td>\n",
              "      <td>...</td>\n",
              "      <td>...</td>\n",
              "    </tr>\n",
              "    <tr>\n",
              "      <th>14</th>\n",
              "      <td>2000</td>\n",
              "      <td>0</td>\n",
              "      <td>6</td>\n",
              "      <td>5</td>\n",
              "    </tr>\n",
              "    <tr>\n",
              "      <th>15</th>\n",
              "      <td>2004</td>\n",
              "      <td>5</td>\n",
              "      <td>2</td>\n",
              "      <td>3</td>\n",
              "    </tr>\n",
              "    <tr>\n",
              "      <th>16</th>\n",
              "      <td>2008</td>\n",
              "      <td>3</td>\n",
              "      <td>3</td>\n",
              "      <td>9</td>\n",
              "    </tr>\n",
              "    <tr>\n",
              "      <th>17</th>\n",
              "      <td>2012</td>\n",
              "      <td>3</td>\n",
              "      <td>5</td>\n",
              "      <td>9</td>\n",
              "    </tr>\n",
              "    <tr>\n",
              "      <th>18</th>\n",
              "      <td>2016</td>\n",
              "      <td>7</td>\n",
              "      <td>6</td>\n",
              "      <td>5</td>\n",
              "    </tr>\n",
              "  </tbody>\n",
              "</table></div>"
            ],
            "text/plain": [
              "    Year  Gold  Silver  Bronze\n",
              "0   1920     1       1       1\n",
              "1   1948     0       0       1\n",
              "2   1952     1       0       2\n",
              "3   1956     1       0       0\n",
              "4   1960     0       0       2\n",
              "5   1964     0       0       1\n",
              "6   1968     0       1       2\n",
              "7   1972     0       0       2\n",
              "8   1976     0       0       2\n",
              "9   1980     2       0       2\n",
              "10  1984     1       5       2\n",
              "11  1988     1       2       3\n",
              "12  1992     2       1       0\n",
              "13  1996     2       3       9\n",
              "14  2000     0       6       5\n",
              "15  2004     5       2       3\n",
              "16  2008     3       3       9\n",
              "17  2012     3       5       9\n",
              "18  2016     7       6       5"
            ]
          },
          "execution_count": 19,
          "metadata": {},
          "output_type": "execute_result"
        }
      ],
      "source": [
        "df_sports_med_year = df_sports.groupby(['Sport','Year','Medal']).size()\n",
        "\n",
        "df_sports_med_year=df_sports_med_year.unstack('Medal').fillna(0).astype({'Bronze':'int16',\n",
        "                                                    'Silver':'int16',\n",
        "                                                    'Gold':'int16'})\n",
        "\n",
        "\n",
        "df_sports_med_year.reset_index(inplace = True)\n",
        "df_sports_med_year.columns.names = [\"\"]\n",
        "df_sports_med_year.sort_values(by='Year',inplace=True)\n",
        "\n",
        "df_sports_plot = df_sports_med_year.groupby(['Year'])[['Gold','Silver','Bronze']].apply(sum)\n",
        "\n",
        "df_sports_plot = df_sports_plot.reset_index()\n",
        "\n",
        "df_sports_plot\n"
      ]
    },
    {
      "cell_type": "code",
      "execution_count": 20,
      "metadata": {},
      "outputs": [
        {
          "data": {
            "image/svg+xml": "<svg class=\"main-svg\" xmlns=\"http://www.w3.org/2000/svg\" xmlns:xlink=\"http://www.w3.org/1999/xlink\" width=\"1200\" height=\"500\" style=\"\" viewBox=\"0 0 1200 500\"><rect x=\"0\" y=\"0\" width=\"1200\" height=\"500\" style=\"fill: rgb(255, 255, 255); fill-opacity: 1;\"/><defs id=\"defs-37327f\"><g class=\"clips\"><clipPath id=\"clip37327fxyplot\" class=\"plotclip\"><rect width=\"1001\" height=\"360\"/></clipPath><clipPath class=\"axesclip\" id=\"clip37327fx\"><rect x=\"80\" y=\"0\" width=\"1001\" height=\"500\"/></clipPath><clipPath class=\"axesclip\" id=\"clip37327fy\"><rect x=\"0\" y=\"60\" width=\"1200\" height=\"360\"/></clipPath><clipPath class=\"axesclip\" id=\"clip37327fxy\"><rect x=\"80\" y=\"60\" width=\"1001\" height=\"360\"/></clipPath></g><g class=\"gradients\"/><g class=\"patterns\"/></defs><g class=\"bglayer\"><rect class=\"bg\" x=\"80\" y=\"60\" width=\"1001\" height=\"360\" style=\"fill: rgb(229, 236, 246); fill-opacity: 1; stroke-width: 0;\"/></g><g class=\"layer-below\"><g class=\"imagelayer\"/><g class=\"shapelayer\"/></g><g class=\"cartesianlayer\"><g class=\"subplot xy\"><g class=\"layer-subplot\"><g class=\"shapelayer\"/><g class=\"imagelayer\"/></g><g class=\"gridlayer\"><g class=\"x\"><path class=\"xgrid crisp\" transform=\"translate(184.26999999999998,0)\" d=\"M0,60v360\" style=\"stroke: rgb(255, 255, 255); stroke-opacity: 1; stroke-width: 1px;\"/><path class=\"xgrid crisp\" transform=\"translate(288.53999999999996,0)\" d=\"M0,60v360\" style=\"stroke: rgb(255, 255, 255); stroke-opacity: 1; stroke-width: 1px;\"/><path class=\"xgrid crisp\" transform=\"translate(392.81,0)\" d=\"M0,60v360\" style=\"stroke: rgb(255, 255, 255); stroke-opacity: 1; stroke-width: 1px;\"/><path class=\"xgrid crisp\" transform=\"translate(497.08,0)\" d=\"M0,60v360\" style=\"stroke: rgb(255, 255, 255); stroke-opacity: 1; stroke-width: 1px;\"/><path class=\"xgrid crisp\" transform=\"translate(601.35,0)\" d=\"M0,60v360\" style=\"stroke: rgb(255, 255, 255); stroke-opacity: 1; stroke-width: 1px;\"/><path class=\"xgrid crisp\" transform=\"translate(705.63,0)\" d=\"M0,60v360\" style=\"stroke: rgb(255, 255, 255); stroke-opacity: 1; stroke-width: 1px;\"/><path class=\"xgrid crisp\" transform=\"translate(809.9,0)\" d=\"M0,60v360\" style=\"stroke: rgb(255, 255, 255); stroke-opacity: 1; stroke-width: 1px;\"/><path class=\"xgrid crisp\" transform=\"translate(914.17,0)\" d=\"M0,60v360\" style=\"stroke: rgb(255, 255, 255); stroke-opacity: 1; stroke-width: 1px;\"/><path class=\"xgrid crisp\" transform=\"translate(1018.44,0)\" d=\"M0,60v360\" style=\"stroke: rgb(255, 255, 255); stroke-opacity: 1; stroke-width: 1px;\"/></g><g class=\"y\"><path class=\"ygrid crisp\" transform=\"translate(0,330)\" d=\"M80,0h1001\" style=\"stroke: rgb(255, 255, 255); stroke-opacity: 1; stroke-width: 1px;\"/><path class=\"ygrid crisp\" transform=\"translate(0,258)\" d=\"M80,0h1001\" style=\"stroke: rgb(255, 255, 255); stroke-opacity: 1; stroke-width: 1px;\"/><path class=\"ygrid crisp\" transform=\"translate(0,186)\" d=\"M80,0h1001\" style=\"stroke: rgb(255, 255, 255); stroke-opacity: 1; stroke-width: 1px;\"/><path class=\"ygrid crisp\" transform=\"translate(0,114)\" d=\"M80,0h1001\" style=\"stroke: rgb(255, 255, 255); stroke-opacity: 1; stroke-width: 1px;\"/></g></g><g class=\"zerolinelayer\"><path class=\"yzl zl crisp\" transform=\"translate(0,402)\" d=\"M80,0h1001\" style=\"stroke: rgb(255, 255, 255); stroke-opacity: 1; stroke-width: 2px;\"/></g><path class=\"xlines-below\"/><path class=\"ylines-below\"/><g class=\"overlines-below\"/><g class=\"xaxislayer-below\"/><g class=\"yaxislayer-below\"/><g class=\"overaxes-below\"/><g class=\"plot\" transform=\"translate(80,60)\" clip-path=\"url(#clip37327fxyplot)\"><g class=\"scatterlayer mlayer\"><g class=\"trace scatter tracee89e2c\" style=\"stroke-miterlimit: 2; opacity: 1;\"><g class=\"fills\"/><g class=\"errorbars\"/><g class=\"lines\"><path class=\"js-line\" d=\"M0,306L291.96,342L333.67,306L375.38,306L417.08,342L583.92,342L625.63,270L667.33,306L709.04,306L750.75,270L792.46,270L834.17,342L875.88,162L917.58,234L959.29,234L1001,90\" style=\"vector-effect: non-scaling-stroke; fill: none; stroke: rgb(255, 215, 0); stroke-opacity: 1; stroke-width: 2px; opacity: 1;\"/></g><g class=\"points\"/><g class=\"text\"/></g><g class=\"trace scatter trace8eb0df\" style=\"stroke-miterlimit: 2; opacity: 1;\"><g class=\"fills\"/><g class=\"errorbars\"/><g class=\"lines\"><path class=\"js-line\" d=\"M0,306L291.96,342L333.67,342L458.79,342L500.5,306L542.21,342L583.92,342L625.63,342L667.33,162L709.04,270L750.75,306L792.46,234L834.17,126L875.88,270L917.58,234L959.29,162L1001,126\" style=\"vector-effect: non-scaling-stroke; fill: none; stroke: rgb(192, 192, 192); stroke-opacity: 1; stroke-width: 2px; opacity: 1;\"/></g><g class=\"points\"/><g class=\"text\"/></g><g class=\"trace scatter trace050ece\" style=\"stroke-miterlimit: 2; opacity: 1;\"><g class=\"fills\"/><g class=\"errorbars\"/><g class=\"lines\"><path class=\"js-line\" d=\"M0,306L291.96,306L333.67,270L375.38,342L417.08,270L458.79,306L500.5,270L667.33,270L709.04,234L750.75,342L792.46,18L834.17,162L875.88,234L917.58,18L959.29,18L1001,162\" style=\"vector-effect: non-scaling-stroke; fill: none; stroke: rgb(210, 105, 30); stroke-opacity: 1; stroke-width: 2px; opacity: 1;\"/></g><g class=\"points\"/><g class=\"text\"/></g></g></g><g class=\"overplot\"/><path class=\"xlines-above crisp\" d=\"M0,0\" style=\"fill: none;\"/><path class=\"ylines-above crisp\" d=\"M0,0\" style=\"fill: none;\"/><g class=\"overlines-above\"/><g class=\"xaxislayer-above\"><g class=\"xtick\"><text text-anchor=\"middle\" x=\"0\" y=\"433\" transform=\"translate(80,0)\" style=\"font-family: 'Open Sans', verdana, arial, sans-serif; font-size: 12px; fill: rgb(42, 63, 95); fill-opacity: 1; white-space: pre; opacity: 1;\">1920</text></g><g class=\"xtick\"><text text-anchor=\"middle\" x=\"0\" y=\"433\" style=\"font-family: 'Open Sans', verdana, arial, sans-serif; font-size: 12px; fill: rgb(42, 63, 95); fill-opacity: 1; white-space: pre; opacity: 1;\" transform=\"translate(184.26999999999998,0)\">1930</text></g><g class=\"xtick\"><text text-anchor=\"middle\" x=\"0\" y=\"433\" style=\"font-family: 'Open Sans', verdana, arial, sans-serif; font-size: 12px; fill: rgb(42, 63, 95); fill-opacity: 1; white-space: pre; opacity: 1;\" transform=\"translate(288.53999999999996,0)\">1940</text></g><g class=\"xtick\"><text text-anchor=\"middle\" x=\"0\" y=\"433\" style=\"font-family: 'Open Sans', verdana, arial, sans-serif; font-size: 12px; fill: rgb(42, 63, 95); fill-opacity: 1; white-space: pre; opacity: 1;\" transform=\"translate(392.81,0)\">1950</text></g><g class=\"xtick\"><text text-anchor=\"middle\" x=\"0\" y=\"433\" style=\"font-family: 'Open Sans', verdana, arial, sans-serif; font-size: 12px; fill: rgb(42, 63, 95); fill-opacity: 1; white-space: pre; opacity: 1;\" transform=\"translate(497.08,0)\">1960</text></g><g class=\"xtick\"><text text-anchor=\"middle\" x=\"0\" y=\"433\" style=\"font-family: 'Open Sans', verdana, arial, sans-serif; font-size: 12px; fill: rgb(42, 63, 95); fill-opacity: 1; white-space: pre; opacity: 1;\" transform=\"translate(601.35,0)\">1970</text></g><g class=\"xtick\"><text text-anchor=\"middle\" x=\"0\" y=\"433\" style=\"font-family: 'Open Sans', verdana, arial, sans-serif; font-size: 12px; fill: rgb(42, 63, 95); fill-opacity: 1; white-space: pre; opacity: 1;\" transform=\"translate(705.63,0)\">1980</text></g><g class=\"xtick\"><text text-anchor=\"middle\" x=\"0\" y=\"433\" style=\"font-family: 'Open Sans', verdana, arial, sans-serif; font-size: 12px; fill: rgb(42, 63, 95); fill-opacity: 1; white-space: pre; opacity: 1;\" transform=\"translate(809.9,0)\">1990</text></g><g class=\"xtick\"><text text-anchor=\"middle\" x=\"0\" y=\"433\" style=\"font-family: 'Open Sans', verdana, arial, sans-serif; font-size: 12px; fill: rgb(42, 63, 95); fill-opacity: 1; white-space: pre; opacity: 1;\" transform=\"translate(914.17,0)\">2000</text></g><g class=\"xtick\"><text text-anchor=\"middle\" x=\"0\" y=\"433\" style=\"font-family: 'Open Sans', verdana, arial, sans-serif; font-size: 12px; fill: rgb(42, 63, 95); fill-opacity: 1; white-space: pre; opacity: 1;\" transform=\"translate(1018.44,0)\">2010</text></g></g><g class=\"yaxislayer-above\"><g class=\"ytick\"><text text-anchor=\"end\" x=\"79\" y=\"4.199999999999999\" transform=\"translate(0,402)\" style=\"font-family: 'Open Sans', verdana, arial, sans-serif; font-size: 12px; fill: rgb(42, 63, 95); fill-opacity: 1; white-space: pre; opacity: 1;\">0</text></g><g class=\"ytick\"><text text-anchor=\"end\" x=\"79\" y=\"4.199999999999999\" style=\"font-family: 'Open Sans', verdana, arial, sans-serif; font-size: 12px; fill: rgb(42, 63, 95); fill-opacity: 1; white-space: pre; opacity: 1;\" transform=\"translate(0,330)\">2</text></g><g class=\"ytick\"><text text-anchor=\"end\" x=\"79\" y=\"4.199999999999999\" style=\"font-family: 'Open Sans', verdana, arial, sans-serif; font-size: 12px; fill: rgb(42, 63, 95); fill-opacity: 1; white-space: pre; opacity: 1;\" transform=\"translate(0,258)\">4</text></g><g class=\"ytick\"><text text-anchor=\"end\" x=\"79\" y=\"4.199999999999999\" style=\"font-family: 'Open Sans', verdana, arial, sans-serif; font-size: 12px; fill: rgb(42, 63, 95); fill-opacity: 1; white-space: pre; opacity: 1;\" transform=\"translate(0,186)\">6</text></g><g class=\"ytick\"><text text-anchor=\"end\" x=\"79\" y=\"4.199999999999999\" style=\"font-family: 'Open Sans', verdana, arial, sans-serif; font-size: 12px; fill: rgb(42, 63, 95); fill-opacity: 1; white-space: pre; opacity: 1;\" transform=\"translate(0,114)\">8</text></g></g><g class=\"overaxes-above\"/></g></g><g class=\"polarlayer\"/><g class=\"ternarylayer\"/><g class=\"geolayer\"/><g class=\"funnelarealayer\"/><g class=\"pielayer\"/><g class=\"iciclelayer\"/><g class=\"treemaplayer\"/><g class=\"sunburstlayer\"/><g class=\"glimages\"/><defs id=\"topdefs-37327f\"><g class=\"clips\"/><clipPath id=\"legend37327f\"><rect width=\"87\" height=\"86\" x=\"0\" y=\"0\"/></clipPath></defs><g class=\"layer-above\"><g class=\"imagelayer\"/><g class=\"shapelayer\"/></g><g class=\"infolayer\"><g class=\"legend\" pointer-events=\"all\" transform=\"translate(1101.02,60)\"><rect class=\"bg\" shape-rendering=\"crispEdges\" style=\"stroke: rgb(68, 68, 68); stroke-opacity: 1; fill: rgb(255, 255, 255); fill-opacity: 1; stroke-width: 0px;\" width=\"87\" height=\"86\" x=\"0\" y=\"0\"/><g class=\"scrollbox\" transform=\"\" clip-path=\"url(#legend37327f)\"><text class=\"legendtitletext\" text-anchor=\"start\" x=\"2\" y=\"18.2\" style=\"font-family: 'Open Sans', verdana, arial, sans-serif; font-size: 14px; fill: rgb(42, 63, 95); fill-opacity: 1; white-space: pre;\">variable</text><g class=\"groups\" transform=\"\"><g class=\"traces\" transform=\"translate(0,32.7)\" style=\"opacity: 1;\"><text class=\"legendtext\" text-anchor=\"start\" x=\"40\" y=\"4.680000000000001\" style=\"font-family: 'Open Sans', verdana, arial, sans-serif; font-size: 12px; fill: rgb(42, 63, 95); fill-opacity: 1; white-space: pre;\">Gold</text><g class=\"layers\" style=\"opacity: 1;\"><g class=\"legendfill\"/><g class=\"legendlines\"><path class=\"js-line\" d=\"M5,0h30\" style=\"fill: none; stroke: rgb(255, 215, 0); stroke-opacity: 1; stroke-width: 2px;\"/></g><g class=\"legendsymbols\"><g class=\"legendpoints\"/></g></g><rect class=\"legendtoggle\" x=\"0\" y=\"-9.5\" width=\"81.6875\" height=\"19\" style=\"fill: rgb(0, 0, 0); fill-opacity: 0;\"/></g></g><g class=\"groups\" transform=\"\"><g class=\"traces\" transform=\"translate(0,51.7)\" style=\"opacity: 1;\"><text class=\"legendtext\" text-anchor=\"start\" x=\"40\" y=\"4.680000000000001\" style=\"font-family: 'Open Sans', verdana, arial, sans-serif; font-size: 12px; fill: rgb(42, 63, 95); fill-opacity: 1; white-space: pre;\">Silver</text><g class=\"layers\" style=\"opacity: 1;\"><g class=\"legendfill\"/><g class=\"legendlines\"><path class=\"js-line\" d=\"M5,0h30\" style=\"fill: none; stroke: rgb(192, 192, 192); stroke-opacity: 1; stroke-width: 2px;\"/></g><g class=\"legendsymbols\"><g class=\"legendpoints\"/></g></g><rect class=\"legendtoggle\" x=\"0\" y=\"-9.5\" width=\"81.6875\" height=\"19\" style=\"fill: rgb(0, 0, 0); fill-opacity: 0;\"/></g></g><g class=\"groups\" transform=\"\"><g class=\"traces\" transform=\"translate(0,70.7)\" style=\"opacity: 1;\"><text class=\"legendtext\" text-anchor=\"start\" x=\"40\" y=\"4.680000000000001\" style=\"font-family: 'Open Sans', verdana, arial, sans-serif; font-size: 12px; fill: rgb(42, 63, 95); fill-opacity: 1; white-space: pre;\">Bronze</text><g class=\"layers\" style=\"opacity: 1;\"><g class=\"legendfill\"/><g class=\"legendlines\"><path class=\"js-line\" d=\"M5,0h30\" style=\"fill: none; stroke: rgb(210, 105, 30); stroke-opacity: 1; stroke-width: 2px;\"/></g><g class=\"legendsymbols\"><g class=\"legendpoints\"/></g></g><rect class=\"legendtoggle\" x=\"0\" y=\"-9.5\" width=\"81.6875\" height=\"19\" style=\"fill: rgb(0, 0, 0); fill-opacity: 0;\"/></g></g></g><rect class=\"scrollbar\" rx=\"20\" ry=\"3\" width=\"0\" height=\"0\" x=\"0\" y=\"0\" style=\"fill: rgb(128, 139, 164); fill-opacity: 1;\"/></g><g class=\"g-gtitle\"/><g class=\"g-xtitle\"><text class=\"xtitle\" x=\"580.5\" y=\"460.3\" text-anchor=\"middle\" style=\"font-family: 'Open Sans', verdana, arial, sans-serif; font-size: 14px; fill: rgb(42, 63, 95); opacity: 1; font-weight: normal; white-space: pre;\">Year</text></g><g class=\"g-ytitle\"><text class=\"ytitle\" transform=\"rotate(-90,46.559375,240)\" x=\"46.559375\" y=\"240\" text-anchor=\"middle\" style=\"font-family: 'Open Sans', verdana, arial, sans-serif; font-size: 14px; fill: rgb(42, 63, 95); opacity: 1; font-weight: normal; white-space: pre;\">value</text></g></g></svg>"
          },
          "metadata": {},
          "output_type": "display_data"
        }
      ],
      "source": [
        "import plotly.express as px\n",
        "\n",
        "fig = px.line(df_sports_plot, x=\"Year\", \n",
        "                y =['Gold','Silver','Bronze'], \n",
        "                width =1200,\n",
        "                color_discrete_map={'Bronze': 'chocolate', \n",
        "                                    'Silver': 'silver', \n",
        "                                    'Gold': 'gold'})\n",
        "fig.show('svg')"
      ]
    },
    {
      "cell_type": "code",
      "execution_count": 44,
      "metadata": {},
      "outputs": [
        {
          "name": "stdout",
          "output_type": "stream",
          "text": [
            "<class 'pandas.core.frame.DataFrame'>\n",
            "RangeIndex: 271116 entries, 0 to 271115\n",
            "Data columns (total 15 columns):\n",
            " #   Column  Non-Null Count   Dtype  \n",
            "---  ------  --------------   -----  \n",
            " 0   ID      271116 non-null  int64  \n",
            " 1   Name    271116 non-null  object \n",
            " 2   Sex     271116 non-null  object \n",
            " 3   Age     261642 non-null  float64\n",
            " 4   Height  210945 non-null  float64\n",
            " 5   Weight  208241 non-null  float64\n",
            " 6   Team    271116 non-null  object \n",
            " 7   NOC     271116 non-null  object \n",
            " 8   Games   271116 non-null  object \n",
            " 9   Year    271116 non-null  int64  \n",
            " 10  Season  271116 non-null  object \n",
            " 11  City    271116 non-null  object \n",
            " 12  Sport   271116 non-null  object \n",
            " 13  Event   271116 non-null  object \n",
            " 14  Medal   39783 non-null   object \n",
            "dtypes: float64(3), int64(2), object(10)\n",
            "memory usage: 31.0+ MB\n"
          ]
        }
      ],
      "source": [
        "df.info()\n",
        "\n"
      ]
    },
    {
      "cell_type": "markdown",
      "metadata": {
        "id": "oTD6vnoQnbin"
      },
      "source": [
        "## 2. O mundo nos jogos de verão\n",
        "\n",
        "Filtre o DataFrame original para conter apenas informações sobre os **medalhistas** de todos os países **nos jogos de verão**.\n",
        "\n"
      ]
    },
    {
      "cell_type": "code",
      "execution_count": 58,
      "metadata": {
        "id": "9p6SOHBSnbio"
      },
      "outputs": [
        {
          "data": {
            "text/html": [
              "<div><div id=7ce7c451-7db1-45f1-a1fb-d7571ba160fe style=\"display:none; background-color:#9D6CFF; color:white; width:200px; height:30px; padding-left:5px; border-radius:4px; flex-direction:row; justify-content:space-around; align-items:center;\" onmouseover=\"this.style.backgroundColor='#BA9BF8'\" onmouseout=\"this.style.backgroundColor='#9D6CFF'\" onclick=\"window.commands?.execute('create-mitosheet-from-dataframe-output');\">See Full Dataframe in Mito</div> <script> if (window.commands.hasCommand('create-mitosheet-from-dataframe-output')) document.getElementById('7ce7c451-7db1-45f1-a1fb-d7571ba160fe').style.display = 'flex' </script> <table border=\"1\" class=\"dataframe\">\n",
              "  <thead>\n",
              "    <tr style=\"text-align: right;\">\n",
              "      <th></th>\n",
              "      <th>ID</th>\n",
              "      <th>Name</th>\n",
              "      <th>Sex</th>\n",
              "      <th>Age</th>\n",
              "      <th>Height</th>\n",
              "      <th>Weight</th>\n",
              "      <th>Team</th>\n",
              "      <th>NOC</th>\n",
              "      <th>Games</th>\n",
              "      <th>Year</th>\n",
              "      <th>Season</th>\n",
              "      <th>City</th>\n",
              "      <th>Sport</th>\n",
              "      <th>Event</th>\n",
              "      <th>Medal</th>\n",
              "    </tr>\n",
              "  </thead>\n",
              "  <tbody>\n",
              "    <tr>\n",
              "      <th>178422</th>\n",
              "      <td>89694</td>\n",
              "      <td>Oludamola Bolanle \"Damola\" Osayomi</td>\n",
              "      <td>F</td>\n",
              "      <td>22.0</td>\n",
              "      <td>163.0</td>\n",
              "      <td>63.0</td>\n",
              "      <td>Nigeria</td>\n",
              "      <td>NGR</td>\n",
              "      <td>2008 Summer</td>\n",
              "      <td>2008</td>\n",
              "      <td>Summer</td>\n",
              "      <td>Beijing</td>\n",
              "      <td>Athletics</td>\n",
              "      <td>Athletics Women's 4 x 100 metres Relay</td>\n",
              "      <td>Bronze</td>\n",
              "    </tr>\n",
              "    <tr>\n",
              "      <th>52553</th>\n",
              "      <td>26991</td>\n",
              "      <td>Hlne Defrance</td>\n",
              "      <td>F</td>\n",
              "      <td>29.0</td>\n",
              "      <td>179.0</td>\n",
              "      <td>66.0</td>\n",
              "      <td>France</td>\n",
              "      <td>FRA</td>\n",
              "      <td>2016 Summer</td>\n",
              "      <td>2016</td>\n",
              "      <td>Summer</td>\n",
              "      <td>Rio de Janeiro</td>\n",
              "      <td>Sailing</td>\n",
              "      <td>Sailing Women's Two Person Dinghy</td>\n",
              "      <td>Bronze</td>\n",
              "    </tr>\n",
              "    <tr>\n",
              "      <th>11951</th>\n",
              "      <td>6510</td>\n",
              "      <td>Louis Dsir Bach</td>\n",
              "      <td>M</td>\n",
              "      <td>17.0</td>\n",
              "      <td>NaN</td>\n",
              "      <td>NaN</td>\n",
              "      <td>USFSA</td>\n",
              "      <td>FRA</td>\n",
              "      <td>1900 Summer</td>\n",
              "      <td>1900</td>\n",
              "      <td>Summer</td>\n",
              "      <td>Paris</td>\n",
              "      <td>Football</td>\n",
              "      <td>Football Men's Football</td>\n",
              "      <td>Silver</td>\n",
              "    </tr>\n",
              "    <tr>\n",
              "      <th>104216</th>\n",
              "      <td>52735</td>\n",
              "      <td>Sndor Ivdy</td>\n",
              "      <td>M</td>\n",
              "      <td>29.0</td>\n",
              "      <td>185.0</td>\n",
              "      <td>NaN</td>\n",
              "      <td>Hungary</td>\n",
              "      <td>HUN</td>\n",
              "      <td>1932 Summer</td>\n",
              "      <td>1932</td>\n",
              "      <td>Summer</td>\n",
              "      <td>Los Angeles</td>\n",
              "      <td>Water Polo</td>\n",
              "      <td>Water Polo Men's Water Polo</td>\n",
              "      <td>Gold</td>\n",
              "    </tr>\n",
              "    <tr>\n",
              "      <th>148430</th>\n",
              "      <td>74473</td>\n",
              "      <td>Valentyn Hryhorovych Mankin</td>\n",
              "      <td>M</td>\n",
              "      <td>34.0</td>\n",
              "      <td>179.0</td>\n",
              "      <td>92.0</td>\n",
              "      <td>Soviet Union</td>\n",
              "      <td>URS</td>\n",
              "      <td>1972 Summer</td>\n",
              "      <td>1972</td>\n",
              "      <td>Summer</td>\n",
              "      <td>Munich</td>\n",
              "      <td>Sailing</td>\n",
              "      <td>Sailing Mixed Two Person Keelboat</td>\n",
              "      <td>Gold</td>\n",
              "    </tr>\n",
              "  </tbody>\n",
              "</table></div>"
            ],
            "text/plain": [
              "           ID                                Name Sex   Age  Height  Weight  \\\n",
              "178422  89694  Oludamola Bolanle \"Damola\" Osayomi   F  22.0   163.0    63.0   \n",
              "52553   26991                       Hlne Defrance   F  29.0   179.0    66.0   \n",
              "11951    6510                     Louis Dsir Bach   M  17.0     NaN     NaN   \n",
              "104216  52735                          Sndor Ivdy   M  29.0   185.0     NaN   \n",
              "148430  74473         Valentyn Hryhorovych Mankin   M  34.0   179.0    92.0   \n",
              "\n",
              "                Team  NOC        Games  Year  Season            City  \\\n",
              "178422       Nigeria  NGR  2008 Summer  2008  Summer         Beijing   \n",
              "52553         France  FRA  2016 Summer  2016  Summer  Rio de Janeiro   \n",
              "11951          USFSA  FRA  1900 Summer  1900  Summer           Paris   \n",
              "104216       Hungary  HUN  1932 Summer  1932  Summer     Los Angeles   \n",
              "148430  Soviet Union  URS  1972 Summer  1972  Summer          Munich   \n",
              "\n",
              "             Sport                                   Event   Medal  \n",
              "178422   Athletics  Athletics Women's 4 x 100 metres Relay  Bronze  \n",
              "52553      Sailing       Sailing Women's Two Person Dinghy  Bronze  \n",
              "11951     Football                 Football Men's Football  Silver  \n",
              "104216  Water Polo             Water Polo Men's Water Polo    Gold  \n",
              "148430     Sailing       Sailing Mixed Two Person Keelboat    Gold  "
            ]
          },
          "execution_count": 58,
          "metadata": {},
          "output_type": "execute_result"
        }
      ],
      "source": [
        "import numpy as np\n",
        "\n",
        "df = pd.read_csv('athlete_events.csv')\n",
        "\n",
        "\n",
        "\n",
        "df_verao_win = df.dropna(axis = 0, subset = ['Medal'])\n",
        "df_verao_win = df_verao_win.query(\"Season == 'Summer'\")\n",
        "\n",
        "df_verao_win.sample(5)"
      ]
    },
    {
      "cell_type": "code",
      "execution_count": 62,
      "metadata": {},
      "outputs": [
        {
          "name": "stdout",
          "output_type": "stream",
          "text": [
            "\n",
            "\n",
            " Tamanho do dataframe\n",
            "\n",
            "(34088, 15)\n",
            "\n",
            "\n",
            " Analise da coluna medal\n",
            "\n",
            "Gold      11459\n",
            "Bronze    11409\n",
            "Silver    11220\n",
            "Name: Medal, dtype: int64\n",
            "\n",
            "\n",
            " Analise da coluna season\n",
            "\n",
            "Summer    34088\n",
            "Name: Season, dtype: int64\n"
          ]
        }
      ],
      "source": [
        "# Conferir se o dataframe esta na especificação\n",
        "print('\\n\\n Tamanho do dataframe\\n')\n",
        "print(df_verao_win.shape)\n",
        "print('\\n\\n Analise da coluna medal\\n')\n",
        "print(df_verao_win.Medal.value_counts())\n",
        "print('\\n\\n Analise da coluna season\\n')\n",
        "print(df_verao_win.Season.value_counts())"
      ]
    },
    {
      "cell_type": "markdown",
      "metadata": {},
      "source": [
        "*Os filtros funcionaram para filtrar o dataframe dos atletas ganhadores de medalha olímpica*"
      ]
    },
    {
      "cell_type": "markdown",
      "metadata": {
        "id": "9VIIr7YFnbio"
      },
      "source": [
        "Utilizando subplots, crie 2 boxplots ilustrando a quantidade de medalhas por atleta. Em um deles, considere todos os atletas. No segundo, experimente remover os *outliers*."
      ]
    },
    {
      "cell_type": "code",
      "execution_count": 91,
      "metadata": {},
      "outputs": [
        {
          "data": {
            "text/plain": [
              "count    24545.000000\n",
              "mean         1.388796\n",
              "std          0.939906\n",
              "min          1.000000\n",
              "25%          1.000000\n",
              "50%          1.000000\n",
              "75%          1.000000\n",
              "max         28.000000\n",
              "Name: Medal, dtype: float64"
            ]
          },
          "execution_count": 91,
          "metadata": {},
          "output_type": "execute_result"
        }
      ],
      "source": [
        "df_box.Medal.describe()"
      ]
    },
    {
      "cell_type": "code",
      "execution_count": 77,
      "metadata": {
        "id": "oFl0IWnonbio"
      },
      "outputs": [
        {
          "name": "stderr",
          "output_type": "stream",
          "text": [
            "/var/folders/sw/cl3jb6b52z5bx56mwwh853m40000gn/T/ipykernel_6029/1572266863.py:7: UserWarning:\n",
            "\n",
            "Matplotlib is currently using module://matplotlib_inline.backend_inline, which is a non-GUI backend, so cannot show the figure.\n",
            "\n"
          ]
        },
        {
          "data": {
            "image/png": "[encoded data removed]",
            "text/plain": [
              "<Figure size 720x504 with 1 Axes>"
            ]
          },
          "metadata": {
            "needs_background": "light"
          },
          "output_type": "display_data"
        }
      ],
      "source": [
        "df_box = df_verao_win.groupby(['Name']).count()\n",
        "\n",
        "fig = plt.figure(figsize =(10, 7))\n",
        "axes = fig.add_axes([0.5, 1, 0.5, 1])\n",
        "axes.set_title('Medalhistas')\n",
        "axes.boxplot(df_box['Medal'], notch = False)\n",
        "fig.show()\n"
      ]
    },
    {
      "cell_type": "code",
      "execution_count": 90,
      "metadata": {},
      "outputs": [
        {
          "data": {
            "text/plain": [
              "{'whiskers': [<matplotlib.lines.Line2D at 0x13c7e0670>,\n",
              "  <matplotlib.lines.Line2D at 0x13c7e09d0>],\n",
              " 'caps': [<matplotlib.lines.Line2D at 0x13c7e0d30>,\n",
              "  <matplotlib.lines.Line2D at 0x13c8040d0>],\n",
              " 'boxes': [<matplotlib.lines.Line2D at 0x13c7e0370>],\n",
              " 'medians': [<matplotlib.lines.Line2D at 0x13c804430>],\n",
              " 'fliers': [],\n",
              " 'means': []}"
            ]
          },
          "execution_count": 90,
          "metadata": {},
          "output_type": "execute_result"
        },
        {
          "data": {
            "image/png": "[encoded data removed]",
            "text/plain": [
              "<Figure size 432x288 with 1 Axes>"
            ]
          },
          "metadata": {
            "needs_background": "light"
          },
          "output_type": "display_data"
        }
      ],
      "source": [
        "fig = plt.figure()\n",
        "axes = fig.add_axes([0.5, 1, 0.5, 1])\n",
        "axes.set_title('Medalhistas')\n",
        "axes.boxplot(df_box['Medal'], notch = True, showfliers=False)\n",
        "#fig.show()\n"
      ]
    },
    {
      "cell_type": "markdown",
      "metadata": {
        "id": "ZF-crXomnbio"
      },
      "source": [
        "Descubra o total de medalhas de ouro de cada país (lembrando-se da restrição dos eventos esportivos, para não contabilizar múltiplas medalhas em esportes de equipe!).\n",
        "\n",
        "Agora pegue os 10 países com mais medalhas e crie uma categoria \"Outros\" para o restante dos países. Exiba um gráfico de pizza mostrando a distribuição de medalhas de ouro entre essas 11 \"equipes\"."
      ]
    },
    {
      "cell_type": "code",
      "execution_count": null,
      "metadata": {
        "id": "jNMx2mivnbio"
      },
      "outputs": [],
      "source": []
    },
    {
      "cell_type": "markdown",
      "metadata": {
        "id": "mHCgaLPknbip"
      },
      "source": [
        "Repita o procedimento acima, mas mostrando o total de medalhas ao invés de apenas medalhas de ouro."
      ]
    },
    {
      "cell_type": "code",
      "execution_count": null,
      "metadata": {
        "id": "FYpWEzu1nbip"
      },
      "outputs": [],
      "source": []
    },
    {
      "cell_type": "markdown",
      "metadata": {
        "id": "ysGKOn9ynbip"
      },
      "source": [
        "Crie um gráfico de barras empilhadas, com cada país das categorias acima no eixo X, total de medalhas no eixo Y, e barras empilhadas representando as medalhas de ouro, prata e bronze de cada país."
      ]
    },
    {
      "cell_type": "code",
      "execution_count": null,
      "metadata": {
        "id": "Sp1vM8Wxnbiq"
      },
      "outputs": [],
      "source": []
    },
    {
      "cell_type": "markdown",
      "metadata": {
        "id": "GXQQxCYsnbir"
      },
      "source": [
        "Crie um gráfico de distribuição (por exemplo, um histograma) mostrando a quantidade total de medalhas por país."
      ]
    },
    {
      "cell_type": "code",
      "execution_count": null,
      "metadata": {
        "id": "vt4c068Inbir"
      },
      "outputs": [],
      "source": []
    },
    {
      "cell_type": "markdown",
      "metadata": {
        "id": "F6okqCZXnbis"
      },
      "source": [
        "**Desafio bônus:** Crie uma visualização da quantidade de medalhas de ouro e outra para quantidade total de medalhas por país, ambas utilizando mapas. Utilize o tipo de mapa que achar mais adequado."
      ]
    },
    {
      "cell_type": "code",
      "execution_count": null,
      "metadata": {
        "id": "fYE_-Bbynbis"
      },
      "outputs": [],
      "source": []
    },
    {
      "cell_type": "markdown",
      "metadata": {
        "id": "xwULLcRonbis"
      },
      "source": [
        "## 3. Brasil vs Mundo"
      ]
    },
    {
      "cell_type": "markdown",
      "metadata": {
        "id": "QyERWwODnbit"
      },
      "source": [
        "Faça um gráfico de barras comparando os maiores medalhistas brasileiros com os maiores medalhistas do mundo em suas respectivas categorias.\n",
        "\n",
        "Represente o esporte no eixo X, a quantidade de medalhas no eixo Y, coloque barras lado-a-lado representando os diferentes atletas de uma mesma modalidade e empilhe as medalhas de ouro, prata e bronze de cada atleta."
      ]
    },
    {
      "cell_type": "code",
      "execution_count": null,
      "metadata": {
        "id": "u0gsi4fpnbit"
      },
      "outputs": [],
      "source": []
    },
    {
      "cell_type": "markdown",
      "metadata": {
        "id": "BW1nm8_hnbit"
      },
      "source": [
        "Repita o procedimento acima, mas ao invés de atletas, considere o(s) esporte(s) onde o Brasil mais possui medalha comparando-os com o país com maior quantidade de medalhas naquele esporte."
      ]
    },
    {
      "cell_type": "code",
      "execution_count": null,
      "metadata": {
        "id": "vXj44BQDnbiu"
      },
      "outputs": [],
      "source": []
    },
    {
      "cell_type": "markdown",
      "metadata": {
        "id": "gfGO6Hjjnbiu"
      },
      "source": [
        "Para finalizar, repita os gráficos que você gerou com os 10 países com mais medalhas, mas remova o Brasil da categoria \"Outros\" e mostre-o também no gráfico."
      ]
    },
    {
      "cell_type": "code",
      "execution_count": null,
      "metadata": {
        "id": "G4_a6xRZnbiu"
      },
      "outputs": [],
      "source": []
    }
  ],
  "metadata": {
    "colab": {
      "name": "Projeto - Dataviz.ipynb",
      "provenance": []
    },
    "interpreter": {
      "hash": "949777d72b0d2535278d3dc13498b2535136f6dfe0678499012e853ee9abcab1"
    },
    "kernelspec": {
      "display_name": "Python 3.9.5 64-bit",
      "name": "python3"
    },
    "language_info": {
      "codemirror_mode": {
        "name": "ipython",
        "version": 3
      },
      "file_extension": ".py",
      "mimetype": "text/x-python",
      "name": "python",
      "nbconvert_exporter": "python",
      "pygments_lexer": "ipython3",
      "version": "3.9.5"
    }
  },
  "nbformat": 4,
  "nbformat_minor": 0
}
