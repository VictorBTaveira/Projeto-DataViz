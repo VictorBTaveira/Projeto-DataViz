{
  "cells": [
    {
      "cell_type": "markdown",
      "metadata": {
        "id": "hV7vGWCdnbic"
      },
      "source": [
        "# SOMENTE O ITEM 1 É OBRIGATÓRIO PARA APRESENTAÇÃO!"
      ]
    },
    {
      "cell_type": "markdown",
      "metadata": {
        "id": "p56witGjnbig"
      },
      "source": [
        "# História das Olimpíadas - Parte 2\n",
        "_(créditos ao prof. Rafael Moreira)_"
      ]
    },
    {
      "cell_type": "markdown",
      "metadata": {
        "id": "H5NQk3cvnbig"
      },
      "source": [
        "Você recentemente trabalhou (ou está trabalhando) em uma análise de dados históricos dos jogos olímpicos utilizando o Pandas para auxiliá-lo.\n",
        "\n",
        "Desde que você iniciou seus trabalhos nesse projeto, novas ferramentas bastante poderosas foram ensinadas! O seu papel agora será utilizar essas novas ferramentas para gerar algumas visualizações que tornarão certas informações muito mais claras.\n",
        "\n",
        "Utilize qualquer uma das bibliotecas estudadas (```matplotlib```, ```seaborn``` e ```plotly```) para realizar as atividades propostas. Não há problema em usar apenas uma para realizar todas as atividades, nem em utilizar cada uma delas em uma atividade diferente - siga suas preferências pessoais!\n",
        "\n",
        "Utilize os (muitos) parâmetros permitidos por cada função e/ou atributos dos objetos fornecidos pelas bibliotecas para criar uma identidade visual coesa para ser utilizada em todo o projeto. Use títulos, legendas e rótulos nos eixos para deixar os gráficos verdadeiramente informativos. E não se esqueça que a simples escolha das cores a serem utilizadas pode tornar os gráficos ainda mais interessantes!\n",
        "\n",
        "Você utilizará o mesmo dataset fornecido no projeto anterior. Não há problemas em reaproveitar códigos do projeto anterior para economizar tempo e focar seus esforços na geração dos gráficos.\n",
        "\n",
        "Para começar, importe o Pandas e carregue o arquivo ```athlete_events.csv``` fornecido no projeto anterior."
      ]
    },
    {
      "cell_type": "markdown",
      "metadata": {},
      "source": [
        "<br><span style = 'color: red; font-size: 1.4em'> Regras deste notebook: </span>\n",
        "    <ol><span style = 'color: red; font-size: 1.1em'>\n",
        "        <li>Os markdowns estão em verde explicam o que foi feito </li> \n",
        "        <li>Os markdows Bracos são os enunciados e comentários do professor </li> \n",
        "        <li>O vermelho são as regras </li> \n",
        "    </span></ol>\n",
        "\n",
        "\n",
        "<span style = 'color: red; font-size: 1.4em'> Sorte aos que acompanham</span>"
      ]
    },
    {
      "cell_type": "markdown",
      "metadata": {},
      "source": [
        "<br><span style = 'color: green; font-size: 1.4em'>  Está primeira célula imortar os dados do csv contendo as infos dos atletas sob o nome ***df*** </span>"
      ]
    },
    {
      "cell_type": "code",
      "execution_count": 13,
      "metadata": {
        "id": "--SIDt3Snbih"
      },
      "outputs": [
        {
          "data": {
            "text/html": [
              "<div>\n",
              "<style scoped>\n",
              "    .dataframe tbody tr th:only-of-type {\n",
              "        vertical-align: middle;\n",
              "    }\n",
              "\n",
              "    .dataframe tbody tr th {\n",
              "        vertical-align: top;\n",
              "    }\n",
              "\n",
              "    .dataframe thead th {\n",
              "        text-align: right;\n",
              "    }\n",
              "</style>\n",
              "<table border=\"1\" class=\"dataframe\">\n",
              "  <thead>\n",
              "    <tr style=\"text-align: right;\">\n",
              "      <th></th>\n",
              "      <th>ID</th>\n",
              "      <th>Name</th>\n",
              "      <th>Sex</th>\n",
              "      <th>Age</th>\n",
              "      <th>Height</th>\n",
              "      <th>Weight</th>\n",
              "      <th>Team</th>\n",
              "      <th>NOC</th>\n",
              "      <th>Games</th>\n",
              "      <th>Year</th>\n",
              "      <th>Season</th>\n",
              "      <th>City</th>\n",
              "      <th>Sport</th>\n",
              "      <th>Event</th>\n",
              "      <th>Medal</th>\n",
              "    </tr>\n",
              "  </thead>\n",
              "  <tbody>\n",
              "    <tr>\n",
              "      <th>0</th>\n",
              "      <td>1</td>\n",
              "      <td>A Dijiang</td>\n",
              "      <td>M</td>\n",
              "      <td>24.0</td>\n",
              "      <td>180.0</td>\n",
              "      <td>80.0</td>\n",
              "      <td>China</td>\n",
              "      <td>CHN</td>\n",
              "      <td>1992 Summer</td>\n",
              "      <td>1992</td>\n",
              "      <td>Summer</td>\n",
              "      <td>Barcelona</td>\n",
              "      <td>Basketball</td>\n",
              "      <td>Basketball Men's Basketball</td>\n",
              "      <td>NaN</td>\n",
              "    </tr>\n",
              "    <tr>\n",
              "      <th>1</th>\n",
              "      <td>2</td>\n",
              "      <td>A Lamusi</td>\n",
              "      <td>M</td>\n",
              "      <td>23.0</td>\n",
              "      <td>170.0</td>\n",
              "      <td>60.0</td>\n",
              "      <td>China</td>\n",
              "      <td>CHN</td>\n",
              "      <td>2012 Summer</td>\n",
              "      <td>2012</td>\n",
              "      <td>Summer</td>\n",
              "      <td>London</td>\n",
              "      <td>Judo</td>\n",
              "      <td>Judo Men's Extra-Lightweight</td>\n",
              "      <td>NaN</td>\n",
              "    </tr>\n",
              "    <tr>\n",
              "      <th>2</th>\n",
              "      <td>3</td>\n",
              "      <td>Gunnar Nielsen Aaby</td>\n",
              "      <td>M</td>\n",
              "      <td>24.0</td>\n",
              "      <td>NaN</td>\n",
              "      <td>NaN</td>\n",
              "      <td>Denmark</td>\n",
              "      <td>DEN</td>\n",
              "      <td>1920 Summer</td>\n",
              "      <td>1920</td>\n",
              "      <td>Summer</td>\n",
              "      <td>Antwerpen</td>\n",
              "      <td>Football</td>\n",
              "      <td>Football Men's Football</td>\n",
              "      <td>NaN</td>\n",
              "    </tr>\n",
              "    <tr>\n",
              "      <th>3</th>\n",
              "      <td>4</td>\n",
              "      <td>Edgar Lindenau Aabye</td>\n",
              "      <td>M</td>\n",
              "      <td>34.0</td>\n",
              "      <td>NaN</td>\n",
              "      <td>NaN</td>\n",
              "      <td>Denmark/Sweden</td>\n",
              "      <td>DEN</td>\n",
              "      <td>1900 Summer</td>\n",
              "      <td>1900</td>\n",
              "      <td>Summer</td>\n",
              "      <td>Paris</td>\n",
              "      <td>Tug-Of-War</td>\n",
              "      <td>Tug-Of-War Men's Tug-Of-War</td>\n",
              "      <td>Gold</td>\n",
              "    </tr>\n",
              "    <tr>\n",
              "      <th>4</th>\n",
              "      <td>5</td>\n",
              "      <td>Christine Jacoba Aaftink</td>\n",
              "      <td>F</td>\n",
              "      <td>21.0</td>\n",
              "      <td>185.0</td>\n",
              "      <td>82.0</td>\n",
              "      <td>Netherlands</td>\n",
              "      <td>NED</td>\n",
              "      <td>1988 Winter</td>\n",
              "      <td>1988</td>\n",
              "      <td>Winter</td>\n",
              "      <td>Calgary</td>\n",
              "      <td>Speed Skating</td>\n",
              "      <td>Speed Skating Women's 500 metres</td>\n",
              "      <td>NaN</td>\n",
              "    </tr>\n",
              "    <tr>\n",
              "      <th>...</th>\n",
              "      <td>...</td>\n",
              "      <td>...</td>\n",
              "      <td>...</td>\n",
              "      <td>...</td>\n",
              "      <td>...</td>\n",
              "      <td>...</td>\n",
              "      <td>...</td>\n",
              "      <td>...</td>\n",
              "      <td>...</td>\n",
              "      <td>...</td>\n",
              "      <td>...</td>\n",
              "      <td>...</td>\n",
              "      <td>...</td>\n",
              "      <td>...</td>\n",
              "      <td>...</td>\n",
              "    </tr>\n",
              "    <tr>\n",
              "      <th>271111</th>\n",
              "      <td>135569</td>\n",
              "      <td>Andrzej ya</td>\n",
              "      <td>M</td>\n",
              "      <td>29.0</td>\n",
              "      <td>179.0</td>\n",
              "      <td>89.0</td>\n",
              "      <td>Poland-1</td>\n",
              "      <td>POL</td>\n",
              "      <td>1976 Winter</td>\n",
              "      <td>1976</td>\n",
              "      <td>Winter</td>\n",
              "      <td>Innsbruck</td>\n",
              "      <td>Luge</td>\n",
              "      <td>Luge Mixed (Men)'s Doubles</td>\n",
              "      <td>NaN</td>\n",
              "    </tr>\n",
              "    <tr>\n",
              "      <th>271112</th>\n",
              "      <td>135570</td>\n",
              "      <td>Piotr ya</td>\n",
              "      <td>M</td>\n",
              "      <td>27.0</td>\n",
              "      <td>176.0</td>\n",
              "      <td>59.0</td>\n",
              "      <td>Poland</td>\n",
              "      <td>POL</td>\n",
              "      <td>2014 Winter</td>\n",
              "      <td>2014</td>\n",
              "      <td>Winter</td>\n",
              "      <td>Sochi</td>\n",
              "      <td>Ski Jumping</td>\n",
              "      <td>Ski Jumping Men's Large Hill, Individual</td>\n",
              "      <td>NaN</td>\n",
              "    </tr>\n",
              "    <tr>\n",
              "      <th>271113</th>\n",
              "      <td>135570</td>\n",
              "      <td>Piotr ya</td>\n",
              "      <td>M</td>\n",
              "      <td>27.0</td>\n",
              "      <td>176.0</td>\n",
              "      <td>59.0</td>\n",
              "      <td>Poland</td>\n",
              "      <td>POL</td>\n",
              "      <td>2014 Winter</td>\n",
              "      <td>2014</td>\n",
              "      <td>Winter</td>\n",
              "      <td>Sochi</td>\n",
              "      <td>Ski Jumping</td>\n",
              "      <td>Ski Jumping Men's Large Hill, Team</td>\n",
              "      <td>NaN</td>\n",
              "    </tr>\n",
              "    <tr>\n",
              "      <th>271114</th>\n",
              "      <td>135571</td>\n",
              "      <td>Tomasz Ireneusz ya</td>\n",
              "      <td>M</td>\n",
              "      <td>30.0</td>\n",
              "      <td>185.0</td>\n",
              "      <td>96.0</td>\n",
              "      <td>Poland</td>\n",
              "      <td>POL</td>\n",
              "      <td>1998 Winter</td>\n",
              "      <td>1998</td>\n",
              "      <td>Winter</td>\n",
              "      <td>Nagano</td>\n",
              "      <td>Bobsleigh</td>\n",
              "      <td>Bobsleigh Men's Four</td>\n",
              "      <td>NaN</td>\n",
              "    </tr>\n",
              "    <tr>\n",
              "      <th>271115</th>\n",
              "      <td>135571</td>\n",
              "      <td>Tomasz Ireneusz ya</td>\n",
              "      <td>M</td>\n",
              "      <td>34.0</td>\n",
              "      <td>185.0</td>\n",
              "      <td>96.0</td>\n",
              "      <td>Poland</td>\n",
              "      <td>POL</td>\n",
              "      <td>2002 Winter</td>\n",
              "      <td>2002</td>\n",
              "      <td>Winter</td>\n",
              "      <td>Salt Lake City</td>\n",
              "      <td>Bobsleigh</td>\n",
              "      <td>Bobsleigh Men's Four</td>\n",
              "      <td>NaN</td>\n",
              "    </tr>\n",
              "  </tbody>\n",
              "</table>\n",
              "<p>271116 rows × 15 columns</p>\n",
              "</div>"
            ],
            "text/plain": [
              "            ID                      Name Sex   Age  Height  Weight  \\\n",
              "0            1                 A Dijiang   M  24.0   180.0    80.0   \n",
              "1            2                  A Lamusi   M  23.0   170.0    60.0   \n",
              "2            3       Gunnar Nielsen Aaby   M  24.0     NaN     NaN   \n",
              "3            4      Edgar Lindenau Aabye   M  34.0     NaN     NaN   \n",
              "4            5  Christine Jacoba Aaftink   F  21.0   185.0    82.0   \n",
              "...        ...                       ...  ..   ...     ...     ...   \n",
              "271111  135569                Andrzej ya   M  29.0   179.0    89.0   \n",
              "271112  135570                  Piotr ya   M  27.0   176.0    59.0   \n",
              "271113  135570                  Piotr ya   M  27.0   176.0    59.0   \n",
              "271114  135571        Tomasz Ireneusz ya   M  30.0   185.0    96.0   \n",
              "271115  135571        Tomasz Ireneusz ya   M  34.0   185.0    96.0   \n",
              "\n",
              "                  Team  NOC        Games  Year  Season            City  \\\n",
              "0                China  CHN  1992 Summer  1992  Summer       Barcelona   \n",
              "1                China  CHN  2012 Summer  2012  Summer          London   \n",
              "2              Denmark  DEN  1920 Summer  1920  Summer       Antwerpen   \n",
              "3       Denmark/Sweden  DEN  1900 Summer  1900  Summer           Paris   \n",
              "4          Netherlands  NED  1988 Winter  1988  Winter         Calgary   \n",
              "...                ...  ...          ...   ...     ...             ...   \n",
              "271111        Poland-1  POL  1976 Winter  1976  Winter       Innsbruck   \n",
              "271112          Poland  POL  2014 Winter  2014  Winter           Sochi   \n",
              "271113          Poland  POL  2014 Winter  2014  Winter           Sochi   \n",
              "271114          Poland  POL  1998 Winter  1998  Winter          Nagano   \n",
              "271115          Poland  POL  2002 Winter  2002  Winter  Salt Lake City   \n",
              "\n",
              "                Sport                                     Event Medal  \n",
              "0          Basketball               Basketball Men's Basketball   NaN  \n",
              "1                Judo              Judo Men's Extra-Lightweight   NaN  \n",
              "2            Football                   Football Men's Football   NaN  \n",
              "3          Tug-Of-War               Tug-Of-War Men's Tug-Of-War  Gold  \n",
              "4       Speed Skating          Speed Skating Women's 500 metres   NaN  \n",
              "...               ...                                       ...   ...  \n",
              "271111           Luge                Luge Mixed (Men)'s Doubles   NaN  \n",
              "271112    Ski Jumping  Ski Jumping Men's Large Hill, Individual   NaN  \n",
              "271113    Ski Jumping        Ski Jumping Men's Large Hill, Team   NaN  \n",
              "271114      Bobsleigh                      Bobsleigh Men's Four   NaN  \n",
              "271115      Bobsleigh                      Bobsleigh Men's Four   NaN  \n",
              "\n",
              "[271116 rows x 15 columns]"
            ]
          },
          "execution_count": 13,
          "metadata": {},
          "output_type": "execute_result"
        }
      ],
      "source": [
        "import pandas as pd \n",
        "df = pd.read_csv('athlete_events.csv')\n",
        "df"
      ]
    },
    {
      "cell_type": "markdown",
      "metadata": {
        "id": "xwouD3xJnbii"
      },
      "source": [
        "## 1. O Brasil nas Olimpíadas\n",
        "\n",
        "Vamos começar filtrando novamente os dados que iremos trabalhar. Crie um DataFrame contendo apenas informações sobre atletas **medalhistas** brasileiros."
      ]
    },
    {
      "cell_type": "markdown",
      "metadata": {},
      "source": [
        "<br><span style = 'color: green; font-size: 1.4em'> O dataframe **df** será filtrado pelas seguintes condições: </span>\n",
        "    <ul><span style = 'color: green; font-size: 1.2em'>\n",
        "        <li>Medalhistas Olímpicos( tirar as entradas com NA na coluna medalha)</li> \n",
        "        <li>Brasileiros (NOC = 'BRA')</li> \n",
        "    </span></ul>\n",
        "\n",
        "\n",
        "<span style = 'color: green; font-size: 1.4em'> O dataframe resultante terá nome de **df_brasil_med**</span>"
      ]
    },
    {
      "cell_type": "code",
      "execution_count": 14,
      "metadata": {
        "id": "c1fjo0Ywnbii"
      },
      "outputs": [
        {
          "data": {
            "text/html": [
              "<div>\n",
              "<style scoped>\n",
              "    .dataframe tbody tr th:only-of-type {\n",
              "        vertical-align: middle;\n",
              "    }\n",
              "\n",
              "    .dataframe tbody tr th {\n",
              "        vertical-align: top;\n",
              "    }\n",
              "\n",
              "    .dataframe thead th {\n",
              "        text-align: right;\n",
              "    }\n",
              "</style>\n",
              "<table border=\"1\" class=\"dataframe\">\n",
              "  <thead>\n",
              "    <tr style=\"text-align: right;\">\n",
              "      <th></th>\n",
              "      <th>ID</th>\n",
              "      <th>Name</th>\n",
              "      <th>Sex</th>\n",
              "      <th>Age</th>\n",
              "      <th>Height</th>\n",
              "      <th>Weight</th>\n",
              "      <th>Team</th>\n",
              "      <th>NOC</th>\n",
              "      <th>Games</th>\n",
              "      <th>Year</th>\n",
              "      <th>Season</th>\n",
              "      <th>City</th>\n",
              "      <th>Sport</th>\n",
              "      <th>Event</th>\n",
              "      <th>Medal</th>\n",
              "    </tr>\n",
              "  </thead>\n",
              "  <tbody>\n",
              "    <tr>\n",
              "      <th>1651</th>\n",
              "      <td>918</td>\n",
              "      <td>Ademir Roque Kaefer</td>\n",
              "      <td>M</td>\n",
              "      <td>24.0</td>\n",
              "      <td>179.0</td>\n",
              "      <td>74.0</td>\n",
              "      <td>Brazil</td>\n",
              "      <td>BRA</td>\n",
              "      <td>1984 Summer</td>\n",
              "      <td>1984</td>\n",
              "      <td>Summer</td>\n",
              "      <td>Los Angeles</td>\n",
              "      <td>Football</td>\n",
              "      <td>Football Men's Football</td>\n",
              "      <td>Silver</td>\n",
              "    </tr>\n",
              "    <tr>\n",
              "      <th>1652</th>\n",
              "      <td>918</td>\n",
              "      <td>Ademir Roque Kaefer</td>\n",
              "      <td>M</td>\n",
              "      <td>28.0</td>\n",
              "      <td>179.0</td>\n",
              "      <td>74.0</td>\n",
              "      <td>Brazil</td>\n",
              "      <td>BRA</td>\n",
              "      <td>1988 Summer</td>\n",
              "      <td>1988</td>\n",
              "      <td>Summer</td>\n",
              "      <td>Seoul</td>\n",
              "      <td>Football</td>\n",
              "      <td>Football Men's Football</td>\n",
              "      <td>Silver</td>\n",
              "    </tr>\n",
              "    <tr>\n",
              "      <th>1668</th>\n",
              "      <td>925</td>\n",
              "      <td>Adenzia Aparecida Ferreira da Silva</td>\n",
              "      <td>F</td>\n",
              "      <td>25.0</td>\n",
              "      <td>187.0</td>\n",
              "      <td>65.0</td>\n",
              "      <td>Brazil</td>\n",
              "      <td>BRA</td>\n",
              "      <td>2012 Summer</td>\n",
              "      <td>2012</td>\n",
              "      <td>Summer</td>\n",
              "      <td>London</td>\n",
              "      <td>Volleyball</td>\n",
              "      <td>Volleyball Women's Volleyball</td>\n",
              "      <td>Gold</td>\n",
              "    </tr>\n",
              "    <tr>\n",
              "      <th>1733</th>\n",
              "      <td>966</td>\n",
              "      <td>Daniel Adler</td>\n",
              "      <td>M</td>\n",
              "      <td>26.0</td>\n",
              "      <td>180.0</td>\n",
              "      <td>72.0</td>\n",
              "      <td>Brazil</td>\n",
              "      <td>BRA</td>\n",
              "      <td>1984 Summer</td>\n",
              "      <td>1984</td>\n",
              "      <td>Summer</td>\n",
              "      <td>Los Angeles</td>\n",
              "      <td>Sailing</td>\n",
              "      <td>Sailing Mixed Three Person Keelboat</td>\n",
              "      <td>Silver</td>\n",
              "    </tr>\n",
              "    <tr>\n",
              "      <th>1856</th>\n",
              "      <td>1020</td>\n",
              "      <td>Adriana Aparecida dos Santos</td>\n",
              "      <td>F</td>\n",
              "      <td>25.0</td>\n",
              "      <td>180.0</td>\n",
              "      <td>61.0</td>\n",
              "      <td>Brazil</td>\n",
              "      <td>BRA</td>\n",
              "      <td>1996 Summer</td>\n",
              "      <td>1996</td>\n",
              "      <td>Summer</td>\n",
              "      <td>Atlanta</td>\n",
              "      <td>Basketball</td>\n",
              "      <td>Basketball Women's Basketball</td>\n",
              "      <td>Silver</td>\n",
              "    </tr>\n",
              "    <tr>\n",
              "      <th>...</th>\n",
              "      <td>...</td>\n",
              "      <td>...</td>\n",
              "      <td>...</td>\n",
              "      <td>...</td>\n",
              "      <td>...</td>\n",
              "      <td>...</td>\n",
              "      <td>...</td>\n",
              "      <td>...</td>\n",
              "      <td>...</td>\n",
              "      <td>...</td>\n",
              "      <td>...</td>\n",
              "      <td>...</td>\n",
              "      <td>...</td>\n",
              "      <td>...</td>\n",
              "      <td>...</td>\n",
              "    </tr>\n",
              "    <tr>\n",
              "      <th>267709</th>\n",
              "      <td>133931</td>\n",
              "      <td>Arthur Nabarrete Zanetti</td>\n",
              "      <td>M</td>\n",
              "      <td>26.0</td>\n",
              "      <td>156.0</td>\n",
              "      <td>61.0</td>\n",
              "      <td>Brazil</td>\n",
              "      <td>BRA</td>\n",
              "      <td>2016 Summer</td>\n",
              "      <td>2016</td>\n",
              "      <td>Summer</td>\n",
              "      <td>Rio de Janeiro</td>\n",
              "      <td>Gymnastics</td>\n",
              "      <td>Gymnastics Men's Rings</td>\n",
              "      <td>Silver</td>\n",
              "    </tr>\n",
              "    <tr>\n",
              "      <th>268211</th>\n",
              "      <td>134186</td>\n",
              "      <td>Jos Elias \"Z Elias\" Moedim Jnior</td>\n",
              "      <td>M</td>\n",
              "      <td>19.0</td>\n",
              "      <td>178.0</td>\n",
              "      <td>75.0</td>\n",
              "      <td>Brazil</td>\n",
              "      <td>BRA</td>\n",
              "      <td>1996 Summer</td>\n",
              "      <td>1996</td>\n",
              "      <td>Summer</td>\n",
              "      <td>Atlanta</td>\n",
              "      <td>Football</td>\n",
              "      <td>Football Men's Football</td>\n",
              "      <td>Bronze</td>\n",
              "    </tr>\n",
              "    <tr>\n",
              "      <th>268218</th>\n",
              "      <td>134190</td>\n",
              "      <td>Jos Marco \"Z Marco\" Nobrega Ferreira de Melo</td>\n",
              "      <td>M</td>\n",
              "      <td>29.0</td>\n",
              "      <td>190.0</td>\n",
              "      <td>86.0</td>\n",
              "      <td>Brazil-1</td>\n",
              "      <td>BRA</td>\n",
              "      <td>2000 Summer</td>\n",
              "      <td>2000</td>\n",
              "      <td>Summer</td>\n",
              "      <td>Sydney</td>\n",
              "      <td>Beach Volleyball</td>\n",
              "      <td>Beach Volleyball Men's Beach Volleyball</td>\n",
              "      <td>Silver</td>\n",
              "    </tr>\n",
              "    <tr>\n",
              "      <th>268219</th>\n",
              "      <td>134191</td>\n",
              "      <td>Jos Marcelo \"Z Maria\" Ferreira</td>\n",
              "      <td>M</td>\n",
              "      <td>22.0</td>\n",
              "      <td>175.0</td>\n",
              "      <td>71.0</td>\n",
              "      <td>Brazil</td>\n",
              "      <td>BRA</td>\n",
              "      <td>1996 Summer</td>\n",
              "      <td>1996</td>\n",
              "      <td>Summer</td>\n",
              "      <td>Atlanta</td>\n",
              "      <td>Football</td>\n",
              "      <td>Football Men's Football</td>\n",
              "      <td>Bronze</td>\n",
              "    </tr>\n",
              "    <tr>\n",
              "      <th>268247</th>\n",
              "      <td>134211</td>\n",
              "      <td>Jos Carlos Cracco Neto</td>\n",
              "      <td>M</td>\n",
              "      <td>22.0</td>\n",
              "      <td>170.0</td>\n",
              "      <td>69.0</td>\n",
              "      <td>Brazil</td>\n",
              "      <td>BRA</td>\n",
              "      <td>2016 Summer</td>\n",
              "      <td>2016</td>\n",
              "      <td>Summer</td>\n",
              "      <td>Rio de Janeiro</td>\n",
              "      <td>Football</td>\n",
              "      <td>Football Men's Football</td>\n",
              "      <td>Gold</td>\n",
              "    </tr>\n",
              "  </tbody>\n",
              "</table>\n",
              "<p>475 rows × 15 columns</p>\n",
              "</div>"
            ],
            "text/plain": [
              "            ID                                          Name Sex   Age  \\\n",
              "1651       918                           Ademir Roque Kaefer   M  24.0   \n",
              "1652       918                           Ademir Roque Kaefer   M  28.0   \n",
              "1668       925           Adenzia Aparecida Ferreira da Silva   F  25.0   \n",
              "1733       966                                  Daniel Adler   M  26.0   \n",
              "1856      1020                  Adriana Aparecida dos Santos   F  25.0   \n",
              "...        ...                                           ...  ..   ...   \n",
              "267709  133931                      Arthur Nabarrete Zanetti   M  26.0   \n",
              "268211  134186              Jos Elias \"Z Elias\" Moedim Jnior   M  19.0   \n",
              "268218  134190  Jos Marco \"Z Marco\" Nobrega Ferreira de Melo   M  29.0   \n",
              "268219  134191                Jos Marcelo \"Z Maria\" Ferreira   M  22.0   \n",
              "268247  134211                        Jos Carlos Cracco Neto   M  22.0   \n",
              "\n",
              "        Height  Weight      Team  NOC        Games  Year  Season  \\\n",
              "1651     179.0    74.0    Brazil  BRA  1984 Summer  1984  Summer   \n",
              "1652     179.0    74.0    Brazil  BRA  1988 Summer  1988  Summer   \n",
              "1668     187.0    65.0    Brazil  BRA  2012 Summer  2012  Summer   \n",
              "1733     180.0    72.0    Brazil  BRA  1984 Summer  1984  Summer   \n",
              "1856     180.0    61.0    Brazil  BRA  1996 Summer  1996  Summer   \n",
              "...        ...     ...       ...  ...          ...   ...     ...   \n",
              "267709   156.0    61.0    Brazil  BRA  2016 Summer  2016  Summer   \n",
              "268211   178.0    75.0    Brazil  BRA  1996 Summer  1996  Summer   \n",
              "268218   190.0    86.0  Brazil-1  BRA  2000 Summer  2000  Summer   \n",
              "268219   175.0    71.0    Brazil  BRA  1996 Summer  1996  Summer   \n",
              "268247   170.0    69.0    Brazil  BRA  2016 Summer  2016  Summer   \n",
              "\n",
              "                  City             Sport  \\\n",
              "1651       Los Angeles          Football   \n",
              "1652             Seoul          Football   \n",
              "1668            London        Volleyball   \n",
              "1733       Los Angeles           Sailing   \n",
              "1856           Atlanta        Basketball   \n",
              "...                ...               ...   \n",
              "267709  Rio de Janeiro        Gymnastics   \n",
              "268211         Atlanta          Football   \n",
              "268218          Sydney  Beach Volleyball   \n",
              "268219         Atlanta          Football   \n",
              "268247  Rio de Janeiro          Football   \n",
              "\n",
              "                                          Event   Medal  \n",
              "1651                    Football Men's Football  Silver  \n",
              "1652                    Football Men's Football  Silver  \n",
              "1668              Volleyball Women's Volleyball    Gold  \n",
              "1733        Sailing Mixed Three Person Keelboat  Silver  \n",
              "1856              Basketball Women's Basketball  Silver  \n",
              "...                                         ...     ...  \n",
              "267709                   Gymnastics Men's Rings  Silver  \n",
              "268211                  Football Men's Football  Bronze  \n",
              "268218  Beach Volleyball Men's Beach Volleyball  Silver  \n",
              "268219                  Football Men's Football  Bronze  \n",
              "268247                  Football Men's Football    Gold  \n",
              "\n",
              "[475 rows x 15 columns]"
            ]
          },
          "execution_count": 14,
          "metadata": {},
          "output_type": "execute_result"
        }
      ],
      "source": [
        "df_brasil_med = df[(df.NOC == 'BRA') & (~df['Medal'].isna())]\n",
        "\n",
        "df_brasil_med"
      ]
    },
    {
      "cell_type": "markdown",
      "metadata": {
        "id": "ULlpG0LQnbii"
      },
      "source": [
        "Vamos caracterizar fisicamente nossos medalhistas, verificando se há alguma correlação entre o desempenho em certos esportes e o tipo físico dos atletas. \n",
        "\n",
        "Gere um gráfico de barras contendo os diferentes esportes no eixo X e a altura dos atletas no eixo Y. Utilize barras lado-a-lado para separar atletas do sexo masculino e feminino."
      ]
    },
    {
      "cell_type": "markdown",
      "metadata": {},
      "source": [
        "<br><span style = 'color: green; font-size: 1.4em'> Os valores que aparecerem com NA na tabela resultante serão substituidos por valor 0. Tem esportes sem ganhadores olímpicos para ambos os sexos. Ainda foi feita uma troca no nomes das colunas para termos uma comunicação mais efetiva.O gráfico resultante mostra a relação entre altura e os ganhadores brasileiros olímpicos por sexo </span>  "
      ]
    },
    {
      "cell_type": "code",
      "execution_count": 4,
      "metadata": {
        "id": "-mZWFMQsnbij"
      },
      "outputs": [
        {
          "data": {
            "text/html": [
              "<div>\n",
              "<style scoped>\n",
              "    .dataframe tbody tr th:only-of-type {\n",
              "        vertical-align: middle;\n",
              "    }\n",
              "\n",
              "    .dataframe tbody tr th {\n",
              "        vertical-align: top;\n",
              "    }\n",
              "\n",
              "    .dataframe thead th {\n",
              "        text-align: right;\n",
              "    }\n",
              "</style>\n",
              "<table border=\"1\" class=\"dataframe\">\n",
              "  <thead>\n",
              "    <tr style=\"text-align: right;\">\n",
              "      <th>Sex</th>\n",
              "      <th>Mulher</th>\n",
              "      <th>Homem</th>\n",
              "    </tr>\n",
              "    <tr>\n",
              "      <th>Sport</th>\n",
              "      <th></th>\n",
              "      <th></th>\n",
              "    </tr>\n",
              "  </thead>\n",
              "  <tbody>\n",
              "    <tr>\n",
              "      <th>Athletics</th>\n",
              "      <td>173.000000</td>\n",
              "      <td>181.320000</td>\n",
              "    </tr>\n",
              "    <tr>\n",
              "      <th>Basketball</th>\n",
              "      <td>183.375000</td>\n",
              "      <td>187.592593</td>\n",
              "    </tr>\n",
              "    <tr>\n",
              "      <th>Beach Volleyball</th>\n",
              "      <td>175.000000</td>\n",
              "      <td>195.583333</td>\n",
              "    </tr>\n",
              "    <tr>\n",
              "      <th>Boxing</th>\n",
              "      <td>167.000000</td>\n",
              "      <td>170.750000</td>\n",
              "    </tr>\n",
              "    <tr>\n",
              "      <th>Canoeing</th>\n",
              "      <td>0.000000</td>\n",
              "      <td>175.000000</td>\n",
              "    </tr>\n",
              "    <tr>\n",
              "      <th>Equestrianism</th>\n",
              "      <td>0.000000</td>\n",
              "      <td>179.666667</td>\n",
              "    </tr>\n",
              "    <tr>\n",
              "      <th>Football</th>\n",
              "      <td>166.971429</td>\n",
              "      <td>178.989691</td>\n",
              "    </tr>\n",
              "    <tr>\n",
              "      <th>Gymnastics</th>\n",
              "      <td>0.000000</td>\n",
              "      <td>162.750000</td>\n",
              "    </tr>\n",
              "    <tr>\n",
              "      <th>Judo</th>\n",
              "      <td>168.200000</td>\n",
              "      <td>179.312500</td>\n",
              "    </tr>\n",
              "    <tr>\n",
              "      <th>Modern Pentathlon</th>\n",
              "      <td>166.000000</td>\n",
              "      <td>0.000000</td>\n",
              "    </tr>\n",
              "    <tr>\n",
              "      <th>Sailing</th>\n",
              "      <td>170.500000</td>\n",
              "      <td>183.066667</td>\n",
              "    </tr>\n",
              "    <tr>\n",
              "      <th>Shooting</th>\n",
              "      <td>0.000000</td>\n",
              "      <td>175.000000</td>\n",
              "    </tr>\n",
              "    <tr>\n",
              "      <th>Swimming</th>\n",
              "      <td>165.000000</td>\n",
              "      <td>190.444444</td>\n",
              "    </tr>\n",
              "    <tr>\n",
              "      <th>Taekwondo</th>\n",
              "      <td>178.000000</td>\n",
              "      <td>190.000000</td>\n",
              "    </tr>\n",
              "    <tr>\n",
              "      <th>Volleyball</th>\n",
              "      <td>183.437500</td>\n",
              "      <td>195.361111</td>\n",
              "    </tr>\n",
              "  </tbody>\n",
              "</table>\n",
              "</div>"
            ],
            "text/plain": [
              "Sex                    Mulher       Homem\n",
              "Sport                                    \n",
              "Athletics          173.000000  181.320000\n",
              "Basketball         183.375000  187.592593\n",
              "Beach Volleyball   175.000000  195.583333\n",
              "Boxing             167.000000  170.750000\n",
              "Canoeing             0.000000  175.000000\n",
              "Equestrianism        0.000000  179.666667\n",
              "Football           166.971429  178.989691\n",
              "Gymnastics           0.000000  162.750000\n",
              "Judo               168.200000  179.312500\n",
              "Modern Pentathlon  166.000000    0.000000\n",
              "Sailing            170.500000  183.066667\n",
              "Shooting             0.000000  175.000000\n",
              "Swimming           165.000000  190.444444\n",
              "Taekwondo          178.000000  190.000000\n",
              "Volleyball         183.437500  195.361111"
            ]
          },
          "execution_count": 4,
          "metadata": {},
          "output_type": "execute_result"
        }
      ],
      "source": [
        "\n",
        "#Aqui é criada a tabela com os valores médios de altura e sexo \n",
        "#dos ganhadores olímpicos \n",
        "df_teste_altura_sexo = df_brasil_med.groupby(['Sex', 'Sport'])['Height'].mean()\n",
        "df_teste_altura_sexo = df_teste_altura_sexo.unstack('Sex')\n",
        "\n",
        "df_teste_altura_sexo.fillna(0, inplace = True)\n",
        "df_teste_altura_sexo.rename(columns = {'F': 'Mulher','M': 'Homem'}, inplace = True)\n",
        "df_teste_altura_sexo"
      ]
    },
    {
      "cell_type": "code",
      "execution_count": 5,
      "metadata": {},
      "outputs": [
        {
          "data": {
            "application/vnd.plotly.v1+json": {
              "config": {
                "plotlyServerURL": "https://plot.ly"
              },
              "data": [
                {
                  "alignmentgroup": "True",
                  "hovertemplate": "Sexo=Mulher<br>Sport=%{x}<br>Altura média (cm)=%{y}<extra></extra>",
                  "legendgroup": "Mulher",
                  "marker": {
                    "color": "#636efa",
                    "pattern": {
                      "shape": ""
                    }
                  },
                  "name": "Mulher",
                  "offsetgroup": "Mulher",
                  "orientation": "v",
                  "showlegend": true,
                  "textposition": "auto",
                  "type": "bar",
                  "x": [
                    "Athletics",
                    "Basketball",
                    "Beach Volleyball",
                    "Boxing",
                    "Canoeing",
                    "Equestrianism",
                    "Football",
                    "Gymnastics",
                    "Judo",
                    "Modern Pentathlon",
                    "Sailing",
                    "Shooting",
                    "Swimming",
                    "Taekwondo",
                    "Volleyball"
                  ],
                  "xaxis": "x",
                  "y": [
                    173,
                    183.375,
                    175,
                    167,
                    0,
                    0,
                    166.97142857142856,
                    0,
                    168.2,
                    166,
                    170.5,
                    0,
                    165,
                    178,
                    183.4375
                  ],
                  "yaxis": "y"
                },
                {
                  "alignmentgroup": "True",
                  "hovertemplate": "Sexo=Homem<br>Sport=%{x}<br>Altura média (cm)=%{y}<extra></extra>",
                  "legendgroup": "Homem",
                  "marker": {
                    "color": "#EF553B",
                    "pattern": {
                      "shape": ""
                    }
                  },
                  "name": "Homem",
                  "offsetgroup": "Homem",
                  "orientation": "v",
                  "showlegend": true,
                  "textposition": "auto",
                  "type": "bar",
                  "x": [
                    "Athletics",
                    "Basketball",
                    "Beach Volleyball",
                    "Boxing",
                    "Canoeing",
                    "Equestrianism",
                    "Football",
                    "Gymnastics",
                    "Judo",
                    "Modern Pentathlon",
                    "Sailing",
                    "Shooting",
                    "Swimming",
                    "Taekwondo",
                    "Volleyball"
                  ],
                  "xaxis": "x",
                  "y": [
                    181.32,
                    187.59259259259258,
                    195.58333333333334,
                    170.75,
                    175,
                    179.66666666666666,
                    178.98969072164948,
                    162.75,
                    179.3125,
                    0,
                    183.06666666666666,
                    175,
                    190.44444444444446,
                    190,
                    195.36111111111111
                  ],
                  "yaxis": "y"
                }
              ],
              "layout": {
                "barmode": "group",
                "height": 400,
                "legend": {
                  "title": {
                    "text": "Sexo"
                  },
                  "tracegroupgap": 0
                },
                "template": {
                  "data": {
                    "bar": [
                      {
                        "error_x": {
                          "color": "#2a3f5f"
                        },
                        "error_y": {
                          "color": "#2a3f5f"
                        },
                        "marker": {
                          "line": {
                            "color": "#E5ECF6",
                            "width": 0.5
                          },
                          "pattern": {
                            "fillmode": "overlay",
                            "size": 10,
                            "solidity": 0.2
                          }
                        },
                        "type": "bar"
                      }
                    ],
                    "barpolar": [
                      {
                        "marker": {
                          "line": {
                            "color": "#E5ECF6",
                            "width": 0.5
                          },
                          "pattern": {
                            "fillmode": "overlay",
                            "size": 10,
                            "solidity": 0.2
                          }
                        },
                        "type": "barpolar"
                      }
                    ],
                    "carpet": [
                      {
                        "aaxis": {
                          "endlinecolor": "#2a3f5f",
                          "gridcolor": "white",
                          "linecolor": "white",
                          "minorgridcolor": "white",
                          "startlinecolor": "#2a3f5f"
                        },
                        "baxis": {
                          "endlinecolor": "#2a3f5f",
                          "gridcolor": "white",
                          "linecolor": "white",
                          "minorgridcolor": "white",
                          "startlinecolor": "#2a3f5f"
                        },
                        "type": "carpet"
                      }
                    ],
                    "choropleth": [
                      {
                        "colorbar": {
                          "outlinewidth": 0,
                          "ticks": ""
                        },
                        "type": "choropleth"
                      }
                    ],
                    "contour": [
                      {
                        "colorbar": {
                          "outlinewidth": 0,
                          "ticks": ""
                        },
                        "colorscale": [
                          [
                            0,
                            "#0d0887"
                          ],
                          [
                            0.1111111111111111,
                            "#46039f"
                          ],
                          [
                            0.2222222222222222,
                            "#7201a8"
                          ],
                          [
                            0.3333333333333333,
                            "#9c179e"
                          ],
                          [
                            0.4444444444444444,
                            "#bd3786"
                          ],
                          [
                            0.5555555555555556,
                            "#d8576b"
                          ],
                          [
                            0.6666666666666666,
                            "#ed7953"
                          ],
                          [
                            0.7777777777777778,
                            "#fb9f3a"
                          ],
                          [
                            0.8888888888888888,
                            "#fdca26"
                          ],
                          [
                            1,
                            "#f0f921"
                          ]
                        ],
                        "type": "contour"
                      }
                    ],
                    "contourcarpet": [
                      {
                        "colorbar": {
                          "outlinewidth": 0,
                          "ticks": ""
                        },
                        "type": "contourcarpet"
                      }
                    ],
                    "heatmap": [
                      {
                        "colorbar": {
                          "outlinewidth": 0,
                          "ticks": ""
                        },
                        "colorscale": [
                          [
                            0,
                            "#0d0887"
                          ],
                          [
                            0.1111111111111111,
                            "#46039f"
                          ],
                          [
                            0.2222222222222222,
                            "#7201a8"
                          ],
                          [
                            0.3333333333333333,
                            "#9c179e"
                          ],
                          [
                            0.4444444444444444,
                            "#bd3786"
                          ],
                          [
                            0.5555555555555556,
                            "#d8576b"
                          ],
                          [
                            0.6666666666666666,
                            "#ed7953"
                          ],
                          [
                            0.7777777777777778,
                            "#fb9f3a"
                          ],
                          [
                            0.8888888888888888,
                            "#fdca26"
                          ],
                          [
                            1,
                            "#f0f921"
                          ]
                        ],
                        "type": "heatmap"
                      }
                    ],
                    "heatmapgl": [
                      {
                        "colorbar": {
                          "outlinewidth": 0,
                          "ticks": ""
                        },
                        "colorscale": [
                          [
                            0,
                            "#0d0887"
                          ],
                          [
                            0.1111111111111111,
                            "#46039f"
                          ],
                          [
                            0.2222222222222222,
                            "#7201a8"
                          ],
                          [
                            0.3333333333333333,
                            "#9c179e"
                          ],
                          [
                            0.4444444444444444,
                            "#bd3786"
                          ],
                          [
                            0.5555555555555556,
                            "#d8576b"
                          ],
                          [
                            0.6666666666666666,
                            "#ed7953"
                          ],
                          [
                            0.7777777777777778,
                            "#fb9f3a"
                          ],
                          [
                            0.8888888888888888,
                            "#fdca26"
                          ],
                          [
                            1,
                            "#f0f921"
                          ]
                        ],
                        "type": "heatmapgl"
                      }
                    ],
                    "histogram": [
                      {
                        "marker": {
                          "pattern": {
                            "fillmode": "overlay",
                            "size": 10,
                            "solidity": 0.2
                          }
                        },
                        "type": "histogram"
                      }
                    ],
                    "histogram2d": [
                      {
                        "colorbar": {
                          "outlinewidth": 0,
                          "ticks": ""
                        },
                        "colorscale": [
                          [
                            0,
                            "#0d0887"
                          ],
                          [
                            0.1111111111111111,
                            "#46039f"
                          ],
                          [
                            0.2222222222222222,
                            "#7201a8"
                          ],
                          [
                            0.3333333333333333,
                            "#9c179e"
                          ],
                          [
                            0.4444444444444444,
                            "#bd3786"
                          ],
                          [
                            0.5555555555555556,
                            "#d8576b"
                          ],
                          [
                            0.6666666666666666,
                            "#ed7953"
                          ],
                          [
                            0.7777777777777778,
                            "#fb9f3a"
                          ],
                          [
                            0.8888888888888888,
                            "#fdca26"
                          ],
                          [
                            1,
                            "#f0f921"
                          ]
                        ],
                        "type": "histogram2d"
                      }
                    ],
                    "histogram2dcontour": [
                      {
                        "colorbar": {
                          "outlinewidth": 0,
                          "ticks": ""
                        },
                        "colorscale": [
                          [
                            0,
                            "#0d0887"
                          ],
                          [
                            0.1111111111111111,
                            "#46039f"
                          ],
                          [
                            0.2222222222222222,
                            "#7201a8"
                          ],
                          [
                            0.3333333333333333,
                            "#9c179e"
                          ],
                          [
                            0.4444444444444444,
                            "#bd3786"
                          ],
                          [
                            0.5555555555555556,
                            "#d8576b"
                          ],
                          [
                            0.6666666666666666,
                            "#ed7953"
                          ],
                          [
                            0.7777777777777778,
                            "#fb9f3a"
                          ],
                          [
                            0.8888888888888888,
                            "#fdca26"
                          ],
                          [
                            1,
                            "#f0f921"
                          ]
                        ],
                        "type": "histogram2dcontour"
                      }
                    ],
                    "mesh3d": [
                      {
                        "colorbar": {
                          "outlinewidth": 0,
                          "ticks": ""
                        },
                        "type": "mesh3d"
                      }
                    ],
                    "parcoords": [
                      {
                        "line": {
                          "colorbar": {
                            "outlinewidth": 0,
                            "ticks": ""
                          }
                        },
                        "type": "parcoords"
                      }
                    ],
                    "pie": [
                      {
                        "automargin": true,
                        "type": "pie"
                      }
                    ],
                    "scatter": [
                      {
                        "marker": {
                          "colorbar": {
                            "outlinewidth": 0,
                            "ticks": ""
                          }
                        },
                        "type": "scatter"
                      }
                    ],
                    "scatter3d": [
                      {
                        "line": {
                          "colorbar": {
                            "outlinewidth": 0,
                            "ticks": ""
                          }
                        },
                        "marker": {
                          "colorbar": {
                            "outlinewidth": 0,
                            "ticks": ""
                          }
                        },
                        "type": "scatter3d"
                      }
                    ],
                    "scattercarpet": [
                      {
                        "marker": {
                          "colorbar": {
                            "outlinewidth": 0,
                            "ticks": ""
                          }
                        },
                        "type": "scattercarpet"
                      }
                    ],
                    "scattergeo": [
                      {
                        "marker": {
                          "colorbar": {
                            "outlinewidth": 0,
                            "ticks": ""
                          }
                        },
                        "type": "scattergeo"
                      }
                    ],
                    "scattergl": [
                      {
                        "marker": {
                          "colorbar": {
                            "outlinewidth": 0,
                            "ticks": ""
                          }
                        },
                        "type": "scattergl"
                      }
                    ],
                    "scattermapbox": [
                      {
                        "marker": {
                          "colorbar": {
                            "outlinewidth": 0,
                            "ticks": ""
                          }
                        },
                        "type": "scattermapbox"
                      }
                    ],
                    "scatterpolar": [
                      {
                        "marker": {
                          "colorbar": {
                            "outlinewidth": 0,
                            "ticks": ""
                          }
                        },
                        "type": "scatterpolar"
                      }
                    ],
                    "scatterpolargl": [
                      {
                        "marker": {
                          "colorbar": {
                            "outlinewidth": 0,
                            "ticks": ""
                          }
                        },
                        "type": "scatterpolargl"
                      }
                    ],
                    "scatterternary": [
                      {
                        "marker": {
                          "colorbar": {
                            "outlinewidth": 0,
                            "ticks": ""
                          }
                        },
                        "type": "scatterternary"
                      }
                    ],
                    "surface": [
                      {
                        "colorbar": {
                          "outlinewidth": 0,
                          "ticks": ""
                        },
                        "colorscale": [
                          [
                            0,
                            "#0d0887"
                          ],
                          [
                            0.1111111111111111,
                            "#46039f"
                          ],
                          [
                            0.2222222222222222,
                            "#7201a8"
                          ],
                          [
                            0.3333333333333333,
                            "#9c179e"
                          ],
                          [
                            0.4444444444444444,
                            "#bd3786"
                          ],
                          [
                            0.5555555555555556,
                            "#d8576b"
                          ],
                          [
                            0.6666666666666666,
                            "#ed7953"
                          ],
                          [
                            0.7777777777777778,
                            "#fb9f3a"
                          ],
                          [
                            0.8888888888888888,
                            "#fdca26"
                          ],
                          [
                            1,
                            "#f0f921"
                          ]
                        ],
                        "type": "surface"
                      }
                    ],
                    "table": [
                      {
                        "cells": {
                          "fill": {
                            "color": "#EBF0F8"
                          },
                          "line": {
                            "color": "white"
                          }
                        },
                        "header": {
                          "fill": {
                            "color": "#C8D4E3"
                          },
                          "line": {
                            "color": "white"
                          }
                        },
                        "type": "table"
                      }
                    ]
                  },
                  "layout": {
                    "annotationdefaults": {
                      "arrowcolor": "#2a3f5f",
                      "arrowhead": 0,
                      "arrowwidth": 1
                    },
                    "autotypenumbers": "strict",
                    "coloraxis": {
                      "colorbar": {
                        "outlinewidth": 0,
                        "ticks": ""
                      }
                    },
                    "colorscale": {
                      "diverging": [
                        [
                          0,
                          "#8e0152"
                        ],
                        [
                          0.1,
                          "#c51b7d"
                        ],
                        [
                          0.2,
                          "#de77ae"
                        ],
                        [
                          0.3,
                          "#f1b6da"
                        ],
                        [
                          0.4,
                          "#fde0ef"
                        ],
                        [
                          0.5,
                          "#f7f7f7"
                        ],
                        [
                          0.6,
                          "#e6f5d0"
                        ],
                        [
                          0.7,
                          "#b8e186"
                        ],
                        [
                          0.8,
                          "#7fbc41"
                        ],
                        [
                          0.9,
                          "#4d9221"
                        ],
                        [
                          1,
                          "#276419"
                        ]
                      ],
                      "sequential": [
                        [
                          0,
                          "#0d0887"
                        ],
                        [
                          0.1111111111111111,
                          "#46039f"
                        ],
                        [
                          0.2222222222222222,
                          "#7201a8"
                        ],
                        [
                          0.3333333333333333,
                          "#9c179e"
                        ],
                        [
                          0.4444444444444444,
                          "#bd3786"
                        ],
                        [
                          0.5555555555555556,
                          "#d8576b"
                        ],
                        [
                          0.6666666666666666,
                          "#ed7953"
                        ],
                        [
                          0.7777777777777778,
                          "#fb9f3a"
                        ],
                        [
                          0.8888888888888888,
                          "#fdca26"
                        ],
                        [
                          1,
                          "#f0f921"
                        ]
                      ],
                      "sequentialminus": [
                        [
                          0,
                          "#0d0887"
                        ],
                        [
                          0.1111111111111111,
                          "#46039f"
                        ],
                        [
                          0.2222222222222222,
                          "#7201a8"
                        ],
                        [
                          0.3333333333333333,
                          "#9c179e"
                        ],
                        [
                          0.4444444444444444,
                          "#bd3786"
                        ],
                        [
                          0.5555555555555556,
                          "#d8576b"
                        ],
                        [
                          0.6666666666666666,
                          "#ed7953"
                        ],
                        [
                          0.7777777777777778,
                          "#fb9f3a"
                        ],
                        [
                          0.8888888888888888,
                          "#fdca26"
                        ],
                        [
                          1,
                          "#f0f921"
                        ]
                      ]
                    },
                    "colorway": [
                      "#636efa",
                      "#EF553B",
                      "#00cc96",
                      "#ab63fa",
                      "#FFA15A",
                      "#19d3f3",
                      "#FF6692",
                      "#B6E880",
                      "#FF97FF",
                      "#FECB52"
                    ],
                    "font": {
                      "color": "#2a3f5f"
                    },
                    "geo": {
                      "bgcolor": "white",
                      "lakecolor": "white",
                      "landcolor": "#E5ECF6",
                      "showlakes": true,
                      "showland": true,
                      "subunitcolor": "white"
                    },
                    "hoverlabel": {
                      "align": "left"
                    },
                    "hovermode": "closest",
                    "mapbox": {
                      "style": "light"
                    },
                    "paper_bgcolor": "white",
                    "plot_bgcolor": "#E5ECF6",
                    "polar": {
                      "angularaxis": {
                        "gridcolor": "white",
                        "linecolor": "white",
                        "ticks": ""
                      },
                      "bgcolor": "#E5ECF6",
                      "radialaxis": {
                        "gridcolor": "white",
                        "linecolor": "white",
                        "ticks": ""
                      }
                    },
                    "scene": {
                      "xaxis": {
                        "backgroundcolor": "#E5ECF6",
                        "gridcolor": "white",
                        "gridwidth": 2,
                        "linecolor": "white",
                        "showbackground": true,
                        "ticks": "",
                        "zerolinecolor": "white"
                      },
                      "yaxis": {
                        "backgroundcolor": "#E5ECF6",
                        "gridcolor": "white",
                        "gridwidth": 2,
                        "linecolor": "white",
                        "showbackground": true,
                        "ticks": "",
                        "zerolinecolor": "white"
                      },
                      "zaxis": {
                        "backgroundcolor": "#E5ECF6",
                        "gridcolor": "white",
                        "gridwidth": 2,
                        "linecolor": "white",
                        "showbackground": true,
                        "ticks": "",
                        "zerolinecolor": "white"
                      }
                    },
                    "shapedefaults": {
                      "line": {
                        "color": "#2a3f5f"
                      }
                    },
                    "ternary": {
                      "aaxis": {
                        "gridcolor": "white",
                        "linecolor": "white",
                        "ticks": ""
                      },
                      "baxis": {
                        "gridcolor": "white",
                        "linecolor": "white",
                        "ticks": ""
                      },
                      "bgcolor": "#E5ECF6",
                      "caxis": {
                        "gridcolor": "white",
                        "linecolor": "white",
                        "ticks": ""
                      }
                    },
                    "title": {
                      "x": 0.05
                    },
                    "xaxis": {
                      "automargin": true,
                      "gridcolor": "white",
                      "linecolor": "white",
                      "ticks": "",
                      "title": {
                        "standoff": 15
                      },
                      "zerolinecolor": "white",
                      "zerolinewidth": 2
                    },
                    "yaxis": {
                      "automargin": true,
                      "gridcolor": "white",
                      "linecolor": "white",
                      "ticks": "",
                      "title": {
                        "standoff": 15
                      },
                      "zerolinecolor": "white",
                      "zerolinewidth": 2
                    }
                  }
                },
                "title": {
                  "text": "A comparação entre as alturas médias dos atletas medalhistas  olímpicos por altura média e gênero"
                },
                "xaxis": {
                  "anchor": "y",
                  "domain": [
                    0,
                    1
                  ],
                  "title": {
                    "text": "Sport"
                  }
                },
                "yaxis": {
                  "anchor": "x",
                  "domain": [
                    0,
                    1
                  ],
                  "title": {
                    "text": "Altura média (cm)"
                  }
                }
              }
            }
          },
          "metadata": {},
          "output_type": "display_data"
        }
      ],
      "source": [
        "#Essa célula é responsável por gerar o gráfico\n",
        "import plotly.express as px\n",
        "df = px.data.tips()\n",
        "fig = px.bar(df_teste_altura_sexo, x=df_teste_altura_sexo.index, y = df_teste_altura_sexo.columns ,\n",
        "             barmode='group',\n",
        "             labels = {'value': 'Altura média (cm)',\n",
        "             'Sex': 'Sexo',},\n",
        "             height=400,\n",
        "             title ='A comparação entre as alturas médias dos atletas medalhistas  olímpicos por altura média e gênero' )\n",
        "\n",
        "fig.show()"
      ]
    },
    {
      "cell_type": "markdown",
      "metadata": {
        "id": "jdkF3xYrnbij"
      },
      "source": [
        "Agora gere um gráfico semelhante ilustrando o peso dos atletas."
      ]
    },
    {
      "cell_type": "markdown",
      "metadata": {},
      "source": [
        "<br><span style = 'color: green; font-size: 1.4em'> Os valores que aparecerem com NA na tabela resultante serão substituidos por valor 0. Tem esportes sem ganhadores olímpicos para ambos os sexos. Ainda foi feita uma troca no nomes das colunas para termos uma comunicação mais efetiva. O gráfico resultante mostra a relação entre peso e os ganhadores brasileiros olímpicos </span>"
      ]
    },
    {
      "cell_type": "code",
      "execution_count": 6,
      "metadata": {
        "id": "MbEXAcU0nbij"
      },
      "outputs": [
        {
          "data": {
            "text/html": [
              "<div>\n",
              "<style scoped>\n",
              "    .dataframe tbody tr th:only-of-type {\n",
              "        vertical-align: middle;\n",
              "    }\n",
              "\n",
              "    .dataframe tbody tr th {\n",
              "        vertical-align: top;\n",
              "    }\n",
              "\n",
              "    .dataframe thead th {\n",
              "        text-align: right;\n",
              "    }\n",
              "</style>\n",
              "<table border=\"1\" class=\"dataframe\">\n",
              "  <thead>\n",
              "    <tr style=\"text-align: right;\">\n",
              "      <th>Sex</th>\n",
              "      <th>Mulher</th>\n",
              "      <th>Homem</th>\n",
              "    </tr>\n",
              "    <tr>\n",
              "      <th>Sport</th>\n",
              "      <th></th>\n",
              "      <th></th>\n",
              "    </tr>\n",
              "  </thead>\n",
              "  <tbody>\n",
              "    <tr>\n",
              "      <th>Athletics</th>\n",
              "      <td>61.000000</td>\n",
              "      <td>75.120000</td>\n",
              "    </tr>\n",
              "    <tr>\n",
              "      <th>Basketball</th>\n",
              "      <td>71.625000</td>\n",
              "      <td>85.954545</td>\n",
              "    </tr>\n",
              "    <tr>\n",
              "      <th>Beach Volleyball</th>\n",
              "      <td>64.076923</td>\n",
              "      <td>93.416667</td>\n",
              "    </tr>\n",
              "    <tr>\n",
              "      <th>Boxing</th>\n",
              "      <td>60.000000</td>\n",
              "      <td>65.000000</td>\n",
              "    </tr>\n",
              "    <tr>\n",
              "      <th>Canoeing</th>\n",
              "      <td>0.000000</td>\n",
              "      <td>83.250000</td>\n",
              "    </tr>\n",
              "    <tr>\n",
              "      <th>Equestrianism</th>\n",
              "      <td>0.000000</td>\n",
              "      <td>75.000000</td>\n",
              "    </tr>\n",
              "    <tr>\n",
              "      <th>Football</th>\n",
              "      <td>60.742857</td>\n",
              "      <td>73.322917</td>\n",
              "    </tr>\n",
              "    <tr>\n",
              "      <th>Gymnastics</th>\n",
              "      <td>0.000000</td>\n",
              "      <td>63.750000</td>\n",
              "    </tr>\n",
              "    <tr>\n",
              "      <th>Judo</th>\n",
              "      <td>63.600000</td>\n",
              "      <td>93.375000</td>\n",
              "    </tr>\n",
              "    <tr>\n",
              "      <th>Modern Pentathlon</th>\n",
              "      <td>55.000000</td>\n",
              "      <td>0.000000</td>\n",
              "    </tr>\n",
              "    <tr>\n",
              "      <th>Sailing</th>\n",
              "      <td>63.250000</td>\n",
              "      <td>82.700000</td>\n",
              "    </tr>\n",
              "    <tr>\n",
              "      <th>Shooting</th>\n",
              "      <td>0.000000</td>\n",
              "      <td>69.000000</td>\n",
              "    </tr>\n",
              "    <tr>\n",
              "      <th>Swimming</th>\n",
              "      <td>52.000000</td>\n",
              "      <td>83.294118</td>\n",
              "    </tr>\n",
              "    <tr>\n",
              "      <th>Taekwondo</th>\n",
              "      <td>69.000000</td>\n",
              "      <td>90.000000</td>\n",
              "    </tr>\n",
              "    <tr>\n",
              "      <th>Volleyball</th>\n",
              "      <td>71.020833</td>\n",
              "      <td>87.930556</td>\n",
              "    </tr>\n",
              "  </tbody>\n",
              "</table>\n",
              "</div>"
            ],
            "text/plain": [
              "Sex                   Mulher      Homem\n",
              "Sport                                  \n",
              "Athletics          61.000000  75.120000\n",
              "Basketball         71.625000  85.954545\n",
              "Beach Volleyball   64.076923  93.416667\n",
              "Boxing             60.000000  65.000000\n",
              "Canoeing            0.000000  83.250000\n",
              "Equestrianism       0.000000  75.000000\n",
              "Football           60.742857  73.322917\n",
              "Gymnastics          0.000000  63.750000\n",
              "Judo               63.600000  93.375000\n",
              "Modern Pentathlon  55.000000   0.000000\n",
              "Sailing            63.250000  82.700000\n",
              "Shooting            0.000000  69.000000\n",
              "Swimming           52.000000  83.294118\n",
              "Taekwondo          69.000000  90.000000\n",
              "Volleyball         71.020833  87.930556"
            ]
          },
          "execution_count": 6,
          "metadata": {},
          "output_type": "execute_result"
        }
      ],
      "source": [
        "df_teste_peso_sexo = df_brasil_med.groupby(['Sex', 'Sport'])['Weight'].mean()\n",
        "df_teste_peso_sexo = df_teste_peso_sexo.unstack('Sex')\n",
        "\n",
        "df_teste_peso_sexo.fillna(0, inplace = True)\n",
        "df_teste_peso_sexo.rename(columns = {'F': 'Mulher','M': 'Homem'}, inplace = True)\n",
        "df_teste_peso_sexo"
      ]
    },
    {
      "cell_type": "code",
      "execution_count": 7,
      "metadata": {},
      "outputs": [
        {
          "data": {
            "application/vnd.plotly.v1+json": {
              "config": {
                "plotlyServerURL": "https://plot.ly"
              },
              "data": [
                {
                  "alignmentgroup": "True",
                  "hovertemplate": "Sexo=Mulher<br>Sport=%{x}<br>Peso médio (cm)=%{y}<extra></extra>",
                  "legendgroup": "Mulher",
                  "marker": {
                    "color": "#636efa",
                    "pattern": {
                      "shape": ""
                    }
                  },
                  "name": "Mulher",
                  "offsetgroup": "Mulher",
                  "orientation": "v",
                  "showlegend": true,
                  "textposition": "auto",
                  "type": "bar",
                  "x": [
                    "Athletics",
                    "Basketball",
                    "Beach Volleyball",
                    "Boxing",
                    "Canoeing",
                    "Equestrianism",
                    "Football",
                    "Gymnastics",
                    "Judo",
                    "Modern Pentathlon",
                    "Sailing",
                    "Shooting",
                    "Swimming",
                    "Taekwondo",
                    "Volleyball"
                  ],
                  "xaxis": "x",
                  "y": [
                    61,
                    71.625,
                    64.07692307692308,
                    60,
                    0,
                    0,
                    60.74285714285714,
                    0,
                    63.6,
                    55,
                    63.25,
                    0,
                    52,
                    69,
                    71.02083333333333
                  ],
                  "yaxis": "y"
                },
                {
                  "alignmentgroup": "True",
                  "hovertemplate": "Sexo=Homem<br>Sport=%{x}<br>Peso médio (cm)=%{y}<extra></extra>",
                  "legendgroup": "Homem",
                  "marker": {
                    "color": "#EF553B",
                    "pattern": {
                      "shape": ""
                    }
                  },
                  "name": "Homem",
                  "offsetgroup": "Homem",
                  "orientation": "v",
                  "showlegend": true,
                  "textposition": "auto",
                  "type": "bar",
                  "x": [
                    "Athletics",
                    "Basketball",
                    "Beach Volleyball",
                    "Boxing",
                    "Canoeing",
                    "Equestrianism",
                    "Football",
                    "Gymnastics",
                    "Judo",
                    "Modern Pentathlon",
                    "Sailing",
                    "Shooting",
                    "Swimming",
                    "Taekwondo",
                    "Volleyball"
                  ],
                  "xaxis": "x",
                  "y": [
                    75.12,
                    85.95454545454545,
                    93.41666666666667,
                    65,
                    83.25,
                    75,
                    73.32291666666667,
                    63.75,
                    93.375,
                    0,
                    82.7,
                    69,
                    83.29411764705883,
                    90,
                    87.93055555555556
                  ],
                  "yaxis": "y"
                }
              ],
              "layout": {
                "barmode": "group",
                "legend": {
                  "title": {
                    "text": "Sexo"
                  },
                  "tracegroupgap": 0
                },
                "template": {
                  "data": {
                    "bar": [
                      {
                        "error_x": {
                          "color": "#2a3f5f"
                        },
                        "error_y": {
                          "color": "#2a3f5f"
                        },
                        "marker": {
                          "line": {
                            "color": "#E5ECF6",
                            "width": 0.5
                          },
                          "pattern": {
                            "fillmode": "overlay",
                            "size": 10,
                            "solidity": 0.2
                          }
                        },
                        "type": "bar"
                      }
                    ],
                    "barpolar": [
                      {
                        "marker": {
                          "line": {
                            "color": "#E5ECF6",
                            "width": 0.5
                          },
                          "pattern": {
                            "fillmode": "overlay",
                            "size": 10,
                            "solidity": 0.2
                          }
                        },
                        "type": "barpolar"
                      }
                    ],
                    "carpet": [
                      {
                        "aaxis": {
                          "endlinecolor": "#2a3f5f",
                          "gridcolor": "white",
                          "linecolor": "white",
                          "minorgridcolor": "white",
                          "startlinecolor": "#2a3f5f"
                        },
                        "baxis": {
                          "endlinecolor": "#2a3f5f",
                          "gridcolor": "white",
                          "linecolor": "white",
                          "minorgridcolor": "white",
                          "startlinecolor": "#2a3f5f"
                        },
                        "type": "carpet"
                      }
                    ],
                    "choropleth": [
                      {
                        "colorbar": {
                          "outlinewidth": 0,
                          "ticks": ""
                        },
                        "type": "choropleth"
                      }
                    ],
                    "contour": [
                      {
                        "colorbar": {
                          "outlinewidth": 0,
                          "ticks": ""
                        },
                        "colorscale": [
                          [
                            0,
                            "#0d0887"
                          ],
                          [
                            0.1111111111111111,
                            "#46039f"
                          ],
                          [
                            0.2222222222222222,
                            "#7201a8"
                          ],
                          [
                            0.3333333333333333,
                            "#9c179e"
                          ],
                          [
                            0.4444444444444444,
                            "#bd3786"
                          ],
                          [
                            0.5555555555555556,
                            "#d8576b"
                          ],
                          [
                            0.6666666666666666,
                            "#ed7953"
                          ],
                          [
                            0.7777777777777778,
                            "#fb9f3a"
                          ],
                          [
                            0.8888888888888888,
                            "#fdca26"
                          ],
                          [
                            1,
                            "#f0f921"
                          ]
                        ],
                        "type": "contour"
                      }
                    ],
                    "contourcarpet": [
                      {
                        "colorbar": {
                          "outlinewidth": 0,
                          "ticks": ""
                        },
                        "type": "contourcarpet"
                      }
                    ],
                    "heatmap": [
                      {
                        "colorbar": {
                          "outlinewidth": 0,
                          "ticks": ""
                        },
                        "colorscale": [
                          [
                            0,
                            "#0d0887"
                          ],
                          [
                            0.1111111111111111,
                            "#46039f"
                          ],
                          [
                            0.2222222222222222,
                            "#7201a8"
                          ],
                          [
                            0.3333333333333333,
                            "#9c179e"
                          ],
                          [
                            0.4444444444444444,
                            "#bd3786"
                          ],
                          [
                            0.5555555555555556,
                            "#d8576b"
                          ],
                          [
                            0.6666666666666666,
                            "#ed7953"
                          ],
                          [
                            0.7777777777777778,
                            "#fb9f3a"
                          ],
                          [
                            0.8888888888888888,
                            "#fdca26"
                          ],
                          [
                            1,
                            "#f0f921"
                          ]
                        ],
                        "type": "heatmap"
                      }
                    ],
                    "heatmapgl": [
                      {
                        "colorbar": {
                          "outlinewidth": 0,
                          "ticks": ""
                        },
                        "colorscale": [
                          [
                            0,
                            "#0d0887"
                          ],
                          [
                            0.1111111111111111,
                            "#46039f"
                          ],
                          [
                            0.2222222222222222,
                            "#7201a8"
                          ],
                          [
                            0.3333333333333333,
                            "#9c179e"
                          ],
                          [
                            0.4444444444444444,
                            "#bd3786"
                          ],
                          [
                            0.5555555555555556,
                            "#d8576b"
                          ],
                          [
                            0.6666666666666666,
                            "#ed7953"
                          ],
                          [
                            0.7777777777777778,
                            "#fb9f3a"
                          ],
                          [
                            0.8888888888888888,
                            "#fdca26"
                          ],
                          [
                            1,
                            "#f0f921"
                          ]
                        ],
                        "type": "heatmapgl"
                      }
                    ],
                    "histogram": [
                      {
                        "marker": {
                          "pattern": {
                            "fillmode": "overlay",
                            "size": 10,
                            "solidity": 0.2
                          }
                        },
                        "type": "histogram"
                      }
                    ],
                    "histogram2d": [
                      {
                        "colorbar": {
                          "outlinewidth": 0,
                          "ticks": ""
                        },
                        "colorscale": [
                          [
                            0,
                            "#0d0887"
                          ],
                          [
                            0.1111111111111111,
                            "#46039f"
                          ],
                          [
                            0.2222222222222222,
                            "#7201a8"
                          ],
                          [
                            0.3333333333333333,
                            "#9c179e"
                          ],
                          [
                            0.4444444444444444,
                            "#bd3786"
                          ],
                          [
                            0.5555555555555556,
                            "#d8576b"
                          ],
                          [
                            0.6666666666666666,
                            "#ed7953"
                          ],
                          [
                            0.7777777777777778,
                            "#fb9f3a"
                          ],
                          [
                            0.8888888888888888,
                            "#fdca26"
                          ],
                          [
                            1,
                            "#f0f921"
                          ]
                        ],
                        "type": "histogram2d"
                      }
                    ],
                    "histogram2dcontour": [
                      {
                        "colorbar": {
                          "outlinewidth": 0,
                          "ticks": ""
                        },
                        "colorscale": [
                          [
                            0,
                            "#0d0887"
                          ],
                          [
                            0.1111111111111111,
                            "#46039f"
                          ],
                          [
                            0.2222222222222222,
                            "#7201a8"
                          ],
                          [
                            0.3333333333333333,
                            "#9c179e"
                          ],
                          [
                            0.4444444444444444,
                            "#bd3786"
                          ],
                          [
                            0.5555555555555556,
                            "#d8576b"
                          ],
                          [
                            0.6666666666666666,
                            "#ed7953"
                          ],
                          [
                            0.7777777777777778,
                            "#fb9f3a"
                          ],
                          [
                            0.8888888888888888,
                            "#fdca26"
                          ],
                          [
                            1,
                            "#f0f921"
                          ]
                        ],
                        "type": "histogram2dcontour"
                      }
                    ],
                    "mesh3d": [
                      {
                        "colorbar": {
                          "outlinewidth": 0,
                          "ticks": ""
                        },
                        "type": "mesh3d"
                      }
                    ],
                    "parcoords": [
                      {
                        "line": {
                          "colorbar": {
                            "outlinewidth": 0,
                            "ticks": ""
                          }
                        },
                        "type": "parcoords"
                      }
                    ],
                    "pie": [
                      {
                        "automargin": true,
                        "type": "pie"
                      }
                    ],
                    "scatter": [
                      {
                        "marker": {
                          "colorbar": {
                            "outlinewidth": 0,
                            "ticks": ""
                          }
                        },
                        "type": "scatter"
                      }
                    ],
                    "scatter3d": [
                      {
                        "line": {
                          "colorbar": {
                            "outlinewidth": 0,
                            "ticks": ""
                          }
                        },
                        "marker": {
                          "colorbar": {
                            "outlinewidth": 0,
                            "ticks": ""
                          }
                        },
                        "type": "scatter3d"
                      }
                    ],
                    "scattercarpet": [
                      {
                        "marker": {
                          "colorbar": {
                            "outlinewidth": 0,
                            "ticks": ""
                          }
                        },
                        "type": "scattercarpet"
                      }
                    ],
                    "scattergeo": [
                      {
                        "marker": {
                          "colorbar": {
                            "outlinewidth": 0,
                            "ticks": ""
                          }
                        },
                        "type": "scattergeo"
                      }
                    ],
                    "scattergl": [
                      {
                        "marker": {
                          "colorbar": {
                            "outlinewidth": 0,
                            "ticks": ""
                          }
                        },
                        "type": "scattergl"
                      }
                    ],
                    "scattermapbox": [
                      {
                        "marker": {
                          "colorbar": {
                            "outlinewidth": 0,
                            "ticks": ""
                          }
                        },
                        "type": "scattermapbox"
                      }
                    ],
                    "scatterpolar": [
                      {
                        "marker": {
                          "colorbar": {
                            "outlinewidth": 0,
                            "ticks": ""
                          }
                        },
                        "type": "scatterpolar"
                      }
                    ],
                    "scatterpolargl": [
                      {
                        "marker": {
                          "colorbar": {
                            "outlinewidth": 0,
                            "ticks": ""
                          }
                        },
                        "type": "scatterpolargl"
                      }
                    ],
                    "scatterternary": [
                      {
                        "marker": {
                          "colorbar": {
                            "outlinewidth": 0,
                            "ticks": ""
                          }
                        },
                        "type": "scatterternary"
                      }
                    ],
                    "surface": [
                      {
                        "colorbar": {
                          "outlinewidth": 0,
                          "ticks": ""
                        },
                        "colorscale": [
                          [
                            0,
                            "#0d0887"
                          ],
                          [
                            0.1111111111111111,
                            "#46039f"
                          ],
                          [
                            0.2222222222222222,
                            "#7201a8"
                          ],
                          [
                            0.3333333333333333,
                            "#9c179e"
                          ],
                          [
                            0.4444444444444444,
                            "#bd3786"
                          ],
                          [
                            0.5555555555555556,
                            "#d8576b"
                          ],
                          [
                            0.6666666666666666,
                            "#ed7953"
                          ],
                          [
                            0.7777777777777778,
                            "#fb9f3a"
                          ],
                          [
                            0.8888888888888888,
                            "#fdca26"
                          ],
                          [
                            1,
                            "#f0f921"
                          ]
                        ],
                        "type": "surface"
                      }
                    ],
                    "table": [
                      {
                        "cells": {
                          "fill": {
                            "color": "#EBF0F8"
                          },
                          "line": {
                            "color": "white"
                          }
                        },
                        "header": {
                          "fill": {
                            "color": "#C8D4E3"
                          },
                          "line": {
                            "color": "white"
                          }
                        },
                        "type": "table"
                      }
                    ]
                  },
                  "layout": {
                    "annotationdefaults": {
                      "arrowcolor": "#2a3f5f",
                      "arrowhead": 0,
                      "arrowwidth": 1
                    },
                    "autotypenumbers": "strict",
                    "coloraxis": {
                      "colorbar": {
                        "outlinewidth": 0,
                        "ticks": ""
                      }
                    },
                    "colorscale": {
                      "diverging": [
                        [
                          0,
                          "#8e0152"
                        ],
                        [
                          0.1,
                          "#c51b7d"
                        ],
                        [
                          0.2,
                          "#de77ae"
                        ],
                        [
                          0.3,
                          "#f1b6da"
                        ],
                        [
                          0.4,
                          "#fde0ef"
                        ],
                        [
                          0.5,
                          "#f7f7f7"
                        ],
                        [
                          0.6,
                          "#e6f5d0"
                        ],
                        [
                          0.7,
                          "#b8e186"
                        ],
                        [
                          0.8,
                          "#7fbc41"
                        ],
                        [
                          0.9,
                          "#4d9221"
                        ],
                        [
                          1,
                          "#276419"
                        ]
                      ],
                      "sequential": [
                        [
                          0,
                          "#0d0887"
                        ],
                        [
                          0.1111111111111111,
                          "#46039f"
                        ],
                        [
                          0.2222222222222222,
                          "#7201a8"
                        ],
                        [
                          0.3333333333333333,
                          "#9c179e"
                        ],
                        [
                          0.4444444444444444,
                          "#bd3786"
                        ],
                        [
                          0.5555555555555556,
                          "#d8576b"
                        ],
                        [
                          0.6666666666666666,
                          "#ed7953"
                        ],
                        [
                          0.7777777777777778,
                          "#fb9f3a"
                        ],
                        [
                          0.8888888888888888,
                          "#fdca26"
                        ],
                        [
                          1,
                          "#f0f921"
                        ]
                      ],
                      "sequentialminus": [
                        [
                          0,
                          "#0d0887"
                        ],
                        [
                          0.1111111111111111,
                          "#46039f"
                        ],
                        [
                          0.2222222222222222,
                          "#7201a8"
                        ],
                        [
                          0.3333333333333333,
                          "#9c179e"
                        ],
                        [
                          0.4444444444444444,
                          "#bd3786"
                        ],
                        [
                          0.5555555555555556,
                          "#d8576b"
                        ],
                        [
                          0.6666666666666666,
                          "#ed7953"
                        ],
                        [
                          0.7777777777777778,
                          "#fb9f3a"
                        ],
                        [
                          0.8888888888888888,
                          "#fdca26"
                        ],
                        [
                          1,
                          "#f0f921"
                        ]
                      ]
                    },
                    "colorway": [
                      "#636efa",
                      "#EF553B",
                      "#00cc96",
                      "#ab63fa",
                      "#FFA15A",
                      "#19d3f3",
                      "#FF6692",
                      "#B6E880",
                      "#FF97FF",
                      "#FECB52"
                    ],
                    "font": {
                      "color": "#2a3f5f"
                    },
                    "geo": {
                      "bgcolor": "white",
                      "lakecolor": "white",
                      "landcolor": "#E5ECF6",
                      "showlakes": true,
                      "showland": true,
                      "subunitcolor": "white"
                    },
                    "hoverlabel": {
                      "align": "left"
                    },
                    "hovermode": "closest",
                    "mapbox": {
                      "style": "light"
                    },
                    "paper_bgcolor": "white",
                    "plot_bgcolor": "#E5ECF6",
                    "polar": {
                      "angularaxis": {
                        "gridcolor": "white",
                        "linecolor": "white",
                        "ticks": ""
                      },
                      "bgcolor": "#E5ECF6",
                      "radialaxis": {
                        "gridcolor": "white",
                        "linecolor": "white",
                        "ticks": ""
                      }
                    },
                    "scene": {
                      "xaxis": {
                        "backgroundcolor": "#E5ECF6",
                        "gridcolor": "white",
                        "gridwidth": 2,
                        "linecolor": "white",
                        "showbackground": true,
                        "ticks": "",
                        "zerolinecolor": "white"
                      },
                      "yaxis": {
                        "backgroundcolor": "#E5ECF6",
                        "gridcolor": "white",
                        "gridwidth": 2,
                        "linecolor": "white",
                        "showbackground": true,
                        "ticks": "",
                        "zerolinecolor": "white"
                      },
                      "zaxis": {
                        "backgroundcolor": "#E5ECF6",
                        "gridcolor": "white",
                        "gridwidth": 2,
                        "linecolor": "white",
                        "showbackground": true,
                        "ticks": "",
                        "zerolinecolor": "white"
                      }
                    },
                    "shapedefaults": {
                      "line": {
                        "color": "#2a3f5f"
                      }
                    },
                    "ternary": {
                      "aaxis": {
                        "gridcolor": "white",
                        "linecolor": "white",
                        "ticks": ""
                      },
                      "baxis": {
                        "gridcolor": "white",
                        "linecolor": "white",
                        "ticks": ""
                      },
                      "bgcolor": "#E5ECF6",
                      "caxis": {
                        "gridcolor": "white",
                        "linecolor": "white",
                        "ticks": ""
                      }
                    },
                    "title": {
                      "x": 0.05
                    },
                    "xaxis": {
                      "automargin": true,
                      "gridcolor": "white",
                      "linecolor": "white",
                      "ticks": "",
                      "title": {
                        "standoff": 15
                      },
                      "zerolinecolor": "white",
                      "zerolinewidth": 2
                    },
                    "yaxis": {
                      "automargin": true,
                      "gridcolor": "white",
                      "linecolor": "white",
                      "ticks": "",
                      "title": {
                        "standoff": 15
                      },
                      "zerolinecolor": "white",
                      "zerolinewidth": 2
                    }
                  }
                },
                "title": {
                  "text": "A comparação entre as pesos médios dos atletas medalhistas olímpicos por altura média e gênero"
                },
                "xaxis": {
                  "anchor": "y",
                  "domain": [
                    0,
                    1
                  ],
                  "title": {
                    "text": "Sport"
                  }
                },
                "yaxis": {
                  "anchor": "x",
                  "domain": [
                    0,
                    1
                  ],
                  "title": {
                    "text": "Peso médio (cm)"
                  }
                }
              }
            }
          },
          "metadata": {},
          "output_type": "display_data"
        }
      ],
      "source": [
        "import plotly.express as px\n",
        "df = px.data.tips()\n",
        "\n",
        "titulo ='A comparação entre as pesos médios dos atletas medalhistas olímpicos por altura média e gênero'\n",
        "\n",
        "\n",
        "fig = px.bar(df_teste_peso_sexo, x=df_teste_peso_sexo.index, y = df_teste_peso_sexo.columns,\n",
        "             barmode='group',\n",
        "             labels = {'value': 'Peso médio (cm)',\n",
        "             'Sex': 'Sexo',},\n",
        "             title = titulo)\n",
        "\n",
        "fig.show()"
      ]
    },
    {
      "cell_type": "markdown",
      "metadata": {
        "id": "rYSSCby-nbij"
      },
      "source": [
        "Vamos analisar agora as medalhas que nossos atletas trouxeram para casa.\n",
        "\n",
        "Encontre os maiores medalhistas brasileiros em **total de medalhas**. Em seguida, faça um gráfico de barras empilhadas. No eixo X coloque o nome dos atletas, e no eixo Y coloque o número de medalhas. Utilize as barras empilhadas para mostrar, respectivamente, as medalhas de bronze, prata e ouro de cada atleta."
      ]
    },
    {
      "cell_type": "markdown",
      "metadata": {},
      "source": [
        "<br><span style = 'color: green; font-size: 1.4em'> O dataset df_brasil_med vai ser alterado para adicionar as colunas Bronze, Silver e Gold e o número 1 indica que o atleta ganhou a respectivel medalha. A coluna **_medal_** foi tirada e assim fica mais fácil a apresentação no plotly  </span>"
      ]
    },
    {
      "cell_type": "code",
      "execution_count": 11,
      "metadata": {
        "id": "HYRRGrdVnbik"
      },
      "outputs": [
        {
          "data": {
            "text/html": [
              "<div>\n",
              "<style scoped>\n",
              "    .dataframe tbody tr th:only-of-type {\n",
              "        vertical-align: middle;\n",
              "    }\n",
              "\n",
              "    .dataframe tbody tr th {\n",
              "        vertical-align: top;\n",
              "    }\n",
              "\n",
              "    .dataframe thead th {\n",
              "        text-align: right;\n",
              "    }\n",
              "</style>\n",
              "<table border=\"1\" class=\"dataframe\">\n",
              "  <thead>\n",
              "    <tr style=\"text-align: right;\">\n",
              "      <th></th>\n",
              "      <th>Name</th>\n",
              "      <th>Bronze</th>\n",
              "      <th>Gold</th>\n",
              "      <th>Silver</th>\n",
              "    </tr>\n",
              "  </thead>\n",
              "  <tbody>\n",
              "    <tr>\n",
              "      <th>0</th>\n",
              "      <td>Ademir Roque Kaefer</td>\n",
              "      <td>0.0</td>\n",
              "      <td>0.0</td>\n",
              "      <td>2.0</td>\n",
              "    </tr>\n",
              "    <tr>\n",
              "      <th>1</th>\n",
              "      <td>Adenzia Aparecida Ferreira da Silva</td>\n",
              "      <td>0.0</td>\n",
              "      <td>1.0</td>\n",
              "      <td>0.0</td>\n",
              "    </tr>\n",
              "    <tr>\n",
              "      <th>2</th>\n",
              "      <td>Adhemar Ferreira da Silva</td>\n",
              "      <td>0.0</td>\n",
              "      <td>2.0</td>\n",
              "      <td>0.0</td>\n",
              "    </tr>\n",
              "    <tr>\n",
              "      <th>3</th>\n",
              "      <td>Adriana \"Adrianinha\" Moiss Pinto</td>\n",
              "      <td>1.0</td>\n",
              "      <td>0.0</td>\n",
              "      <td>0.0</td>\n",
              "    </tr>\n",
              "    <tr>\n",
              "      <th>4</th>\n",
              "      <td>Adriana Aparecida dos Santos</td>\n",
              "      <td>1.0</td>\n",
              "      <td>0.0</td>\n",
              "      <td>1.0</td>\n",
              "    </tr>\n",
              "    <tr>\n",
              "      <th>...</th>\n",
              "      <td>...</td>\n",
              "      <td>...</td>\n",
              "      <td>...</td>\n",
              "      <td>...</td>\n",
              "    </tr>\n",
              "    <tr>\n",
              "      <th>355</th>\n",
              "      <td>der Francis Carbonera</td>\n",
              "      <td>0.0</td>\n",
              "      <td>1.0</td>\n",
              "      <td>0.0</td>\n",
              "    </tr>\n",
              "    <tr>\n",
              "      <th>356</th>\n",
              "      <td>gatha Bednarczuk Rippel</td>\n",
              "      <td>0.0</td>\n",
              "      <td>0.0</td>\n",
              "      <td>1.0</td>\n",
              "    </tr>\n",
              "    <tr>\n",
              "      <th>357</th>\n",
              "      <td>nderson Lus de Abreu Oliveira</td>\n",
              "      <td>1.0</td>\n",
              "      <td>0.0</td>\n",
              "      <td>0.0</td>\n",
              "    </tr>\n",
              "    <tr>\n",
              "      <th>358</th>\n",
              "      <td>rika Cristiano dos Santos</td>\n",
              "      <td>0.0</td>\n",
              "      <td>0.0</td>\n",
              "      <td>1.0</td>\n",
              "    </tr>\n",
              "    <tr>\n",
              "      <th>359</th>\n",
              "      <td>rika Kelly \"Kiki\" Pereira Coimbra</td>\n",
              "      <td>1.0</td>\n",
              "      <td>0.0</td>\n",
              "      <td>0.0</td>\n",
              "    </tr>\n",
              "  </tbody>\n",
              "</table>\n",
              "<p>360 rows × 4 columns</p>\n",
              "</div>"
            ],
            "text/plain": [
              "                                    Name  Bronze  Gold  Silver\n",
              "0                    Ademir Roque Kaefer     0.0   0.0     2.0\n",
              "1    Adenzia Aparecida Ferreira da Silva     0.0   1.0     0.0\n",
              "2              Adhemar Ferreira da Silva     0.0   2.0     0.0\n",
              "3       Adriana \"Adrianinha\" Moiss Pinto     1.0   0.0     0.0\n",
              "4           Adriana Aparecida dos Santos     1.0   0.0     1.0\n",
              "..                                   ...     ...   ...     ...\n",
              "355                der Francis Carbonera     0.0   1.0     0.0\n",
              "356              gatha Bednarczuk Rippel     0.0   0.0     1.0\n",
              "357        nderson Lus de Abreu Oliveira     1.0   0.0     0.0\n",
              "358            rika Cristiano dos Santos     0.0   0.0     1.0\n",
              "359    rika Kelly \"Kiki\" Pereira Coimbra     1.0   0.0     0.0\n",
              "\n",
              "[360 rows x 4 columns]"
            ]
          },
          "execution_count": 11,
          "metadata": {},
          "output_type": "execute_result"
        }
      ],
      "source": [
        "\n",
        "df_brasil_med_medalha = df_brasil_med.groupby(['Name'])['Medal'].value_counts()\n",
        "\n",
        "df_brasil_med_medalhas_plot = df_brasil_med_medalha.unstack('Medal').fillna(0).reset_index()\n",
        "#df_brasil_med_medalhas_plot = df_brasil_med_medalhas.groupby(['Name']).count()\n",
        "\n",
        "#df_brasil_med_medalhas_plot\n",
        "df_brasil_med_medalhas_plot.columns.names = ['']\n",
        "df_brasil_med_medalhas_plot"
      ]
    },
    {
      "cell_type": "markdown",
      "metadata": {},
      "source": [
        "<br><span style = 'color: green; font-size: 1.4em'> O bar plot com os valores da medalhas por cada atleta </span>"
      ]
    },
    {
      "cell_type": "code",
      "execution_count": 9,
      "metadata": {},
      "outputs": [
        {
          "data": {
            "application/vnd.plotly.v1+json": {
              "config": {
                "plotlyServerURL": "https://plot.ly"
              },
              "data": [
                {
                  "alignmentgroup": "True",
                  "hovertemplate": "Cor da Medalha=Silver<br>Name=%{x}<br>Total de Medalhas=%{y}<extra></extra>",
                  "legendgroup": "Silver",
                  "marker": {
                    "color": "#636efa",
                    "pattern": {
                      "shape": ""
                    }
                  },
                  "name": "Silver",
                  "offsetgroup": "Silver",
                  "orientation": "v",
                  "showlegend": true,
                  "textposition": "auto",
                  "type": "bar",
                  "x": [
                    "Ademir Roque Kaefer",
                    "Adriana Aparecida dos Santos",
                    "Adriana Brando Behar",
                    "Adriana Ramos Samuel",
                    "Afrnio Antnio da Costa",
                    "Alessandra dos Santos de Oliveira",
                    "Alex Sandro Lobo Silva",
                    "Alexandre \"Alexandre Pato\" Rodrigues da Silva",
                    "Aline Pellegrino",
                    "Alison Conte Cerutti",
                    "Alosio Pires Alves",
                    "Amauri Ribeiro",
                    "Anderson de Oliveira Rodrigues",
                    "Andr Alves da Cruz",
                    "Andr Domingos da Silva",
                    "Andr Heller",
                    "Andr Luiz da Silva Nascimento",
                    "Andr Lus dos Santos Ferreira",
                    "Andria \"Maycon\" dos Santos",
                    "Andria Rosa de Andrade",
                    "Andria Suntaque",
                    "Antnio Carlos \"Badalhoca\" Gueiros Ribeiro",
                    "Antnio Jos \"Tonho\" Gil",
                    "Arthur Nabarrete Zanetti",
                    "Augilmar \"Gilmar Popoca\" Silva de Oliveira",
                    "Bernard Rajzman",
                    "Bernardo \"Bernardinho\" Rocha de Rezende",
                    "Brbara Micheline do Monte Barbosa",
                    "Brbara Seixas de Freitas",
                    "Bruno \"Bruninho\" Mossa de Rezende",
                    "Bruno Prada",
                    "Bruno Uvini Bortolana",
                    "Carlos Caetano \"Dunga\" Bledorn Verri",
                    "Carlos Eduardo Honorato",
                    "Claudinei Quirino da Silva",
                    "Cludia Maria Pastor",
                    "Cludio Andr Mergen Taffarel",
                    "Cludio Roberto de Sousa",
                    "Cntia Silva dos Santos",
                    "Cristiane Rozeira de Souza Silva",
                    "Daniel Adler",
                    "Daniela Alves Lima",
                    "Danilo Luiz da Silva",
                    "Dante Guimares Santos do Amaral",
                    "David \"Davi\" Cortez Silva",
                    "Delma \"Pretinha\" Gonalves",
                    "Diego Matias Hyplito",
                    "Domingos \"Domingos Maracan\" Lampariello Neto",
                    "Douglas Eduardo Vieira",
                    "Edmar Bernardes dos Santos",
                    "Edson Luciano Ribeiro",
                    "Elaine Estrela Moura",
                    "Emanuel Fernando Scheffler Rego",
                    "Erlon de Souza Silva",
                    "Esquiva Falco Florentino",
                    "Ester Aperecida dos Santos",
                    "Fabiana da Silva Simes",
                    "Fbio Luiz de Jesus Magalhes",
                    "Felipe Almeida Wu",
                    "Fernando \"Fernando\" Roscio de vila",
                    "Francielle Manoel Alberto",
                    "Francisco Carlos \"Chico\" Martins Vidal",
                    "Gabriel Vasconcellos Ferreira",
                    "Geovani Faria da Silva",
                    "Gilberto Amauri \"Giba\" de Godoy Filho",
                    "Gilmar Lus Rinaldi",
                    "Givanildo \"Hulk\" Vieira de Souza",
                    "Grazielle Pinheiro Guimares Nascimento",
                    "Gustavo Endres",
                    "Gustavo Frana Borges",
                    "Hamilton \"Careca\" de Souza",
                    "Hortncia Maria de Ftima Marcari Oliva",
                    "Isaquias Queiroz dos Santos",
                    "Janeth dos Santos Arcain",
                    "Joaquim Carvalho Cruz",
                    "Joo \"Kita\" Leithardt Neto",
                    "Joo Santos Batista",
                    "Jorge Jos \"Jorginho\" de Amorim Campos",
                    "Jorge Luiz \"Pinga\" Brum da Silva",
                    "Jorge Luiz Andrade da Silva",
                    "Jos Ferreira Neto",
                    "Jos Marco \"Z Marco\" Nobrega Ferreira de Melo",
                    "Jos Montanaro Jnior",
                    "Jos Roberto \"Bebeto\" Gama de Oliveira",
                    "Juan Guilherme Nunes Jesus",
                    "Juliana Ribeiro Cabral",
                    "Kelly Cristina Pereira da Silva",
                    "Leandro Damio da Silva dos Santos",
                    "Leandro Vissotto Neves",
                    "Leila de Souza Sobral Freitas",
                    "Lucas Rodrigues Moura da Silva",
                    "Lucas Saatkamp",
                    "Lus Carlos Coelho Winck",
                    "Marcelo \"Marcelinho\" Elgarten",
                    "Marcelo Vieira da Silva Jnior",
                    "Marcus Vincius Freire Simes",
                    "Maria Anglica \"Branca\" Gonalves da Silva",
                    "Maria Paula Gonalves da Silva",
                    "Marta Vieira da Silva",
                    "Marta de Souza Sobral",
                    "Maurine Dorneles Gonalves",
                    "Mauro Geraldo Galvo",
                    "Miraildes \"Formiga\" Maciel Mota",
                    "Mlton Cruz",
                    "Mlton de Souza Filho",
                    "Mnica Anglica de Paula",
                    "Mnica Rodrigues",
                    "Mrcio Henrique Barroso Arajo",
                    "Mrio \"Xand\" de Oliveira Neto",
                    "Murilo Endres",
                    "Neymar da Silva Santos Jnior",
                    "Nlson Prudncio",
                    "Norberto Murara Neto",
                    "Oscar dos Santos Emboaba Jnior",
                    "Paulo Henrique \"Ganso\" Chagas de Lima",
                    "Paulo dos Santos",
                    "Rafael Pereira da Silva",
                    "Renan dal Zotto",
                    "Renata Aparacida \"Kki\" da Costa",
                    "Ricardo \"Ricardinho\" Bermudez Garcia",
                    "Ricardo Alex Costa Santos",
                    "Ricardo Prado",
                    "Rmulo Borges Monteiro",
                    "Robert Scheidt",
                    "Rodrigo \"Rodrigo\" Santana",
                    "Romrio de Souza Faria",
                    "Ronaldo Camargo Ribeiro Senfft",
                    "Ronaldo Morais Silva",
                    "Rosana dos Santos Augusto",
                    "Roseli de Belo",
                    "Roseli do Carmo Gustavo",
                    "Rui Campos Nascimento",
                    "Samuel Fuchs",
                    "Sandro Raniere Guimares Cordeiro",
                    "Shelda Kelly Bruno Bede",
                    "Sidnei \"Sido\" dos Santos Junior",
                    "Silvia Andrea \"Silvinha\" Santos Luz",
                    "Silvio \"Silvinho\" Paiva",
                    "Simone Gomes Jatob",
                    "Srgio \"Escadinha\" Dutra dos Santos",
                    "Srgio Lus \"Joo Paulo\" Donizetti",
                    "Thiago Emiliano da Silva",
                    "Thiago Machado Vilela Pereira",
                    "Thiago Soares Alves",
                    "Tiago Henrique de Oliveira Camilo",
                    "Tnia Maria \"Tnia Maranho\" Pereira Ribeiro",
                    "Torben Schmidt Grael",
                    "Vicente Lenlson de Lima",
                    "Wallace Leandro de Souza",
                    "William Carvalho da Silva",
                    "gatha Bednarczuk Rippel",
                    "rika Cristiano dos Santos"
                  ],
                  "xaxis": "x",
                  "y": [
                    2,
                    1,
                    2,
                    1,
                    1,
                    1,
                    1,
                    1,
                    1,
                    1,
                    1,
                    1,
                    1,
                    1,
                    1,
                    1,
                    1,
                    1,
                    2,
                    1,
                    2,
                    1,
                    1,
                    1,
                    1,
                    1,
                    1,
                    1,
                    1,
                    2,
                    1,
                    1,
                    1,
                    1,
                    1,
                    1,
                    1,
                    1,
                    1,
                    2,
                    1,
                    2,
                    1,
                    2,
                    1,
                    2,
                    1,
                    1,
                    1,
                    1,
                    1,
                    1,
                    1,
                    1,
                    1,
                    1,
                    1,
                    1,
                    1,
                    1,
                    1,
                    1,
                    1,
                    1,
                    2,
                    1,
                    1,
                    1,
                    1,
                    2,
                    1,
                    1,
                    2,
                    1,
                    1,
                    1,
                    1,
                    1,
                    1,
                    1,
                    1,
                    1,
                    1,
                    1,
                    1,
                    1,
                    1,
                    1,
                    1,
                    1,
                    1,
                    1,
                    2,
                    1,
                    1,
                    1,
                    1,
                    1,
                    2,
                    1,
                    1,
                    1,
                    2,
                    1,
                    1,
                    1,
                    1,
                    1,
                    1,
                    2,
                    1,
                    1,
                    1,
                    1,
                    1,
                    1,
                    1,
                    1,
                    2,
                    1,
                    1,
                    1,
                    1,
                    2,
                    2,
                    1,
                    1,
                    1,
                    2,
                    1,
                    1,
                    1,
                    1,
                    1,
                    2,
                    1,
                    1,
                    1,
                    1,
                    2,
                    1,
                    1,
                    1,
                    1,
                    1,
                    2,
                    1,
                    1,
                    1,
                    1,
                    1,
                    1
                  ],
                  "yaxis": "y"
                },
                {
                  "alignmentgroup": "True",
                  "hovertemplate": "Cor da Medalha=Gold<br>Name=%{x}<br>Total de Medalhas=%{y}<extra></extra>",
                  "legendgroup": "Gold",
                  "marker": {
                    "color": "#EF553B",
                    "pattern": {
                      "shape": ""
                    }
                  },
                  "name": "Gold",
                  "offsetgroup": "Gold",
                  "orientation": "v",
                  "showlegend": true,
                  "textposition": "auto",
                  "type": "bar",
                  "x": [
                    "Adenzia Aparecida Ferreira da Silva",
                    "Adhemar Ferreira da Silva",
                    "Alexander Welter",
                    "Alexandre \"Tande\" Ramos Samuel",
                    "Alison Conte Cerutti",
                    "Amauri Ribeiro",
                    "Anderson de Oliveira Rodrigues",
                    "Andr Felipe \"Pampa\" Falbo Ferreira",
                    "Andr Heller",
                    "Andr Luiz da Silva Nascimento",
                    "Antnio Carlos \"Carlo\" Aguilar Gouveia",
                    "Arthur Nabarrete Zanetti",
                    "Aurlio Fernndez Miguel",
                    "Bruno \"Bruninho\" Mossa de Rezende",
                    "Bruno Oscar Schmidt",
                    "Carolina \"Carol\" Demartini de Albuquerque",
                    "Csar Augusto Cielo Filho",
                    "Danielle \"Dani\" Rodrigues Lins",
                    "Dante Guimares Santos do Amaral",
                    "Douglas Chiarotti",
                    "Douglas Correia de Souza",
                    "Douglas dos Santos Justino de Melo",
                    "Eduardo Henrique Gomes Penido",
                    "Emanuel Fernando Scheffler Rego",
                    "Evandro Motta Guerra",
                    "Fabiana \"Fabi\" Alvim de Oliveira",
                    "Fabiana Marcelino Claudino",
                    "Felipe Anderson Perieira Gomes",
                    "Fernanda \"Fernandinha\" Ferreira",
                    "Fernanda Garay Rodrigues",
                    "Gabriel Barbosa Almeida",
                    "Gabriel Fernando de Jesus",
                    "Gilberto Amauri \"Giba\" de Godoy Filho",
                    "Giovane Farinazzo Gvio",
                    "Guilherme Paraense",
                    "Gustavo Endres",
                    "Hlia \"Fofo\" Rogrio de Souza Pinto",
                    "Jacqueline Louise \"Jackie\" da Cruz Silva",
                    "Janelson dos Santos Carvalho",
                    "Jaqueline Maria \"Jaque\" Pereira de Carvalho Endres",
                    "Joaquim Carvalho Cruz",
                    "Jorge Edson Souza de Brito",
                    "Jos Carlos Cracco Neto",
                    "Kahena Kunze",
                    "Lars Sigurd Bjorkstrom",
                    "Luan Garcia Teixeira",
                    "Luan Guilherme de Jesus Vieira",
                    "Lucas Saatkamp",
                    "Luiz Felipe Marques Fonteles",
                    "Marcelo Bastos Ferreira",
                    "Marcelo Teles Negro",
                    "Marcos \"Marquinhos\" Aos Corra",
                    "Marcos Pinto Rizzo Soares",
                    "Marianne \"Mari\" Steinbrecher",
                    "Martine Soffiatti Grael",
                    "Maurcio Borges Almeida Silva",
                    "Maurcio Camargo Lima",
                    "Maurcio Luiz de Souza",
                    "Maurren Higa Maggi",
                    "Nalbert Tavares Bitencourt",
                    "Natlia Zlio Pereira",
                    "Neymar da Silva Santos Jnior",
                    "Paula Renata Marques Pequeno",
                    "Paulo Andr \"Paulo\" Jukoski da Silva",
                    "Rafael Alcntara do Nascimento",
                    "Rafaela Lopes Silva",
                    "Renato Soares de Oliveira Augusto",
                    "Ricardo \"Ricardinho\" Bermudez Garcia",
                    "Ricardo Alex Costa Santos",
                    "Ricardo Samuel Lucarelli Santos de Souza",
                    "Robert Scheidt",
                    "Robson Donato Conceio",
                    "Rodrigo \"Rodrigo\" Santana",
                    "Rodrigo Caio Coquette Russo",
                    "Rodrigo Dourado Cunha",
                    "Rodrigo de Paula Pessoa",
                    "Rogrio Sampaio Cardoso",
                    "Sandra Tavares Pires Nascimento",
                    "Sarah Gabrielle Cabral de Menezes",
                    "Sheilla Tavares de Castro Blassioli",
                    "Srgio \"Escadinha\" Dutra dos Santos",
                    "Talmo Curto de Oliveira",
                    "Tandara Caixeta",
                    "Thasa Daher de Menezes",
                    "Thiago Braz da Silva",
                    "Thiago Maia Alencar",
                    "Torben Schmidt Grael",
                    "Valeska \"Valeskinha\" dos Santos Menezes",
                    "Walace Souza Silva",
                    "Walewska Moreira de Oliveira",
                    "Wallace Leandro de Souza",
                    "Welissa \"Sass\" de Souza Gonzaga",
                    "William Peixoto Arjona",
                    "William de Asevedo Furtado",
                    "Wverton Pereira da Silva",
                    "der Francis Carbonera"
                  ],
                  "xaxis": "x",
                  "y": [
                    1,
                    2,
                    1,
                    1,
                    1,
                    1,
                    1,
                    1,
                    1,
                    1,
                    1,
                    1,
                    1,
                    1,
                    1,
                    1,
                    1,
                    1,
                    1,
                    1,
                    1,
                    1,
                    1,
                    1,
                    1,
                    2,
                    2,
                    1,
                    1,
                    1,
                    1,
                    1,
                    1,
                    2,
                    1,
                    1,
                    1,
                    1,
                    1,
                    2,
                    1,
                    1,
                    1,
                    1,
                    1,
                    1,
                    1,
                    1,
                    1,
                    2,
                    1,
                    1,
                    1,
                    1,
                    1,
                    1,
                    2,
                    1,
                    1,
                    1,
                    1,
                    1,
                    2,
                    1,
                    1,
                    1,
                    1,
                    1,
                    1,
                    1,
                    2,
                    1,
                    1,
                    1,
                    1,
                    1,
                    1,
                    1,
                    1,
                    2,
                    2,
                    1,
                    1,
                    2,
                    1,
                    1,
                    2,
                    1,
                    1,
                    1,
                    1,
                    1,
                    1,
                    1,
                    1,
                    1
                  ],
                  "yaxis": "y"
                },
                {
                  "alignmentgroup": "True",
                  "hovertemplate": "Cor da Medalha=Bronze<br>Name=%{x}<br>Total de Medalhas=%{y}<extra></extra>",
                  "legendgroup": "Bronze",
                  "marker": {
                    "color": "#00cc96",
                    "pattern": {
                      "shape": ""
                    }
                  },
                  "name": "Bronze",
                  "offsetgroup": "Bronze",
                  "orientation": "v",
                  "showlegend": true,
                  "textposition": "auto",
                  "type": "bar",
                  "x": [
                    "Adriana \"Adrianinha\" Moiss Pinto",
                    "Adriana Aparecida dos Santos",
                    "Adriana Ramos Samuel",
                    "Adriana dos Santos Arajo",
                    "Afonso de Azevedo vora",
                    "Afrnio Antnio da Costa",
                    "Alberto Marson",
                    "Aldair Nascimento dos Santos",
                    "Alessandra dos Santos de Oliveira",
                    "Alex Sandro da Silva",
                    "Alexandre \"Alexandre Pato\" Rodrigues da Silva",
                    "Alexandre \"Amaral\" da Silva Mariano",
                    "Alexandre Gemignani Ferreira",
                    "Alfredo Rodrigues da Motta",
                    "Alvaro Affonso \"Doda\" de Miranda Neto",
                    "Amaury Antnio Pasos",
                    "Ana Beatriz Moser",
                    "Ana Flvia Chritaro Daniel Sanglard",
                    "Ana Ida Margarita  Alvarez Vieira",
                    "Ana Paula Rodrigues Connelly (-Rodrigues Henkel)",
                    "Anderson Hernanes de Carvalho Andrade Lima",
                    "Andr Bier Johannpeter",
                    "Andr Domingos da Silva",
                    "Andr Luiz Moreira",
                    "Antnio Salvador Sucar",
                    "Arnaldo de Oliveira da Silva",
                    "Arthur Nory Oyakawa Mariano",
                    "Aurlio Fernndez Miguel",
                    "Breno Vinicius Rodrigues Borges",
                    "Bruno Lins Tenrio de Barros",
                    "Bruno Prada",
                    "Burkhard Cordes",
                    "Carlos \"Mosquito\" Domingos Massoni",
                    "Carlos Alberto Borges Jayme",
                    "Carmo \"Rosa Branca\" de Souza",
                    "Chiaki Ishii",
                    "Clinio Freitas",
                    "Cludia Maria \"Cludinha\" das Neves",
                    "Cntia Silva dos Santos",
                    "Csar Augusto Cielo Filho",
                    "Cyro Marques Delgado",
                    "Dario Barbosa",
                    "Diego Ribas da Cunha",
                    "Djan Garrido Madruga",
                    "Edson \"Edson Bispo\" Bispo dos Santos",
                    "Edson Luciano Ribeiro",
                    "Edvaldo Valrio da Silva Filho",
                    "Elisngela Almeida de Oliveira",
                    "Emanuel Fernando Scheffler Rego",
                    "Ericlia \"Fil\" Bodziak",
                    "Felipe Eidji Kitadai",
                    "Fernanda Porto Venturini",
                    "Fernanda Ryff Moreira Oliveira",
                    "Fernando \"Fernando Brobr\" Pereira de Freitas",
                    "Fernando \"Xuxa\" de Queiroz Scherer",
                    "Fernando Soledade",
                    "Flvio Vianna de Ulha Canto",
                    "Flvio da Conceio",
                    "Friedrich Wilhelm \"Fritz\" Braun",
                    "Guilherme Paraense",
                    "Gustavo Frana Borges",
                    "Helen Cristina Santos Luz",
                    "Henrique \"Kiko\" Pellicano",
                    "Henrique Carlos Serra Azul Guimares",
                    "Hilma Aparecida Caldeira",
                    "Hlia \"Fofo\" Rogrio de Souza Pinto",
                    "Ilisaine Karen \"Zaine\" David",
                    "Ilson Pereira \"Ilsinho\" Dias Jnior",
                    "Isabel Marques Swan",
                    "Isaquias Queiroz dos Santos",
                    "Janeth dos Santos Arcain",
                    "Janina Dia Chagas da Conceio",
                    "Jatyr Eduardo Schall",
                    "Joo \"J\" Alves de Assis Silva",
                    "Joo Carlos de Oliveira",
                    "Joo Francisco Brz",
                    "Jorge Luiz Fernandes Leite",
                    "Jos Carlos Gomes Moreira",
                    "Jos Edvar Simes",
                    "Jos Elias \"Z Elias\" Moedim Jnior",
                    "Jos Marcelo \"Z Maria\" Ferreira",
                    "Jos Roberto \"Bebeto\" Gama de Oliveira",
                    "Jos Telles da Conceio",
                    "Juliana Felisberta da Silva",
                    "Karin Rodrigues",
                    "Kelly Silva dos Santos",
                    "Kely Kolasco Fraga",
                    "Ketleyn Lima Quadros",
                    "Ktia Andreia Caldeira Lopes",
                    "Larissa Frana Maestrini",
                    "Lars Schmidt Grael",
                    "Leandro Marques Guilheiro",
                    "Leila de Gomes de Barros",
                    "Lilian Cristina Lopes Gonalves",
                    "Lucas Pezzini Leiva",
                    "Luiz Carlos \"Luizo\" Bombonato Goulart",
                    "Luiz Felipe Cortizo Gonalves de Azevedo",
                    "Luiz Yoshio Onmura",
                    "Maicon de Andrade Siqueira",
                    "Manuel dos Santos Filho",
                    "Marcelo Bastos Ferreira",
                    "Marcelo Jos \"Marcelinho Paulista\" de Souza",
                    "Marcelo Vieira da Silva Jnior",
                    "Marcus Laborne Mattioli",
                    "Marcus Vincius Dias",
                    "Marta de Souza Sobral",
                    "Massinet Sorcinelli",
                    "Mayra Aguiar da Silva",
                    "Moyss Bls",
                    "Mrcia Regina \"Mrcia Fu\" Cunha",
                    "Mrcio Rafael \"Rafinha\" Ferreira de Souza",
                    "Narciso dos Santos",
                    "Natlia Falavigna Silva",
                    "Nelson Falco",
                    "Nelson de Jess \"Dida\" Silva",
                    "Nilton Pacheco de Oliveira",
                    "Nlson Prudncio",
                    "Oswaldo \"Juninho Paulista\" Giroldo Jnior",
                    "Peter Ficker",
                    "Poliana Okimoto-Cintra",
                    "Rafael Augusto Sbis do Nascimento",
                    "Rafael Carlos da Silva",
                    "Ramires Santos do Nascimento",
                    "Raquel Peluci Xavier da Silva",
                    "Rbson Caetano da Silva",
                    "Reinaldo Conrad",
                    "Renan Brito Soares",
                    "Ricarda Raquel Barbosa Lima",
                    "Ricardo Alex Costa Santos",
                    "Robert Scheidt",
                    "Roberto Carlos da Silva",
                    "Rodrigo de Paula Pessoa",
                    "Ronaldo \"Ronaldinho\" de Asss Moreira",
                    "Ronaldo Guiaro",
                    "Ronaldo Luiz Nazrio \"Ronaldinho\" de Lima",
                    "Ruy de Freitas",
                    "Sandra Maria Suruagy Lima",
                    "Sandra Tavares Pires Nascimento",
                    "Sandro Ricardo Rodrigues Viana",
                    "Sebastio Wolf",
                    "Servilio Sebastio de Oliveira",
                    "Silvia Andrea \"Silvinha\" Santos Luz",
                    "Srgio \"Srgio Macarro\" de Toledo Machado",
                    "Svio Pimentel Bortolini",
                    "Tetsuo Okamoto",
                    "Thiago Emiliano da Silva",
                    "Thiago Neves Augusto",
                    "Tiago Henrique de Oliveira Camilo",
                    "Torben Schmidt Grael",
                    "Ubiratan \"Bira\" Pereira Maciel",
                    "Vanderlei Cordeiro de Lima",
                    "Vicente Lenlson de Lima",
                    "Victor Borba \"Rivaldo\" Ferreira",
                    "Victor Mirshauswka",
                    "Virna Cristine Dantes Dias",
                    "Waldemar Blatskauskas",
                    "Waldyr Geraldo Boccardo",
                    "Walewska Moreira de Oliveira",
                    "Wlamir Marques",
                    "Wlter Carmona",
                    "Yamaguchi Falco Florentino",
                    "Yane Mrcia Campos da Fonseca Marques",
                    "Zenny \"Algodo\" de Azevedo",
                    "nderson Lus de Abreu Oliveira",
                    "rika Kelly \"Kiki\" Pereira Coimbra"
                  ],
                  "xaxis": "x",
                  "y": [
                    1,
                    1,
                    1,
                    1,
                    1,
                    1,
                    1,
                    1,
                    1,
                    1,
                    1,
                    1,
                    1,
                    1,
                    2,
                    2,
                    1,
                    1,
                    1,
                    1,
                    1,
                    2,
                    1,
                    1,
                    2,
                    1,
                    1,
                    1,
                    1,
                    1,
                    1,
                    1,
                    2,
                    1,
                    2,
                    1,
                    1,
                    1,
                    1,
                    2,
                    1,
                    1,
                    1,
                    1,
                    2,
                    1,
                    1,
                    1,
                    1,
                    1,
                    1,
                    1,
                    1,
                    1,
                    2,
                    1,
                    1,
                    1,
                    1,
                    1,
                    2,
                    1,
                    1,
                    1,
                    1,
                    2,
                    1,
                    1,
                    1,
                    1,
                    1,
                    1,
                    2,
                    1,
                    2,
                    1,
                    1,
                    1,
                    1,
                    1,
                    1,
                    1,
                    1,
                    1,
                    1,
                    1,
                    1,
                    1,
                    1,
                    1,
                    2,
                    2,
                    2,
                    1,
                    1,
                    1,
                    2,
                    1,
                    1,
                    1,
                    1,
                    1,
                    1,
                    1,
                    1,
                    1,
                    1,
                    2,
                    1,
                    1,
                    1,
                    1,
                    1,
                    1,
                    1,
                    1,
                    1,
                    1,
                    1,
                    1,
                    1,
                    2,
                    1,
                    1,
                    2,
                    2,
                    1,
                    1,
                    1,
                    1,
                    1,
                    2,
                    1,
                    1,
                    1,
                    1,
                    1,
                    1,
                    1,
                    1,
                    1,
                    1,
                    1,
                    1,
                    1,
                    1,
                    1,
                    1,
                    2,
                    1,
                    1,
                    1,
                    1,
                    1,
                    2,
                    1,
                    1,
                    1,
                    2,
                    1,
                    1,
                    1,
                    2,
                    1,
                    1
                  ],
                  "yaxis": "y"
                }
              ],
              "layout": {
                "barmode": "relative",
                "legend": {
                  "title": {
                    "text": "Cor da Medalha"
                  },
                  "tracegroupgap": 0
                },
                "template": {
                  "data": {
                    "bar": [
                      {
                        "error_x": {
                          "color": "#2a3f5f"
                        },
                        "error_y": {
                          "color": "#2a3f5f"
                        },
                        "marker": {
                          "line": {
                            "color": "#E5ECF6",
                            "width": 0.5
                          },
                          "pattern": {
                            "fillmode": "overlay",
                            "size": 10,
                            "solidity": 0.2
                          }
                        },
                        "type": "bar"
                      }
                    ],
                    "barpolar": [
                      {
                        "marker": {
                          "line": {
                            "color": "#E5ECF6",
                            "width": 0.5
                          },
                          "pattern": {
                            "fillmode": "overlay",
                            "size": 10,
                            "solidity": 0.2
                          }
                        },
                        "type": "barpolar"
                      }
                    ],
                    "carpet": [
                      {
                        "aaxis": {
                          "endlinecolor": "#2a3f5f",
                          "gridcolor": "white",
                          "linecolor": "white",
                          "minorgridcolor": "white",
                          "startlinecolor": "#2a3f5f"
                        },
                        "baxis": {
                          "endlinecolor": "#2a3f5f",
                          "gridcolor": "white",
                          "linecolor": "white",
                          "minorgridcolor": "white",
                          "startlinecolor": "#2a3f5f"
                        },
                        "type": "carpet"
                      }
                    ],
                    "choropleth": [
                      {
                        "colorbar": {
                          "outlinewidth": 0,
                          "ticks": ""
                        },
                        "type": "choropleth"
                      }
                    ],
                    "contour": [
                      {
                        "colorbar": {
                          "outlinewidth": 0,
                          "ticks": ""
                        },
                        "colorscale": [
                          [
                            0,
                            "#0d0887"
                          ],
                          [
                            0.1111111111111111,
                            "#46039f"
                          ],
                          [
                            0.2222222222222222,
                            "#7201a8"
                          ],
                          [
                            0.3333333333333333,
                            "#9c179e"
                          ],
                          [
                            0.4444444444444444,
                            "#bd3786"
                          ],
                          [
                            0.5555555555555556,
                            "#d8576b"
                          ],
                          [
                            0.6666666666666666,
                            "#ed7953"
                          ],
                          [
                            0.7777777777777778,
                            "#fb9f3a"
                          ],
                          [
                            0.8888888888888888,
                            "#fdca26"
                          ],
                          [
                            1,
                            "#f0f921"
                          ]
                        ],
                        "type": "contour"
                      }
                    ],
                    "contourcarpet": [
                      {
                        "colorbar": {
                          "outlinewidth": 0,
                          "ticks": ""
                        },
                        "type": "contourcarpet"
                      }
                    ],
                    "heatmap": [
                      {
                        "colorbar": {
                          "outlinewidth": 0,
                          "ticks": ""
                        },
                        "colorscale": [
                          [
                            0,
                            "#0d0887"
                          ],
                          [
                            0.1111111111111111,
                            "#46039f"
                          ],
                          [
                            0.2222222222222222,
                            "#7201a8"
                          ],
                          [
                            0.3333333333333333,
                            "#9c179e"
                          ],
                          [
                            0.4444444444444444,
                            "#bd3786"
                          ],
                          [
                            0.5555555555555556,
                            "#d8576b"
                          ],
                          [
                            0.6666666666666666,
                            "#ed7953"
                          ],
                          [
                            0.7777777777777778,
                            "#fb9f3a"
                          ],
                          [
                            0.8888888888888888,
                            "#fdca26"
                          ],
                          [
                            1,
                            "#f0f921"
                          ]
                        ],
                        "type": "heatmap"
                      }
                    ],
                    "heatmapgl": [
                      {
                        "colorbar": {
                          "outlinewidth": 0,
                          "ticks": ""
                        },
                        "colorscale": [
                          [
                            0,
                            "#0d0887"
                          ],
                          [
                            0.1111111111111111,
                            "#46039f"
                          ],
                          [
                            0.2222222222222222,
                            "#7201a8"
                          ],
                          [
                            0.3333333333333333,
                            "#9c179e"
                          ],
                          [
                            0.4444444444444444,
                            "#bd3786"
                          ],
                          [
                            0.5555555555555556,
                            "#d8576b"
                          ],
                          [
                            0.6666666666666666,
                            "#ed7953"
                          ],
                          [
                            0.7777777777777778,
                            "#fb9f3a"
                          ],
                          [
                            0.8888888888888888,
                            "#fdca26"
                          ],
                          [
                            1,
                            "#f0f921"
                          ]
                        ],
                        "type": "heatmapgl"
                      }
                    ],
                    "histogram": [
                      {
                        "marker": {
                          "pattern": {
                            "fillmode": "overlay",
                            "size": 10,
                            "solidity": 0.2
                          }
                        },
                        "type": "histogram"
                      }
                    ],
                    "histogram2d": [
                      {
                        "colorbar": {
                          "outlinewidth": 0,
                          "ticks": ""
                        },
                        "colorscale": [
                          [
                            0,
                            "#0d0887"
                          ],
                          [
                            0.1111111111111111,
                            "#46039f"
                          ],
                          [
                            0.2222222222222222,
                            "#7201a8"
                          ],
                          [
                            0.3333333333333333,
                            "#9c179e"
                          ],
                          [
                            0.4444444444444444,
                            "#bd3786"
                          ],
                          [
                            0.5555555555555556,
                            "#d8576b"
                          ],
                          [
                            0.6666666666666666,
                            "#ed7953"
                          ],
                          [
                            0.7777777777777778,
                            "#fb9f3a"
                          ],
                          [
                            0.8888888888888888,
                            "#fdca26"
                          ],
                          [
                            1,
                            "#f0f921"
                          ]
                        ],
                        "type": "histogram2d"
                      }
                    ],
                    "histogram2dcontour": [
                      {
                        "colorbar": {
                          "outlinewidth": 0,
                          "ticks": ""
                        },
                        "colorscale": [
                          [
                            0,
                            "#0d0887"
                          ],
                          [
                            0.1111111111111111,
                            "#46039f"
                          ],
                          [
                            0.2222222222222222,
                            "#7201a8"
                          ],
                          [
                            0.3333333333333333,
                            "#9c179e"
                          ],
                          [
                            0.4444444444444444,
                            "#bd3786"
                          ],
                          [
                            0.5555555555555556,
                            "#d8576b"
                          ],
                          [
                            0.6666666666666666,
                            "#ed7953"
                          ],
                          [
                            0.7777777777777778,
                            "#fb9f3a"
                          ],
                          [
                            0.8888888888888888,
                            "#fdca26"
                          ],
                          [
                            1,
                            "#f0f921"
                          ]
                        ],
                        "type": "histogram2dcontour"
                      }
                    ],
                    "mesh3d": [
                      {
                        "colorbar": {
                          "outlinewidth": 0,
                          "ticks": ""
                        },
                        "type": "mesh3d"
                      }
                    ],
                    "parcoords": [
                      {
                        "line": {
                          "colorbar": {
                            "outlinewidth": 0,
                            "ticks": ""
                          }
                        },
                        "type": "parcoords"
                      }
                    ],
                    "pie": [
                      {
                        "automargin": true,
                        "type": "pie"
                      }
                    ],
                    "scatter": [
                      {
                        "marker": {
                          "colorbar": {
                            "outlinewidth": 0,
                            "ticks": ""
                          }
                        },
                        "type": "scatter"
                      }
                    ],
                    "scatter3d": [
                      {
                        "line": {
                          "colorbar": {
                            "outlinewidth": 0,
                            "ticks": ""
                          }
                        },
                        "marker": {
                          "colorbar": {
                            "outlinewidth": 0,
                            "ticks": ""
                          }
                        },
                        "type": "scatter3d"
                      }
                    ],
                    "scattercarpet": [
                      {
                        "marker": {
                          "colorbar": {
                            "outlinewidth": 0,
                            "ticks": ""
                          }
                        },
                        "type": "scattercarpet"
                      }
                    ],
                    "scattergeo": [
                      {
                        "marker": {
                          "colorbar": {
                            "outlinewidth": 0,
                            "ticks": ""
                          }
                        },
                        "type": "scattergeo"
                      }
                    ],
                    "scattergl": [
                      {
                        "marker": {
                          "colorbar": {
                            "outlinewidth": 0,
                            "ticks": ""
                          }
                        },
                        "type": "scattergl"
                      }
                    ],
                    "scattermapbox": [
                      {
                        "marker": {
                          "colorbar": {
                            "outlinewidth": 0,
                            "ticks": ""
                          }
                        },
                        "type": "scattermapbox"
                      }
                    ],
                    "scatterpolar": [
                      {
                        "marker": {
                          "colorbar": {
                            "outlinewidth": 0,
                            "ticks": ""
                          }
                        },
                        "type": "scatterpolar"
                      }
                    ],
                    "scatterpolargl": [
                      {
                        "marker": {
                          "colorbar": {
                            "outlinewidth": 0,
                            "ticks": ""
                          }
                        },
                        "type": "scatterpolargl"
                      }
                    ],
                    "scatterternary": [
                      {
                        "marker": {
                          "colorbar": {
                            "outlinewidth": 0,
                            "ticks": ""
                          }
                        },
                        "type": "scatterternary"
                      }
                    ],
                    "surface": [
                      {
                        "colorbar": {
                          "outlinewidth": 0,
                          "ticks": ""
                        },
                        "colorscale": [
                          [
                            0,
                            "#0d0887"
                          ],
                          [
                            0.1111111111111111,
                            "#46039f"
                          ],
                          [
                            0.2222222222222222,
                            "#7201a8"
                          ],
                          [
                            0.3333333333333333,
                            "#9c179e"
                          ],
                          [
                            0.4444444444444444,
                            "#bd3786"
                          ],
                          [
                            0.5555555555555556,
                            "#d8576b"
                          ],
                          [
                            0.6666666666666666,
                            "#ed7953"
                          ],
                          [
                            0.7777777777777778,
                            "#fb9f3a"
                          ],
                          [
                            0.8888888888888888,
                            "#fdca26"
                          ],
                          [
                            1,
                            "#f0f921"
                          ]
                        ],
                        "type": "surface"
                      }
                    ],
                    "table": [
                      {
                        "cells": {
                          "fill": {
                            "color": "#EBF0F8"
                          },
                          "line": {
                            "color": "white"
                          }
                        },
                        "header": {
                          "fill": {
                            "color": "#C8D4E3"
                          },
                          "line": {
                            "color": "white"
                          }
                        },
                        "type": "table"
                      }
                    ]
                  },
                  "layout": {
                    "annotationdefaults": {
                      "arrowcolor": "#2a3f5f",
                      "arrowhead": 0,
                      "arrowwidth": 1
                    },
                    "autotypenumbers": "strict",
                    "coloraxis": {
                      "colorbar": {
                        "outlinewidth": 0,
                        "ticks": ""
                      }
                    },
                    "colorscale": {
                      "diverging": [
                        [
                          0,
                          "#8e0152"
                        ],
                        [
                          0.1,
                          "#c51b7d"
                        ],
                        [
                          0.2,
                          "#de77ae"
                        ],
                        [
                          0.3,
                          "#f1b6da"
                        ],
                        [
                          0.4,
                          "#fde0ef"
                        ],
                        [
                          0.5,
                          "#f7f7f7"
                        ],
                        [
                          0.6,
                          "#e6f5d0"
                        ],
                        [
                          0.7,
                          "#b8e186"
                        ],
                        [
                          0.8,
                          "#7fbc41"
                        ],
                        [
                          0.9,
                          "#4d9221"
                        ],
                        [
                          1,
                          "#276419"
                        ]
                      ],
                      "sequential": [
                        [
                          0,
                          "#0d0887"
                        ],
                        [
                          0.1111111111111111,
                          "#46039f"
                        ],
                        [
                          0.2222222222222222,
                          "#7201a8"
                        ],
                        [
                          0.3333333333333333,
                          "#9c179e"
                        ],
                        [
                          0.4444444444444444,
                          "#bd3786"
                        ],
                        [
                          0.5555555555555556,
                          "#d8576b"
                        ],
                        [
                          0.6666666666666666,
                          "#ed7953"
                        ],
                        [
                          0.7777777777777778,
                          "#fb9f3a"
                        ],
                        [
                          0.8888888888888888,
                          "#fdca26"
                        ],
                        [
                          1,
                          "#f0f921"
                        ]
                      ],
                      "sequentialminus": [
                        [
                          0,
                          "#0d0887"
                        ],
                        [
                          0.1111111111111111,
                          "#46039f"
                        ],
                        [
                          0.2222222222222222,
                          "#7201a8"
                        ],
                        [
                          0.3333333333333333,
                          "#9c179e"
                        ],
                        [
                          0.4444444444444444,
                          "#bd3786"
                        ],
                        [
                          0.5555555555555556,
                          "#d8576b"
                        ],
                        [
                          0.6666666666666666,
                          "#ed7953"
                        ],
                        [
                          0.7777777777777778,
                          "#fb9f3a"
                        ],
                        [
                          0.8888888888888888,
                          "#fdca26"
                        ],
                        [
                          1,
                          "#f0f921"
                        ]
                      ]
                    },
                    "colorway": [
                      "#636efa",
                      "#EF553B",
                      "#00cc96",
                      "#ab63fa",
                      "#FFA15A",
                      "#19d3f3",
                      "#FF6692",
                      "#B6E880",
                      "#FF97FF",
                      "#FECB52"
                    ],
                    "font": {
                      "color": "#2a3f5f"
                    },
                    "geo": {
                      "bgcolor": "white",
                      "lakecolor": "white",
                      "landcolor": "#E5ECF6",
                      "showlakes": true,
                      "showland": true,
                      "subunitcolor": "white"
                    },
                    "hoverlabel": {
                      "align": "left"
                    },
                    "hovermode": "closest",
                    "mapbox": {
                      "style": "light"
                    },
                    "paper_bgcolor": "white",
                    "plot_bgcolor": "#E5ECF6",
                    "polar": {
                      "angularaxis": {
                        "gridcolor": "white",
                        "linecolor": "white",
                        "ticks": ""
                      },
                      "bgcolor": "#E5ECF6",
                      "radialaxis": {
                        "gridcolor": "white",
                        "linecolor": "white",
                        "ticks": ""
                      }
                    },
                    "scene": {
                      "xaxis": {
                        "backgroundcolor": "#E5ECF6",
                        "gridcolor": "white",
                        "gridwidth": 2,
                        "linecolor": "white",
                        "showbackground": true,
                        "ticks": "",
                        "zerolinecolor": "white"
                      },
                      "yaxis": {
                        "backgroundcolor": "#E5ECF6",
                        "gridcolor": "white",
                        "gridwidth": 2,
                        "linecolor": "white",
                        "showbackground": true,
                        "ticks": "",
                        "zerolinecolor": "white"
                      },
                      "zaxis": {
                        "backgroundcolor": "#E5ECF6",
                        "gridcolor": "white",
                        "gridwidth": 2,
                        "linecolor": "white",
                        "showbackground": true,
                        "ticks": "",
                        "zerolinecolor": "white"
                      }
                    },
                    "shapedefaults": {
                      "line": {
                        "color": "#2a3f5f"
                      }
                    },
                    "ternary": {
                      "aaxis": {
                        "gridcolor": "white",
                        "linecolor": "white",
                        "ticks": ""
                      },
                      "baxis": {
                        "gridcolor": "white",
                        "linecolor": "white",
                        "ticks": ""
                      },
                      "bgcolor": "#E5ECF6",
                      "caxis": {
                        "gridcolor": "white",
                        "linecolor": "white",
                        "ticks": ""
                      }
                    },
                    "title": {
                      "x": 0.05
                    },
                    "xaxis": {
                      "automargin": true,
                      "gridcolor": "white",
                      "linecolor": "white",
                      "ticks": "",
                      "title": {
                        "standoff": 15
                      },
                      "zerolinecolor": "white",
                      "zerolinewidth": 2
                    },
                    "yaxis": {
                      "automargin": true,
                      "gridcolor": "white",
                      "linecolor": "white",
                      "ticks": "",
                      "title": {
                        "standoff": 15
                      },
                      "zerolinecolor": "white",
                      "zerolinewidth": 2
                    }
                  }
                },
                "title": {
                  "text": "Medalha por atletas brasileiros"
                },
                "width": 10000,
                "xaxis": {
                  "anchor": "y",
                  "domain": [
                    0,
                    1
                  ],
                  "title": {
                    "text": "Name"
                  }
                },
                "yaxis": {
                  "anchor": "x",
                  "domain": [
                    0,
                    1
                  ],
                  "title": {
                    "text": "Total de Medalhas"
                  }
                }
              }
            }
          },
          "metadata": {},
          "output_type": "display_data"
        }
      ],
      "source": [
        "import plotly.express as px\n",
        "df_brasil_med_medalha = df_brasil_med.groupby(['Name','Medal']).size().reset_index()\n",
        "\n",
        "\n",
        "df_brasil_med_medalha.rename(columns={df_brasil_med_medalha.columns[2]:\"Total de Medalhas\"},\n",
        "                            inplace = True)\n",
        "\n",
        "fig = px.bar(df_brasil_med_medalha, x=\"Name\", y=\"Total de Medalhas\", color=\"Medal\", \n",
        "            title=\"Medalha por atletas brasileiros\",\n",
        "            labels = {'Medal':'Cor da Medalha'},\n",
        "            width = 10000)\n",
        "fig.show()\n"
      ]
    },
    {
      "cell_type": "markdown",
      "metadata": {
        "id": "dz-rbtTOnbik"
      },
      "source": [
        "Agora gere o mesmo gráfico de barras empilhadas substituindo os nomes dos atletas pelo nome de todos os esportes onde o Brasil já ganhou medalhas.\n",
        "\n",
        "**DICA:** tome muito cuidado nessa análise: cada **evento esportivo** rende 1 medalha. Por exemplo, quando a equipe de futebol vence, isso é considerado 1 medalha, mesmo tendo cerca de 20 atletas medalhistas na equipe. "
      ]
    },
    {
      "cell_type": "code",
      "execution_count": null,
      "metadata": {
        "id": "gxvrdU2Unbik"
      },
      "outputs": [],
      "source": []
    },
    {
      "cell_type": "markdown",
      "metadata": {
        "id": "GZpIjvLInbil"
      },
      "source": [
        "Mais um gráfico de barras empilhadas: agora mostre os **eventos esportivos** que renderam medalhas para o Brasil.\n",
        "\n",
        "Lembrando: cada \"categoria\" dentro de um esporte é considerado um evento. Por exemplo, dentro de \"atletismo\", temos uma competição de 100m masculina, uma de 100m feminino, um revezamento 4 x 100m masculino, um revezamento 4 x 100m feminino, uma competição de 400m masculino, uma de 400m feminino, uma maratona masculina, uma maratona feminina, e assim sucessivamente."
      ]
    },
    {
      "cell_type": "code",
      "execution_count": null,
      "metadata": {
        "id": "sohdyUannbil"
      },
      "outputs": [],
      "source": []
    },
    {
      "cell_type": "markdown",
      "metadata": {
        "id": "OQqc9hy-nbil"
      },
      "source": [
        "Utilize um gráfico de distribuição (como um histograma, por exemplo) ilustrando a quantidade total de medalhas do Brasil por esporte."
      ]
    },
    {
      "cell_type": "code",
      "execution_count": null,
      "metadata": {
        "id": "FV8qDuzEnbil"
      },
      "outputs": [],
      "source": []
    },
    {
      "cell_type": "markdown",
      "metadata": {
        "id": "v3JMBLW2nbim"
      },
      "source": [
        "Repita o procedimento acima, mas com medalhas de ouro."
      ]
    },
    {
      "cell_type": "code",
      "execution_count": null,
      "metadata": {
        "id": "gCELU3s3nbim"
      },
      "outputs": [],
      "source": []
    },
    {
      "cell_type": "markdown",
      "metadata": {
        "id": "rihddscQnbim"
      },
      "source": [
        "Agora faça um gráfico de setores (pizza) mostrando a distribuição de medalhas de ouro do Brasil por esporte."
      ]
    },
    {
      "cell_type": "code",
      "execution_count": null,
      "metadata": {
        "id": "kUxNqEyUnbim"
      },
      "outputs": [],
      "source": []
    },
    {
      "cell_type": "markdown",
      "metadata": {
        "id": "4-cLSTLcnbin"
      },
      "source": [
        "Para finalizar a história do Brasil, vamos ver a série temporal de medalhas brasileiras. Crie um gráfico de linhas contendo 3 linhas: ouro, prata e bronze. Coloque no eixo X a edição da olimpíada (em ordem cronológica) e no eixo Y o total de medalhas de cada tipo."
      ]
    },
    {
      "cell_type": "code",
      "execution_count": null,
      "metadata": {
        "id": "e1tXszhfnbin"
      },
      "outputs": [],
      "source": []
    },
    {
      "cell_type": "markdown",
      "metadata": {
        "id": "oTD6vnoQnbin"
      },
      "source": [
        "## 2. O mundo nos jogos de verão\n",
        "\n",
        "Filtre o DataFrame original para conter apenas informações sobre os **medalhistas** de todos os países **nos jogos de verão**.\n",
        "\n"
      ]
    },
    {
      "cell_type": "code",
      "execution_count": null,
      "metadata": {
        "id": "9p6SOHBSnbio"
      },
      "outputs": [],
      "source": []
    },
    {
      "cell_type": "markdown",
      "metadata": {
        "id": "9VIIr7YFnbio"
      },
      "source": [
        "Utilizando subplots, crie 2 boxplots ilustrando a quantidade de medalhas por atleta. Em um deles, considere todos os atletas. No segundo, experimente remover os *outliers*."
      ]
    },
    {
      "cell_type": "code",
      "execution_count": null,
      "metadata": {
        "id": "oFl0IWnonbio"
      },
      "outputs": [],
      "source": []
    },
    {
      "cell_type": "markdown",
      "metadata": {
        "id": "ZF-crXomnbio"
      },
      "source": [
        "Descubra o total de medalhas de ouro de cada país (lembrando-se da restrição dos eventos esportivos, para não contabilizar múltiplas medalhas em esportes de equipe!).\n",
        "\n",
        "Agora pegue os 10 países com mais medalhas e crie uma categoria \"Outros\" para o restante dos países. Exiba um gráfico de pizza mostrando a distribuição de medalhas de ouro entre essas 11 \"equipes\"."
      ]
    },
    {
      "cell_type": "code",
      "execution_count": null,
      "metadata": {
        "id": "jNMx2mivnbio"
      },
      "outputs": [],
      "source": []
    },
    {
      "cell_type": "markdown",
      "metadata": {
        "id": "mHCgaLPknbip"
      },
      "source": [
        "Repita o procedimento acima, mas mostrando o total de medalhas ao invés de apenas medalhas de ouro."
      ]
    },
    {
      "cell_type": "code",
      "execution_count": null,
      "metadata": {
        "id": "FYpWEzu1nbip"
      },
      "outputs": [],
      "source": []
    },
    {
      "cell_type": "markdown",
      "metadata": {
        "id": "ysGKOn9ynbip"
      },
      "source": [
        "Crie um gráfico de barras empilhadas, com cada país das categorias acima no eixo X, total de medalhas no eixo Y, e barras empilhadas representando as medalhas de ouro, prata e bronze de cada país."
      ]
    },
    {
      "cell_type": "code",
      "execution_count": null,
      "metadata": {
        "id": "Sp1vM8Wxnbiq"
      },
      "outputs": [],
      "source": []
    },
    {
      "cell_type": "markdown",
      "metadata": {
        "id": "GXQQxCYsnbir"
      },
      "source": [
        "Crie um gráfico de distribuição (por exemplo, um histograma) mostrando a quantidade total de medalhas por país."
      ]
    },
    {
      "cell_type": "code",
      "execution_count": null,
      "metadata": {
        "id": "vt4c068Inbir"
      },
      "outputs": [],
      "source": []
    },
    {
      "cell_type": "markdown",
      "metadata": {
        "id": "F6okqCZXnbis"
      },
      "source": [
        "**Desafio bônus:** Crie uma visualização da quantidade de medalhas de ouro e outra para quantidade total de medalhas por país, ambas utilizando mapas. Utilize o tipo de mapa que achar mais adequado."
      ]
    },
    {
      "cell_type": "code",
      "execution_count": null,
      "metadata": {
        "id": "fYE_-Bbynbis"
      },
      "outputs": [],
      "source": []
    },
    {
      "cell_type": "markdown",
      "metadata": {
        "id": "xwULLcRonbis"
      },
      "source": [
        "## 3. Brasil vs Mundo"
      ]
    },
    {
      "cell_type": "markdown",
      "metadata": {
        "id": "QyERWwODnbit"
      },
      "source": [
        "Faça um gráfico de barras comparando os maiores medalhistas brasileiros com os maiores medalhistas do mundo em suas respectivas categorias.\n",
        "\n",
        "Represente o esporte no eixo X, a quantidade de medalhas no eixo Y, coloque barras lado-a-lado representando os diferentes atletas de uma mesma modalidade e empilhe as medalhas de ouro, prata e bronze de cada atleta."
      ]
    },
    {
      "cell_type": "code",
      "execution_count": null,
      "metadata": {
        "id": "u0gsi4fpnbit"
      },
      "outputs": [],
      "source": []
    },
    {
      "cell_type": "markdown",
      "metadata": {
        "id": "BW1nm8_hnbit"
      },
      "source": [
        "Repita o procedimento acima, mas ao invés de atletas, considere o(s) esporte(s) onde o Brasil mais possui medalha comparando-os com o país com maior quantidade de medalhas naquele esporte."
      ]
    },
    {
      "cell_type": "code",
      "execution_count": null,
      "metadata": {
        "id": "vXj44BQDnbiu"
      },
      "outputs": [],
      "source": []
    },
    {
      "cell_type": "markdown",
      "metadata": {
        "id": "gfGO6Hjjnbiu"
      },
      "source": [
        "Para finalizar, repita os gráficos que você gerou com os 10 países com mais medalhas, mas remova o Brasil da categoria \"Outros\" e mostre-o também no gráfico."
      ]
    },
    {
      "cell_type": "code",
      "execution_count": null,
      "metadata": {
        "id": "G4_a6xRZnbiu"
      },
      "outputs": [],
      "source": []
    }
  ],
  "metadata": {
    "colab": {
      "name": "Projeto - Dataviz.ipynb",
      "provenance": []
    },
    "interpreter": {
      "hash": "949777d72b0d2535278d3dc13498b2535136f6dfe0678499012e853ee9abcab1"
    },
    "kernelspec": {
      "display_name": "Python 3.9.5 64-bit",
      "name": "python3"
    },
    "language_info": {
      "codemirror_mode": {
        "name": "ipython",
        "version": 3
      },
      "file_extension": ".py",
      "mimetype": "text/x-python",
      "name": "python",
      "nbconvert_exporter": "python",
      "pygments_lexer": "ipython3",
      "version": "3.9.5"
    }
  },
  "nbformat": 4,
  "nbformat_minor": 0
}
